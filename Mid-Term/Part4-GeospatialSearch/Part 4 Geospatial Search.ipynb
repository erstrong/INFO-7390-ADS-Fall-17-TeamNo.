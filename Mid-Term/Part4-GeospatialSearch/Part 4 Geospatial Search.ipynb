{
 "cells": [
  {
   "cell_type": "markdown",
   "metadata": {},
   "source": [
    "# Part 4: Geospatial Analysis\n",
    "\n",
    "Create a Rest API that given a latitude and longitude returns the 10 closest properties.\n"
   ]
  },
  {
   "cell_type": "code",
   "execution_count": null,
   "metadata": {
    "collapsed": true
   },
   "outputs": [],
   "source": [
    "The method:"
   ]
  },
  {
   "cell_type": "code",
   "execution_count": 1,
   "metadata": {},
   "outputs": [
    {
     "ename": "SyntaxError",
     "evalue": "invalid syntax (<ipython-input-1-50d4797f337a>, line 1)",
     "output_type": "error",
     "traceback": [
      "\u001b[0;36m  File \u001b[0;32m\"<ipython-input-1-50d4797f337a>\"\u001b[0;36m, line \u001b[0;32m1\u001b[0m\n\u001b[0;31m    set @orig_lat=;\u001b[0m\n\u001b[0m                  ^\u001b[0m\n\u001b[0;31mSyntaxError\u001b[0m\u001b[0;31m:\u001b[0m invalid syntax\n"
     ]
    }
   ],
   "source": [
    "set @orig_lat=;\n",
    "set @orig_lon=;\n",
    "select *,3956*2*asin(sqrt(\n",
    "    power(sin((@orig_lat - abs(dest.lat)) * pi()/180/2),2)\n",
    "    + cos(@orig_lat * pi()/180) * cos(abs(dest.lat) * pi()/180)\n",
    "    * power(sin((@orig_lon - dest.lon) * pi()/180/2),2)\n",
    ")) as distance\n",
    "from properties dest\n",
    "order by distance limit 10"
   ]
  },
  {
   "cell_type": "code",
   "execution_count": null,
   "metadata": {
    "collapsed": true
   },
   "outputs": [],
   "source": []
  }
 ],
 "metadata": {
  "kernelspec": {
   "display_name": "Python 3",
   "language": "python",
   "name": "python3"
  },
  "language_info": {
   "codemirror_mode": {
    "name": "ipython",
    "version": 3
   },
   "file_extension": ".py",
   "mimetype": "text/x-python",
   "name": "python",
   "nbconvert_exporter": "python",
   "pygments_lexer": "ipython3",
   "version": "3.6.2"
  }
 },
 "nbformat": 4,
 "nbformat_minor": 2
}
