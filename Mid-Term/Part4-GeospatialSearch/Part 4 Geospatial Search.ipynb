{
 "cells": [
  {
   "cell_type": "markdown",
   "metadata": {},
   "source": [
    "# Part 4: Geospatial Analysis\n",
    "\n",
    "Create a Rest API that given a latitude and longitude returns the 10 closest properties.\n"
   ]
  },
  {
   "cell_type": "code",
   "execution_count": 2,
   "metadata": {
    "collapsed": true
   },
   "outputs": [],
   "source": [
    "import sys\n",
    "import csv\n",
    "import pandas as pd\n",
    "import MySQLdb as sql\n",
    "import sys\n",
    "import requests\n",
    "import seaborn as sns\n",
    "import matplotlib.pyplot as plt\n",
    "from matplotlib.pyplot import cm\n",
    "from mpl_toolkits.basemap import Basemap"
   ]
  },
  {
   "cell_type": "markdown",
   "metadata": {
    "collapsed": true
   },
   "source": [
    "To use the API append to the URL http://localhost:5000/api/neighbors the values for latitude and longitude in the format shown below."
   ]
  },
  {
   "cell_type": "code",
   "execution_count": 3,
   "metadata": {
    "collapsed": true
   },
   "outputs": [],
   "source": [
    "url = 'http://localhost:5000/api/neighbors?latitude=34.449407&longitude=-119.254052'\n",
    "response = requests.get(url)"
   ]
  },
  {
   "cell_type": "code",
   "execution_count": 4,
   "metadata": {},
   "outputs": [
    {
     "data": {
      "text/plain": [
       "<Response [200]>"
      ]
     },
     "execution_count": 4,
     "metadata": {},
     "output_type": "execute_result"
    }
   ],
   "source": [
    "response"
   ]
  },
  {
   "cell_type": "code",
   "execution_count": 5,
   "metadata": {},
   "outputs": [
    {
     "data": {
      "text/plain": [
       "{'data': [['17054981', 34.4494, -119.254, 0.0001022817989503627],\n",
       "  ['17054972', 34.4498, -119.257, 0.15077211757463838],\n",
       "  ['17054563', 34.4503, -119.258, 0.25012118688982],\n",
       "  ['17055019', 34.4465, -119.251, 0.26475130060853685],\n",
       "  ['17055022', 34.447, -119.25, 0.2688314855761506],\n",
       "  ['17055403', 34.4493, -119.249, 0.29073561558441163],\n",
       "  ['17054912', 34.4531, -119.25, 0.3414510016695234],\n",
       "  ['17054918', 34.4525, -119.249, 0.3567914575873358],\n",
       "  ['17055183', 34.4516, -119.248, 0.3600599675225327],\n",
       "  ['17055267', 34.4505, -119.248, 0.3661189485463627]]}"
      ]
     },
     "execution_count": 5,
     "metadata": {},
     "output_type": "execute_result"
    }
   ],
   "source": [
    "response.json()"
   ]
  },
  {
   "cell_type": "code",
   "execution_count": 6,
   "metadata": {
    "collapsed": true,
    "scrolled": false
   },
   "outputs": [],
   "source": [
    "j = response.json()\n",
    "df = pd.DataFrame(j['data'], columns=['ParcelID','Latitude','Longitude','Distance'])"
   ]
  },
  {
   "cell_type": "markdown",
   "metadata": {},
   "source": [
    "## Print table of results"
   ]
  },
  {
   "cell_type": "code",
   "execution_count": 7,
   "metadata": {
    "scrolled": true
   },
   "outputs": [
    {
     "data": {
      "text/html": [
       "<div>\n",
       "<style>\n",
       "    .dataframe thead tr:only-child th {\n",
       "        text-align: right;\n",
       "    }\n",
       "\n",
       "    .dataframe thead th {\n",
       "        text-align: left;\n",
       "    }\n",
       "\n",
       "    .dataframe tbody tr th {\n",
       "        vertical-align: top;\n",
       "    }\n",
       "</style>\n",
       "<table border=\"1\" class=\"dataframe\">\n",
       "  <thead>\n",
       "    <tr style=\"text-align: right;\">\n",
       "      <th></th>\n",
       "      <th>ParcelID</th>\n",
       "      <th>Latitude</th>\n",
       "      <th>Longitude</th>\n",
       "      <th>Distance</th>\n",
       "    </tr>\n",
       "  </thead>\n",
       "  <tbody>\n",
       "    <tr>\n",
       "      <th>0</th>\n",
       "      <td>17054981</td>\n",
       "      <td>34.4494</td>\n",
       "      <td>-119.254</td>\n",
       "      <td>0.000102</td>\n",
       "    </tr>\n",
       "    <tr>\n",
       "      <th>1</th>\n",
       "      <td>17054972</td>\n",
       "      <td>34.4498</td>\n",
       "      <td>-119.257</td>\n",
       "      <td>0.150772</td>\n",
       "    </tr>\n",
       "    <tr>\n",
       "      <th>2</th>\n",
       "      <td>17054563</td>\n",
       "      <td>34.4503</td>\n",
       "      <td>-119.258</td>\n",
       "      <td>0.250121</td>\n",
       "    </tr>\n",
       "    <tr>\n",
       "      <th>3</th>\n",
       "      <td>17055019</td>\n",
       "      <td>34.4465</td>\n",
       "      <td>-119.251</td>\n",
       "      <td>0.264751</td>\n",
       "    </tr>\n",
       "    <tr>\n",
       "      <th>4</th>\n",
       "      <td>17055022</td>\n",
       "      <td>34.4470</td>\n",
       "      <td>-119.250</td>\n",
       "      <td>0.268831</td>\n",
       "    </tr>\n",
       "    <tr>\n",
       "      <th>5</th>\n",
       "      <td>17055403</td>\n",
       "      <td>34.4493</td>\n",
       "      <td>-119.249</td>\n",
       "      <td>0.290736</td>\n",
       "    </tr>\n",
       "    <tr>\n",
       "      <th>6</th>\n",
       "      <td>17054912</td>\n",
       "      <td>34.4531</td>\n",
       "      <td>-119.250</td>\n",
       "      <td>0.341451</td>\n",
       "    </tr>\n",
       "    <tr>\n",
       "      <th>7</th>\n",
       "      <td>17054918</td>\n",
       "      <td>34.4525</td>\n",
       "      <td>-119.249</td>\n",
       "      <td>0.356791</td>\n",
       "    </tr>\n",
       "    <tr>\n",
       "      <th>8</th>\n",
       "      <td>17055183</td>\n",
       "      <td>34.4516</td>\n",
       "      <td>-119.248</td>\n",
       "      <td>0.360060</td>\n",
       "    </tr>\n",
       "    <tr>\n",
       "      <th>9</th>\n",
       "      <td>17055267</td>\n",
       "      <td>34.4505</td>\n",
       "      <td>-119.248</td>\n",
       "      <td>0.366119</td>\n",
       "    </tr>\n",
       "  </tbody>\n",
       "</table>\n",
       "</div>"
      ],
      "text/plain": [
       "   ParcelID  Latitude  Longitude  Distance\n",
       "0  17054981   34.4494   -119.254  0.000102\n",
       "1  17054972   34.4498   -119.257  0.150772\n",
       "2  17054563   34.4503   -119.258  0.250121\n",
       "3  17055019   34.4465   -119.251  0.264751\n",
       "4  17055022   34.4470   -119.250  0.268831\n",
       "5  17055403   34.4493   -119.249  0.290736\n",
       "6  17054912   34.4531   -119.250  0.341451\n",
       "7  17054918   34.4525   -119.249  0.356791\n",
       "8  17055183   34.4516   -119.248  0.360060\n",
       "9  17055267   34.4505   -119.248  0.366119"
      ]
     },
     "execution_count": 7,
     "metadata": {},
     "output_type": "execute_result"
    }
   ],
   "source": [
    "df"
   ]
  },
  {
   "cell_type": "markdown",
   "metadata": {},
   "source": [
    "## Map Results"
   ]
  },
  {
   "cell_type": "code",
   "execution_count": 13,
   "metadata": {},
   "outputs": [
    {
     "name": "stderr",
     "output_type": "stream",
     "text": [
      "/Users/emily-air13/anaconda3/lib/python3.6/site-packages/mpl_toolkits/basemap/__init__.py:1767: MatplotlibDeprecationWarning: The get_axis_bgcolor function was deprecated in version 2.0. Use get_facecolor instead.\n",
      "  axisbgc = ax.get_axis_bgcolor()\n",
      "/Users/emily-air13/anaconda3/lib/python3.6/site-packages/mpl_toolkits/basemap/__init__.py:3222: MatplotlibDeprecationWarning: The ishold function was deprecated in version 2.0.\n",
      "  b = ax.ishold()\n",
      "/Users/emily-air13/anaconda3/lib/python3.6/site-packages/mpl_toolkits/basemap/__init__.py:3231: MatplotlibDeprecationWarning: axes.hold is deprecated.\n",
      "    See the API Changes document (http://matplotlib.org/api/api_changes.html)\n",
      "    for more details.\n",
      "  ax.hold(b)\n"
     ]
    },
    {
     "data": {
      "image/png": "[encoded data removed]",
      "text/plain": [
       "<matplotlib.figure.Figure at 0x11b4c4080>"
      ]
     },
     "metadata": {},
     "output_type": "display_data"
    }
   ],
   "source": [
    "\n",
    "lat = df['Latitude'].values\n",
    "lon = df['Longitude'].values\n",
    "\n",
    "# determine range to print based on min, max lat and lon of the data\n",
    "margin = 0.8 # buffer to add to the range\n",
    "margin2=0.3\n",
    "lat_min = min(lat) - margin2\n",
    "lat_max = max(lat) + margin2\n",
    "lon_min = min(lon) - margin\n",
    "lon_max = max(lon) + margin\n",
    "plt.figure(figsize=(25,25))\n",
    "# create map using BASEMAP\n",
    "m = Basemap(llcrnrlon=lon_min,\n",
    "            llcrnrlat=lat_min,\n",
    "            urcrnrlon=lon_max,\n",
    "            urcrnrlat=lat_max,\n",
    "            lat_0=(lat_max - lat_min)/2,\n",
    "            lon_0=(lon_max-lon_min)/2,\n",
    "            projection='merc',\n",
    "            resolution = 'h',\n",
    "            area_thresh=10000.,\n",
    "            )\n",
    "m.drawcoastlines()\n",
    "m.drawcountries()\n",
    "m.drawstates()\n",
    "m.drawmapboundary(fill_color='#46bcec')\n",
    "m.fillcontinents(color = 'white',lake_color='#46bcec')\n",
    "# convert lat and lon to map projection coordinates\n",
    "lons, lats = m(lon, lat)\n",
    "# plot points as red dots\n",
    "m.scatter(lons, lats, marker = 'o', color='r', zorder=5,)\n",
    "plt.show()"
   ]
  },
  {
   "cell_type": "code",
   "execution_count": 9,
   "metadata": {},
   "outputs": [
    {
     "data": {
      "text/plain": [
       "<matplotlib.figure.Figure at 0x110f9e240>"
      ]
     },
     "metadata": {},
     "output_type": "display_data"
    },
    {
     "data": {
      "image/png": "[encoded data removed]",
      "text/plain": [
       "<matplotlib.figure.Figure at 0x115475080>"
      ]
     },
     "metadata": {},
     "output_type": "display_data"
    }
   ],
   "source": [
    "plt.close('all')\n",
    "sns.set()\n",
    "plt.figure(figsize=(12,12))\n",
    "sns.jointplot(x=df.Longitude.values,y=df.Latitude.values, size=10)\n",
    "plt.xlabel('Longitude', fontsize=12)\n",
    "plt.ylabel('Latitude', fontsize=12)\n",
    "plt.show()"
   ]
  },
  {
   "cell_type": "code",
   "execution_count": null,
   "metadata": {
    "collapsed": true
   },
   "outputs": [],
   "source": []
  }
 ],
 "metadata": {
  "kernelspec": {
   "display_name": "Python 3",
   "language": "python",
   "name": "python3"
  },
  "language_info": {
   "codemirror_mode": {
    "name": "ipython",
    "version": 3
   },
   "file_extension": ".py",
   "mimetype": "text/x-python",
   "name": "python",
   "nbconvert_exporter": "python",
   "pygments_lexer": "ipython3",
   "version": "3.6.2"
  }
 },
 "nbformat": 4,
 "nbformat_minor": 2
}
