{
 "cells": [
  {
   "cell_type": "markdown",
   "metadata": {},
   "source": [
    "# Multiple Linear Regression"
   ]
  },
  {
   "cell_type": "code",
   "execution_count": 2,
   "metadata": {
    "collapsed": true
   },
   "outputs": [],
   "source": [
    "import csv\n",
    "import pandas as pd\n"
   ]
  },
  {
   "cell_type": "code",
   "execution_count": 3,
   "metadata": {
    "collapsed": true
   },
   "outputs": [],
   "source": [
    "pd.set_option('display.max_columns', 65)\n",
    "\n",
    "df = pd.read_csv('clean_data.csv', low_memory=False)\n"
   ]
  },
  {
   "cell_type": "code",
   "execution_count": 4,
   "metadata": {},
   "outputs": [
    {
     "data": {
      "text/plain": [
       "parcelid                        167851\n",
       "airconditioningtypeid           167851\n",
       "bedroomcnt                      167851\n",
       "buildingqualitytypeid           167851\n",
       "calculatedbathnbr               167851\n",
       "calculatedfinishedsquarefeet    167851\n",
       "fips                            167851\n",
       "fireplacecnt                    167851\n",
       "fullbathcnt                     167851\n",
       "garagecarcnt                    167851\n",
       "garagetotalsqft                 167851\n",
       "hashottuborspa                  167851\n",
       "heatingorsystemtypeid           167851\n",
       "latitude                        167851\n",
       "longitude                       167851\n",
       "lotsizesquarefeet               167851\n",
       "poolcnt                         167851\n",
       "propertycountylandusecode       167850\n",
       "propertylandusetypeid           167851\n",
       "rawcensustractandblock          167851\n",
       "regionidcity                    164576\n",
       "roomcnt                         166127\n",
       "unitcnt                              5\n",
       "yearbuilt                       167851\n",
       "numberofstories                 167851\n",
       "fireplaceflag                   167851\n",
       "structuretaxvaluedollarcnt      167851\n",
       "taxvaluedollarcnt               167851\n",
       "assessmentyear                  167851\n",
       "landtaxvaluedollarcnt           167851\n",
       "taxamount                       167851\n",
       "taxdelinquencyflag              167851\n",
       "taxdelinquencyyear                4683\n",
       "logerror                        167851\n",
       "transactiondate                 167851\n",
       "setyear                         167851\n",
       "pooltype                        167851\n",
       "zipcode                         167851\n",
       "dtype: int64"
      ]
     },
     "execution_count": 4,
     "metadata": {},
     "output_type": "execute_result"
    }
   ],
   "source": [
    "df.count()"
   ]
  },
  {
   "cell_type": "code",
   "execution_count": 5,
   "metadata": {},
   "outputs": [
    {
     "data": {
      "text/plain": [
       "parcelid                        90275\n",
       "airconditioningtypeid           28781\n",
       "architecturalstyletypeid          261\n",
       "basementsqft                       43\n",
       "bathroomcnt                     90275\n",
       "bedroomcnt                      90275\n",
       "buildingclasstypeid                16\n",
       "buildingqualitytypeid           57364\n",
       "calculatedbathnbr               89093\n",
       "decktypeid                        658\n",
       "finishedfloor1squarefeet         6856\n",
       "calculatedfinishedsquarefeet    89614\n",
       "finishedsquarefeet12            85596\n",
       "finishedsquarefeet13               33\n",
       "finishedsquarefeet15             3564\n",
       "finishedsquarefeet50             6856\n",
       "finishedsquarefeet6               421\n",
       "fips                            90275\n",
       "fireplacecnt                     9607\n",
       "fullbathcnt                     89093\n",
       "garagecarcnt                    29937\n",
       "garagetotalsqft                 29937\n",
       "hashottuborspa                   2365\n",
       "heatingorsystemtypeid           56080\n",
       "latitude                        90275\n",
       "longitude                       90275\n",
       "lotsizesquarefeet               80125\n",
       "poolcnt                         17901\n",
       "poolsizesum                       969\n",
       "pooltypeid10                     1161\n",
       "pooltypeid2                      1204\n",
       "pooltypeid7                     16697\n",
       "propertycountylandusecode       90274\n",
       "propertylandusetypeid           90275\n",
       "propertyzoningdesc              58313\n",
       "rawcensustractandblock          90275\n",
       "regionidcity                    88472\n",
       "regionidcounty                  90275\n",
       "regionidneighborhood            36012\n",
       "regionidzip                     90240\n",
       "roomcnt                         90275\n",
       "storytypeid                        43\n",
       "threequarterbathnbr             12009\n",
       "typeconstructiontypeid            299\n",
       "unitcnt                         58353\n",
       "yardbuildingsqft17               2646\n",
       "yardbuildingsqft26                 95\n",
       "yearbuilt                       89519\n",
       "numberofstories                 20570\n",
       "fireplaceflag                     222\n",
       "structuretaxvaluedollarcnt      89895\n",
       "taxvaluedollarcnt               90274\n",
       "assessmentyear                  90275\n",
       "landtaxvaluedollarcnt           90274\n",
       "taxamount                       90269\n",
       "taxdelinquencyflag               1783\n",
       "taxdelinquencyyear               1783\n",
       "censustractandblock             89670\n",
       "logerror                        90275\n",
       "transactiondate                 90275\n",
       "dtype: int64"
      ]
     },
     "execution_count": 5,
     "metadata": {},
     "output_type": "execute_result"
    }
   ],
   "source": [
    "df16 = pd.read_csv('properties_2016.csv', low_memory=False)\n",
    "df_transactions16 = pd.read_csv('train_2016_v2.csv', low_memory=False)\n",
    "df_merged16 = pd.merge(df16, df_transactions16, on='parcelid', how='right')\n",
    "df_merged16.count()"
   ]
  },
  {
   "cell_type": "code",
   "execution_count": null,
   "metadata": {
    "collapsed": true
   },
   "outputs": [],
   "source": [
    "df17 = pd.read_csv('properties_2017.csv', low_memory=False)\n",
    "df_transactions17 = pd.read_csv('train_2017.csv', low_memory=False)\n",
    "df_merged17 = pd.merge(df17, df_transactions17, on='parcelid', how='right')\n",
    "df_merged17.count()"
   ]
  }
 ],
 "metadata": {
  "kernelspec": {
   "display_name": "Python 3",
   "language": "python",
   "name": "python3"
  },
  "language_info": {
   "codemirror_mode": {
    "name": "ipython",
    "version": 3
   },
   "file_extension": ".py",
   "mimetype": "text/x-python",
   "name": "python",
   "nbconvert_exporter": "python",
   "pygments_lexer": "ipython3",
   "version": "3.6.2"
  }
 },
 "nbformat": 4,
 "nbformat_minor": 2
}
