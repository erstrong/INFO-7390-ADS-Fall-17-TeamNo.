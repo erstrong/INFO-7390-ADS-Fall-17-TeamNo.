{
 "cells": [
  {
   "cell_type": "markdown",
   "metadata": {},
   "source": [
    "# Multiple Linear Regression"
   ]
  },
  {
   "cell_type": "code",
   "execution_count": 2,
   "metadata": {},
   "outputs": [
    {
     "name": "stderr",
     "output_type": "stream",
     "text": [
      "/Users/emily-air13/anaconda3/lib/python3.6/site-packages/sklearn/cross_validation.py:41: DeprecationWarning: This module was deprecated in version 0.18 in favor of the model_selection module into which all the refactored classes and functions are moved. Also note that the interface of the new CV iterators are different from that of this module. This module will be removed in 0.20.\n",
      "  \"This module will be removed in 0.20.\", DeprecationWarning)\n",
      "/Users/emily-air13/anaconda3/lib/python3.6/site-packages/sklearn/grid_search.py:42: DeprecationWarning: This module was deprecated in version 0.18 in favor of the model_selection module into which all the refactored classes and functions are moved. This module will be removed in 0.20.\n",
      "  DeprecationWarning)\n",
      "/Users/emily-air13/anaconda3/lib/python3.6/site-packages/sklearn/learning_curve.py:22: DeprecationWarning: This module was deprecated in version 0.18 in favor of the model_selection module into which all the functions are moved. This module will be removed in 0.20\n",
      "  DeprecationWarning)\n"
     ]
    }
   ],
   "source": [
    "import csv\n",
    "import pandas as pd\n",
    "import numpy as np\n",
    "import sklearn\n",
    "from sklearn import *"
   ]
  },
  {
   "cell_type": "code",
   "execution_count": 20,
   "metadata": {
    "collapsed": true
   },
   "outputs": [],
   "source": [
    "pd.set_option('display.max_columns', 65)\n",
    "\n",
    "df = pd.read_csv('clean_data.csv', low_memory=False)"
   ]
  },
  {
   "cell_type": "markdown",
   "metadata": {},
   "source": [
    "Variables in the Cleaned Data:\n",
    "\n",
    "Location & Zoning Data (Potential Categorical X):\n",
    "<div style=\"-webkit-column-count: 2; -moz-column-count: 2; column-count: 2; -webkit-column-rule: 1px dotted #e0e0e0; -moz-column-rule: 1px dotted #e0e0e0; column-rule: 1px dotted #e0e0e0;\">\n",
    "    <div style=\"display: inline-block;\">\n",
    "        <ul>\n",
    "         <li>fips</li>\n",
    "          <li>latitude</li>\n",
    "        <li>longitude</li>\n",
    "         <li>propertycountylandusecode</li>\n",
    "         \n",
    "         \n",
    "         </ul>\n",
    "    </div>\n",
    "    <div style=\"display: inline-block;\">\n",
    "        <ul>\n",
    "        <li>propertylandusetypeid</li>\n",
    "         <li>rawcensustractandblock</li>\n",
    "         <li>regionidcity</li>\n",
    "         <li>zipcode</li>\n",
    "        </ul>\n",
    "    </div>\n",
    "</div>\n",
    "\n",
    "Categorical X:\n",
    "\n",
    "<div style=\"-webkit-column-count: 2; -moz-column-count: 2; column-count: 2; -webkit-column-rule: 1px dotted #e0e0e0; -moz-column-rule: 1px dotted #e0e0e0; column-rule: 1px dotted #e0e0e0;\">\n",
    "    <div style=\"display: inline-block;\">\n",
    "        <ul>\n",
    "         <li>airconditioningtypeid</li>\n",
    "         <li>hashottuborspa</li>\n",
    "         <li>heatingorsystemtypeid</li>\n",
    "        <li>fireplaceflag</li>\n",
    "        <li>assessmentyear</li>\n",
    "        </ul>\n",
    "    </div>\n",
    "    <div style=\"display: inline-block;\">\n",
    "        <ul>\n",
    "        <li>taxdelinquencyflag</li>\n",
    "        <li>setyear</li>\n",
    "        <li>pooltype</li> \n",
    "        <li>transactiondate</li>\n",
    "        </ul>\n",
    "    </div>\n",
    "</div>\n",
    "\n",
    "\n",
    "Numerical X:\n",
    "<div style=\"-webkit-column-count: 2; -moz-column-count: 2; column-count: 2; -webkit-column-rule: 1px dotted #e0e0e0; -moz-column-rule: 1px dotted #e0e0e0; column-rule: 1px dotted #e0e0e0;\">\n",
    "    <div style=\"display: inline-block;\">\n",
    "        <ul>\n",
    "        <li>bedroomcnt</li>\n",
    "        <li>buildingqualitytypeid</li>\n",
    "        <li>calculatedbathnbr</li>\n",
    "        <li>calculatedfinishedsquarefeet</li>\n",
    "        <li>fireplacecnt</li>\n",
    "        <li>fullbathcnt</li>\n",
    "        <li>garagecarcnt</li>\n",
    "        <li>garagetotalsqft</li>\n",
    "        <li>lotsizesquarefeet</li>\n",
    "        <li>poolcnt</li>\n",
    "        </ul>\n",
    "    </div>\n",
    "    <div style=\"display: inline-block;\">\n",
    "        <ul>\n",
    "        <li>roomcnt</li>\n",
    "        <li>unitcnt</li>\n",
    "        <li>yearbuilt</li>\n",
    "        <li>numberofstories</li>\n",
    "        <li>structuretaxvaluedollarcnt</li>\n",
    "        <li>taxvaluedollarcnt</li>\n",
    "        <li>landtaxvaluedollarcnt</li>\n",
    "        <li>taxamount</li>\n",
    "        <li>taxdelinquencyyear TO REMOVE</li> \n",
    "        </ul>\n",
    "    </div>\n",
    "</div>\n",
    "           \n",
    "                        \n",
    "Y:\n",
    "* logerror"
   ]
  },
  {
   "cell_type": "code",
   "execution_count": 21,
   "metadata": {
    "collapsed": true
   },
   "outputs": [],
   "source": [
    "def hottub(a):\n",
    "    if a:\n",
    "        return 1\n",
    "    else:\n",
    "        return 0\n",
    "    \n",
    "df['hashottuborspa'] = df['hashottuborspa'].map(lambda a: hottub(a))\n",
    "\n",
    "def fire(a):\n",
    "    if a:\n",
    "        return 1\n",
    "    else:\n",
    "        return 0\n",
    "\n",
    "df['fireplaceflag'] = df['fireplaceflag'].map(lambda a: fire(a))\n",
    "\n",
    "def tax(a):\n",
    "    if a=='Y':\n",
    "        return 1\n",
    "    else:\n",
    "        return 0\n",
    "\n",
    "df['taxdelinquencyflag'] = df['taxdelinquencyflag'].map(lambda a: tax(a))\n",
    "\n",
    "fips = pd.get_dummies(df['fips'])\n",
    "df = df.join(fips)\n",
    "\n",
    "yr = pd.get_dummies(df['setyear'])\n",
    "df = df.join(yr)\n",
    "\n",
    "ac = pd.get_dummies(df['airconditioningtypeid'], prefix='ac')\n",
    "df = df.join(ac)\n",
    "\n",
    "heat = pd.get_dummies(df['heatingorsystemtypeid'], prefix='heat')\n",
    "df=df.join(heat)\n",
    "\n",
    "df.head()\n"
   ]
  },
  {
   "cell_type": "code",
   "execution_count": 30,
   "metadata": {
    "collapsed": true
   },
   "outputs": [],
   "source": [
    "msk = np.random.rand(len(df)) < 0.8"
   ]
  },
  {
   "cell_type": "code",
   "execution_count": 31,
   "metadata": {
    "collapsed": true
   },
   "outputs": [],
   "source": [
    "train = df[msk]\n",
    "test = df[~msk]"
   ]
  },
  {
   "cell_type": "code",
   "execution_count": 29,
   "metadata": {},
   "outputs": [
    {
     "data": {
      "text/html": [
       "<div>\n",
       "<style>\n",
       "    .dataframe thead tr:only-child th {\n",
       "        text-align: right;\n",
       "    }\n",
       "\n",
       "    .dataframe thead th {\n",
       "        text-align: left;\n",
       "    }\n",
       "\n",
       "    .dataframe tbody tr th {\n",
       "        vertical-align: top;\n",
       "    }\n",
       "</style>\n",
       "<table border=\"1\" class=\"dataframe\">\n",
       "  <thead>\n",
       "    <tr style=\"text-align: right;\">\n",
       "      <th></th>\n",
       "      <th>parcelid</th>\n",
       "      <th>airconditioningtypeid</th>\n",
       "      <th>bedroomcnt</th>\n",
       "      <th>buildingqualitytypeid</th>\n",
       "      <th>calculatedbathnbr</th>\n",
       "      <th>calculatedfinishedsquarefeet</th>\n",
       "      <th>fips</th>\n",
       "      <th>fireplacecnt</th>\n",
       "      <th>fullbathcnt</th>\n",
       "      <th>garagecarcnt</th>\n",
       "      <th>garagetotalsqft</th>\n",
       "      <th>heatingorsystemtypeid</th>\n",
       "      <th>latitude</th>\n",
       "      <th>longitude</th>\n",
       "      <th>lotsizesquarefeet</th>\n",
       "      <th>poolcnt</th>\n",
       "      <th>propertylandusetypeid</th>\n",
       "      <th>rawcensustractandblock</th>\n",
       "      <th>regionidcity</th>\n",
       "      <th>roomcnt</th>\n",
       "      <th>unitcnt</th>\n",
       "      <th>yearbuilt</th>\n",
       "      <th>numberofstories</th>\n",
       "      <th>structuretaxvaluedollarcnt</th>\n",
       "      <th>taxvaluedollarcnt</th>\n",
       "      <th>assessmentyear</th>\n",
       "      <th>landtaxvaluedollarcnt</th>\n",
       "      <th>taxamount</th>\n",
       "      <th>taxdelinquencyyear</th>\n",
       "      <th>logerror</th>\n",
       "      <th>setyear</th>\n",
       "      <th>pooltype</th>\n",
       "      <th>zipcode</th>\n",
       "    </tr>\n",
       "  </thead>\n",
       "  <tbody>\n",
       "    <tr>\n",
       "      <th>count</th>\n",
       "      <td>1.341560e+05</td>\n",
       "      <td>134156.000000</td>\n",
       "      <td>134156.000000</td>\n",
       "      <td>134156.000000</td>\n",
       "      <td>134156.000000</td>\n",
       "      <td>134156.000000</td>\n",
       "      <td>134156.000000</td>\n",
       "      <td>134156.000000</td>\n",
       "      <td>134156.000000</td>\n",
       "      <td>134156.000000</td>\n",
       "      <td>134156.000000</td>\n",
       "      <td>134156.000000</td>\n",
       "      <td>134156.000000</td>\n",
       "      <td>134156.000000</td>\n",
       "      <td>1.341560e+05</td>\n",
       "      <td>134156.000000</td>\n",
       "      <td>134156.000000</td>\n",
       "      <td>1.341560e+05</td>\n",
       "      <td>131491.000000</td>\n",
       "      <td>132793.000000</td>\n",
       "      <td>134156.000000</td>\n",
       "      <td>134156.000000</td>\n",
       "      <td>134156.000000</td>\n",
       "      <td>1.341560e+05</td>\n",
       "      <td>1.341560e+05</td>\n",
       "      <td>134156.000000</td>\n",
       "      <td>1.341560e+05</td>\n",
       "      <td>134156.000000</td>\n",
       "      <td>3772.00000</td>\n",
       "      <td>134156.000000</td>\n",
       "      <td>134156.000000</td>\n",
       "      <td>134156.000000</td>\n",
       "      <td>134156.000000</td>\n",
       "    </tr>\n",
       "    <tr>\n",
       "      <th>mean</th>\n",
       "      <td>1.299581e+07</td>\n",
       "      <td>3.973836</td>\n",
       "      <td>3.042458</td>\n",
       "      <td>6.014671</td>\n",
       "      <td>2.309200</td>\n",
       "      <td>1778.066445</td>\n",
       "      <td>6048.836802</td>\n",
       "      <td>0.126979</td>\n",
       "      <td>2.242867</td>\n",
       "      <td>0.598810</td>\n",
       "      <td>157.131235</td>\n",
       "      <td>3.209294</td>\n",
       "      <td>34.006774</td>\n",
       "      <td>-118.201542</td>\n",
       "      <td>2.600041e+04</td>\n",
       "      <td>0.203159</td>\n",
       "      <td>261.829862</td>\n",
       "      <td>6.049147e+13</td>\n",
       "      <td>33693.751306</td>\n",
       "      <td>5.616663</td>\n",
       "      <td>1.068510</td>\n",
       "      <td>1968.603342</td>\n",
       "      <td>1.099354</td>\n",
       "      <td>1.842371e+05</td>\n",
       "      <td>4.730560e+05</td>\n",
       "      <td>2015.462327</td>\n",
       "      <td>2.892073e+05</td>\n",
       "      <td>5991.370953</td>\n",
       "      <td>2013.78579</td>\n",
       "      <td>0.014165</td>\n",
       "      <td>2016.462327</td>\n",
       "      <td>1.450252</td>\n",
       "      <td>91594.184740</td>\n",
       "    </tr>\n",
       "    <tr>\n",
       "      <th>std</th>\n",
       "      <td>3.035481e+06</td>\n",
       "      <td>2.243631</td>\n",
       "      <td>1.151121</td>\n",
       "      <td>1.505300</td>\n",
       "      <td>0.974176</td>\n",
       "      <td>940.662281</td>\n",
       "      <td>20.697520</td>\n",
       "      <td>0.400159</td>\n",
       "      <td>0.961000</td>\n",
       "      <td>0.920488</td>\n",
       "      <td>238.299124</td>\n",
       "      <td>3.031200</td>\n",
       "      <td>0.264953</td>\n",
       "      <td>0.359983</td>\n",
       "      <td>8.536214e+04</td>\n",
       "      <td>0.402351</td>\n",
       "      <td>5.109508</td>\n",
       "      <td>2.053968e+11</td>\n",
       "      <td>46803.520665</td>\n",
       "      <td>1.949434</td>\n",
       "      <td>0.367833</td>\n",
       "      <td>23.697300</td>\n",
       "      <td>0.317841</td>\n",
       "      <td>2.188872e+05</td>\n",
       "      <td>6.089824e+05</td>\n",
       "      <td>0.498581</td>\n",
       "      <td>4.521597e+05</td>\n",
       "      <td>7248.094186</td>\n",
       "      <td>1.68155</td>\n",
       "      <td>0.166088</td>\n",
       "      <td>0.498581</td>\n",
       "      <td>2.863796</td>\n",
       "      <td>1082.850401</td>\n",
       "    </tr>\n",
       "    <tr>\n",
       "      <th>min</th>\n",
       "      <td>1.071174e+07</td>\n",
       "      <td>1.000000</td>\n",
       "      <td>0.000000</td>\n",
       "      <td>1.000000</td>\n",
       "      <td>1.000000</td>\n",
       "      <td>120.000000</td>\n",
       "      <td>6037.000000</td>\n",
       "      <td>0.000000</td>\n",
       "      <td>1.000000</td>\n",
       "      <td>0.000000</td>\n",
       "      <td>0.000000</td>\n",
       "      <td>1.000000</td>\n",
       "      <td>33.339295</td>\n",
       "      <td>-119.475416</td>\n",
       "      <td>1.670000e+02</td>\n",
       "      <td>0.000000</td>\n",
       "      <td>31.000000</td>\n",
       "      <td>6.037101e+13</td>\n",
       "      <td>3491.000000</td>\n",
       "      <td>1.000000</td>\n",
       "      <td>1.000000</td>\n",
       "      <td>1824.000000</td>\n",
       "      <td>1.000000</td>\n",
       "      <td>4.400000e+01</td>\n",
       "      <td>2.200000e+01</td>\n",
       "      <td>2015.000000</td>\n",
       "      <td>2.200000e+01</td>\n",
       "      <td>19.920000</td>\n",
       "      <td>1999.00000</td>\n",
       "      <td>-4.655420</td>\n",
       "      <td>2016.000000</td>\n",
       "      <td>0.000000</td>\n",
       "      <td>90001.000000</td>\n",
       "    </tr>\n",
       "    <tr>\n",
       "      <th>25%</th>\n",
       "      <td>1.154927e+07</td>\n",
       "      <td>1.000000</td>\n",
       "      <td>2.000000</td>\n",
       "      <td>6.000000</td>\n",
       "      <td>2.000000</td>\n",
       "      <td>1184.000000</td>\n",
       "      <td>6037.000000</td>\n",
       "      <td>0.000000</td>\n",
       "      <td>2.000000</td>\n",
       "      <td>0.000000</td>\n",
       "      <td>0.000000</td>\n",
       "      <td>2.000000</td>\n",
       "      <td>33.813120</td>\n",
       "      <td>-118.413371</td>\n",
       "      <td>5.962000e+03</td>\n",
       "      <td>0.000000</td>\n",
       "      <td>261.000000</td>\n",
       "      <td>6.037312e+13</td>\n",
       "      <td>12447.000000</td>\n",
       "      <td>4.000000</td>\n",
       "      <td>1.000000</td>\n",
       "      <td>1953.000000</td>\n",
       "      <td>1.000000</td>\n",
       "      <td>8.273900e+04</td>\n",
       "      <td>2.030000e+05</td>\n",
       "      <td>2015.000000</td>\n",
       "      <td>8.416525e+04</td>\n",
       "      <td>2799.800000</td>\n",
       "      <td>2013.00000</td>\n",
       "      <td>-0.025207</td>\n",
       "      <td>2016.000000</td>\n",
       "      <td>0.000000</td>\n",
       "      <td>90660.000000</td>\n",
       "    </tr>\n",
       "    <tr>\n",
       "      <th>50%</th>\n",
       "      <td>1.253920e+07</td>\n",
       "      <td>5.000000</td>\n",
       "      <td>3.000000</td>\n",
       "      <td>6.015461</td>\n",
       "      <td>2.000000</td>\n",
       "      <td>1541.000000</td>\n",
       "      <td>6037.000000</td>\n",
       "      <td>0.000000</td>\n",
       "      <td>2.000000</td>\n",
       "      <td>0.000000</td>\n",
       "      <td>0.000000</td>\n",
       "      <td>2.000000</td>\n",
       "      <td>34.021500</td>\n",
       "      <td>-118.177000</td>\n",
       "      <td>7.200000e+03</td>\n",
       "      <td>0.000000</td>\n",
       "      <td>261.000000</td>\n",
       "      <td>6.037604e+13</td>\n",
       "      <td>25218.000000</td>\n",
       "      <td>5.000000</td>\n",
       "      <td>1.000000</td>\n",
       "      <td>1970.000000</td>\n",
       "      <td>1.000000</td>\n",
       "      <td>1.340510e+05</td>\n",
       "      <td>3.500000e+05</td>\n",
       "      <td>2015.000000</td>\n",
       "      <td>1.978040e+05</td>\n",
       "      <td>4501.380000</td>\n",
       "      <td>2014.00000</td>\n",
       "      <td>0.006000</td>\n",
       "      <td>2016.000000</td>\n",
       "      <td>0.000000</td>\n",
       "      <td>91367.000000</td>\n",
       "    </tr>\n",
       "    <tr>\n",
       "      <th>75%</th>\n",
       "      <td>1.421697e+07</td>\n",
       "      <td>5.000000</td>\n",
       "      <td>4.000000</td>\n",
       "      <td>7.000000</td>\n",
       "      <td>3.000000</td>\n",
       "      <td>2100.000000</td>\n",
       "      <td>6059.000000</td>\n",
       "      <td>0.000000</td>\n",
       "      <td>3.000000</td>\n",
       "      <td>2.000000</td>\n",
       "      <td>434.000000</td>\n",
       "      <td>2.000000</td>\n",
       "      <td>34.173325</td>\n",
       "      <td>-117.925847</td>\n",
       "      <td>1.045000e+04</td>\n",
       "      <td>0.000000</td>\n",
       "      <td>266.000000</td>\n",
       "      <td>6.059042e+13</td>\n",
       "      <td>45457.000000</td>\n",
       "      <td>7.000000</td>\n",
       "      <td>1.000000</td>\n",
       "      <td>1987.000000</td>\n",
       "      <td>1.000000</td>\n",
       "      <td>2.140112e+05</td>\n",
       "      <td>5.532890e+05</td>\n",
       "      <td>2016.000000</td>\n",
       "      <td>3.550000e+05</td>\n",
       "      <td>6906.405000</td>\n",
       "      <td>2015.00000</td>\n",
       "      <td>0.039200</td>\n",
       "      <td>2017.000000</td>\n",
       "      <td>0.000000</td>\n",
       "      <td>92673.000000</td>\n",
       "    </tr>\n",
       "    <tr>\n",
       "      <th>max</th>\n",
       "      <td>1.676893e+08</td>\n",
       "      <td>13.000000</td>\n",
       "      <td>16.000000</td>\n",
       "      <td>12.000000</td>\n",
       "      <td>18.000000</td>\n",
       "      <td>35640.000000</td>\n",
       "      <td>6111.000000</td>\n",
       "      <td>5.000000</td>\n",
       "      <td>18.000000</td>\n",
       "      <td>24.000000</td>\n",
       "      <td>7339.000000</td>\n",
       "      <td>24.000000</td>\n",
       "      <td>34.818767</td>\n",
       "      <td>-117.554636</td>\n",
       "      <td>2.539984e+06</td>\n",
       "      <td>1.000000</td>\n",
       "      <td>275.000000</td>\n",
       "      <td>6.111009e+13</td>\n",
       "      <td>396556.000000</td>\n",
       "      <td>32.000000</td>\n",
       "      <td>9.000000</td>\n",
       "      <td>2016.000000</td>\n",
       "      <td>4.000000</td>\n",
       "      <td>1.142179e+07</td>\n",
       "      <td>4.906124e+07</td>\n",
       "      <td>2016.000000</td>\n",
       "      <td>4.895220e+07</td>\n",
       "      <td>586639.300000</td>\n",
       "      <td>2015.00000</td>\n",
       "      <td>4.520000</td>\n",
       "      <td>2017.000000</td>\n",
       "      <td>10.000000</td>\n",
       "      <td>93591.000000</td>\n",
       "    </tr>\n",
       "  </tbody>\n",
       "</table>\n",
       "</div>"
      ],
      "text/plain": [
       "           parcelid  airconditioningtypeid     bedroomcnt  \\\n",
       "count  1.341560e+05          134156.000000  134156.000000   \n",
       "mean   1.299581e+07               3.973836       3.042458   \n",
       "std    3.035481e+06               2.243631       1.151121   \n",
       "min    1.071174e+07               1.000000       0.000000   \n",
       "25%    1.154927e+07               1.000000       2.000000   \n",
       "50%    1.253920e+07               5.000000       3.000000   \n",
       "75%    1.421697e+07               5.000000       4.000000   \n",
       "max    1.676893e+08              13.000000      16.000000   \n",
       "\n",
       "       buildingqualitytypeid  calculatedbathnbr  calculatedfinishedsquarefeet  \\\n",
       "count          134156.000000      134156.000000                 134156.000000   \n",
       "mean                6.014671           2.309200                   1778.066445   \n",
       "std                 1.505300           0.974176                    940.662281   \n",
       "min                 1.000000           1.000000                    120.000000   \n",
       "25%                 6.000000           2.000000                   1184.000000   \n",
       "50%                 6.015461           2.000000                   1541.000000   \n",
       "75%                 7.000000           3.000000                   2100.000000   \n",
       "max                12.000000          18.000000                  35640.000000   \n",
       "\n",
       "                fips   fireplacecnt    fullbathcnt   garagecarcnt  \\\n",
       "count  134156.000000  134156.000000  134156.000000  134156.000000   \n",
       "mean     6048.836802       0.126979       2.242867       0.598810   \n",
       "std        20.697520       0.400159       0.961000       0.920488   \n",
       "min      6037.000000       0.000000       1.000000       0.000000   \n",
       "25%      6037.000000       0.000000       2.000000       0.000000   \n",
       "50%      6037.000000       0.000000       2.000000       0.000000   \n",
       "75%      6059.000000       0.000000       3.000000       2.000000   \n",
       "max      6111.000000       5.000000      18.000000      24.000000   \n",
       "\n",
       "       garagetotalsqft  heatingorsystemtypeid       latitude      longitude  \\\n",
       "count    134156.000000          134156.000000  134156.000000  134156.000000   \n",
       "mean        157.131235               3.209294      34.006774    -118.201542   \n",
       "std         238.299124               3.031200       0.264953       0.359983   \n",
       "min           0.000000               1.000000      33.339295    -119.475416   \n",
       "25%           0.000000               2.000000      33.813120    -118.413371   \n",
       "50%           0.000000               2.000000      34.021500    -118.177000   \n",
       "75%         434.000000               2.000000      34.173325    -117.925847   \n",
       "max        7339.000000              24.000000      34.818767    -117.554636   \n",
       "\n",
       "       lotsizesquarefeet        poolcnt  propertylandusetypeid  \\\n",
       "count       1.341560e+05  134156.000000          134156.000000   \n",
       "mean        2.600041e+04       0.203159             261.829862   \n",
       "std         8.536214e+04       0.402351               5.109508   \n",
       "min         1.670000e+02       0.000000              31.000000   \n",
       "25%         5.962000e+03       0.000000             261.000000   \n",
       "50%         7.200000e+03       0.000000             261.000000   \n",
       "75%         1.045000e+04       0.000000             266.000000   \n",
       "max         2.539984e+06       1.000000             275.000000   \n",
       "\n",
       "       rawcensustractandblock   regionidcity        roomcnt        unitcnt  \\\n",
       "count            1.341560e+05  131491.000000  132793.000000  134156.000000   \n",
       "mean             6.049147e+13   33693.751306       5.616663       1.068510   \n",
       "std              2.053968e+11   46803.520665       1.949434       0.367833   \n",
       "min              6.037101e+13    3491.000000       1.000000       1.000000   \n",
       "25%              6.037312e+13   12447.000000       4.000000       1.000000   \n",
       "50%              6.037604e+13   25218.000000       5.000000       1.000000   \n",
       "75%              6.059042e+13   45457.000000       7.000000       1.000000   \n",
       "max              6.111009e+13  396556.000000      32.000000       9.000000   \n",
       "\n",
       "           yearbuilt  numberofstories  structuretaxvaluedollarcnt  \\\n",
       "count  134156.000000    134156.000000                1.341560e+05   \n",
       "mean     1968.603342         1.099354                1.842371e+05   \n",
       "std        23.697300         0.317841                2.188872e+05   \n",
       "min      1824.000000         1.000000                4.400000e+01   \n",
       "25%      1953.000000         1.000000                8.273900e+04   \n",
       "50%      1970.000000         1.000000                1.340510e+05   \n",
       "75%      1987.000000         1.000000                2.140112e+05   \n",
       "max      2016.000000         4.000000                1.142179e+07   \n",
       "\n",
       "       taxvaluedollarcnt  assessmentyear  landtaxvaluedollarcnt  \\\n",
       "count       1.341560e+05   134156.000000           1.341560e+05   \n",
       "mean        4.730560e+05     2015.462327           2.892073e+05   \n",
       "std         6.089824e+05        0.498581           4.521597e+05   \n",
       "min         2.200000e+01     2015.000000           2.200000e+01   \n",
       "25%         2.030000e+05     2015.000000           8.416525e+04   \n",
       "50%         3.500000e+05     2015.000000           1.978040e+05   \n",
       "75%         5.532890e+05     2016.000000           3.550000e+05   \n",
       "max         4.906124e+07     2016.000000           4.895220e+07   \n",
       "\n",
       "           taxamount  taxdelinquencyyear       logerror        setyear  \\\n",
       "count  134156.000000          3772.00000  134156.000000  134156.000000   \n",
       "mean     5991.370953          2013.78579       0.014165    2016.462327   \n",
       "std      7248.094186             1.68155       0.166088       0.498581   \n",
       "min        19.920000          1999.00000      -4.655420    2016.000000   \n",
       "25%      2799.800000          2013.00000      -0.025207    2016.000000   \n",
       "50%      4501.380000          2014.00000       0.006000    2016.000000   \n",
       "75%      6906.405000          2015.00000       0.039200    2017.000000   \n",
       "max    586639.300000          2015.00000       4.520000    2017.000000   \n",
       "\n",
       "            pooltype        zipcode  \n",
       "count  134156.000000  134156.000000  \n",
       "mean        1.450252   91594.184740  \n",
       "std         2.863796    1082.850401  \n",
       "min         0.000000   90001.000000  \n",
       "25%         0.000000   90660.000000  \n",
       "50%         0.000000   91367.000000  \n",
       "75%         0.000000   92673.000000  \n",
       "max        10.000000   93591.000000  "
      ]
     },
     "execution_count": 29,
     "metadata": {},
     "output_type": "execute_result"
    }
   ],
   "source": [
    "train.describe()"
   ]
  },
  {
   "cell_type": "code",
   "execution_count": 33,
   "metadata": {},
   "outputs": [
    {
     "data": {
      "text/plain": [
       "array([0.0953, 0.0198, -0.0566, ..., 0.725458273984, 0.043652112878300016,\n",
       "       -0.0141783454295], dtype=object)"
      ]
     },
     "execution_count": 33,
     "metadata": {},
     "output_type": "execute_result"
    }
   ],
   "source": [
    "lm=linear_model.LinearRegression()\n",
    "array_train=train.values\n",
    "array_train[:,33]"
   ]
  },
  {
   "cell_type": "code",
   "execution_count": 99,
   "metadata": {},
   "outputs": [
    {
     "data": {
      "text/plain": [
       "False"
      ]
     },
     "execution_count": 99,
     "metadata": {},
     "output_type": "execute_result"
    }
   ],
   "source": [
    "np.any(np.isnan(df.iloc[:,[2,3,4,5,7,8,9,10,13,14,15,16,21,22,24,26,27,29,30]]))\n",
    "#df.iloc[:,[2,3,4,5,7,8,9,10,13,14,15,16,21,22,24,26,27,29,30]].isnull().any()"
   ]
  },
  {
   "cell_type": "code",
   "execution_count": 100,
   "metadata": {},
   "outputs": [
    {
     "data": {
      "text/plain": [
       "True"
      ]
     },
     "execution_count": 100,
     "metadata": {},
     "output_type": "execute_result"
    }
   ],
   "source": [
    "np.all(np.isfinite(df.iloc[:,[2,3,4,5,7,8,9,10,13,14,15,16,21,22,24,26,27,29,30]]))"
   ]
  },
  {
   "cell_type": "code",
   "execution_count": 101,
   "metadata": {},
   "outputs": [
    {
     "data": {
      "text/plain": [
       "LinearRegression(copy_X=True, fit_intercept=True, n_jobs=1, normalize=False)"
      ]
     },
     "execution_count": 101,
     "metadata": {},
     "output_type": "execute_result"
    }
   ],
   "source": [
    "lm.fit(array_train[:,[5,27,29,30]],array_train[:,33])"
   ]
  },
  {
   "cell_type": "code",
   "execution_count": 34,
   "metadata": {},
   "outputs": [
    {
     "data": {
      "text/plain": [
       "LinearRegression(copy_X=True, fit_intercept=True, n_jobs=1, normalize=False)"
      ]
     },
     "execution_count": 34,
     "metadata": {},
     "output_type": "execute_result"
    }
   ],
   "source": [
    "lm.fit(array_train[:,[2,3,4,5,7,8,9,10,13,14,15,16,21,22,24,26,27,29,30,11,25,31,38,39,40,41,42,43,44,45,46,47,48,29,49,50,51,52,53,54,55,56,57,58,59,60]], array_train[:,33])\n"
   ]
  },
  {
   "cell_type": "code",
   "execution_count": 35,
   "metadata": {},
   "outputs": [
    {
     "data": {
      "text/plain": [
       "0.81811383023513928"
      ]
     },
     "execution_count": 35,
     "metadata": {},
     "output_type": "execute_result"
    }
   ],
   "source": [
    "lm.intercept_"
   ]
  },
  {
   "cell_type": "code",
   "execution_count": 36,
   "metadata": {},
   "outputs": [
    {
     "data": {
      "text/plain": [
       "array([  1.26444490e-03,  -1.44032346e-03,  -2.35083659e-03,\n",
       "         1.37234301e-05,  -2.04919799e-03,   2.30619677e-03,\n",
       "         3.43384451e-03,  -2.47170658e-05,  -1.65018362e-03,\n",
       "         6.23591153e-03,   3.43618068e-08,  -9.01521842e-03,\n",
       "        -6.24786857e-04,  -8.63049266e-03,  -1.09950049e-04,\n",
       "        -2.73989093e-07,   2.99797628e-07,  -2.70592981e-07,\n",
       "        -3.08535389e-06,  -1.08708889e-02,  -3.80617390e-03,\n",
       "         2.00684590e-02,  -6.86727521e-03,  -1.53121017e-03,\n",
       "         8.39848538e-03,  -2.65115288e-03,   2.65115288e-03,\n",
       "        -5.74274634e-03,   9.21678724e-02,  -4.34769071e-03,\n",
       "        -9.26392201e-02,   1.60643648e-02,  -5.50258005e-03])"
      ]
     },
     "execution_count": 36,
     "metadata": {},
     "output_type": "execute_result"
    }
   ],
   "source": [
    "lm.coef_"
   ]
  },
  {
   "cell_type": "code",
   "execution_count": 37,
   "metadata": {
    "collapsed": true
   },
   "outputs": [],
   "source": [
    "array_test = test.values\n",
    "\n",
    "# Make predictions using the testing set\n",
    "log_pred = lm.predict(test.iloc[:,[2,3,4,5,7,8,9,10,13,14,15,16,21,22,24,26,27,29,30,11,25,31,38,39,40,41,42,43,44,45,46,47,48,29,49,50,51,52,53,54,55,56,57,58,59,60]])"
   ]
  },
  {
   "cell_type": "code",
   "execution_count": 39,
   "metadata": {},
   "outputs": [
    {
     "name": "stdout",
     "output_type": "stream",
     "text": [
      "0.1654261128024481\n"
     ]
    }
   ],
   "source": [
    "from sklearn.metrics import mean_squared_error\n",
    "from math import sqrt\n",
    "\n",
    "print(sqrt(mean_squared_error(array_test[:,33], log_pred)))\n",
    " "
   ]
  },
  {
   "cell_type": "code",
   "execution_count": 129,
   "metadata": {},
   "outputs": [
    {
     "name": "stdout",
     "output_type": "stream",
     "text": [
      "0.16323141652774348\n"
     ]
    }
   ],
   "source": [
    "reg=linear_model.LinearRegression()\n",
    "reg.fit(array_train[:,[3,4,7,8,14,27]], array_train[:,33])\n",
    "p = reg.predict(array_test[:,[3,4,7,8,14,27]])\n",
    "print(sqrt(mean_squared_error(array_test[:,33],p)))"
   ]
  },
  {
   "cell_type": "code",
   "execution_count": null,
   "metadata": {
    "collapsed": true
   },
   "outputs": [],
   "source": [
    "\n",
    "from sklearn.feature_selection import RFECV\n",
    "from sklearn.svm import SVR\n",
    "estimator = SVR(kernel=\"linear\")\n",
    "selector = RFECV(estimator, step=1, cv=5)\n",
    "selector = selector.fit(train.iloc[:,[2,3,4,5,7,8,9,10,13,14,15,16,21,22,24,26,27,29,30,11,25,31]], train.iloc[:,33])\n"
   ]
  },
  {
   "cell_type": "code",
   "execution_count": null,
   "metadata": {
    "collapsed": true
   },
   "outputs": [],
   "source": [
    "selector.support_ \n",
    "selector.ranking_\n"
   ]
  },
  {
   "cell_type": "code",
   "execution_count": 8,
   "metadata": {},
   "outputs": [
    {
     "name": "stderr",
     "output_type": "stream",
     "text": [
      "/Users/emily-air13/anaconda3/lib/python3.6/site-packages/sklearn/linear_model/coordinate_descent.py:491: ConvergenceWarning: Objective did not converge. You might want to increase the number of iterations. Fitting data with very small alpha may cause precision problems.\n",
      "  ConvergenceWarning)\n"
     ]
    },
    {
     "data": {
      "text/plain": [
       "Lasso(alpha=0.1, copy_X=True, fit_intercept=True, max_iter=1000,\n",
       "   normalize=False, positive=False, precompute=False, random_state=None,\n",
       "   selection='cyclic', tol=0.0001, warm_start=False)"
      ]
     },
     "execution_count": 8,
     "metadata": {},
     "output_type": "execute_result"
    }
   ],
   "source": [
    "from sklearn import linear_model\n",
    "clf = linear_model.Lasso(alpha=0.1)\n",
    "clf.fit(train.iloc[:,[2,3,4,5,7,8,9,10,13,14,15,16,21,22,24,26,27,29,30,11,25,31]], train.iloc[:,33])\n"
   ]
  },
  {
   "cell_type": "code",
   "execution_count": 9,
   "metadata": {},
   "outputs": [
    {
     "data": {
      "text/plain": [
       "0.00033743435908003411"
      ]
     },
     "execution_count": 9,
     "metadata": {},
     "output_type": "execute_result"
    }
   ],
   "source": [
    "clf.intercept_"
   ]
  },
  {
   "cell_type": "code",
   "execution_count": 10,
   "metadata": {},
   "outputs": [
    {
     "data": {
      "text/plain": [
       "array([  0.00000000e+00,  -0.00000000e+00,  -0.00000000e+00,\n",
       "         1.06361412e-05,  -0.00000000e+00,  -0.00000000e+00,\n",
       "         0.00000000e+00,  -0.00000000e+00,  -0.00000000e+00,\n",
       "         0.00000000e+00,   1.96030329e-08,  -0.00000000e+00,\n",
       "        -0.00000000e+00,  -0.00000000e+00,  -0.00000000e+00,\n",
       "        -4.00751045e-08,   6.97427202e-08,  -3.82992658e-08,\n",
       "        -3.37615125e-06,  -0.00000000e+00,  -0.00000000e+00,\n",
       "         0.00000000e+00])"
      ]
     },
     "execution_count": 10,
     "metadata": {},
     "output_type": "execute_result"
    }
   ],
   "source": [
    "clf.coef_ #5, 15 26,27,29,30"
   ]
  },
  {
   "cell_type": "code",
   "execution_count": 13,
   "metadata": {},
   "outputs": [
    {
     "name": "stdout",
     "output_type": "stream",
     "text": [
      "0.1617368586637341\n"
     ]
    }
   ],
   "source": [
    "from sklearn.metrics import mean_squared_error\n",
    "from math import sqrt\n",
    "\n",
    "\n",
    "array_test = test.values\n",
    "array_train = train.values\n",
    "\n",
    "reg=linear_model.LinearRegression()\n",
    "reg.fit(array_train[:,[5,15,26,27,29,30]], array_train[:,33])\n",
    "p = reg.predict(array_test[:,[5,15,26,27,29,30]])\n",
    "print(sqrt(mean_squared_error(array_test[:,33],p)))"
   ]
  },
  {
   "cell_type": "code",
   "execution_count": null,
   "metadata": {
    "collapsed": true
   },
   "outputs": [],
   "source": [
    "from sklearn.feature_selection import SelectFromModel\n",
    "lsvc = LinearSVC(C=0.01, penalty=\"l1\", dual=False).fit(X, y)\n",
    "model = SelectFromModel(lsvc, prefit=True)"
   ]
  },
  {
   "cell_type": "code",
   "execution_count": null,
   "metadata": {
    "collapsed": true
   },
   "outputs": [],
   "source": []
  }
 ],
 "metadata": {
  "kernelspec": {
   "display_name": "Python 3",
   "language": "python",
   "name": "python3"
  },
  "language_info": {
   "codemirror_mode": {
    "name": "ipython",
    "version": 3
   },
   "file_extension": ".py",
   "mimetype": "text/x-python",
   "name": "python",
   "nbconvert_exporter": "python",
   "pygments_lexer": "ipython3",
   "version": "3.6.2"
  }
 },
 "nbformat": 4,
 "nbformat_minor": 2
}
