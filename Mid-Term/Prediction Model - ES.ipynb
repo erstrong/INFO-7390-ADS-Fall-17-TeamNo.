{
 "cells": [
  {
   "cell_type": "markdown",
   "metadata": {},
   "source": [
    "# Multiple Linear Regression"
   ]
  },
  {
   "cell_type": "code",
   "execution_count": 2,
   "metadata": {
    "collapsed": true
   },
   "outputs": [],
   "source": [
    "import csv\n",
    "import pandas as pd\n"
   ]
  },
  {
   "cell_type": "code",
   "execution_count": 7,
   "metadata": {
    "collapsed": true
   },
   "outputs": [],
   "source": [
    "pd.set_option('display.max_columns', 65)\n",
    "\n",
    "df = pd.read_csv('clean_data.csv', low_memory=False)"
   ]
  },
  {
   "cell_type": "code",
   "execution_count": 8,
   "metadata": {},
   "outputs": [
    {
     "data": {
      "text/plain": [
       "parcelid                        167851\n",
       "airconditioningtypeid           167851\n",
       "bedroomcnt                      167851\n",
       "buildingqualitytypeid           167851\n",
       "calculatedbathnbr               167851\n",
       "calculatedfinishedsquarefeet    167851\n",
       "fips                            167851\n",
       "fireplacecnt                    167851\n",
       "fullbathcnt                     167851\n",
       "garagecarcnt                    167851\n",
       "garagetotalsqft                 167851\n",
       "hashottuborspa                  167851\n",
       "heatingorsystemtypeid           167851\n",
       "latitude                        167851\n",
       "longitude                       167851\n",
       "lotsizesquarefeet               167851\n",
       "poolcnt                         167851\n",
       "propertycountylandusecode       167850\n",
       "propertylandusetypeid           167851\n",
       "rawcensustractandblock          167851\n",
       "regionidcity                    164576\n",
       "roomcnt                         166127\n",
       "unitcnt                         167851\n",
       "yearbuilt                       167851\n",
       "numberofstories                 167851\n",
       "fireplaceflag                   167851\n",
       "structuretaxvaluedollarcnt      167851\n",
       "taxvaluedollarcnt               167851\n",
       "assessmentyear                  167851\n",
       "landtaxvaluedollarcnt           167851\n",
       "taxamount                       167851\n",
       "taxdelinquencyflag              167851\n",
       "taxdelinquencyyear                4683\n",
       "logerror                        167851\n",
       "transactiondate                 167851\n",
       "setyear                         167851\n",
       "pooltype                        167851\n",
       "zipcode                         167851\n",
       "dtype: int64"
      ]
     },
     "execution_count": 8,
     "metadata": {},
     "output_type": "execute_result"
    }
   ],
   "source": [
    "df.count()"
   ]
  },
  {
   "cell_type": "markdown",
   "metadata": {},
   "source": [
    "Variables in the Cleaned Data:\n",
    "\n",
    "Categorical X:\n",
    "\n",
    "<div style=\"-webkit-column-count: 2; -moz-column-count: 2; column-count: 2; -webkit-column-rule: 1px dotted #e0e0e0; -moz-column-rule: 1px dotted #e0e0e0; column-rule: 1px dotted #e0e0e0;\">\n",
    "    <div style=\"display: inline-block;\">\n",
    "        <ul>\n",
    "         <li>airconditioningtypeid</li>\n",
    "         <li>fips</li>\n",
    "         <li>hashottuborspa</li>\n",
    "         <li>heatingorsystemtypeid</li>\n",
    "         <li>propertycountylandusecode</li>\n",
    "         <li>propertylandusetypeid</li>\n",
    "         <li>rawcensustractandblock</li>\n",
    "        </ul>\n",
    "    </div>\n",
    "    <div style=\"display: inline-block;\">\n",
    "        <ul>\n",
    "        <li>regionidcity</li>\n",
    "        <li>fireplaceflag</li>\n",
    "        <li>taxdelinquencyflag</li>\n",
    "        <li>setyear</li>\n",
    "        <li>pooltype</li>\n",
    "        <li>zipcode</li>\n",
    "        </ul>\n",
    "    </div>\n",
    "</div>\n",
    "\n",
    "\n",
    "Numerical X:\n",
    "<div style=\"-webkit-column-count: 2; -moz-column-count: 2; column-count: 2; -webkit-column-rule: 1px dotted #e0e0e0; -moz-column-rule: 1px dotted #e0e0e0; column-rule: 1px dotted #e0e0e0;\">\n",
    "    <div style=\"display: inline-block;\">\n",
    "        <ul>\n",
    "        </ul>\n",
    "    </div>\n",
    "    <div style=\"display: inline-block;\">\n",
    "* bedroomcnt                      \n",
    "* buildingqualitytypeid           \n",
    "* calculatedbathnbr               \n",
    "* calculatedfinishedsquarefeet    \n",
    "* fireplacecnt                    \n",
    "* fullbathcnt                     \n",
    "* garagecarcnt                    \n",
    "* garagetotalsqft                 \n",
    "* latitude                        \n",
    "* longitude                       \n",
    "* lotsizesquarefeet               \n",
    "* poolcnt                                   \n",
    "* roomcnt                         \n",
    "* unitcnt                              \n",
    "* yearbuilt                       \n",
    "* numberofstories                             \n",
    "* structuretaxvaluedollarcnt      \n",
    "* taxvaluedollarcnt               \n",
    "* assessmentyear                  \n",
    "* landtaxvaluedollarcnt           \n",
    "* taxamount                       \n",
    "* taxdelinquencyyear                       \n",
    "* transactiondate                 \n",
    "                        \n",
    "Y:\n",
    "* logerror"
   ]
  },
  {
   "cell_type": "code",
   "execution_count": 9,
   "metadata": {},
   "outputs": [
    {
     "data": {
      "text/plain": [
       "5.0     35902\n",
       "6.0     31748\n",
       "4.0     26622\n",
       "7.0     21179\n",
       "3.0     12523\n",
       "8.0     12033\n",
       "2.0      5429\n",
       "9.0      5237\n",
       "5.5      4154\n",
       "10.0     2382\n",
       "4.5      1954\n",
       "6.5      1513\n",
       "11.0      979\n",
       "12.0      716\n",
       "7.5       653\n",
       "8.5       602\n",
       "9.5       437\n",
       "1.0       431\n",
       "3.5       348\n",
       "13.0      245\n",
       "10.5      237\n",
       "14.0      175\n",
       "2.5       144\n",
       "16.0      135\n",
       "15.0      102\n",
       "11.5       59\n",
       "12.5       43\n",
       "17.0       43\n",
       "18.0       37\n",
       "20.0       27\n",
       "19.0       15\n",
       "13.5        9\n",
       "14.5        3\n",
       "21.0        3\n",
       "22.0        3\n",
       "26.0        1\n",
       "24.0        1\n",
       "15.5        1\n",
       "32.0        1\n",
       "23.0        1\n",
       "Name: roomcnt, dtype: int64"
      ]
     },
     "execution_count": 9,
     "metadata": {},
     "output_type": "execute_result"
    }
   ],
   "source": [
    "df['roomcnt'].value_counts()"
   ]
  },
  {
   "cell_type": "code",
   "execution_count": 10,
   "metadata": {},
   "outputs": [
    {
     "data": {
      "text/plain": [
       "True"
      ]
     },
     "execution_count": 10,
     "metadata": {},
     "output_type": "execute_result"
    }
   ],
   "source": [
    "df['roomcnt'].isnull().any()"
   ]
  },
  {
   "cell_type": "code",
   "execution_count": null,
   "metadata": {
    "collapsed": true
   },
   "outputs": [],
   "source": []
  }
 ],
 "metadata": {
  "kernelspec": {
   "display_name": "Python 3",
   "language": "python",
   "name": "python3"
  },
  "language_info": {
   "codemirror_mode": {
    "name": "ipython",
    "version": 3
   },
   "file_extension": ".py",
   "mimetype": "text/x-python",
   "name": "python",
   "nbconvert_exporter": "python",
   "pygments_lexer": "ipython3",
   "version": "3.6.2"
  }
 },
 "nbformat": 4,
 "nbformat_minor": 2
}
