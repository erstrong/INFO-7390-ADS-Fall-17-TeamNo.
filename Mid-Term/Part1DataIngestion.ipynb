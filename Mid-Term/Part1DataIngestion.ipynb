{
 "cells": [
  {
   "cell_type": "markdown",
   "metadata": {},
   "source": [
    "# Part 1 - Data Ingestion, EDA, Wrangling\n",
    "\n",
    "The data:\n",
    "\n",
    "* properties_2017.csv is a sample of all properties from 2017 listed on Zillow through Sept\n",
    "* train_2017.csv contains dates, propertyids, and logerror for each transaction in 2017 through Sept\n",
    "* The same files are available for 2016 (entire year)\n",
    "* Not all properties have transactions\n",
    "* logerror=log(Zestimate)−log(SalePrice)\n"
   ]
  },
  {
   "cell_type": "code",
   "execution_count": 3,
   "metadata": {
    "collapsed": true
   },
   "outputs": [],
   "source": [
    "import csv\n",
    "import pandas as pd\n",
    "import numpy as np"
   ]
  },
  {
   "cell_type": "markdown",
   "metadata": {},
   "source": [
    "### Ingest Data"
   ]
  },
  {
   "cell_type": "markdown",
   "metadata": {},
   "source": [
    "First import the properties file for 2017"
   ]
  },
  {
   "cell_type": "code",
   "execution_count": 131,
   "metadata": {},
   "outputs": [
    {
     "data": {
      "text/html": [
       "<div>\n",
       "<style>\n",
       "    .dataframe thead tr:only-child th {\n",
       "        text-align: right;\n",
       "    }\n",
       "\n",
       "    .dataframe thead th {\n",
       "        text-align: left;\n",
       "    }\n",
       "\n",
       "    .dataframe tbody tr th {\n",
       "        vertical-align: top;\n",
       "    }\n",
       "</style>\n",
       "<table border=\"1\" class=\"dataframe\">\n",
       "  <thead>\n",
       "    <tr style=\"text-align: right;\">\n",
       "      <th></th>\n",
       "      <th>parcelid</th>\n",
       "      <th>airconditioningtypeid</th>\n",
       "      <th>architecturalstyletypeid</th>\n",
       "      <th>basementsqft</th>\n",
       "      <th>bathroomcnt</th>\n",
       "      <th>bedroomcnt</th>\n",
       "      <th>buildingclasstypeid</th>\n",
       "      <th>buildingqualitytypeid</th>\n",
       "      <th>calculatedbathnbr</th>\n",
       "      <th>decktypeid</th>\n",
       "      <th>...</th>\n",
       "      <th>numberofstories</th>\n",
       "      <th>fireplaceflag</th>\n",
       "      <th>structuretaxvaluedollarcnt</th>\n",
       "      <th>taxvaluedollarcnt</th>\n",
       "      <th>assessmentyear</th>\n",
       "      <th>landtaxvaluedollarcnt</th>\n",
       "      <th>taxamount</th>\n",
       "      <th>taxdelinquencyflag</th>\n",
       "      <th>taxdelinquencyyear</th>\n",
       "      <th>censustractandblock</th>\n",
       "    </tr>\n",
       "  </thead>\n",
       "  <tbody>\n",
       "    <tr>\n",
       "      <th>0</th>\n",
       "      <td>10754147</td>\n",
       "      <td>NaN</td>\n",
       "      <td>NaN</td>\n",
       "      <td>NaN</td>\n",
       "      <td>0.0</td>\n",
       "      <td>0.0</td>\n",
       "      <td>NaN</td>\n",
       "      <td>NaN</td>\n",
       "      <td>NaN</td>\n",
       "      <td>NaN</td>\n",
       "      <td>...</td>\n",
       "      <td>NaN</td>\n",
       "      <td>NaN</td>\n",
       "      <td>NaN</td>\n",
       "      <td>9.0</td>\n",
       "      <td>2016.0</td>\n",
       "      <td>9.0</td>\n",
       "      <td>NaN</td>\n",
       "      <td>NaN</td>\n",
       "      <td>NaN</td>\n",
       "      <td>NaN</td>\n",
       "    </tr>\n",
       "    <tr>\n",
       "      <th>1</th>\n",
       "      <td>10759547</td>\n",
       "      <td>NaN</td>\n",
       "      <td>NaN</td>\n",
       "      <td>NaN</td>\n",
       "      <td>0.0</td>\n",
       "      <td>0.0</td>\n",
       "      <td>NaN</td>\n",
       "      <td>NaN</td>\n",
       "      <td>NaN</td>\n",
       "      <td>NaN</td>\n",
       "      <td>...</td>\n",
       "      <td>NaN</td>\n",
       "      <td>NaN</td>\n",
       "      <td>NaN</td>\n",
       "      <td>27516.0</td>\n",
       "      <td>2015.0</td>\n",
       "      <td>27516.0</td>\n",
       "      <td>NaN</td>\n",
       "      <td>NaN</td>\n",
       "      <td>NaN</td>\n",
       "      <td>NaN</td>\n",
       "    </tr>\n",
       "    <tr>\n",
       "      <th>2</th>\n",
       "      <td>10843547</td>\n",
       "      <td>NaN</td>\n",
       "      <td>NaN</td>\n",
       "      <td>NaN</td>\n",
       "      <td>0.0</td>\n",
       "      <td>0.0</td>\n",
       "      <td>5.0</td>\n",
       "      <td>NaN</td>\n",
       "      <td>NaN</td>\n",
       "      <td>NaN</td>\n",
       "      <td>...</td>\n",
       "      <td>1.0</td>\n",
       "      <td>NaN</td>\n",
       "      <td>660680.0</td>\n",
       "      <td>1434941.0</td>\n",
       "      <td>2016.0</td>\n",
       "      <td>774261.0</td>\n",
       "      <td>20800.37</td>\n",
       "      <td>NaN</td>\n",
       "      <td>NaN</td>\n",
       "      <td>NaN</td>\n",
       "    </tr>\n",
       "    <tr>\n",
       "      <th>3</th>\n",
       "      <td>10859147</td>\n",
       "      <td>NaN</td>\n",
       "      <td>NaN</td>\n",
       "      <td>NaN</td>\n",
       "      <td>0.0</td>\n",
       "      <td>0.0</td>\n",
       "      <td>3.0</td>\n",
       "      <td>6.0</td>\n",
       "      <td>NaN</td>\n",
       "      <td>NaN</td>\n",
       "      <td>...</td>\n",
       "      <td>1.0</td>\n",
       "      <td>NaN</td>\n",
       "      <td>580059.0</td>\n",
       "      <td>1174475.0</td>\n",
       "      <td>2016.0</td>\n",
       "      <td>594416.0</td>\n",
       "      <td>14557.57</td>\n",
       "      <td>NaN</td>\n",
       "      <td>NaN</td>\n",
       "      <td>NaN</td>\n",
       "    </tr>\n",
       "    <tr>\n",
       "      <th>4</th>\n",
       "      <td>10879947</td>\n",
       "      <td>NaN</td>\n",
       "      <td>NaN</td>\n",
       "      <td>NaN</td>\n",
       "      <td>0.0</td>\n",
       "      <td>0.0</td>\n",
       "      <td>4.0</td>\n",
       "      <td>NaN</td>\n",
       "      <td>NaN</td>\n",
       "      <td>NaN</td>\n",
       "      <td>...</td>\n",
       "      <td>1.0</td>\n",
       "      <td>NaN</td>\n",
       "      <td>196751.0</td>\n",
       "      <td>440101.0</td>\n",
       "      <td>2016.0</td>\n",
       "      <td>243350.0</td>\n",
       "      <td>5725.17</td>\n",
       "      <td>NaN</td>\n",
       "      <td>NaN</td>\n",
       "      <td>NaN</td>\n",
       "    </tr>\n",
       "  </tbody>\n",
       "</table>\n",
       "<p>5 rows × 58 columns</p>\n",
       "</div>"
      ],
      "text/plain": [
       "   parcelid  airconditioningtypeid  architecturalstyletypeid  basementsqft  \\\n",
       "0  10754147                    NaN                       NaN           NaN   \n",
       "1  10759547                    NaN                       NaN           NaN   \n",
       "2  10843547                    NaN                       NaN           NaN   \n",
       "3  10859147                    NaN                       NaN           NaN   \n",
       "4  10879947                    NaN                       NaN           NaN   \n",
       "\n",
       "   bathroomcnt  bedroomcnt  buildingclasstypeid  buildingqualitytypeid  \\\n",
       "0          0.0         0.0                  NaN                    NaN   \n",
       "1          0.0         0.0                  NaN                    NaN   \n",
       "2          0.0         0.0                  5.0                    NaN   \n",
       "3          0.0         0.0                  3.0                    6.0   \n",
       "4          0.0         0.0                  4.0                    NaN   \n",
       "\n",
       "   calculatedbathnbr  decktypeid         ...           numberofstories  \\\n",
       "0                NaN         NaN         ...                       NaN   \n",
       "1                NaN         NaN         ...                       NaN   \n",
       "2                NaN         NaN         ...                       1.0   \n",
       "3                NaN         NaN         ...                       1.0   \n",
       "4                NaN         NaN         ...                       1.0   \n",
       "\n",
       "   fireplaceflag  structuretaxvaluedollarcnt  taxvaluedollarcnt  \\\n",
       "0            NaN                         NaN                9.0   \n",
       "1            NaN                         NaN            27516.0   \n",
       "2            NaN                    660680.0          1434941.0   \n",
       "3            NaN                    580059.0          1174475.0   \n",
       "4            NaN                    196751.0           440101.0   \n",
       "\n",
       "   assessmentyear  landtaxvaluedollarcnt  taxamount  taxdelinquencyflag  \\\n",
       "0          2016.0                    9.0        NaN                 NaN   \n",
       "1          2015.0                27516.0        NaN                 NaN   \n",
       "2          2016.0               774261.0   20800.37                 NaN   \n",
       "3          2016.0               594416.0   14557.57                 NaN   \n",
       "4          2016.0               243350.0    5725.17                 NaN   \n",
       "\n",
       "   taxdelinquencyyear  censustractandblock  \n",
       "0                 NaN                  NaN  \n",
       "1                 NaN                  NaN  \n",
       "2                 NaN                  NaN  \n",
       "3                 NaN                  NaN  \n",
       "4                 NaN                  NaN  \n",
       "\n",
       "[5 rows x 58 columns]"
      ]
     },
     "execution_count": 131,
     "metadata": {},
     "output_type": "execute_result"
    }
   ],
   "source": [
    "df = pd.read_csv('properties_2017.csv', low_memory=False)\n",
    "df.head()"
   ]
  },
  {
   "cell_type": "markdown",
   "metadata": {},
   "source": [
    "Then import the transaction data"
   ]
  },
  {
   "cell_type": "code",
   "execution_count": 130,
   "metadata": {},
   "outputs": [
    {
     "data": {
      "text/html": [
       "<div>\n",
       "<style>\n",
       "    .dataframe thead tr:only-child th {\n",
       "        text-align: right;\n",
       "    }\n",
       "\n",
       "    .dataframe thead th {\n",
       "        text-align: left;\n",
       "    }\n",
       "\n",
       "    .dataframe tbody tr th {\n",
       "        vertical-align: top;\n",
       "    }\n",
       "</style>\n",
       "<table border=\"1\" class=\"dataframe\">\n",
       "  <thead>\n",
       "    <tr style=\"text-align: right;\">\n",
       "      <th></th>\n",
       "      <th>parcelid</th>\n",
       "      <th>airconditioningtypeid</th>\n",
       "      <th>architecturalstyletypeid</th>\n",
       "      <th>basementsqft</th>\n",
       "      <th>bathroomcnt</th>\n",
       "      <th>bedroomcnt</th>\n",
       "      <th>buildingclasstypeid</th>\n",
       "      <th>buildingqualitytypeid</th>\n",
       "      <th>calculatedbathnbr</th>\n",
       "      <th>decktypeid</th>\n",
       "      <th>...</th>\n",
       "      <th>numberofstories</th>\n",
       "      <th>fireplaceflag</th>\n",
       "      <th>structuretaxvaluedollarcnt</th>\n",
       "      <th>taxvaluedollarcnt</th>\n",
       "      <th>assessmentyear</th>\n",
       "      <th>landtaxvaluedollarcnt</th>\n",
       "      <th>taxamount</th>\n",
       "      <th>taxdelinquencyflag</th>\n",
       "      <th>taxdelinquencyyear</th>\n",
       "      <th>censustractandblock</th>\n",
       "    </tr>\n",
       "  </thead>\n",
       "  <tbody>\n",
       "    <tr>\n",
       "      <th>0</th>\n",
       "      <td>10754147</td>\n",
       "      <td>NaN</td>\n",
       "      <td>NaN</td>\n",
       "      <td>NaN</td>\n",
       "      <td>0.0</td>\n",
       "      <td>0.0</td>\n",
       "      <td>NaN</td>\n",
       "      <td>NaN</td>\n",
       "      <td>NaN</td>\n",
       "      <td>NaN</td>\n",
       "      <td>...</td>\n",
       "      <td>NaN</td>\n",
       "      <td>NaN</td>\n",
       "      <td>NaN</td>\n",
       "      <td>9.0</td>\n",
       "      <td>2016.0</td>\n",
       "      <td>9.0</td>\n",
       "      <td>NaN</td>\n",
       "      <td>NaN</td>\n",
       "      <td>NaN</td>\n",
       "      <td>NaN</td>\n",
       "    </tr>\n",
       "    <tr>\n",
       "      <th>1</th>\n",
       "      <td>10759547</td>\n",
       "      <td>NaN</td>\n",
       "      <td>NaN</td>\n",
       "      <td>NaN</td>\n",
       "      <td>0.0</td>\n",
       "      <td>0.0</td>\n",
       "      <td>NaN</td>\n",
       "      <td>NaN</td>\n",
       "      <td>NaN</td>\n",
       "      <td>NaN</td>\n",
       "      <td>...</td>\n",
       "      <td>NaN</td>\n",
       "      <td>NaN</td>\n",
       "      <td>NaN</td>\n",
       "      <td>27516.0</td>\n",
       "      <td>2015.0</td>\n",
       "      <td>27516.0</td>\n",
       "      <td>NaN</td>\n",
       "      <td>NaN</td>\n",
       "      <td>NaN</td>\n",
       "      <td>NaN</td>\n",
       "    </tr>\n",
       "    <tr>\n",
       "      <th>2</th>\n",
       "      <td>10843547</td>\n",
       "      <td>NaN</td>\n",
       "      <td>NaN</td>\n",
       "      <td>NaN</td>\n",
       "      <td>0.0</td>\n",
       "      <td>0.0</td>\n",
       "      <td>5.0</td>\n",
       "      <td>NaN</td>\n",
       "      <td>NaN</td>\n",
       "      <td>NaN</td>\n",
       "      <td>...</td>\n",
       "      <td>1.0</td>\n",
       "      <td>NaN</td>\n",
       "      <td>660680.0</td>\n",
       "      <td>1434941.0</td>\n",
       "      <td>2016.0</td>\n",
       "      <td>774261.0</td>\n",
       "      <td>20800.37</td>\n",
       "      <td>NaN</td>\n",
       "      <td>NaN</td>\n",
       "      <td>NaN</td>\n",
       "    </tr>\n",
       "    <tr>\n",
       "      <th>3</th>\n",
       "      <td>10859147</td>\n",
       "      <td>NaN</td>\n",
       "      <td>NaN</td>\n",
       "      <td>NaN</td>\n",
       "      <td>0.0</td>\n",
       "      <td>0.0</td>\n",
       "      <td>3.0</td>\n",
       "      <td>6.0</td>\n",
       "      <td>NaN</td>\n",
       "      <td>NaN</td>\n",
       "      <td>...</td>\n",
       "      <td>1.0</td>\n",
       "      <td>NaN</td>\n",
       "      <td>580059.0</td>\n",
       "      <td>1174475.0</td>\n",
       "      <td>2016.0</td>\n",
       "      <td>594416.0</td>\n",
       "      <td>14557.57</td>\n",
       "      <td>NaN</td>\n",
       "      <td>NaN</td>\n",
       "      <td>NaN</td>\n",
       "    </tr>\n",
       "    <tr>\n",
       "      <th>4</th>\n",
       "      <td>10879947</td>\n",
       "      <td>NaN</td>\n",
       "      <td>NaN</td>\n",
       "      <td>NaN</td>\n",
       "      <td>0.0</td>\n",
       "      <td>0.0</td>\n",
       "      <td>4.0</td>\n",
       "      <td>NaN</td>\n",
       "      <td>NaN</td>\n",
       "      <td>NaN</td>\n",
       "      <td>...</td>\n",
       "      <td>1.0</td>\n",
       "      <td>NaN</td>\n",
       "      <td>196751.0</td>\n",
       "      <td>440101.0</td>\n",
       "      <td>2016.0</td>\n",
       "      <td>243350.0</td>\n",
       "      <td>5725.17</td>\n",
       "      <td>NaN</td>\n",
       "      <td>NaN</td>\n",
       "      <td>NaN</td>\n",
       "    </tr>\n",
       "  </tbody>\n",
       "</table>\n",
       "<p>5 rows × 58 columns</p>\n",
       "</div>"
      ],
      "text/plain": [
       "   parcelid  airconditioningtypeid  architecturalstyletypeid  basementsqft  \\\n",
       "0  10754147                    NaN                       NaN           NaN   \n",
       "1  10759547                    NaN                       NaN           NaN   \n",
       "2  10843547                    NaN                       NaN           NaN   \n",
       "3  10859147                    NaN                       NaN           NaN   \n",
       "4  10879947                    NaN                       NaN           NaN   \n",
       "\n",
       "   bathroomcnt  bedroomcnt  buildingclasstypeid  buildingqualitytypeid  \\\n",
       "0          0.0         0.0                  NaN                    NaN   \n",
       "1          0.0         0.0                  NaN                    NaN   \n",
       "2          0.0         0.0                  5.0                    NaN   \n",
       "3          0.0         0.0                  3.0                    6.0   \n",
       "4          0.0         0.0                  4.0                    NaN   \n",
       "\n",
       "   calculatedbathnbr  decktypeid         ...           numberofstories  \\\n",
       "0                NaN         NaN         ...                       NaN   \n",
       "1                NaN         NaN         ...                       NaN   \n",
       "2                NaN         NaN         ...                       1.0   \n",
       "3                NaN         NaN         ...                       1.0   \n",
       "4                NaN         NaN         ...                       1.0   \n",
       "\n",
       "   fireplaceflag  structuretaxvaluedollarcnt  taxvaluedollarcnt  \\\n",
       "0            NaN                         NaN                9.0   \n",
       "1            NaN                         NaN            27516.0   \n",
       "2            NaN                    660680.0          1434941.0   \n",
       "3            NaN                    580059.0          1174475.0   \n",
       "4            NaN                    196751.0           440101.0   \n",
       "\n",
       "   assessmentyear  landtaxvaluedollarcnt  taxamount  taxdelinquencyflag  \\\n",
       "0          2016.0                    9.0        NaN                 NaN   \n",
       "1          2015.0                27516.0        NaN                 NaN   \n",
       "2          2016.0               774261.0   20800.37                 NaN   \n",
       "3          2016.0               594416.0   14557.57                 NaN   \n",
       "4          2016.0               243350.0    5725.17                 NaN   \n",
       "\n",
       "   taxdelinquencyyear  censustractandblock  \n",
       "0                 NaN                  NaN  \n",
       "1                 NaN                  NaN  \n",
       "2                 NaN                  NaN  \n",
       "3                 NaN                  NaN  \n",
       "4                 NaN                  NaN  \n",
       "\n",
       "[5 rows x 58 columns]"
      ]
     },
     "execution_count": 130,
     "metadata": {},
     "output_type": "execute_result"
    }
   ],
   "source": [
    "df_transactions = pd.read_csv('train_2017.csv', low_memory=False)\n",
    "df.head()"
   ]
  },
  {
   "cell_type": "markdown",
   "metadata": {},
   "source": [
    "Next match the two data sets on ParcelID, using a left join"
   ]
  },
  {
   "cell_type": "code",
   "execution_count": 132,
   "metadata": {},
   "outputs": [
    {
     "data": {
      "text/html": [
       "<div>\n",
       "<style>\n",
       "    .dataframe thead tr:only-child th {\n",
       "        text-align: right;\n",
       "    }\n",
       "\n",
       "    .dataframe thead th {\n",
       "        text-align: left;\n",
       "    }\n",
       "\n",
       "    .dataframe tbody tr th {\n",
       "        vertical-align: top;\n",
       "    }\n",
       "</style>\n",
       "<table border=\"1\" class=\"dataframe\">\n",
       "  <thead>\n",
       "    <tr style=\"text-align: right;\">\n",
       "      <th></th>\n",
       "      <th>parcelid</th>\n",
       "      <th>airconditioningtypeid</th>\n",
       "      <th>architecturalstyletypeid</th>\n",
       "      <th>basementsqft</th>\n",
       "      <th>bathroomcnt</th>\n",
       "      <th>bedroomcnt</th>\n",
       "      <th>buildingclasstypeid</th>\n",
       "      <th>buildingqualitytypeid</th>\n",
       "      <th>calculatedbathnbr</th>\n",
       "      <th>decktypeid</th>\n",
       "      <th>...</th>\n",
       "      <th>structuretaxvaluedollarcnt</th>\n",
       "      <th>taxvaluedollarcnt</th>\n",
       "      <th>assessmentyear</th>\n",
       "      <th>landtaxvaluedollarcnt</th>\n",
       "      <th>taxamount</th>\n",
       "      <th>taxdelinquencyflag</th>\n",
       "      <th>taxdelinquencyyear</th>\n",
       "      <th>censustractandblock</th>\n",
       "      <th>logerror</th>\n",
       "      <th>transactiondate</th>\n",
       "    </tr>\n",
       "  </thead>\n",
       "  <tbody>\n",
       "    <tr>\n",
       "      <th>0</th>\n",
       "      <td>17054981</td>\n",
       "      <td>NaN</td>\n",
       "      <td>NaN</td>\n",
       "      <td>NaN</td>\n",
       "      <td>5.0</td>\n",
       "      <td>4.0</td>\n",
       "      <td>NaN</td>\n",
       "      <td>NaN</td>\n",
       "      <td>5.0</td>\n",
       "      <td>NaN</td>\n",
       "      <td>...</td>\n",
       "      <td>501928.0</td>\n",
       "      <td>872850.0</td>\n",
       "      <td>2016.0</td>\n",
       "      <td>370922.0</td>\n",
       "      <td>9673.46</td>\n",
       "      <td>NaN</td>\n",
       "      <td>NaN</td>\n",
       "      <td>6.111001e+13</td>\n",
       "      <td>-0.013099</td>\n",
       "      <td>2017-06-15</td>\n",
       "    </tr>\n",
       "    <tr>\n",
       "      <th>1</th>\n",
       "      <td>17055743</td>\n",
       "      <td>NaN</td>\n",
       "      <td>NaN</td>\n",
       "      <td>NaN</td>\n",
       "      <td>2.0</td>\n",
       "      <td>3.0</td>\n",
       "      <td>NaN</td>\n",
       "      <td>NaN</td>\n",
       "      <td>2.0</td>\n",
       "      <td>66.0</td>\n",
       "      <td>...</td>\n",
       "      <td>130845.0</td>\n",
       "      <td>436157.0</td>\n",
       "      <td>2016.0</td>\n",
       "      <td>305312.0</td>\n",
       "      <td>5538.80</td>\n",
       "      <td>NaN</td>\n",
       "      <td>NaN</td>\n",
       "      <td>6.111001e+13</td>\n",
       "      <td>0.073985</td>\n",
       "      <td>2017-07-26</td>\n",
       "    </tr>\n",
       "    <tr>\n",
       "      <th>2</th>\n",
       "      <td>17068109</td>\n",
       "      <td>NaN</td>\n",
       "      <td>NaN</td>\n",
       "      <td>NaN</td>\n",
       "      <td>1.5</td>\n",
       "      <td>3.0</td>\n",
       "      <td>NaN</td>\n",
       "      <td>NaN</td>\n",
       "      <td>1.5</td>\n",
       "      <td>66.0</td>\n",
       "      <td>...</td>\n",
       "      <td>193413.0</td>\n",
       "      <td>286606.0</td>\n",
       "      <td>2016.0</td>\n",
       "      <td>93193.0</td>\n",
       "      <td>2987.36</td>\n",
       "      <td>NaN</td>\n",
       "      <td>NaN</td>\n",
       "      <td>6.111001e+13</td>\n",
       "      <td>0.071886</td>\n",
       "      <td>2017-07-28</td>\n",
       "    </tr>\n",
       "    <tr>\n",
       "      <th>3</th>\n",
       "      <td>17073952</td>\n",
       "      <td>NaN</td>\n",
       "      <td>NaN</td>\n",
       "      <td>NaN</td>\n",
       "      <td>2.0</td>\n",
       "      <td>2.0</td>\n",
       "      <td>NaN</td>\n",
       "      <td>NaN</td>\n",
       "      <td>2.0</td>\n",
       "      <td>NaN</td>\n",
       "      <td>...</td>\n",
       "      <td>90357.0</td>\n",
       "      <td>258888.0</td>\n",
       "      <td>2016.0</td>\n",
       "      <td>168531.0</td>\n",
       "      <td>2706.24</td>\n",
       "      <td>NaN</td>\n",
       "      <td>NaN</td>\n",
       "      <td>6.111002e+13</td>\n",
       "      <td>0.305680</td>\n",
       "      <td>2017-06-02</td>\n",
       "    </tr>\n",
       "    <tr>\n",
       "      <th>4</th>\n",
       "      <td>17078502</td>\n",
       "      <td>NaN</td>\n",
       "      <td>NaN</td>\n",
       "      <td>NaN</td>\n",
       "      <td>1.0</td>\n",
       "      <td>2.0</td>\n",
       "      <td>NaN</td>\n",
       "      <td>NaN</td>\n",
       "      <td>1.0</td>\n",
       "      <td>NaN</td>\n",
       "      <td>...</td>\n",
       "      <td>148752.0</td>\n",
       "      <td>592930.0</td>\n",
       "      <td>2016.0</td>\n",
       "      <td>444178.0</td>\n",
       "      <td>6220.70</td>\n",
       "      <td>NaN</td>\n",
       "      <td>NaN</td>\n",
       "      <td>6.111002e+13</td>\n",
       "      <td>-0.073787</td>\n",
       "      <td>2017-07-07</td>\n",
       "    </tr>\n",
       "  </tbody>\n",
       "</table>\n",
       "<p>5 rows × 60 columns</p>\n",
       "</div>"
      ],
      "text/plain": [
       "   parcelid  airconditioningtypeid  architecturalstyletypeid  basementsqft  \\\n",
       "0  17054981                    NaN                       NaN           NaN   \n",
       "1  17055743                    NaN                       NaN           NaN   \n",
       "2  17068109                    NaN                       NaN           NaN   \n",
       "3  17073952                    NaN                       NaN           NaN   \n",
       "4  17078502                    NaN                       NaN           NaN   \n",
       "\n",
       "   bathroomcnt  bedroomcnt  buildingclasstypeid  buildingqualitytypeid  \\\n",
       "0          5.0         4.0                  NaN                    NaN   \n",
       "1          2.0         3.0                  NaN                    NaN   \n",
       "2          1.5         3.0                  NaN                    NaN   \n",
       "3          2.0         2.0                  NaN                    NaN   \n",
       "4          1.0         2.0                  NaN                    NaN   \n",
       "\n",
       "   calculatedbathnbr  decktypeid       ...         structuretaxvaluedollarcnt  \\\n",
       "0                5.0         NaN       ...                           501928.0   \n",
       "1                2.0        66.0       ...                           130845.0   \n",
       "2                1.5        66.0       ...                           193413.0   \n",
       "3                2.0         NaN       ...                            90357.0   \n",
       "4                1.0         NaN       ...                           148752.0   \n",
       "\n",
       "   taxvaluedollarcnt  assessmentyear  landtaxvaluedollarcnt  taxamount  \\\n",
       "0           872850.0          2016.0               370922.0    9673.46   \n",
       "1           436157.0          2016.0               305312.0    5538.80   \n",
       "2           286606.0          2016.0                93193.0    2987.36   \n",
       "3           258888.0          2016.0               168531.0    2706.24   \n",
       "4           592930.0          2016.0               444178.0    6220.70   \n",
       "\n",
       "   taxdelinquencyflag  taxdelinquencyyear  censustractandblock  logerror  \\\n",
       "0                 NaN                 NaN         6.111001e+13 -0.013099   \n",
       "1                 NaN                 NaN         6.111001e+13  0.073985   \n",
       "2                 NaN                 NaN         6.111001e+13  0.071886   \n",
       "3                 NaN                 NaN         6.111002e+13  0.305680   \n",
       "4                 NaN                 NaN         6.111002e+13 -0.073787   \n",
       "\n",
       "   transactiondate  \n",
       "0       2017-06-15  \n",
       "1       2017-07-26  \n",
       "2       2017-07-28  \n",
       "3       2017-06-02  \n",
       "4       2017-07-07  \n",
       "\n",
       "[5 rows x 60 columns]"
      ]
     },
     "execution_count": 132,
     "metadata": {},
     "output_type": "execute_result"
    }
   ],
   "source": [
    "df_merged = pd.merge(df, df_transactions, on='parcelid', how='right')\n",
    "df_merged.head()"
   ]
  },
  {
   "cell_type": "code",
   "execution_count": null,
   "metadata": {
    "collapsed": true
   },
   "outputs": [],
   "source": [
    "df_merged.reset_index()"
   ]
  },
  {
   "cell_type": "markdown",
   "metadata": {},
   "source": [
    "### Check NAs and Data Types"
   ]
  },
  {
   "cell_type": "code",
   "execution_count": null,
   "metadata": {
    "collapsed": true
   },
   "outputs": [],
   "source": [
    "df_merged.dtypes"
   ]
  },
  {
   "cell_type": "code",
   "execution_count": null,
   "metadata": {
    "collapsed": true
   },
   "outputs": [],
   "source": [
    "df_merged.isnull().any()"
   ]
  },
  {
   "cell_type": "markdown",
   "metadata": {},
   "source": [
    "Almost all columns have NAs, so look at how many data points each column has"
   ]
  },
  {
   "cell_type": "code",
   "execution_count": null,
   "metadata": {
    "collapsed": true
   },
   "outputs": [],
   "source": [
    "df_merged.count()"
   ]
  },
  {
   "cell_type": "markdown",
   "metadata": {},
   "source": [
    "Calculate the percent missing data"
   ]
  },
  {
   "cell_type": "code",
   "execution_count": 24,
   "metadata": {
    "collapsed": true
   },
   "outputs": [],
   "source": [
    "missing_percents = (len(df_merged.index) - df_merged.count())/len(df_merged.index)"
   ]
  },
  {
   "cell_type": "code",
   "execution_count": 25,
   "metadata": {
    "collapsed": true
   },
   "outputs": [],
   "source": [
    "missing_percents = missing_percents.sort_values()"
   ]
  },
  {
   "cell_type": "code",
   "execution_count": 125,
   "metadata": {
    "collapsed": true
   },
   "outputs": [],
   "source": [
    "import matplotlib.pyplot as plt"
   ]
  },
  {
   "cell_type": "code",
   "execution_count": 27,
   "metadata": {},
   "outputs": [
    {
     "data": {
      "image/png": "[encoded data removed]",
      "text/plain": [
       "<matplotlib.figure.Figure at 0x111056668>"
      ]
     },
     "metadata": {},
     "output_type": "display_data"
    }
   ],
   "source": [
    "missing_percents.plot(kind='barh', figsize=(20,30))\n",
    "plt.yticks(size=20)\n",
    "plt.show()"
   ]
  },
  {
   "cell_type": "code",
   "execution_count": 28,
   "metadata": {},
   "outputs": [
    {
     "data": {
      "text/plain": [
       "parcelid                        0.000000\n",
       "assessmentyear                  0.000000\n",
       "roomcnt                         0.000000\n",
       "regionidcounty                  0.000000\n",
       "rawcensustractandblock          0.000000\n",
       "logerror                        0.000000\n",
       "propertylandusetypeid           0.000000\n",
       "propertycountylandusecode       0.000000\n",
       "longitude                       0.000000\n",
       "latitude                        0.000000\n",
       "transactiondate                 0.000000\n",
       "bedroomcnt                      0.000000\n",
       "fips                            0.000000\n",
       "bathroomcnt                     0.000000\n",
       "taxvaluedollarcnt               0.000013\n",
       "landtaxvaluedollarcnt           0.000026\n",
       "taxamount                       0.000064\n",
       "regionidzip                     0.000645\n",
       "structuretaxvaluedollarcnt      0.001482\n",
       "calculatedfinishedsquarefeet    0.002591\n",
       "censustractandblock             0.003184\n",
       "yearbuilt                       0.003480\n",
       "calculatedbathnbr               0.007940\n",
       "fullbathcnt                     0.007940\n",
       "regionidcity                    0.018974\n",
       "finishedsquarefeet12            0.047126\n",
       "lotsizesquarefeet               0.106446\n",
       "unitcnt                         0.346434\n",
       "propertyzoningdesc              0.349360\n",
       "buildingqualitytypeid           0.357958\n",
       "heatingorsystemtypeid           0.361026\n",
       "regionidneighborhood            0.600742\n",
       "garagetotalsqft                 0.671045\n",
       "garagecarcnt                    0.671045\n",
       "airconditioningtypeid           0.677658\n",
       "numberofstories                 0.773147\n",
       "poolcnt                         0.791516\n",
       "fireplacecnt                    0.893154\n",
       "taxdelinquencyflag              0.962619\n",
       "taxdelinquencyyear              0.962619\n",
       "fireplaceflag                   0.997783\n",
       "dtype: float64"
      ]
     },
     "execution_count": 28,
     "metadata": {},
     "output_type": "execute_result"
    }
   ],
   "source": [
    "missing_percents"
   ]
  },
  {
   "cell_type": "markdown",
   "metadata": {},
   "source": [
    "A few of the columns with >80% missing data we will examine more closely to determine if they can be calculated, but for the rest we are dropping them"
   ]
  },
  {
   "cell_type": "code",
   "execution_count": 116,
   "metadata": {
    "collapsed": true
   },
   "outputs": [],
   "source": [
    "df_merged.drop('architecturalstyletypeid', axis=1, inplace=True)\n",
    "df_merged.drop('basementsqft', axis=1, inplace=True)\n",
    "df_merged.drop('buildingclasstypeid', axis=1, inplace=True)\n",
    "df_merged.drop('decktypeid', axis=1, inplace=True)\n",
    "df_merged.drop('finishedfloor1squarefeet', axis=1, inplace=True)\n",
    "df_merged.drop('finishedsquarefeet13', axis=1, inplace=True)\n",
    "df_merged.drop('finishedsquarefeet15', axis=1, inplace=True)\n",
    "df_merged.drop('finishedsquarefeet50', axis=1, inplace=True)\n",
    "df_merged.drop('finishedsquarefeet6', axis=1, inplace=True)\n",
    "df_merged.drop('poolsizesum', axis=1, inplace=True)\n",
    "df_merged.drop('pooltypeid10', axis=1, inplace=True)\n",
    "df_merged.drop('pooltypeid2', axis=1, inplace=True)\n",
    "df_merged.drop('pooltypeid7', axis=1, inplace=True)\n",
    "df_merged.drop('storytypeid', axis=1, inplace=True)\n",
    "df_merged.drop('typeconstructiontypeid', axis=1, inplace=True)\n",
    "df_merged.drop('yardbuildingsqft17', axis=1, inplace=True)\n",
    "df_merged.drop('yardbuildingsqft26', axis=1, inplace=True)\n",
    "df_merged.drop('threequarterbathnbr', axis=1, inplace=True)\n",
    "df_merged.drop('hashottuborspa', axis=1, inplace=True)"
   ]
  },
  {
   "cell_type": "markdown",
   "metadata": {},
   "source": [
    "#### Missing Location Information Analysis\n",
    "\n",
    "Fields: \n",
    "* regionidzip\n",
    "* regionidcity\n",
    "* regionidcounty\n",
    "* regionidneighborhood\n",
    "* fips\n",
    "* latitude\n",
    "* longitude"
   ]
  },
  {
   "cell_type": "code",
   "execution_count": null,
   "metadata": {
    "collapsed": true
   },
   "outputs": [],
   "source": [
    "df_merged['regionidzip'].describe()"
   ]
  },
  {
   "cell_type": "markdown",
   "metadata": {},
   "source": [
    "There appears to be an invalid US zip code for the max. Examine all impossible US zip codes"
   ]
  },
  {
   "cell_type": "code",
   "execution_count": null,
   "metadata": {
    "collapsed": true
   },
   "outputs": [],
   "source": [
    "temp = df_merged[df_merged['regionidzip'] > 100000]"
   ]
  },
  {
   "cell_type": "code",
   "execution_count": null,
   "metadata": {
    "collapsed": true
   },
   "outputs": [],
   "source": [
    "temp['regionidzip']"
   ]
  },
  {
   "cell_type": "markdown",
   "metadata": {},
   "source": [
    "All of the entries have the same invalid zip. Look at the county the zip code is associated with."
   ]
  },
  {
   "cell_type": "code",
   "execution_count": null,
   "metadata": {
    "collapsed": true
   },
   "outputs": [],
   "source": [
    "temp['regionidcounty']"
   ]
  },
  {
   "cell_type": "markdown",
   "metadata": {},
   "source": [
    "All have the same county. Get all entries in that county"
   ]
  },
  {
   "cell_type": "code",
   "execution_count": null,
   "metadata": {
    "collapsed": true
   },
   "outputs": [],
   "source": [
    "temp2 = df_merged[df_merged['regionidcounty'] == 3101]\n",
    "temp2.groupby('regionidzip').count()"
   ]
  },
  {
   "cell_type": "code",
   "execution_count": null,
   "metadata": {
    "collapsed": true
   },
   "outputs": [],
   "source": [
    "temp2['regionidzip'].mode()"
   ]
  },
  {
   "cell_type": "markdown",
   "metadata": {},
   "source": [
    "This is not a US zip code. In spot checking, some of these zip codes are from CA, some are from OR, and some don't exist. Look at the other region identifiers:"
   ]
  },
  {
   "cell_type": "code",
   "execution_count": null,
   "metadata": {
    "collapsed": true,
    "scrolled": false
   },
   "outputs": [],
   "source": [
    "df_merged.groupby('regionidcounty').count()"
   ]
  },
  {
   "cell_type": "code",
   "execution_count": null,
   "metadata": {
    "collapsed": true
   },
   "outputs": [],
   "source": [
    "df_merged.groupby('regionidcity').count()"
   ]
  },
  {
   "cell_type": "code",
   "execution_count": null,
   "metadata": {
    "collapsed": true
   },
   "outputs": [],
   "source": [
    "df_merged.groupby('regionidneighborhood').count()"
   ]
  },
  {
   "cell_type": "code",
   "execution_count": null,
   "metadata": {
    "collapsed": true
   },
   "outputs": [],
   "source": [
    "df_merged.groupby('fips').count()"
   ]
  },
  {
   "cell_type": "markdown",
   "metadata": {},
   "source": [
    "FIPS Codes:\n",
    "* 6037: LA County - count is same as county code 3101\n",
    "* 6059: Orange County - count is same as county code 1286\n",
    "* 6111: Ventura County - count is same as county code 2061\n",
    "\n",
    "Verify mapping: "
   ]
  },
  {
   "cell_type": "code",
   "execution_count": null,
   "metadata": {
    "collapsed": true
   },
   "outputs": [],
   "source": [
    "pd.crosstab(df_merged['fips'],df_merged['regionidcounty'])"
   ]
  },
  {
   "cell_type": "markdown",
   "metadata": {},
   "source": [
    "FIPS and RegionIDCounty contain identical information. For feature selection we will use FIPS since it has real-world meaning."
   ]
  },
  {
   "cell_type": "code",
   "execution_count": null,
   "metadata": {
    "collapsed": true
   },
   "outputs": [],
   "source": [
    "pd.crosstab(df_merged['regionidneighborhood'],df_merged['fips'])"
   ]
  },
  {
   "cell_type": "code",
   "execution_count": null,
   "metadata": {
    "collapsed": true
   },
   "outputs": [],
   "source": [
    "pd.crosstab(df_merged['regionidcity'],df_merged['fips'])"
   ]
  },
  {
   "cell_type": "code",
   "execution_count": null,
   "metadata": {
    "collapsed": true
   },
   "outputs": [],
   "source": [
    "pd.crosstab(df_merged['regionidzip'],df_merged['fips'])"
   ]
  },
  {
   "cell_type": "code",
   "execution_count": null,
   "metadata": {
    "collapsed": true
   },
   "outputs": [],
   "source": [
    "nbcorr = df_merged[df_merged['fips']==6111]"
   ]
  },
  {
   "cell_type": "code",
   "execution_count": null,
   "metadata": {
    "collapsed": true
   },
   "outputs": [],
   "source": [
    "pd.crosstab(nbcorr['regionidneighborhood'],nbcorr['regionidzip'])"
   ]
  },
  {
   "cell_type": "markdown",
   "metadata": {},
   "source": [
    "Even though the zip codes are fake, they do correspong to specific collections of neighborhoods, and it thus seems likely that Zillow did a 1:1 substitution when randomizing them. Since neighborhoods are more granular, they will be more useful for analysis."
   ]
  },
  {
   "cell_type": "markdown",
   "metadata": {
    "collapsed": true
   },
   "source": [
    "#### Latitude and Longitude"
   ]
  },
  {
   "cell_type": "code",
   "execution_count": null,
   "metadata": {
    "collapsed": true
   },
   "outputs": [],
   "source": [
    "df_merged['latitude'].describe()"
   ]
  },
  {
   "cell_type": "code",
   "execution_count": null,
   "metadata": {
    "collapsed": true
   },
   "outputs": [],
   "source": [
    "df_merged['longitude'].describe()"
   ]
  },
  {
   "cell_type": "markdown",
   "metadata": {},
   "source": [
    "The values are missing decimal places. Transform each column by dividing by 1000000. Also drop all NAs since we will need to use accurate coordinates in Part 4 and thus cannot fill missing values."
   ]
  },
  {
   "cell_type": "code",
   "execution_count": 115,
   "metadata": {
    "collapsed": true
   },
   "outputs": [],
   "source": [
    "df_merged = df_merged.dropna(subset=['latitude'])\n",
    "df_merged = df_merged.dropna(subset=['longitude'])\n",
    "\n",
    "df_merged['latitude'] = df_merged['latitude'] / 1000000\n",
    "df_merged['longitude'] = df_merged['longitude'] / 1000000"
   ]
  },
  {
   "cell_type": "markdown",
   "metadata": {},
   "source": [
    "#### Missing Values"
   ]
  },
  {
   "cell_type": "code",
   "execution_count": null,
   "metadata": {
    "collapsed": true
   },
   "outputs": [],
   "source": [
    "df_merged['airconditioningtypeid'].value_counts()"
   ]
  },
  {
   "cell_type": "code",
   "execution_count": 117,
   "metadata": {
    "collapsed": true
   },
   "outputs": [],
   "source": [
    "## These numbers are actually categorical, use mode -- or should we use 5:\"None\"?\n",
    "df_merged['airconditioningtypeid'].fillna(5, inplace=True)"
   ]
  },
  {
   "cell_type": "code",
   "execution_count": null,
   "metadata": {
    "collapsed": true
   },
   "outputs": [],
   "source": [
    "df_merged['bathroomcnt'].describe()"
   ]
  },
  {
   "cell_type": "code",
   "execution_count": 38,
   "metadata": {},
   "outputs": [
    {
     "data": {
      "text/plain": [
       "count    76963.000000\n",
       "mean         2.316392\n",
       "std          0.979689\n",
       "min          1.000000\n",
       "25%          2.000000\n",
       "50%          2.000000\n",
       "75%          3.000000\n",
       "max         18.000000\n",
       "Name: calculatedbathnbr, dtype: float64"
      ]
     },
     "execution_count": 38,
     "metadata": {},
     "output_type": "execute_result"
    }
   ],
   "source": [
    "# Has same definition in data dictionary\n",
    "df_merged['calculatedbathnbr'].describe()"
   ]
  },
  {
   "cell_type": "code",
   "execution_count": null,
   "metadata": {
    "collapsed": true
   },
   "outputs": [],
   "source": [
    "df_merged['bathroomcnt'].value_counts()"
   ]
  },
  {
   "cell_type": "code",
   "execution_count": null,
   "metadata": {
    "collapsed": true
   },
   "outputs": [],
   "source": [
    "df_merged['calculatedbathnbr'].value_counts()"
   ]
  },
  {
   "cell_type": "markdown",
   "metadata": {},
   "source": [
    "The data is identical between the two columns, except that calculatedbathnbr has NaN where bathroomcnt has zero. We will keep calculatedbathnbr and replace the NaN with the median since it is unlikely the residences have zero bathrooms."
   ]
  },
  {
   "cell_type": "code",
   "execution_count": 118,
   "metadata": {
    "collapsed": true
   },
   "outputs": [],
   "source": [
    "# Data is skewed so use median\n",
    "df_merged['calculatedbathnbr'].fillna(df_merged['calculatedbathnbr'].median(), inplace=True)\n",
    "df_merged.drop('bathroomcnt', axis=1, inplace=True)"
   ]
  },
  {
   "cell_type": "code",
   "execution_count": 9,
   "metadata": {},
   "outputs": [
    {
     "data": {
      "text/plain": [
       "count    77579.000000\n",
       "mean         3.053223\n",
       "std          1.140480\n",
       "min          0.000000\n",
       "25%          2.000000\n",
       "50%          3.000000\n",
       "75%          4.000000\n",
       "max         16.000000\n",
       "Name: bedroomcnt, dtype: float64"
      ]
     },
     "execution_count": 9,
     "metadata": {},
     "output_type": "execute_result"
    }
   ],
   "source": [
    "df_merged['bedroomcnt'].describe()"
   ]
  },
  {
   "cell_type": "code",
   "execution_count": 10,
   "metadata": {
    "collapsed": true
   },
   "outputs": [],
   "source": [
    "# Data is skewed so use median\n",
    "#df_merged['bedroomcnt'].fillna(df_merged['bedroomcnt'].median(), inplace=True)\n",
    "# There is no missing data in this column"
   ]
  },
  {
   "cell_type": "code",
   "execution_count": null,
   "metadata": {
    "collapsed": true
   },
   "outputs": [],
   "source": [
    "df_merged['buildingqualitytypeid'].describe()"
   ]
  },
  {
   "cell_type": "code",
   "execution_count": 119,
   "metadata": {
    "collapsed": true
   },
   "outputs": [],
   "source": [
    "df_merged['buildingqualitytypeid'].fillna(df_merged['buildingqualitytypeid'].mean(), inplace=True)"
   ]
  },
  {
   "cell_type": "code",
   "execution_count": 12,
   "metadata": {
    "scrolled": true
   },
   "outputs": [
    {
     "data": {
      "text/plain": [
       "count    77378.000000\n",
       "mean      1784.935421\n",
       "std        954.250373\n",
       "min        128.000000\n",
       "25%       1182.000000\n",
       "50%       1542.000000\n",
       "75%       2112.000000\n",
       "max      35640.000000\n",
       "Name: calculatedfinishedsquarefeet, dtype: float64"
      ]
     },
     "execution_count": 12,
     "metadata": {},
     "output_type": "execute_result"
    }
   ],
   "source": [
    "df_merged['calculatedfinishedsquarefeet'].describe()\n"
   ]
  },
  {
   "cell_type": "code",
   "execution_count": 120,
   "metadata": {
    "collapsed": true
   },
   "outputs": [],
   "source": [
    "# Data is skewed so use median\n",
    "df_merged['calculatedfinishedsquarefeet'].fillna(df_merged['calculatedfinishedsquarefeet'].median(), inplace=True)"
   ]
  },
  {
   "cell_type": "code",
   "execution_count": null,
   "metadata": {
    "collapsed": true
   },
   "outputs": [],
   "source": [
    "df_merged['finishedsquarefeet12'].describe()"
   ]
  },
  {
   "cell_type": "markdown",
   "metadata": {},
   "source": [
    "This has the same definited as calculatedfinishedsquarefeet in the data dictionary and more missing values, so we are dropping it"
   ]
  },
  {
   "cell_type": "code",
   "execution_count": 121,
   "metadata": {
    "collapsed": true
   },
   "outputs": [],
   "source": [
    "df_merged.drop('finishedsquarefeet12', axis=1, inplace=True)"
   ]
  },
  {
   "cell_type": "code",
   "execution_count": 13,
   "metadata": {},
   "outputs": [
    {
     "data": {
      "text/plain": [
       "1.0    7018\n",
       "2.0     998\n",
       "3.0     235\n",
       "4.0      35\n",
       "5.0       3\n",
       "Name: fireplacecnt, dtype: int64"
      ]
     },
     "execution_count": 13,
     "metadata": {},
     "output_type": "execute_result"
    }
   ],
   "source": [
    "df_merged['fireplacecnt'].value_counts()"
   ]
  },
  {
   "cell_type": "markdown",
   "metadata": {},
   "source": [
    "This value is at the threshold for the missing data cutoff but since there are no 0s, we can reasonably assume that missing values are 0s. The fireplaceflag is redundant with this column, so we can drop it."
   ]
  },
  {
   "cell_type": "code",
   "execution_count": 122,
   "metadata": {
    "collapsed": true
   },
   "outputs": [],
   "source": [
    "df_merged['fireplacecnt'].fillna(0, inplace=True)\n",
    "df_merged.drop('fireplaceflag', axis=1, inplace=True)\n"
   ]
  },
  {
   "cell_type": "code",
   "execution_count": 15,
   "metadata": {},
   "outputs": [
    {
     "data": {
      "text/plain": [
       "2.0     38190\n",
       "3.0     18394\n",
       "1.0     14357\n",
       "4.0      4053\n",
       "5.0      1245\n",
       "6.0       456\n",
       "7.0       122\n",
       "8.0       111\n",
       "9.0        23\n",
       "10.0        7\n",
       "11.0        3\n",
       "13.0        1\n",
       "18.0        1\n",
       "Name: fullbathcnt, dtype: int64"
      ]
     },
     "execution_count": 15,
     "metadata": {},
     "output_type": "execute_result"
    }
   ],
   "source": [
    "df_merged['fullbathcnt'].value_counts()"
   ]
  },
  {
   "cell_type": "code",
   "execution_count": 123,
   "metadata": {
    "collapsed": true
   },
   "outputs": [],
   "source": [
    "df_merged['fullbathcnt'].fillna(df_merged['fullbathcnt'].median(), inplace=True)"
   ]
  },
  {
   "cell_type": "code",
   "execution_count": 38,
   "metadata": {},
   "outputs": [
    {
     "data": {
      "text/plain": [
       "count    77579.000000\n",
       "mean         0.597146\n",
       "std          0.917212\n",
       "min          0.000000\n",
       "25%          0.000000\n",
       "50%          0.000000\n",
       "75%          2.000000\n",
       "max         14.000000\n",
       "Name: garagecarcnt, dtype: float64"
      ]
     },
     "execution_count": 38,
     "metadata": {},
     "output_type": "execute_result"
    }
   ],
   "source": [
    "df_merged['garagecarcnt'].describe()"
   ]
  },
  {
   "cell_type": "code",
   "execution_count": 18,
   "metadata": {},
   "outputs": [
    {
     "data": {
      "text/plain": [
       "2.0     18638\n",
       "1.0      5691\n",
       "3.0       632\n",
       "4.0       256\n",
       "0.0       230\n",
       "5.0        45\n",
       "6.0        14\n",
       "7.0         4\n",
       "10.0        3\n",
       "9.0         2\n",
       "8.0         2\n",
       "13.0        1\n",
       "11.0        1\n",
       "14.0        1\n",
       "Name: garagecarcnt, dtype: int64"
      ]
     },
     "execution_count": 18,
     "metadata": {},
     "output_type": "execute_result"
    }
   ],
   "source": [
    "df_merged['garagecarcnt'].value_counts()"
   ]
  },
  {
   "cell_type": "code",
   "execution_count": 124,
   "metadata": {
    "collapsed": true
   },
   "outputs": [],
   "source": [
    "df_merged['garagecarcnt'].fillna(0, inplace=True)"
   ]
  },
  {
   "cell_type": "code",
   "execution_count": 65,
   "metadata": {},
   "outputs": [
    {
     "data": {
      "text/plain": [
       "count    25520.000000\n",
       "mean       350.047061\n",
       "std        261.646070\n",
       "min          0.000000\n",
       "25%          0.000000\n",
       "50%        436.000000\n",
       "75%        492.000000\n",
       "max       4251.000000\n",
       "Name: garagetotalsqft, dtype: float64"
      ]
     },
     "execution_count": 65,
     "metadata": {},
     "output_type": "execute_result"
    }
   ],
   "source": [
    "df_merged['garagetotalsqft'].describe()"
   ]
  },
  {
   "cell_type": "code",
   "execution_count": 66,
   "metadata": {},
   "outputs": [
    {
     "data": {
      "text/plain": [
       "0.0     52289\n",
       "2.0     18638\n",
       "1.0      5691\n",
       "3.0       632\n",
       "4.0       256\n",
       "5.0        45\n",
       "6.0        14\n",
       "7.0         4\n",
       "10.0        3\n",
       "9.0         2\n",
       "8.0         2\n",
       "13.0        1\n",
       "11.0        1\n",
       "14.0        1\n",
       "Name: garagecarcnt, dtype: int64"
      ]
     },
     "execution_count": 66,
     "metadata": {},
     "output_type": "execute_result"
    }
   ],
   "source": [
    "df_merged['garagecarcnt'].value_counts()"
   ]
  },
  {
   "cell_type": "code",
   "execution_count": 64,
   "metadata": {},
   "outputs": [
    {
     "data": {
      "text/plain": [
       "garagecarcnt\n",
       "0.0        0.000000\n",
       "1.0      123.950097\n",
       "2.0      396.108112\n",
       "3.0      756.787975\n",
       "4.0      976.546875\n",
       "5.0     1328.644444\n",
       "6.0     1512.428571\n",
       "7.0     1466.500000\n",
       "8.0     2247.000000\n",
       "9.0     2676.000000\n",
       "10.0    2967.333333\n",
       "11.0    3233.000000\n",
       "13.0    3791.000000\n",
       "14.0    4251.000000\n",
       "Name: garagetotalsqft, dtype: float64"
      ]
     },
     "execution_count": 64,
     "metadata": {},
     "output_type": "execute_result"
    }
   ],
   "source": [
    "df_merged.groupby('garagecarcnt')['garagetotalsqft'].mean()"
   ]
  },
  {
   "cell_type": "code",
   "execution_count": 52,
   "metadata": {},
   "outputs": [
    {
     "data": {
      "text/html": [
       "<div>\n",
       "<style>\n",
       "    .dataframe thead tr:only-child th {\n",
       "        text-align: right;\n",
       "    }\n",
       "\n",
       "    .dataframe thead th {\n",
       "        text-align: left;\n",
       "    }\n",
       "\n",
       "    .dataframe tbody tr th {\n",
       "        vertical-align: top;\n",
       "    }\n",
       "</style>\n",
       "<table border=\"1\" class=\"dataframe\">\n",
       "  <thead>\n",
       "    <tr style=\"text-align: right;\">\n",
       "      <th></th>\n",
       "      <th>count</th>\n",
       "      <th>mean</th>\n",
       "      <th>std</th>\n",
       "      <th>min</th>\n",
       "      <th>25%</th>\n",
       "      <th>50%</th>\n",
       "      <th>75%</th>\n",
       "      <th>max</th>\n",
       "    </tr>\n",
       "    <tr>\n",
       "      <th>garagecarcnt</th>\n",
       "      <th></th>\n",
       "      <th></th>\n",
       "      <th></th>\n",
       "      <th></th>\n",
       "      <th></th>\n",
       "      <th></th>\n",
       "      <th></th>\n",
       "      <th></th>\n",
       "    </tr>\n",
       "  </thead>\n",
       "  <tbody>\n",
       "    <tr>\n",
       "      <th>0.0</th>\n",
       "      <td>230.0</td>\n",
       "      <td>0.000000</td>\n",
       "      <td>0.000000</td>\n",
       "      <td>0.0</td>\n",
       "      <td>0.00</td>\n",
       "      <td>0.0</td>\n",
       "      <td>0.00</td>\n",
       "      <td>0.0</td>\n",
       "    </tr>\n",
       "    <tr>\n",
       "      <th>1.0</th>\n",
       "      <td>5691.0</td>\n",
       "      <td>123.950097</td>\n",
       "      <td>166.372195</td>\n",
       "      <td>0.0</td>\n",
       "      <td>0.00</td>\n",
       "      <td>0.0</td>\n",
       "      <td>350.00</td>\n",
       "      <td>399.0</td>\n",
       "    </tr>\n",
       "    <tr>\n",
       "      <th>2.0</th>\n",
       "      <td>18638.0</td>\n",
       "      <td>396.108112</td>\n",
       "      <td>215.264847</td>\n",
       "      <td>0.0</td>\n",
       "      <td>402.00</td>\n",
       "      <td>454.0</td>\n",
       "      <td>506.00</td>\n",
       "      <td>719.0</td>\n",
       "    </tr>\n",
       "    <tr>\n",
       "      <th>3.0</th>\n",
       "      <td>632.0</td>\n",
       "      <td>756.787975</td>\n",
       "      <td>130.339552</td>\n",
       "      <td>0.0</td>\n",
       "      <td>734.00</td>\n",
       "      <td>762.0</td>\n",
       "      <td>814.00</td>\n",
       "      <td>878.0</td>\n",
       "    </tr>\n",
       "    <tr>\n",
       "      <th>4.0</th>\n",
       "      <td>256.0</td>\n",
       "      <td>976.546875</td>\n",
       "      <td>135.048248</td>\n",
       "      <td>0.0</td>\n",
       "      <td>912.00</td>\n",
       "      <td>968.0</td>\n",
       "      <td>1048.00</td>\n",
       "      <td>1196.0</td>\n",
       "    </tr>\n",
       "    <tr>\n",
       "      <th>5.0</th>\n",
       "      <td>45.0</td>\n",
       "      <td>1328.644444</td>\n",
       "      <td>98.059156</td>\n",
       "      <td>1200.0</td>\n",
       "      <td>1245.00</td>\n",
       "      <td>1291.0</td>\n",
       "      <td>1419.00</td>\n",
       "      <td>1514.0</td>\n",
       "    </tr>\n",
       "    <tr>\n",
       "      <th>6.0</th>\n",
       "      <td>14.0</td>\n",
       "      <td>1512.428571</td>\n",
       "      <td>442.265621</td>\n",
       "      <td>0.0</td>\n",
       "      <td>1548.75</td>\n",
       "      <td>1598.5</td>\n",
       "      <td>1671.75</td>\n",
       "      <td>1762.0</td>\n",
       "    </tr>\n",
       "    <tr>\n",
       "      <th>7.0</th>\n",
       "      <td>4.0</td>\n",
       "      <td>1466.500000</td>\n",
       "      <td>980.465366</td>\n",
       "      <td>0.0</td>\n",
       "      <td>1388.25</td>\n",
       "      <td>1925.5</td>\n",
       "      <td>2003.75</td>\n",
       "      <td>2015.0</td>\n",
       "    </tr>\n",
       "    <tr>\n",
       "      <th>8.0</th>\n",
       "      <td>2.0</td>\n",
       "      <td>2247.000000</td>\n",
       "      <td>69.296465</td>\n",
       "      <td>2198.0</td>\n",
       "      <td>2222.50</td>\n",
       "      <td>2247.0</td>\n",
       "      <td>2271.50</td>\n",
       "      <td>2296.0</td>\n",
       "    </tr>\n",
       "    <tr>\n",
       "      <th>9.0</th>\n",
       "      <td>2.0</td>\n",
       "      <td>2676.000000</td>\n",
       "      <td>62.225397</td>\n",
       "      <td>2632.0</td>\n",
       "      <td>2654.00</td>\n",
       "      <td>2676.0</td>\n",
       "      <td>2698.00</td>\n",
       "      <td>2720.0</td>\n",
       "    </tr>\n",
       "    <tr>\n",
       "      <th>10.0</th>\n",
       "      <td>3.0</td>\n",
       "      <td>2967.333333</td>\n",
       "      <td>128.102823</td>\n",
       "      <td>2886.0</td>\n",
       "      <td>2893.50</td>\n",
       "      <td>2901.0</td>\n",
       "      <td>3008.00</td>\n",
       "      <td>3115.0</td>\n",
       "    </tr>\n",
       "    <tr>\n",
       "      <th>11.0</th>\n",
       "      <td>1.0</td>\n",
       "      <td>3233.000000</td>\n",
       "      <td>NaN</td>\n",
       "      <td>3233.0</td>\n",
       "      <td>3233.00</td>\n",
       "      <td>3233.0</td>\n",
       "      <td>3233.00</td>\n",
       "      <td>3233.0</td>\n",
       "    </tr>\n",
       "    <tr>\n",
       "      <th>13.0</th>\n",
       "      <td>1.0</td>\n",
       "      <td>3791.000000</td>\n",
       "      <td>NaN</td>\n",
       "      <td>3791.0</td>\n",
       "      <td>3791.00</td>\n",
       "      <td>3791.0</td>\n",
       "      <td>3791.00</td>\n",
       "      <td>3791.0</td>\n",
       "    </tr>\n",
       "    <tr>\n",
       "      <th>14.0</th>\n",
       "      <td>1.0</td>\n",
       "      <td>4251.000000</td>\n",
       "      <td>NaN</td>\n",
       "      <td>4251.0</td>\n",
       "      <td>4251.00</td>\n",
       "      <td>4251.0</td>\n",
       "      <td>4251.00</td>\n",
       "      <td>4251.0</td>\n",
       "    </tr>\n",
       "  </tbody>\n",
       "</table>\n",
       "</div>"
      ],
      "text/plain": [
       "                count         mean         std     min      25%     50%  \\\n",
       "garagecarcnt                                                              \n",
       "0.0             230.0     0.000000    0.000000     0.0     0.00     0.0   \n",
       "1.0            5691.0   123.950097  166.372195     0.0     0.00     0.0   \n",
       "2.0           18638.0   396.108112  215.264847     0.0   402.00   454.0   \n",
       "3.0             632.0   756.787975  130.339552     0.0   734.00   762.0   \n",
       "4.0             256.0   976.546875  135.048248     0.0   912.00   968.0   \n",
       "5.0              45.0  1328.644444   98.059156  1200.0  1245.00  1291.0   \n",
       "6.0              14.0  1512.428571  442.265621     0.0  1548.75  1598.5   \n",
       "7.0               4.0  1466.500000  980.465366     0.0  1388.25  1925.5   \n",
       "8.0               2.0  2247.000000   69.296465  2198.0  2222.50  2247.0   \n",
       "9.0               2.0  2676.000000   62.225397  2632.0  2654.00  2676.0   \n",
       "10.0              3.0  2967.333333  128.102823  2886.0  2893.50  2901.0   \n",
       "11.0              1.0  3233.000000         NaN  3233.0  3233.00  3233.0   \n",
       "13.0              1.0  3791.000000         NaN  3791.0  3791.00  3791.0   \n",
       "14.0              1.0  4251.000000         NaN  4251.0  4251.00  4251.0   \n",
       "\n",
       "                  75%     max  \n",
       "garagecarcnt                   \n",
       "0.0              0.00     0.0  \n",
       "1.0            350.00   399.0  \n",
       "2.0            506.00   719.0  \n",
       "3.0            814.00   878.0  \n",
       "4.0           1048.00  1196.0  \n",
       "5.0           1419.00  1514.0  \n",
       "6.0           1671.75  1762.0  \n",
       "7.0           2003.75  2015.0  \n",
       "8.0           2271.50  2296.0  \n",
       "9.0           2698.00  2720.0  \n",
       "10.0          3008.00  3115.0  \n",
       "11.0          3233.00  3233.0  \n",
       "13.0          3791.00  3791.0  \n",
       "14.0          4251.00  4251.0  "
      ]
     },
     "execution_count": 52,
     "metadata": {},
     "output_type": "execute_result"
    }
   ],
   "source": [
    "df_merged.groupby('garagecarcnt')['garagetotalsqft'].describe()"
   ]
  },
  {
   "cell_type": "code",
   "execution_count": 79,
   "metadata": {
    "collapsed": true
   },
   "outputs": [],
   "source": [
    "df_merged['garagetotalsqft'].replace(0,np.nan, inplace=True)"
   ]
  },
  {
   "cell_type": "code",
   "execution_count": 80,
   "metadata": {},
   "outputs": [
    {
     "data": {
      "text/html": [
       "<div>\n",
       "<style>\n",
       "    .dataframe thead tr:only-child th {\n",
       "        text-align: right;\n",
       "    }\n",
       "\n",
       "    .dataframe thead th {\n",
       "        text-align: left;\n",
       "    }\n",
       "\n",
       "    .dataframe tbody tr th {\n",
       "        vertical-align: top;\n",
       "    }\n",
       "</style>\n",
       "<table border=\"1\" class=\"dataframe\">\n",
       "  <thead>\n",
       "    <tr style=\"text-align: right;\">\n",
       "      <th></th>\n",
       "      <th>count</th>\n",
       "      <th>mean</th>\n",
       "      <th>std</th>\n",
       "      <th>min</th>\n",
       "      <th>25%</th>\n",
       "      <th>50%</th>\n",
       "      <th>75%</th>\n",
       "      <th>max</th>\n",
       "    </tr>\n",
       "    <tr>\n",
       "      <th>garagecarcnt</th>\n",
       "      <th></th>\n",
       "      <th></th>\n",
       "      <th></th>\n",
       "      <th></th>\n",
       "      <th></th>\n",
       "      <th></th>\n",
       "      <th></th>\n",
       "      <th></th>\n",
       "    </tr>\n",
       "  </thead>\n",
       "  <tbody>\n",
       "    <tr>\n",
       "      <th>0.0</th>\n",
       "      <td>0.0</td>\n",
       "      <td>NaN</td>\n",
       "      <td>NaN</td>\n",
       "      <td>NaN</td>\n",
       "      <td>NaN</td>\n",
       "      <td>NaN</td>\n",
       "      <td>NaN</td>\n",
       "      <td>NaN</td>\n",
       "    </tr>\n",
       "    <tr>\n",
       "      <th>1.0</th>\n",
       "      <td>2101.0</td>\n",
       "      <td>335.744883</td>\n",
       "      <td>62.096282</td>\n",
       "      <td>136.0</td>\n",
       "      <td>300.00</td>\n",
       "      <td>360.0</td>\n",
       "      <td>380.0</td>\n",
       "      <td>399.0</td>\n",
       "    </tr>\n",
       "    <tr>\n",
       "      <th>2.0</th>\n",
       "      <td>14779.0</td>\n",
       "      <td>499.537384</td>\n",
       "      <td>82.275311</td>\n",
       "      <td>150.0</td>\n",
       "      <td>440.00</td>\n",
       "      <td>468.0</td>\n",
       "      <td>560.0</td>\n",
       "      <td>719.0</td>\n",
       "    </tr>\n",
       "    <tr>\n",
       "      <th>3.0</th>\n",
       "      <td>616.0</td>\n",
       "      <td>776.444805</td>\n",
       "      <td>46.293762</td>\n",
       "      <td>720.0</td>\n",
       "      <td>735.75</td>\n",
       "      <td>765.5</td>\n",
       "      <td>815.0</td>\n",
       "      <td>878.0</td>\n",
       "    </tr>\n",
       "    <tr>\n",
       "      <th>4.0</th>\n",
       "      <td>253.0</td>\n",
       "      <td>988.126482</td>\n",
       "      <td>83.472312</td>\n",
       "      <td>880.0</td>\n",
       "      <td>915.00</td>\n",
       "      <td>968.0</td>\n",
       "      <td>1048.0</td>\n",
       "      <td>1196.0</td>\n",
       "    </tr>\n",
       "    <tr>\n",
       "      <th>5.0</th>\n",
       "      <td>45.0</td>\n",
       "      <td>1328.644444</td>\n",
       "      <td>98.059156</td>\n",
       "      <td>1200.0</td>\n",
       "      <td>1245.00</td>\n",
       "      <td>1291.0</td>\n",
       "      <td>1419.0</td>\n",
       "      <td>1514.0</td>\n",
       "    </tr>\n",
       "    <tr>\n",
       "      <th>6.0</th>\n",
       "      <td>13.0</td>\n",
       "      <td>1628.769231</td>\n",
       "      <td>81.336906</td>\n",
       "      <td>1537.0</td>\n",
       "      <td>1557.00</td>\n",
       "      <td>1612.0</td>\n",
       "      <td>1681.0</td>\n",
       "      <td>1762.0</td>\n",
       "    </tr>\n",
       "    <tr>\n",
       "      <th>7.0</th>\n",
       "      <td>3.0</td>\n",
       "      <td>1955.333333</td>\n",
       "      <td>90.666054</td>\n",
       "      <td>1851.0</td>\n",
       "      <td>1925.50</td>\n",
       "      <td>2000.0</td>\n",
       "      <td>2007.5</td>\n",
       "      <td>2015.0</td>\n",
       "    </tr>\n",
       "    <tr>\n",
       "      <th>8.0</th>\n",
       "      <td>2.0</td>\n",
       "      <td>2247.000000</td>\n",
       "      <td>69.296465</td>\n",
       "      <td>2198.0</td>\n",
       "      <td>2222.50</td>\n",
       "      <td>2247.0</td>\n",
       "      <td>2271.5</td>\n",
       "      <td>2296.0</td>\n",
       "    </tr>\n",
       "    <tr>\n",
       "      <th>9.0</th>\n",
       "      <td>2.0</td>\n",
       "      <td>2676.000000</td>\n",
       "      <td>62.225397</td>\n",
       "      <td>2632.0</td>\n",
       "      <td>2654.00</td>\n",
       "      <td>2676.0</td>\n",
       "      <td>2698.0</td>\n",
       "      <td>2720.0</td>\n",
       "    </tr>\n",
       "    <tr>\n",
       "      <th>10.0</th>\n",
       "      <td>3.0</td>\n",
       "      <td>2967.333333</td>\n",
       "      <td>128.102823</td>\n",
       "      <td>2886.0</td>\n",
       "      <td>2893.50</td>\n",
       "      <td>2901.0</td>\n",
       "      <td>3008.0</td>\n",
       "      <td>3115.0</td>\n",
       "    </tr>\n",
       "    <tr>\n",
       "      <th>11.0</th>\n",
       "      <td>1.0</td>\n",
       "      <td>3233.000000</td>\n",
       "      <td>NaN</td>\n",
       "      <td>3233.0</td>\n",
       "      <td>3233.00</td>\n",
       "      <td>3233.0</td>\n",
       "      <td>3233.0</td>\n",
       "      <td>3233.0</td>\n",
       "    </tr>\n",
       "    <tr>\n",
       "      <th>13.0</th>\n",
       "      <td>1.0</td>\n",
       "      <td>3791.000000</td>\n",
       "      <td>NaN</td>\n",
       "      <td>3791.0</td>\n",
       "      <td>3791.00</td>\n",
       "      <td>3791.0</td>\n",
       "      <td>3791.0</td>\n",
       "      <td>3791.0</td>\n",
       "    </tr>\n",
       "    <tr>\n",
       "      <th>14.0</th>\n",
       "      <td>1.0</td>\n",
       "      <td>4251.000000</td>\n",
       "      <td>NaN</td>\n",
       "      <td>4251.0</td>\n",
       "      <td>4251.00</td>\n",
       "      <td>4251.0</td>\n",
       "      <td>4251.0</td>\n",
       "      <td>4251.0</td>\n",
       "    </tr>\n",
       "  </tbody>\n",
       "</table>\n",
       "</div>"
      ],
      "text/plain": [
       "                count         mean         std     min      25%     50%  \\\n",
       "garagecarcnt                                                              \n",
       "0.0               0.0          NaN         NaN     NaN      NaN     NaN   \n",
       "1.0            2101.0   335.744883   62.096282   136.0   300.00   360.0   \n",
       "2.0           14779.0   499.537384   82.275311   150.0   440.00   468.0   \n",
       "3.0             616.0   776.444805   46.293762   720.0   735.75   765.5   \n",
       "4.0             253.0   988.126482   83.472312   880.0   915.00   968.0   \n",
       "5.0              45.0  1328.644444   98.059156  1200.0  1245.00  1291.0   \n",
       "6.0              13.0  1628.769231   81.336906  1537.0  1557.00  1612.0   \n",
       "7.0               3.0  1955.333333   90.666054  1851.0  1925.50  2000.0   \n",
       "8.0               2.0  2247.000000   69.296465  2198.0  2222.50  2247.0   \n",
       "9.0               2.0  2676.000000   62.225397  2632.0  2654.00  2676.0   \n",
       "10.0              3.0  2967.333333  128.102823  2886.0  2893.50  2901.0   \n",
       "11.0              1.0  3233.000000         NaN  3233.0  3233.00  3233.0   \n",
       "13.0              1.0  3791.000000         NaN  3791.0  3791.00  3791.0   \n",
       "14.0              1.0  4251.000000         NaN  4251.0  4251.00  4251.0   \n",
       "\n",
       "                 75%     max  \n",
       "garagecarcnt                  \n",
       "0.0              NaN     NaN  \n",
       "1.0            380.0   399.0  \n",
       "2.0            560.0   719.0  \n",
       "3.0            815.0   878.0  \n",
       "4.0           1048.0  1196.0  \n",
       "5.0           1419.0  1514.0  \n",
       "6.0           1681.0  1762.0  \n",
       "7.0           2007.5  2015.0  \n",
       "8.0           2271.5  2296.0  \n",
       "9.0           2698.0  2720.0  \n",
       "10.0          3008.0  3115.0  \n",
       "11.0          3233.0  3233.0  \n",
       "13.0          3791.0  3791.0  \n",
       "14.0          4251.0  4251.0  "
      ]
     },
     "execution_count": 80,
     "metadata": {},
     "output_type": "execute_result"
    }
   ],
   "source": [
    "df_merged.groupby('garagecarcnt')['garagetotalsqft'].describe()"
   ]
  },
  {
   "cell_type": "code",
   "execution_count": 81,
   "metadata": {
    "collapsed": true
   },
   "outputs": [],
   "source": [
    "df_merged.loc[df_merged['garagecarcnt']>0, 'garagetotalsqft'].fillna(df_merged['garagetotalsqft'].mean(), inplace=True)"
   ]
  },
  {
   "cell_type": "code",
   "execution_count": 82,
   "metadata": {},
   "outputs": [
    {
     "data": {
      "text/html": [
       "<div>\n",
       "<style>\n",
       "    .dataframe thead tr:only-child th {\n",
       "        text-align: right;\n",
       "    }\n",
       "\n",
       "    .dataframe thead th {\n",
       "        text-align: left;\n",
       "    }\n",
       "\n",
       "    .dataframe tbody tr th {\n",
       "        vertical-align: top;\n",
       "    }\n",
       "</style>\n",
       "<table border=\"1\" class=\"dataframe\">\n",
       "  <thead>\n",
       "    <tr style=\"text-align: right;\">\n",
       "      <th></th>\n",
       "      <th>count</th>\n",
       "      <th>mean</th>\n",
       "      <th>std</th>\n",
       "      <th>min</th>\n",
       "      <th>25%</th>\n",
       "      <th>50%</th>\n",
       "      <th>75%</th>\n",
       "      <th>max</th>\n",
       "    </tr>\n",
       "    <tr>\n",
       "      <th>garagecarcnt</th>\n",
       "      <th></th>\n",
       "      <th></th>\n",
       "      <th></th>\n",
       "      <th></th>\n",
       "      <th></th>\n",
       "      <th></th>\n",
       "      <th></th>\n",
       "      <th></th>\n",
       "    </tr>\n",
       "  </thead>\n",
       "  <tbody>\n",
       "    <tr>\n",
       "      <th>0.0</th>\n",
       "      <td>0.0</td>\n",
       "      <td>NaN</td>\n",
       "      <td>NaN</td>\n",
       "      <td>NaN</td>\n",
       "      <td>NaN</td>\n",
       "      <td>NaN</td>\n",
       "      <td>NaN</td>\n",
       "      <td>NaN</td>\n",
       "    </tr>\n",
       "    <tr>\n",
       "      <th>1.0</th>\n",
       "      <td>2101.0</td>\n",
       "      <td>335.744883</td>\n",
       "      <td>62.096282</td>\n",
       "      <td>136.0</td>\n",
       "      <td>300.00</td>\n",
       "      <td>360.0</td>\n",
       "      <td>380.0</td>\n",
       "      <td>399.0</td>\n",
       "    </tr>\n",
       "    <tr>\n",
       "      <th>2.0</th>\n",
       "      <td>14779.0</td>\n",
       "      <td>499.537384</td>\n",
       "      <td>82.275311</td>\n",
       "      <td>150.0</td>\n",
       "      <td>440.00</td>\n",
       "      <td>468.0</td>\n",
       "      <td>560.0</td>\n",
       "      <td>719.0</td>\n",
       "    </tr>\n",
       "    <tr>\n",
       "      <th>3.0</th>\n",
       "      <td>616.0</td>\n",
       "      <td>776.444805</td>\n",
       "      <td>46.293762</td>\n",
       "      <td>720.0</td>\n",
       "      <td>735.75</td>\n",
       "      <td>765.5</td>\n",
       "      <td>815.0</td>\n",
       "      <td>878.0</td>\n",
       "    </tr>\n",
       "    <tr>\n",
       "      <th>4.0</th>\n",
       "      <td>253.0</td>\n",
       "      <td>988.126482</td>\n",
       "      <td>83.472312</td>\n",
       "      <td>880.0</td>\n",
       "      <td>915.00</td>\n",
       "      <td>968.0</td>\n",
       "      <td>1048.0</td>\n",
       "      <td>1196.0</td>\n",
       "    </tr>\n",
       "    <tr>\n",
       "      <th>5.0</th>\n",
       "      <td>45.0</td>\n",
       "      <td>1328.644444</td>\n",
       "      <td>98.059156</td>\n",
       "      <td>1200.0</td>\n",
       "      <td>1245.00</td>\n",
       "      <td>1291.0</td>\n",
       "      <td>1419.0</td>\n",
       "      <td>1514.0</td>\n",
       "    </tr>\n",
       "    <tr>\n",
       "      <th>6.0</th>\n",
       "      <td>13.0</td>\n",
       "      <td>1628.769231</td>\n",
       "      <td>81.336906</td>\n",
       "      <td>1537.0</td>\n",
       "      <td>1557.00</td>\n",
       "      <td>1612.0</td>\n",
       "      <td>1681.0</td>\n",
       "      <td>1762.0</td>\n",
       "    </tr>\n",
       "    <tr>\n",
       "      <th>7.0</th>\n",
       "      <td>3.0</td>\n",
       "      <td>1955.333333</td>\n",
       "      <td>90.666054</td>\n",
       "      <td>1851.0</td>\n",
       "      <td>1925.50</td>\n",
       "      <td>2000.0</td>\n",
       "      <td>2007.5</td>\n",
       "      <td>2015.0</td>\n",
       "    </tr>\n",
       "    <tr>\n",
       "      <th>8.0</th>\n",
       "      <td>2.0</td>\n",
       "      <td>2247.000000</td>\n",
       "      <td>69.296465</td>\n",
       "      <td>2198.0</td>\n",
       "      <td>2222.50</td>\n",
       "      <td>2247.0</td>\n",
       "      <td>2271.5</td>\n",
       "      <td>2296.0</td>\n",
       "    </tr>\n",
       "    <tr>\n",
       "      <th>9.0</th>\n",
       "      <td>2.0</td>\n",
       "      <td>2676.000000</td>\n",
       "      <td>62.225397</td>\n",
       "      <td>2632.0</td>\n",
       "      <td>2654.00</td>\n",
       "      <td>2676.0</td>\n",
       "      <td>2698.0</td>\n",
       "      <td>2720.0</td>\n",
       "    </tr>\n",
       "    <tr>\n",
       "      <th>10.0</th>\n",
       "      <td>3.0</td>\n",
       "      <td>2967.333333</td>\n",
       "      <td>128.102823</td>\n",
       "      <td>2886.0</td>\n",
       "      <td>2893.50</td>\n",
       "      <td>2901.0</td>\n",
       "      <td>3008.0</td>\n",
       "      <td>3115.0</td>\n",
       "    </tr>\n",
       "    <tr>\n",
       "      <th>11.0</th>\n",
       "      <td>1.0</td>\n",
       "      <td>3233.000000</td>\n",
       "      <td>NaN</td>\n",
       "      <td>3233.0</td>\n",
       "      <td>3233.00</td>\n",
       "      <td>3233.0</td>\n",
       "      <td>3233.0</td>\n",
       "      <td>3233.0</td>\n",
       "    </tr>\n",
       "    <tr>\n",
       "      <th>13.0</th>\n",
       "      <td>1.0</td>\n",
       "      <td>3791.000000</td>\n",
       "      <td>NaN</td>\n",
       "      <td>3791.0</td>\n",
       "      <td>3791.00</td>\n",
       "      <td>3791.0</td>\n",
       "      <td>3791.0</td>\n",
       "      <td>3791.0</td>\n",
       "    </tr>\n",
       "    <tr>\n",
       "      <th>14.0</th>\n",
       "      <td>1.0</td>\n",
       "      <td>4251.000000</td>\n",
       "      <td>NaN</td>\n",
       "      <td>4251.0</td>\n",
       "      <td>4251.00</td>\n",
       "      <td>4251.0</td>\n",
       "      <td>4251.0</td>\n",
       "      <td>4251.0</td>\n",
       "    </tr>\n",
       "  </tbody>\n",
       "</table>\n",
       "</div>"
      ],
      "text/plain": [
       "                count         mean         std     min      25%     50%  \\\n",
       "garagecarcnt                                                              \n",
       "0.0               0.0          NaN         NaN     NaN      NaN     NaN   \n",
       "1.0            2101.0   335.744883   62.096282   136.0   300.00   360.0   \n",
       "2.0           14779.0   499.537384   82.275311   150.0   440.00   468.0   \n",
       "3.0             616.0   776.444805   46.293762   720.0   735.75   765.5   \n",
       "4.0             253.0   988.126482   83.472312   880.0   915.00   968.0   \n",
       "5.0              45.0  1328.644444   98.059156  1200.0  1245.00  1291.0   \n",
       "6.0              13.0  1628.769231   81.336906  1537.0  1557.00  1612.0   \n",
       "7.0               3.0  1955.333333   90.666054  1851.0  1925.50  2000.0   \n",
       "8.0               2.0  2247.000000   69.296465  2198.0  2222.50  2247.0   \n",
       "9.0               2.0  2676.000000   62.225397  2632.0  2654.00  2676.0   \n",
       "10.0              3.0  2967.333333  128.102823  2886.0  2893.50  2901.0   \n",
       "11.0              1.0  3233.000000         NaN  3233.0  3233.00  3233.0   \n",
       "13.0              1.0  3791.000000         NaN  3791.0  3791.00  3791.0   \n",
       "14.0              1.0  4251.000000         NaN  4251.0  4251.00  4251.0   \n",
       "\n",
       "                 75%     max  \n",
       "garagecarcnt                  \n",
       "0.0              NaN     NaN  \n",
       "1.0            380.0   399.0  \n",
       "2.0            560.0   719.0  \n",
       "3.0            815.0   878.0  \n",
       "4.0           1048.0  1196.0  \n",
       "5.0           1419.0  1514.0  \n",
       "6.0           1681.0  1762.0  \n",
       "7.0           2007.5  2015.0  \n",
       "8.0           2271.5  2296.0  \n",
       "9.0           2698.0  2720.0  \n",
       "10.0          3008.0  3115.0  \n",
       "11.0          3233.0  3233.0  \n",
       "13.0          3791.0  3791.0  \n",
       "14.0          4251.0  4251.0  "
      ]
     },
     "execution_count": 82,
     "metadata": {},
     "output_type": "execute_result"
    }
   ],
   "source": [
    "df_merged.groupby('garagecarcnt')['garagetotalsqft'].describe()"
   ]
  },
  {
   "cell_type": "code",
   "execution_count": 77,
   "metadata": {
    "collapsed": true
   },
   "outputs": [],
   "source": [
    "df_merged['garagetotalsqft'].fillna(0, inplace=True)"
   ]
  },
  {
   "cell_type": "code",
   "execution_count": 50,
   "metadata": {
    "collapsed": true
   },
   "outputs": [],
   "source": []
  },
  {
   "cell_type": "code",
   "execution_count": 78,
   "metadata": {},
   "outputs": [
    {
     "data": {
      "text/html": [
       "<div>\n",
       "<style>\n",
       "    .dataframe thead tr:only-child th {\n",
       "        text-align: right;\n",
       "    }\n",
       "\n",
       "    .dataframe thead th {\n",
       "        text-align: left;\n",
       "    }\n",
       "\n",
       "    .dataframe tbody tr th {\n",
       "        vertical-align: top;\n",
       "    }\n",
       "</style>\n",
       "<table border=\"1\" class=\"dataframe\">\n",
       "  <thead>\n",
       "    <tr style=\"text-align: right;\">\n",
       "      <th></th>\n",
       "      <th>count</th>\n",
       "      <th>mean</th>\n",
       "      <th>std</th>\n",
       "      <th>min</th>\n",
       "      <th>25%</th>\n",
       "      <th>50%</th>\n",
       "      <th>75%</th>\n",
       "      <th>max</th>\n",
       "    </tr>\n",
       "    <tr>\n",
       "      <th>garagecarcnt</th>\n",
       "      <th></th>\n",
       "      <th></th>\n",
       "      <th></th>\n",
       "      <th></th>\n",
       "      <th></th>\n",
       "      <th></th>\n",
       "      <th></th>\n",
       "      <th></th>\n",
       "    </tr>\n",
       "  </thead>\n",
       "  <tbody>\n",
       "    <tr>\n",
       "      <th>0.0</th>\n",
       "      <td>52289.0</td>\n",
       "      <td>0.000000</td>\n",
       "      <td>0.000000</td>\n",
       "      <td>0.0</td>\n",
       "      <td>0.00</td>\n",
       "      <td>0.0</td>\n",
       "      <td>0.00</td>\n",
       "      <td>0.0</td>\n",
       "    </tr>\n",
       "    <tr>\n",
       "      <th>1.0</th>\n",
       "      <td>5691.0</td>\n",
       "      <td>123.950097</td>\n",
       "      <td>166.372195</td>\n",
       "      <td>0.0</td>\n",
       "      <td>0.00</td>\n",
       "      <td>0.0</td>\n",
       "      <td>350.00</td>\n",
       "      <td>399.0</td>\n",
       "    </tr>\n",
       "    <tr>\n",
       "      <th>2.0</th>\n",
       "      <td>18638.0</td>\n",
       "      <td>396.108112</td>\n",
       "      <td>215.264847</td>\n",
       "      <td>0.0</td>\n",
       "      <td>402.00</td>\n",
       "      <td>454.0</td>\n",
       "      <td>506.00</td>\n",
       "      <td>719.0</td>\n",
       "    </tr>\n",
       "    <tr>\n",
       "      <th>3.0</th>\n",
       "      <td>632.0</td>\n",
       "      <td>756.787975</td>\n",
       "      <td>130.339552</td>\n",
       "      <td>0.0</td>\n",
       "      <td>734.00</td>\n",
       "      <td>762.0</td>\n",
       "      <td>814.00</td>\n",
       "      <td>878.0</td>\n",
       "    </tr>\n",
       "    <tr>\n",
       "      <th>4.0</th>\n",
       "      <td>256.0</td>\n",
       "      <td>976.546875</td>\n",
       "      <td>135.048248</td>\n",
       "      <td>0.0</td>\n",
       "      <td>912.00</td>\n",
       "      <td>968.0</td>\n",
       "      <td>1048.00</td>\n",
       "      <td>1196.0</td>\n",
       "    </tr>\n",
       "    <tr>\n",
       "      <th>5.0</th>\n",
       "      <td>45.0</td>\n",
       "      <td>1328.644444</td>\n",
       "      <td>98.059156</td>\n",
       "      <td>1200.0</td>\n",
       "      <td>1245.00</td>\n",
       "      <td>1291.0</td>\n",
       "      <td>1419.00</td>\n",
       "      <td>1514.0</td>\n",
       "    </tr>\n",
       "    <tr>\n",
       "      <th>6.0</th>\n",
       "      <td>14.0</td>\n",
       "      <td>1512.428571</td>\n",
       "      <td>442.265621</td>\n",
       "      <td>0.0</td>\n",
       "      <td>1548.75</td>\n",
       "      <td>1598.5</td>\n",
       "      <td>1671.75</td>\n",
       "      <td>1762.0</td>\n",
       "    </tr>\n",
       "    <tr>\n",
       "      <th>7.0</th>\n",
       "      <td>4.0</td>\n",
       "      <td>1466.500000</td>\n",
       "      <td>980.465366</td>\n",
       "      <td>0.0</td>\n",
       "      <td>1388.25</td>\n",
       "      <td>1925.5</td>\n",
       "      <td>2003.75</td>\n",
       "      <td>2015.0</td>\n",
       "    </tr>\n",
       "    <tr>\n",
       "      <th>8.0</th>\n",
       "      <td>2.0</td>\n",
       "      <td>2247.000000</td>\n",
       "      <td>69.296465</td>\n",
       "      <td>2198.0</td>\n",
       "      <td>2222.50</td>\n",
       "      <td>2247.0</td>\n",
       "      <td>2271.50</td>\n",
       "      <td>2296.0</td>\n",
       "    </tr>\n",
       "    <tr>\n",
       "      <th>9.0</th>\n",
       "      <td>2.0</td>\n",
       "      <td>2676.000000</td>\n",
       "      <td>62.225397</td>\n",
       "      <td>2632.0</td>\n",
       "      <td>2654.00</td>\n",
       "      <td>2676.0</td>\n",
       "      <td>2698.00</td>\n",
       "      <td>2720.0</td>\n",
       "    </tr>\n",
       "    <tr>\n",
       "      <th>10.0</th>\n",
       "      <td>3.0</td>\n",
       "      <td>2967.333333</td>\n",
       "      <td>128.102823</td>\n",
       "      <td>2886.0</td>\n",
       "      <td>2893.50</td>\n",
       "      <td>2901.0</td>\n",
       "      <td>3008.00</td>\n",
       "      <td>3115.0</td>\n",
       "    </tr>\n",
       "    <tr>\n",
       "      <th>11.0</th>\n",
       "      <td>1.0</td>\n",
       "      <td>3233.000000</td>\n",
       "      <td>NaN</td>\n",
       "      <td>3233.0</td>\n",
       "      <td>3233.00</td>\n",
       "      <td>3233.0</td>\n",
       "      <td>3233.00</td>\n",
       "      <td>3233.0</td>\n",
       "    </tr>\n",
       "    <tr>\n",
       "      <th>13.0</th>\n",
       "      <td>1.0</td>\n",
       "      <td>3791.000000</td>\n",
       "      <td>NaN</td>\n",
       "      <td>3791.0</td>\n",
       "      <td>3791.00</td>\n",
       "      <td>3791.0</td>\n",
       "      <td>3791.00</td>\n",
       "      <td>3791.0</td>\n",
       "    </tr>\n",
       "    <tr>\n",
       "      <th>14.0</th>\n",
       "      <td>1.0</td>\n",
       "      <td>4251.000000</td>\n",
       "      <td>NaN</td>\n",
       "      <td>4251.0</td>\n",
       "      <td>4251.00</td>\n",
       "      <td>4251.0</td>\n",
       "      <td>4251.00</td>\n",
       "      <td>4251.0</td>\n",
       "    </tr>\n",
       "  </tbody>\n",
       "</table>\n",
       "</div>"
      ],
      "text/plain": [
       "                count         mean         std     min      25%     50%  \\\n",
       "garagecarcnt                                                              \n",
       "0.0           52289.0     0.000000    0.000000     0.0     0.00     0.0   \n",
       "1.0            5691.0   123.950097  166.372195     0.0     0.00     0.0   \n",
       "2.0           18638.0   396.108112  215.264847     0.0   402.00   454.0   \n",
       "3.0             632.0   756.787975  130.339552     0.0   734.00   762.0   \n",
       "4.0             256.0   976.546875  135.048248     0.0   912.00   968.0   \n",
       "5.0              45.0  1328.644444   98.059156  1200.0  1245.00  1291.0   \n",
       "6.0              14.0  1512.428571  442.265621     0.0  1548.75  1598.5   \n",
       "7.0               4.0  1466.500000  980.465366     0.0  1388.25  1925.5   \n",
       "8.0               2.0  2247.000000   69.296465  2198.0  2222.50  2247.0   \n",
       "9.0               2.0  2676.000000   62.225397  2632.0  2654.00  2676.0   \n",
       "10.0              3.0  2967.333333  128.102823  2886.0  2893.50  2901.0   \n",
       "11.0              1.0  3233.000000         NaN  3233.0  3233.00  3233.0   \n",
       "13.0              1.0  3791.000000         NaN  3791.0  3791.00  3791.0   \n",
       "14.0              1.0  4251.000000         NaN  4251.0  4251.00  4251.0   \n",
       "\n",
       "                  75%     max  \n",
       "garagecarcnt                   \n",
       "0.0              0.00     0.0  \n",
       "1.0            350.00   399.0  \n",
       "2.0            506.00   719.0  \n",
       "3.0            814.00   878.0  \n",
       "4.0           1048.00  1196.0  \n",
       "5.0           1419.00  1514.0  \n",
       "6.0           1671.75  1762.0  \n",
       "7.0           2003.75  2015.0  \n",
       "8.0           2271.50  2296.0  \n",
       "9.0           2698.00  2720.0  \n",
       "10.0          3008.00  3115.0  \n",
       "11.0          3233.00  3233.0  \n",
       "13.0          3791.00  3791.0  \n",
       "14.0          4251.00  4251.0  "
      ]
     },
     "execution_count": 78,
     "metadata": {},
     "output_type": "execute_result"
    }
   ],
   "source": [
    "df_merged.groupby('garagecarcnt')['garagetotalsqft'].describe()"
   ]
  },
  {
   "cell_type": "code",
   "execution_count": 126,
   "metadata": {},
   "outputs": [
    {
     "data": {
      "image/png": "[encoded data removed]",
      "text/plain": [
       "<matplotlib.figure.Figure at 0x1115ce860>"
      ]
     },
     "metadata": {},
     "output_type": "display_data"
    }
   ],
   "source": [
    "plt.scatter(df_merged['garagetotalsqft'],df_merged['logerror'])\n",
    "plt.show()"
   ]
  },
  {
   "cell_type": "code",
   "execution_count": 114,
   "metadata": {
    "collapsed": true
   },
   "outputs": [],
   "source": [
    "## TODO the above isn't working"
   ]
  },
  {
   "cell_type": "code",
   "execution_count": 116,
   "metadata": {},
   "outputs": [
    {
     "data": {
      "text/plain": [
       "2.0     33633\n",
       "7.0     14107\n",
       "24.0      850\n",
       "6.0       777\n",
       "20.0      104\n",
       "13.0       60\n",
       "18.0       23\n",
       "1.0        13\n",
       "10.0        3\n",
       "11.0        1\n",
       "Name: heatingorsystemtypeid, dtype: int64"
      ]
     },
     "execution_count": 116,
     "metadata": {},
     "output_type": "execute_result"
    }
   ],
   "source": [
    "df_merged['heatingorsystemtypeid'].value_counts()"
   ]
  },
  {
   "cell_type": "code",
   "execution_count": 54,
   "metadata": {
    "collapsed": true
   },
   "outputs": [],
   "source": [
    "df_merged['heatingorsystemtypeid'].fillna(df_merged['heatingorsystemtypeid'].mode(), inplace=True)"
   ]
  },
  {
   "cell_type": "code",
   "execution_count": 55,
   "metadata": {},
   "outputs": [
    {
     "data": {
      "text/plain": [
       "count    6.932100e+04\n",
       "mean     2.997344e+04\n",
       "std      1.233050e+05\n",
       "min      2.360000e+02\n",
       "25%      5.700000e+03\n",
       "50%      7.206000e+03\n",
       "75%      1.183700e+04\n",
       "max      6.971010e+06\n",
       "Name: lotsizesquarefeet, dtype: float64"
      ]
     },
     "execution_count": 55,
     "metadata": {},
     "output_type": "execute_result"
    }
   ],
   "source": [
    "df_merged['lotsizesquarefeet'].describe()"
   ]
  },
  {
   "cell_type": "code",
   "execution_count": 56,
   "metadata": {
    "collapsed": true
   },
   "outputs": [],
   "source": [
    "df_merged['lotsizesquarefeet'].fillna(df_merged['lotsizesquarefeet'].median(), inplace=True)"
   ]
  },
  {
   "cell_type": "code",
   "execution_count": 59,
   "metadata": {},
   "outputs": [
    {
     "data": {
      "text/plain": [
       "1.0    16174\n",
       "Name: poolcnt, dtype: int64"
      ]
     },
     "execution_count": 59,
     "metadata": {},
     "output_type": "execute_result"
    }
   ],
   "source": [
    "df_merged['poolcnt'].value_counts()"
   ]
  },
  {
   "cell_type": "code",
   "execution_count": 61,
   "metadata": {
    "collapsed": true
   },
   "outputs": [],
   "source": [
    "df_merged['poolcnt'].fillna(0, inplace=True)"
   ]
  },
  {
   "cell_type": "code",
   "execution_count": 74,
   "metadata": {},
   "outputs": [
    {
     "data": {
      "text/plain": [
       "5.0     16753\n",
       "6.0     14608\n",
       "4.0     12326\n",
       "7.0      9832\n",
       "3.0      5772\n",
       "8.0      5574\n",
       "2.0      3117\n",
       "9.0      2469\n",
       "5.5      1879\n",
       "10.0     1147\n",
       "4.5       870\n",
       "6.5       667\n",
       "11.0      472\n",
       "12.0      324\n",
       "7.5       315\n",
       "8.5       293\n",
       "1.0       203\n",
       "9.5       199\n",
       "3.5       153\n",
       "10.5      125\n",
       "13.0      118\n",
       "14.0       77\n",
       "2.5        66\n",
       "16.0       63\n",
       "15.0       40\n",
       "11.5       32\n",
       "17.0       23\n",
       "12.5       20\n",
       "18.0       18\n",
       "20.0        8\n",
       "19.0        5\n",
       "13.5        5\n",
       "15.5        1\n",
       "14.5        1\n",
       "24.0        1\n",
       "32.0        1\n",
       "21.0        1\n",
       "23.0        1\n",
       "Name: roomcnt, dtype: int64"
      ]
     },
     "execution_count": 74,
     "metadata": {},
     "output_type": "execute_result"
    }
   ],
   "source": [
    "df_merged['roomcnt'].value_counts()"
   ]
  },
  {
   "cell_type": "code",
   "execution_count": 71,
   "metadata": {
    "collapsed": true,
    "scrolled": false
   },
   "outputs": [],
   "source": [
    "df_merged['roomcnt'].replace(0,np.nan, inplace=True)"
   ]
  },
  {
   "cell_type": "markdown",
   "metadata": {},
   "source": [
    "There must be at least as many rooms as bedrooms plus bathrooms in the property. We are thus replacing the NaN with this sum."
   ]
  },
  {
   "cell_type": "code",
   "execution_count": 73,
   "metadata": {
    "collapsed": true
   },
   "outputs": [],
   "source": [
    "df_merged['roomcnt'].fillna(df_merged['calculatedbathnbr'] + df_merged['bedroomcnt'], inplace=True)"
   ]
  },
  {
   "cell_type": "code",
   "execution_count": 83,
   "metadata": {},
   "outputs": [
    {
     "data": {
      "text/plain": [
       "1.0      47413\n",
       "2.0       2031\n",
       "4.0        726\n",
       "3.0        529\n",
       "6.0          1\n",
       "45.0         1\n",
       "237.0        1\n",
       "42.0         1\n",
       "Name: unitcnt, dtype: int64"
      ]
     },
     "execution_count": 83,
     "metadata": {},
     "output_type": "execute_result"
    }
   ],
   "source": [
    "df_merged['unitcnt'].value_counts()"
   ]
  },
  {
   "cell_type": "code",
   "execution_count": 84,
   "metadata": {
    "collapsed": true
   },
   "outputs": [],
   "source": [
    "df_merged['unitcnt'].fillna(df_merged['unitcnt'].mode(), inplace=True)"
   ]
  },
  {
   "cell_type": "code",
   "execution_count": 85,
   "metadata": {},
   "outputs": [
    {
     "data": {
      "text/plain": [
       "count    77309.000000\n",
       "mean      1968.611507\n",
       "std         23.793171\n",
       "min       1824.000000\n",
       "25%       1953.000000\n",
       "50%       1970.000000\n",
       "75%       1987.000000\n",
       "max       2016.000000\n",
       "Name: yearbuilt, dtype: float64"
      ]
     },
     "execution_count": 85,
     "metadata": {},
     "output_type": "execute_result"
    }
   ],
   "source": [
    "df_merged['yearbuilt'].describe()"
   ]
  },
  {
   "cell_type": "code",
   "execution_count": 86,
   "metadata": {
    "collapsed": true
   },
   "outputs": [],
   "source": [
    "df_merged['yearbuilt'].fillna(df_merged['yearbuilt'].median(), inplace=True)"
   ]
  },
  {
   "cell_type": "code",
   "execution_count": 87,
   "metadata": {},
   "outputs": [
    {
     "data": {
      "text/plain": [
       "count    17599.000000\n",
       "mean         1.434286\n",
       "std          0.544515\n",
       "min          1.000000\n",
       "25%          1.000000\n",
       "50%          1.000000\n",
       "75%          2.000000\n",
       "max          6.000000\n",
       "Name: numberofstories, dtype: float64"
      ]
     },
     "execution_count": 87,
     "metadata": {},
     "output_type": "execute_result"
    }
   ],
   "source": [
    "df_merged['numberofstories'].describe()"
   ]
  },
  {
   "cell_type": "code",
   "execution_count": 88,
   "metadata": {
    "collapsed": true
   },
   "outputs": [],
   "source": [
    "df_merged['numberofstories'].fillna(df_merged['numberofstories'].median(), inplace=True)"
   ]
  },
  {
   "cell_type": "code",
   "execution_count": 89,
   "metadata": {},
   "outputs": [
    {
     "data": {
      "text/plain": [
       "count    7.746400e+04\n",
       "mean     1.892811e+05\n",
       "std      2.304107e+05\n",
       "min      4.400000e+01\n",
       "25%      8.417925e+04\n",
       "50%      1.364045e+05\n",
       "75%      2.187340e+05\n",
       "max      1.142179e+07\n",
       "Name: structuretaxvaluedollarcnt, dtype: float64"
      ]
     },
     "execution_count": 89,
     "metadata": {},
     "output_type": "execute_result"
    }
   ],
   "source": [
    "df_merged['structuretaxvaluedollarcnt'].describe()"
   ]
  },
  {
   "cell_type": "code",
   "execution_count": 90,
   "metadata": {
    "collapsed": true
   },
   "outputs": [],
   "source": [
    "df_merged['structuretaxvaluedollarcnt'].fillna(df_merged['structuretaxvaluedollarcnt'].median(), inplace=True)"
   ]
  },
  {
   "cell_type": "code",
   "execution_count": 91,
   "metadata": {},
   "outputs": [
    {
     "data": {
      "text/plain": [
       "count    7.757800e+04\n",
       "mean     4.901506e+05\n",
       "std      6.537979e+05\n",
       "min      1.000000e+03\n",
       "25%      2.068985e+05\n",
       "50%      3.588785e+05\n",
       "75%      5.690000e+05\n",
       "max      4.906124e+07\n",
       "Name: taxvaluedollarcnt, dtype: float64"
      ]
     },
     "execution_count": 91,
     "metadata": {},
     "output_type": "execute_result"
    }
   ],
   "source": [
    "df_merged['taxvaluedollarcnt'].describe()"
   ]
  },
  {
   "cell_type": "code",
   "execution_count": 92,
   "metadata": {
    "collapsed": true
   },
   "outputs": [],
   "source": [
    "df_merged['taxvaluedollarcnt'].fillna(df_merged['taxvaluedollarcnt'].median(), inplace=True)"
   ]
  },
  {
   "cell_type": "code",
   "execution_count": 95,
   "metadata": {},
   "outputs": [
    {
     "data": {
      "text/plain": [
       "count    7.757700e+04\n",
       "mean     3.011515e+05\n",
       "std      4.927249e+05\n",
       "min      1.610000e+02\n",
       "25%      8.529300e+04\n",
       "50%      2.031880e+05\n",
       "75%      3.667530e+05\n",
       "max      4.895220e+07\n",
       "Name: landtaxvaluedollarcnt, dtype: float64"
      ]
     },
     "execution_count": 95,
     "metadata": {},
     "output_type": "execute_result"
    }
   ],
   "source": [
    "df_merged['landtaxvaluedollarcnt'].describe()"
   ]
  },
  {
   "cell_type": "code",
   "execution_count": 96,
   "metadata": {
    "collapsed": true
   },
   "outputs": [],
   "source": [
    "df_merged['landtaxvaluedollarcnt'].fillna(df_merged['landtaxvaluedollarcnt'].median(), inplace=True)"
   ]
  },
  {
   "cell_type": "code",
   "execution_count": 97,
   "metadata": {},
   "outputs": [
    {
     "data": {
      "text/plain": [
       "count     77574.000000\n",
       "mean       5995.961788\n",
       "std        7628.859728\n",
       "min          19.920000\n",
       "25%        2712.630000\n",
       "50%        4448.265000\n",
       "75%        6926.917500\n",
       "max      586639.300000\n",
       "Name: taxamount, dtype: float64"
      ]
     },
     "execution_count": 97,
     "metadata": {},
     "output_type": "execute_result"
    }
   ],
   "source": [
    "df_merged['taxamount'].describe()"
   ]
  },
  {
   "cell_type": "code",
   "execution_count": 98,
   "metadata": {
    "collapsed": true
   },
   "outputs": [],
   "source": [
    "df_merged['taxamount'].fillna(df_merged['taxamount'].median(), inplace=True)"
   ]
  },
  {
   "cell_type": "code",
   "execution_count": 100,
   "metadata": {},
   "outputs": [
    {
     "data": {
      "text/plain": [
       "Y    2900\n",
       "Name: taxdelinquencyflag, dtype: int64"
      ]
     },
     "execution_count": 100,
     "metadata": {},
     "output_type": "execute_result"
    }
   ],
   "source": [
    "df_merged['taxdelinquencyflag'].value_counts()"
   ]
  },
  {
   "cell_type": "code",
   "execution_count": 102,
   "metadata": {},
   "outputs": [
    {
     "data": {
      "text/plain": [
       "2900"
      ]
     },
     "execution_count": 102,
     "metadata": {},
     "output_type": "execute_result"
    }
   ],
   "source": [
    "df_merged['taxdelinquencyyear'].count()"
   ]
  },
  {
   "cell_type": "markdown",
   "metadata": {},
   "source": [
    "The totals match, so we only need to fill the NAs with a 'N' flag"
   ]
  },
  {
   "cell_type": "code",
   "execution_count": 153,
   "metadata": {
    "collapsed": true
   },
   "outputs": [],
   "source": [
    "df_merged['taxdelinquencyflag'].fillna('N', inplace=True)"
   ]
  },
  {
   "cell_type": "code",
   "execution_count": 137,
   "metadata": {
    "collapsed": true
   },
   "outputs": [],
   "source": [
    "def convertyears(x):\n",
    "    if x > 9 and x < 20:\n",
    "        t = '20' + str(x)\n",
    "        return float(t)\n",
    "    elif x <= 9:\n",
    "        t = '200' + str(x)\n",
    "        return float(t)\n",
    "    elif x > 20:\n",
    "        t = '19' + str(x)\n",
    "        return float(t)\n",
    "    else:\n",
    "        return np.nan\n",
    "    \n",
    "\n",
    "\n",
    "df_merged['taxdelinquencyyear'] = df_merged['taxdelinquencyyear'].map(lambda a: convertyears(a))"
   ]
  },
  {
   "cell_type": "code",
   "execution_count": 138,
   "metadata": {},
   "outputs": [
    {
     "data": {
      "text/plain": [
       "2015.0    702\n",
       "2014.0    465\n",
       "2013.0    130\n",
       "2012.0     66\n",
       "2011.0     64\n",
       "2010.0     33\n",
       "2009.0     26\n",
       "2008.0     11\n",
       "2007.0      4\n",
       "2006.0      2\n",
       "Name: taxdelinquencyyear, dtype: int64"
      ]
     },
     "execution_count": 138,
     "metadata": {},
     "output_type": "execute_result"
    }
   ],
   "source": [
    "df_merged['taxdelinquencyyear'].value_counts()"
   ]
  },
  {
   "cell_type": "code",
   "execution_count": 142,
   "metadata": {},
   "outputs": [
    {
     "data": {
      "image/png": "[encoded data removed]",
      "text/plain": [
       "<matplotlib.figure.Figure at 0x10cf1e748>"
      ]
     },
     "metadata": {},
     "output_type": "display_data"
    }
   ],
   "source": [
    "plt.scatter(df_merged['taxdelinquencyyear'],df_merged['logerror'])\n",
    "plt.show()"
   ]
  },
  {
   "cell_type": "code",
   "execution_count": 144,
   "metadata": {},
   "outputs": [
    {
     "data": {
      "text/html": [
       "<div>\n",
       "<style>\n",
       "    .dataframe thead tr:only-child th {\n",
       "        text-align: right;\n",
       "    }\n",
       "\n",
       "    .dataframe thead th {\n",
       "        text-align: left;\n",
       "    }\n",
       "\n",
       "    .dataframe tbody tr th {\n",
       "        vertical-align: top;\n",
       "    }\n",
       "</style>\n",
       "<table border=\"1\" class=\"dataframe\">\n",
       "  <thead>\n",
       "    <tr style=\"text-align: right;\">\n",
       "      <th></th>\n",
       "      <th>count</th>\n",
       "      <th>mean</th>\n",
       "      <th>std</th>\n",
       "      <th>min</th>\n",
       "      <th>25%</th>\n",
       "      <th>50%</th>\n",
       "      <th>75%</th>\n",
       "      <th>max</th>\n",
       "    </tr>\n",
       "    <tr>\n",
       "      <th>taxdelinquencyyear</th>\n",
       "      <th></th>\n",
       "      <th></th>\n",
       "      <th></th>\n",
       "      <th></th>\n",
       "      <th></th>\n",
       "      <th></th>\n",
       "      <th></th>\n",
       "      <th></th>\n",
       "    </tr>\n",
       "  </thead>\n",
       "  <tbody>\n",
       "    <tr>\n",
       "      <th>2006.0</th>\n",
       "      <td>2.0</td>\n",
       "      <td>-0.029686</td>\n",
       "      <td>0.018490</td>\n",
       "      <td>-0.042760</td>\n",
       "      <td>-0.036223</td>\n",
       "      <td>-0.029686</td>\n",
       "      <td>-0.023149</td>\n",
       "      <td>-0.016612</td>\n",
       "    </tr>\n",
       "    <tr>\n",
       "      <th>2007.0</th>\n",
       "      <td>4.0</td>\n",
       "      <td>0.182318</td>\n",
       "      <td>0.340928</td>\n",
       "      <td>-0.033294</td>\n",
       "      <td>-0.005607</td>\n",
       "      <td>0.036412</td>\n",
       "      <td>0.224337</td>\n",
       "      <td>0.689743</td>\n",
       "    </tr>\n",
       "    <tr>\n",
       "      <th>2008.0</th>\n",
       "      <td>11.0</td>\n",
       "      <td>-0.012811</td>\n",
       "      <td>0.097392</td>\n",
       "      <td>-0.232950</td>\n",
       "      <td>-0.026537</td>\n",
       "      <td>-0.001936</td>\n",
       "      <td>0.036950</td>\n",
       "      <td>0.118037</td>\n",
       "    </tr>\n",
       "    <tr>\n",
       "      <th>2009.0</th>\n",
       "      <td>26.0</td>\n",
       "      <td>-0.011711</td>\n",
       "      <td>0.191540</td>\n",
       "      <td>-0.810303</td>\n",
       "      <td>-0.032864</td>\n",
       "      <td>0.018046</td>\n",
       "      <td>0.062981</td>\n",
       "      <td>0.279771</td>\n",
       "    </tr>\n",
       "    <tr>\n",
       "      <th>2010.0</th>\n",
       "      <td>33.0</td>\n",
       "      <td>-0.002965</td>\n",
       "      <td>0.121822</td>\n",
       "      <td>-0.495735</td>\n",
       "      <td>-0.019009</td>\n",
       "      <td>0.014698</td>\n",
       "      <td>0.041992</td>\n",
       "      <td>0.186409</td>\n",
       "    </tr>\n",
       "    <tr>\n",
       "      <th>2011.0</th>\n",
       "      <td>64.0</td>\n",
       "      <td>-0.003415</td>\n",
       "      <td>0.096843</td>\n",
       "      <td>-0.627874</td>\n",
       "      <td>-0.017519</td>\n",
       "      <td>0.004602</td>\n",
       "      <td>0.029861</td>\n",
       "      <td>0.184722</td>\n",
       "    </tr>\n",
       "    <tr>\n",
       "      <th>2012.0</th>\n",
       "      <td>66.0</td>\n",
       "      <td>0.083999</td>\n",
       "      <td>0.289288</td>\n",
       "      <td>-0.136237</td>\n",
       "      <td>-0.005184</td>\n",
       "      <td>0.023144</td>\n",
       "      <td>0.042569</td>\n",
       "      <td>1.772564</td>\n",
       "    </tr>\n",
       "    <tr>\n",
       "      <th>2013.0</th>\n",
       "      <td>130.0</td>\n",
       "      <td>0.015754</td>\n",
       "      <td>0.085692</td>\n",
       "      <td>-0.197574</td>\n",
       "      <td>-0.024885</td>\n",
       "      <td>0.011239</td>\n",
       "      <td>0.054509</td>\n",
       "      <td>0.528130</td>\n",
       "    </tr>\n",
       "    <tr>\n",
       "      <th>2014.0</th>\n",
       "      <td>465.0</td>\n",
       "      <td>0.017557</td>\n",
       "      <td>0.177018</td>\n",
       "      <td>-0.588179</td>\n",
       "      <td>-0.027755</td>\n",
       "      <td>0.001091</td>\n",
       "      <td>0.039190</td>\n",
       "      <td>2.322401</td>\n",
       "    </tr>\n",
       "    <tr>\n",
       "      <th>2015.0</th>\n",
       "      <td>702.0</td>\n",
       "      <td>0.014356</td>\n",
       "      <td>0.141246</td>\n",
       "      <td>-0.956519</td>\n",
       "      <td>-0.024356</td>\n",
       "      <td>0.004183</td>\n",
       "      <td>0.036330</td>\n",
       "      <td>1.363138</td>\n",
       "    </tr>\n",
       "  </tbody>\n",
       "</table>\n",
       "</div>"
      ],
      "text/plain": [
       "                    count      mean       std       min       25%       50%  \\\n",
       "taxdelinquencyyear                                                            \n",
       "2006.0                2.0 -0.029686  0.018490 -0.042760 -0.036223 -0.029686   \n",
       "2007.0                4.0  0.182318  0.340928 -0.033294 -0.005607  0.036412   \n",
       "2008.0               11.0 -0.012811  0.097392 -0.232950 -0.026537 -0.001936   \n",
       "2009.0               26.0 -0.011711  0.191540 -0.810303 -0.032864  0.018046   \n",
       "2010.0               33.0 -0.002965  0.121822 -0.495735 -0.019009  0.014698   \n",
       "2011.0               64.0 -0.003415  0.096843 -0.627874 -0.017519  0.004602   \n",
       "2012.0               66.0  0.083999  0.289288 -0.136237 -0.005184  0.023144   \n",
       "2013.0              130.0  0.015754  0.085692 -0.197574 -0.024885  0.011239   \n",
       "2014.0              465.0  0.017557  0.177018 -0.588179 -0.027755  0.001091   \n",
       "2015.0              702.0  0.014356  0.141246 -0.956519 -0.024356  0.004183   \n",
       "\n",
       "                         75%       max  \n",
       "taxdelinquencyyear                      \n",
       "2006.0             -0.023149 -0.016612  \n",
       "2007.0              0.224337  0.689743  \n",
       "2008.0              0.036950  0.118037  \n",
       "2009.0              0.062981  0.279771  \n",
       "2010.0              0.041992  0.186409  \n",
       "2011.0              0.029861  0.184722  \n",
       "2012.0              0.042569  1.772564  \n",
       "2013.0              0.054509  0.528130  \n",
       "2014.0              0.039190  2.322401  \n",
       "2015.0              0.036330  1.363138  "
      ]
     },
     "execution_count": 144,
     "metadata": {},
     "output_type": "execute_result"
    }
   ],
   "source": [
    "df_merged.groupby('taxdelinquencyyear')['logerror'].describe()"
   ]
  },
  {
   "cell_type": "code",
   "execution_count": 145,
   "metadata": {
    "collapsed": true
   },
   "outputs": [],
   "source": [
    "import numpy as np"
   ]
  },
  {
   "cell_type": "code",
   "execution_count": 149,
   "metadata": {
    "collapsed": true
   },
   "outputs": [],
   "source": [
    "temp = df_merged.loc[:,('taxdelinquencyyear','logerror')]"
   ]
  },
  {
   "cell_type": "code",
   "execution_count": 150,
   "metadata": {
    "collapsed": true
   },
   "outputs": [],
   "source": [
    "temp.dropna(subset=['taxdelinquencyyear'], inplace=True)"
   ]
  },
  {
   "cell_type": "code",
   "execution_count": 151,
   "metadata": {},
   "outputs": [
    {
     "data": {
      "text/html": [
       "<div>\n",
       "<style>\n",
       "    .dataframe thead tr:only-child th {\n",
       "        text-align: right;\n",
       "    }\n",
       "\n",
       "    .dataframe thead th {\n",
       "        text-align: left;\n",
       "    }\n",
       "\n",
       "    .dataframe tbody tr th {\n",
       "        vertical-align: top;\n",
       "    }\n",
       "</style>\n",
       "<table border=\"1\" class=\"dataframe\">\n",
       "  <thead>\n",
       "    <tr style=\"text-align: right;\">\n",
       "      <th></th>\n",
       "      <th>taxdelinquencyyear</th>\n",
       "      <th>logerror</th>\n",
       "    </tr>\n",
       "  </thead>\n",
       "  <tbody>\n",
       "    <tr>\n",
       "      <th>taxdelinquencyyear</th>\n",
       "      <td>1.000000</td>\n",
       "      <td>-0.005856</td>\n",
       "    </tr>\n",
       "    <tr>\n",
       "      <th>logerror</th>\n",
       "      <td>-0.005856</td>\n",
       "      <td>1.000000</td>\n",
       "    </tr>\n",
       "  </tbody>\n",
       "</table>\n",
       "</div>"
      ],
      "text/plain": [
       "                    taxdelinquencyyear  logerror\n",
       "taxdelinquencyyear            1.000000 -0.005856\n",
       "logerror                     -0.005856  1.000000"
      ]
     },
     "execution_count": 151,
     "metadata": {},
     "output_type": "execute_result"
    }
   ],
   "source": [
    "temp.corr()"
   ]
  },
  {
   "cell_type": "code",
   "execution_count": 154,
   "metadata": {},
   "outputs": [
    {
     "data": {
      "text/html": [
       "<div>\n",
       "<style>\n",
       "    .dataframe thead tr:only-child th {\n",
       "        text-align: right;\n",
       "    }\n",
       "\n",
       "    .dataframe thead th {\n",
       "        text-align: left;\n",
       "    }\n",
       "\n",
       "    .dataframe tbody tr th {\n",
       "        vertical-align: top;\n",
       "    }\n",
       "</style>\n",
       "<table border=\"1\" class=\"dataframe\">\n",
       "  <thead>\n",
       "    <tr style=\"text-align: right;\">\n",
       "      <th></th>\n",
       "      <th>count</th>\n",
       "      <th>mean</th>\n",
       "      <th>std</th>\n",
       "      <th>min</th>\n",
       "      <th>25%</th>\n",
       "      <th>50%</th>\n",
       "      <th>75%</th>\n",
       "      <th>max</th>\n",
       "    </tr>\n",
       "    <tr>\n",
       "      <th>taxdelinquencyflag</th>\n",
       "      <th></th>\n",
       "      <th></th>\n",
       "      <th></th>\n",
       "      <th></th>\n",
       "      <th></th>\n",
       "      <th></th>\n",
       "      <th></th>\n",
       "      <th></th>\n",
       "    </tr>\n",
       "  </thead>\n",
       "  <tbody>\n",
       "    <tr>\n",
       "      <th>N</th>\n",
       "      <td>74679.0</td>\n",
       "      <td>0.016266</td>\n",
       "      <td>0.168622</td>\n",
       "      <td>-4.655420</td>\n",
       "      <td>-0.024118</td>\n",
       "      <td>0.006528</td>\n",
       "      <td>0.038624</td>\n",
       "      <td>5.262999</td>\n",
       "    </tr>\n",
       "    <tr>\n",
       "      <th>Y</th>\n",
       "      <td>2900.0</td>\n",
       "      <td>0.030629</td>\n",
       "      <td>0.217870</td>\n",
       "      <td>-2.327432</td>\n",
       "      <td>-0.032788</td>\n",
       "      <td>0.012049</td>\n",
       "      <td>0.059816</td>\n",
       "      <td>3.041528</td>\n",
       "    </tr>\n",
       "  </tbody>\n",
       "</table>\n",
       "</div>"
      ],
      "text/plain": [
       "                      count      mean       std       min       25%       50%  \\\n",
       "taxdelinquencyflag                                                              \n",
       "N                   74679.0  0.016266  0.168622 -4.655420 -0.024118  0.006528   \n",
       "Y                    2900.0  0.030629  0.217870 -2.327432 -0.032788  0.012049   \n",
       "\n",
       "                         75%       max  \n",
       "taxdelinquencyflag                      \n",
       "N                   0.038624  5.262999  \n",
       "Y                   0.059816  3.041528  "
      ]
     },
     "execution_count": 154,
     "metadata": {},
     "output_type": "execute_result"
    }
   ],
   "source": [
    "df_merged.groupby('taxdelinquencyflag')['logerror'].describe()"
   ]
  },
  {
   "cell_type": "markdown",
   "metadata": {},
   "source": [
    "Rawcensustractandblock and censustractandblock are the same according to the data dictionary. "
   ]
  },
  {
   "cell_type": "code",
   "execution_count": 155,
   "metadata": {},
   "outputs": [
    {
     "data": {
      "text/plain": [
       "count    7.757900e+04\n",
       "mean     6.049124e+07\n",
       "std      2.058962e+05\n",
       "min      6.037101e+07\n",
       "25%      6.037311e+07\n",
       "50%      6.037603e+07\n",
       "75%      6.059042e+07\n",
       "max      6.111009e+07\n",
       "Name: rawcensustractandblock, dtype: float64"
      ]
     },
     "execution_count": 155,
     "metadata": {},
     "output_type": "execute_result"
    }
   ],
   "source": [
    "df_merged['rawcensustractandblock'].describe()"
   ]
  },
  {
   "cell_type": "code",
   "execution_count": 159,
   "metadata": {},
   "outputs": [
    {
     "data": {
      "text/plain": [
       "483030105084015.0"
      ]
     },
     "execution_count": 159,
     "metadata": {},
     "output_type": "execute_result"
    }
   ],
   "source": [
    "df_merged['censustractandblock'].max()"
   ]
  },
  {
   "cell_type": "code",
   "execution_count": 160,
   "metadata": {},
   "outputs": [
    {
     "data": {
      "text/plain": [
       "60371011101000.0"
      ]
     },
     "execution_count": 160,
     "metadata": {},
     "output_type": "execute_result"
    }
   ],
   "source": [
    "df_merged['censustractandblock'].min()"
   ]
  },
  {
   "cell_type": "code",
   "execution_count": 161,
   "metadata": {},
   "outputs": [
    {
     "data": {
      "text/plain": [
       "61110091.002027005"
      ]
     },
     "execution_count": 161,
     "metadata": {},
     "output_type": "execute_result"
    }
   ],
   "source": [
    "df_merged['rawcensustractandblock'].max()"
   ]
  },
  {
   "cell_type": "code",
   "execution_count": 162,
   "metadata": {},
   "outputs": [
    {
     "data": {
      "text/plain": [
       "60371011.101000004"
      ]
     },
     "execution_count": 162,
     "metadata": {},
     "output_type": "execute_result"
    }
   ],
   "source": [
    "df_merged['rawcensustractandblock'].min()"
   ]
  },
  {
   "cell_type": "markdown",
   "metadata": {},
   "source": [
    "The raw value has the format FIPS + tract information with no missing values. Dropping censustractandblock, which appears to have anomolies as well as missing data."
   ]
  },
  {
   "cell_type": "code",
   "execution_count": 163,
   "metadata": {
    "collapsed": true
   },
   "outputs": [],
   "source": [
    "df_merged.drop('censustractandblock', axis=1, inplace=True)"
   ]
  },
  {
   "cell_type": "code",
   "execution_count": 165,
   "metadata": {},
   "outputs": [
    {
     "data": {
      "text/html": [
       "<div>\n",
       "<style>\n",
       "    .dataframe thead tr:only-child th {\n",
       "        text-align: right;\n",
       "    }\n",
       "\n",
       "    .dataframe thead th {\n",
       "        text-align: left;\n",
       "    }\n",
       "\n",
       "    .dataframe tbody tr th {\n",
       "        vertical-align: top;\n",
       "    }\n",
       "</style>\n",
       "<table border=\"1\" class=\"dataframe\">\n",
       "  <thead>\n",
       "    <tr style=\"text-align: right;\">\n",
       "      <th></th>\n",
       "      <th>parcelid</th>\n",
       "      <th>airconditioningtypeid</th>\n",
       "      <th>bedroomcnt</th>\n",
       "      <th>buildingqualitytypeid</th>\n",
       "      <th>calculatedbathnbr</th>\n",
       "      <th>calculatedfinishedsquarefeet</th>\n",
       "      <th>fips</th>\n",
       "      <th>fireplacecnt</th>\n",
       "      <th>fullbathcnt</th>\n",
       "      <th>garagecarcnt</th>\n",
       "      <th>...</th>\n",
       "      <th>numberofstories</th>\n",
       "      <th>structuretaxvaluedollarcnt</th>\n",
       "      <th>taxvaluedollarcnt</th>\n",
       "      <th>assessmentyear</th>\n",
       "      <th>landtaxvaluedollarcnt</th>\n",
       "      <th>taxamount</th>\n",
       "      <th>taxdelinquencyflag</th>\n",
       "      <th>taxdelinquencyyear</th>\n",
       "      <th>logerror</th>\n",
       "      <th>transactiondate</th>\n",
       "    </tr>\n",
       "  </thead>\n",
       "  <tbody>\n",
       "    <tr>\n",
       "      <th>0</th>\n",
       "      <td>17054981</td>\n",
       "      <td>5.0</td>\n",
       "      <td>4.0</td>\n",
       "      <td>6.533779</td>\n",
       "      <td>5.0</td>\n",
       "      <td>3760.0</td>\n",
       "      <td>6111.0</td>\n",
       "      <td>4.0</td>\n",
       "      <td>5.0</td>\n",
       "      <td>3.0</td>\n",
       "      <td>...</td>\n",
       "      <td>2.0</td>\n",
       "      <td>501928.0</td>\n",
       "      <td>872850.0</td>\n",
       "      <td>2016.0</td>\n",
       "      <td>370922.0</td>\n",
       "      <td>9673.46</td>\n",
       "      <td>N</td>\n",
       "      <td>NaN</td>\n",
       "      <td>-0.013099</td>\n",
       "      <td>2017-06-15</td>\n",
       "    </tr>\n",
       "    <tr>\n",
       "      <th>1</th>\n",
       "      <td>17055743</td>\n",
       "      <td>5.0</td>\n",
       "      <td>3.0</td>\n",
       "      <td>6.533779</td>\n",
       "      <td>2.0</td>\n",
       "      <td>1444.0</td>\n",
       "      <td>6111.0</td>\n",
       "      <td>0.0</td>\n",
       "      <td>2.0</td>\n",
       "      <td>1.0</td>\n",
       "      <td>...</td>\n",
       "      <td>1.0</td>\n",
       "      <td>130845.0</td>\n",
       "      <td>436157.0</td>\n",
       "      <td>2016.0</td>\n",
       "      <td>305312.0</td>\n",
       "      <td>5538.80</td>\n",
       "      <td>N</td>\n",
       "      <td>NaN</td>\n",
       "      <td>0.073985</td>\n",
       "      <td>2017-07-26</td>\n",
       "    </tr>\n",
       "    <tr>\n",
       "      <th>2</th>\n",
       "      <td>17068109</td>\n",
       "      <td>5.0</td>\n",
       "      <td>3.0</td>\n",
       "      <td>6.533779</td>\n",
       "      <td>1.5</td>\n",
       "      <td>1698.0</td>\n",
       "      <td>6111.0</td>\n",
       "      <td>1.0</td>\n",
       "      <td>1.0</td>\n",
       "      <td>0.0</td>\n",
       "      <td>...</td>\n",
       "      <td>1.0</td>\n",
       "      <td>193413.0</td>\n",
       "      <td>286606.0</td>\n",
       "      <td>2016.0</td>\n",
       "      <td>93193.0</td>\n",
       "      <td>2987.36</td>\n",
       "      <td>N</td>\n",
       "      <td>NaN</td>\n",
       "      <td>0.071886</td>\n",
       "      <td>2017-07-28</td>\n",
       "    </tr>\n",
       "    <tr>\n",
       "      <th>3</th>\n",
       "      <td>17073952</td>\n",
       "      <td>5.0</td>\n",
       "      <td>2.0</td>\n",
       "      <td>6.533779</td>\n",
       "      <td>2.0</td>\n",
       "      <td>986.0</td>\n",
       "      <td>6111.0</td>\n",
       "      <td>1.0</td>\n",
       "      <td>2.0</td>\n",
       "      <td>1.0</td>\n",
       "      <td>...</td>\n",
       "      <td>1.0</td>\n",
       "      <td>90357.0</td>\n",
       "      <td>258888.0</td>\n",
       "      <td>2016.0</td>\n",
       "      <td>168531.0</td>\n",
       "      <td>2706.24</td>\n",
       "      <td>N</td>\n",
       "      <td>NaN</td>\n",
       "      <td>0.305680</td>\n",
       "      <td>2017-06-02</td>\n",
       "    </tr>\n",
       "    <tr>\n",
       "      <th>4</th>\n",
       "      <td>17078502</td>\n",
       "      <td>5.0</td>\n",
       "      <td>2.0</td>\n",
       "      <td>6.533779</td>\n",
       "      <td>1.0</td>\n",
       "      <td>1170.0</td>\n",
       "      <td>6111.0</td>\n",
       "      <td>1.0</td>\n",
       "      <td>1.0</td>\n",
       "      <td>2.0</td>\n",
       "      <td>...</td>\n",
       "      <td>1.0</td>\n",
       "      <td>148752.0</td>\n",
       "      <td>592930.0</td>\n",
       "      <td>2016.0</td>\n",
       "      <td>444178.0</td>\n",
       "      <td>6220.70</td>\n",
       "      <td>N</td>\n",
       "      <td>NaN</td>\n",
       "      <td>-0.073787</td>\n",
       "      <td>2017-07-07</td>\n",
       "    </tr>\n",
       "  </tbody>\n",
       "</table>\n",
       "<p>5 rows × 37 columns</p>\n",
       "</div>"
      ],
      "text/plain": [
       "   parcelid  airconditioningtypeid  bedroomcnt  buildingqualitytypeid  \\\n",
       "0  17054981                    5.0         4.0               6.533779   \n",
       "1  17055743                    5.0         3.0               6.533779   \n",
       "2  17068109                    5.0         3.0               6.533779   \n",
       "3  17073952                    5.0         2.0               6.533779   \n",
       "4  17078502                    5.0         2.0               6.533779   \n",
       "\n",
       "   calculatedbathnbr  calculatedfinishedsquarefeet    fips  fireplacecnt  \\\n",
       "0                5.0                        3760.0  6111.0           4.0   \n",
       "1                2.0                        1444.0  6111.0           0.0   \n",
       "2                1.5                        1698.0  6111.0           1.0   \n",
       "3                2.0                         986.0  6111.0           1.0   \n",
       "4                1.0                        1170.0  6111.0           1.0   \n",
       "\n",
       "   fullbathcnt  garagecarcnt       ...         numberofstories  \\\n",
       "0          5.0           3.0       ...                     2.0   \n",
       "1          2.0           1.0       ...                     1.0   \n",
       "2          1.0           0.0       ...                     1.0   \n",
       "3          2.0           1.0       ...                     1.0   \n",
       "4          1.0           2.0       ...                     1.0   \n",
       "\n",
       "   structuretaxvaluedollarcnt  taxvaluedollarcnt  assessmentyear  \\\n",
       "0                    501928.0           872850.0          2016.0   \n",
       "1                    130845.0           436157.0          2016.0   \n",
       "2                    193413.0           286606.0          2016.0   \n",
       "3                     90357.0           258888.0          2016.0   \n",
       "4                    148752.0           592930.0          2016.0   \n",
       "\n",
       "   landtaxvaluedollarcnt  taxamount taxdelinquencyflag  taxdelinquencyyear  \\\n",
       "0               370922.0    9673.46                  N                 NaN   \n",
       "1               305312.0    5538.80                  N                 NaN   \n",
       "2                93193.0    2987.36                  N                 NaN   \n",
       "3               168531.0    2706.24                  N                 NaN   \n",
       "4               444178.0    6220.70                  N                 NaN   \n",
       "\n",
       "   logerror  transactiondate  \n",
       "0 -0.013099       2017-06-15  \n",
       "1  0.073985       2017-07-26  \n",
       "2  0.071886       2017-07-28  \n",
       "3  0.305680       2017-06-02  \n",
       "4 -0.073787       2017-07-07  \n",
       "\n",
       "[5 rows x 37 columns]"
      ]
     },
     "execution_count": 165,
     "metadata": {},
     "output_type": "execute_result"
    }
   ],
   "source": [
    "df_merged.head()"
   ]
  },
  {
   "cell_type": "code",
   "execution_count": 27,
   "metadata": {},
   "outputs": [
    {
     "data": {
      "text/plain": [
       "0    69325\n",
       "1     8289\n",
       "Name: fireplaceflag, dtype: int64"
      ]
     },
     "execution_count": 27,
     "metadata": {},
     "output_type": "execute_result"
    }
   ],
   "source": [
    "df_merged['fireplaceflag'].value_counts()"
   ]
  },
  {
   "cell_type": "code",
   "execution_count": 20,
   "metadata": {},
   "outputs": [
    {
     "data": {
      "text/plain": [
       "count     8461\n",
       "unique       1\n",
       "top          1\n",
       "freq      8461\n",
       "Name: fireplaceflag, dtype: int64"
      ]
     },
     "execution_count": 20,
     "metadata": {},
     "output_type": "execute_result"
    }
   ],
   "source": [
    "df_merged['fireplaceflag'].describe()"
   ]
  },
  {
   "cell_type": "code",
   "execution_count": 14,
   "metadata": {},
   "outputs": [
    {
     "data": {
      "text/plain": [
       "1.0    7018\n",
       "2.0     998\n",
       "3.0     235\n",
       "4.0      35\n",
       "5.0       3\n",
       "Name: fireplacecnt, dtype: int64"
      ]
     },
     "execution_count": 14,
     "metadata": {},
     "output_type": "execute_result"
    }
   ],
   "source": [
    "df_merged['fireplacecnt'].value_counts()"
   ]
  },
  {
   "cell_type": "code",
   "execution_count": 29,
   "metadata": {
    "collapsed": true
   },
   "outputs": [],
   "source": [
    "df_merged.loc[df_merged['fireplacecnt'] > 0, 'fireplaceflag'] = True"
   ]
  },
  {
   "cell_type": "code",
   "execution_count": 28,
   "metadata": {
    "collapsed": true
   },
   "outputs": [],
   "source": [
    "df_merged['fireplaceflag'] = False"
   ]
  },
  {
   "cell_type": "code",
   "execution_count": 44,
   "metadata": {
    "collapsed": true
   },
   "outputs": [],
   "source": [
    "#df_merged['garagetotalsqft'].fillna((df_merged['garagetotalsqft'].median if df_merged['garagecarcnt'] > 0 else 0), inplace=True)\n",
    "df_merged[df_merged['garagecarcnt'] > 0, 'garagetotalsqft']\n",
    "df_merged.loc[df_merged['garagecarcnt'] > 0, 'garagetotalsqft'].fillna(df_merged['garagetotalsqft'].median(), inplace=True)\n"
   ]
  },
  {
   "cell_type": "code",
   "execution_count": 46,
   "metadata": {},
   "outputs": [
    {
     "data": {
      "text/html": [
       "<div>\n",
       "<style>\n",
       "    .dataframe thead tr:only-child th {\n",
       "        text-align: right;\n",
       "    }\n",
       "\n",
       "    .dataframe thead th {\n",
       "        text-align: left;\n",
       "    }\n",
       "\n",
       "    .dataframe tbody tr th {\n",
       "        vertical-align: top;\n",
       "    }\n",
       "</style>\n",
       "<table border=\"1\" class=\"dataframe\">\n",
       "  <thead>\n",
       "    <tr style=\"text-align: right;\">\n",
       "      <th></th>\n",
       "      <th>count</th>\n",
       "      <th>mean</th>\n",
       "      <th>std</th>\n",
       "      <th>min</th>\n",
       "      <th>25%</th>\n",
       "      <th>50%</th>\n",
       "      <th>75%</th>\n",
       "      <th>max</th>\n",
       "    </tr>\n",
       "    <tr>\n",
       "      <th>garagecarcnt</th>\n",
       "      <th></th>\n",
       "      <th></th>\n",
       "      <th></th>\n",
       "      <th></th>\n",
       "      <th></th>\n",
       "      <th></th>\n",
       "      <th></th>\n",
       "      <th></th>\n",
       "    </tr>\n",
       "  </thead>\n",
       "  <tbody>\n",
       "    <tr>\n",
       "      <th>0.0</th>\n",
       "      <td>230.0</td>\n",
       "      <td>0.000000</td>\n",
       "      <td>0.000000</td>\n",
       "      <td>0.0</td>\n",
       "      <td>0.00</td>\n",
       "      <td>0.0</td>\n",
       "      <td>0.00</td>\n",
       "      <td>0.0</td>\n",
       "    </tr>\n",
       "    <tr>\n",
       "      <th>1.0</th>\n",
       "      <td>5691.0</td>\n",
       "      <td>123.950097</td>\n",
       "      <td>166.372195</td>\n",
       "      <td>0.0</td>\n",
       "      <td>0.00</td>\n",
       "      <td>0.0</td>\n",
       "      <td>350.00</td>\n",
       "      <td>399.0</td>\n",
       "    </tr>\n",
       "    <tr>\n",
       "      <th>2.0</th>\n",
       "      <td>18638.0</td>\n",
       "      <td>396.108112</td>\n",
       "      <td>215.264847</td>\n",
       "      <td>0.0</td>\n",
       "      <td>402.00</td>\n",
       "      <td>454.0</td>\n",
       "      <td>506.00</td>\n",
       "      <td>719.0</td>\n",
       "    </tr>\n",
       "    <tr>\n",
       "      <th>3.0</th>\n",
       "      <td>632.0</td>\n",
       "      <td>756.787975</td>\n",
       "      <td>130.339552</td>\n",
       "      <td>0.0</td>\n",
       "      <td>734.00</td>\n",
       "      <td>762.0</td>\n",
       "      <td>814.00</td>\n",
       "      <td>878.0</td>\n",
       "    </tr>\n",
       "    <tr>\n",
       "      <th>4.0</th>\n",
       "      <td>256.0</td>\n",
       "      <td>976.546875</td>\n",
       "      <td>135.048248</td>\n",
       "      <td>0.0</td>\n",
       "      <td>912.00</td>\n",
       "      <td>968.0</td>\n",
       "      <td>1048.00</td>\n",
       "      <td>1196.0</td>\n",
       "    </tr>\n",
       "    <tr>\n",
       "      <th>5.0</th>\n",
       "      <td>45.0</td>\n",
       "      <td>1328.644444</td>\n",
       "      <td>98.059156</td>\n",
       "      <td>1200.0</td>\n",
       "      <td>1245.00</td>\n",
       "      <td>1291.0</td>\n",
       "      <td>1419.00</td>\n",
       "      <td>1514.0</td>\n",
       "    </tr>\n",
       "    <tr>\n",
       "      <th>6.0</th>\n",
       "      <td>14.0</td>\n",
       "      <td>1512.428571</td>\n",
       "      <td>442.265621</td>\n",
       "      <td>0.0</td>\n",
       "      <td>1548.75</td>\n",
       "      <td>1598.5</td>\n",
       "      <td>1671.75</td>\n",
       "      <td>1762.0</td>\n",
       "    </tr>\n",
       "    <tr>\n",
       "      <th>7.0</th>\n",
       "      <td>4.0</td>\n",
       "      <td>1466.500000</td>\n",
       "      <td>980.465366</td>\n",
       "      <td>0.0</td>\n",
       "      <td>1388.25</td>\n",
       "      <td>1925.5</td>\n",
       "      <td>2003.75</td>\n",
       "      <td>2015.0</td>\n",
       "    </tr>\n",
       "    <tr>\n",
       "      <th>8.0</th>\n",
       "      <td>2.0</td>\n",
       "      <td>2247.000000</td>\n",
       "      <td>69.296465</td>\n",
       "      <td>2198.0</td>\n",
       "      <td>2222.50</td>\n",
       "      <td>2247.0</td>\n",
       "      <td>2271.50</td>\n",
       "      <td>2296.0</td>\n",
       "    </tr>\n",
       "    <tr>\n",
       "      <th>9.0</th>\n",
       "      <td>2.0</td>\n",
       "      <td>2676.000000</td>\n",
       "      <td>62.225397</td>\n",
       "      <td>2632.0</td>\n",
       "      <td>2654.00</td>\n",
       "      <td>2676.0</td>\n",
       "      <td>2698.00</td>\n",
       "      <td>2720.0</td>\n",
       "    </tr>\n",
       "    <tr>\n",
       "      <th>10.0</th>\n",
       "      <td>3.0</td>\n",
       "      <td>2967.333333</td>\n",
       "      <td>128.102823</td>\n",
       "      <td>2886.0</td>\n",
       "      <td>2893.50</td>\n",
       "      <td>2901.0</td>\n",
       "      <td>3008.00</td>\n",
       "      <td>3115.0</td>\n",
       "    </tr>\n",
       "    <tr>\n",
       "      <th>11.0</th>\n",
       "      <td>1.0</td>\n",
       "      <td>3233.000000</td>\n",
       "      <td>NaN</td>\n",
       "      <td>3233.0</td>\n",
       "      <td>3233.00</td>\n",
       "      <td>3233.0</td>\n",
       "      <td>3233.00</td>\n",
       "      <td>3233.0</td>\n",
       "    </tr>\n",
       "    <tr>\n",
       "      <th>13.0</th>\n",
       "      <td>1.0</td>\n",
       "      <td>3791.000000</td>\n",
       "      <td>NaN</td>\n",
       "      <td>3791.0</td>\n",
       "      <td>3791.00</td>\n",
       "      <td>3791.0</td>\n",
       "      <td>3791.00</td>\n",
       "      <td>3791.0</td>\n",
       "    </tr>\n",
       "    <tr>\n",
       "      <th>14.0</th>\n",
       "      <td>1.0</td>\n",
       "      <td>4251.000000</td>\n",
       "      <td>NaN</td>\n",
       "      <td>4251.0</td>\n",
       "      <td>4251.00</td>\n",
       "      <td>4251.0</td>\n",
       "      <td>4251.00</td>\n",
       "      <td>4251.0</td>\n",
       "    </tr>\n",
       "  </tbody>\n",
       "</table>\n",
       "</div>"
      ],
      "text/plain": [
       "                count         mean         std     min      25%     50%  \\\n",
       "garagecarcnt                                                              \n",
       "0.0             230.0     0.000000    0.000000     0.0     0.00     0.0   \n",
       "1.0            5691.0   123.950097  166.372195     0.0     0.00     0.0   \n",
       "2.0           18638.0   396.108112  215.264847     0.0   402.00   454.0   \n",
       "3.0             632.0   756.787975  130.339552     0.0   734.00   762.0   \n",
       "4.0             256.0   976.546875  135.048248     0.0   912.00   968.0   \n",
       "5.0              45.0  1328.644444   98.059156  1200.0  1245.00  1291.0   \n",
       "6.0              14.0  1512.428571  442.265621     0.0  1548.75  1598.5   \n",
       "7.0               4.0  1466.500000  980.465366     0.0  1388.25  1925.5   \n",
       "8.0               2.0  2247.000000   69.296465  2198.0  2222.50  2247.0   \n",
       "9.0               2.0  2676.000000   62.225397  2632.0  2654.00  2676.0   \n",
       "10.0              3.0  2967.333333  128.102823  2886.0  2893.50  2901.0   \n",
       "11.0              1.0  3233.000000         NaN  3233.0  3233.00  3233.0   \n",
       "13.0              1.0  3791.000000         NaN  3791.0  3791.00  3791.0   \n",
       "14.0              1.0  4251.000000         NaN  4251.0  4251.00  4251.0   \n",
       "\n",
       "                  75%     max  \n",
       "garagecarcnt                   \n",
       "0.0              0.00     0.0  \n",
       "1.0            350.00   399.0  \n",
       "2.0            506.00   719.0  \n",
       "3.0            814.00   878.0  \n",
       "4.0           1048.00  1196.0  \n",
       "5.0           1419.00  1514.0  \n",
       "6.0           1671.75  1762.0  \n",
       "7.0           2003.75  2015.0  \n",
       "8.0           2271.50  2296.0  \n",
       "9.0           2698.00  2720.0  \n",
       "10.0          3008.00  3115.0  \n",
       "11.0          3233.00  3233.0  \n",
       "13.0          3791.00  3791.0  \n",
       "14.0          4251.00  4251.0  "
      ]
     },
     "execution_count": 46,
     "metadata": {},
     "output_type": "execute_result"
    }
   ],
   "source": [
    "df_merged.groupby('garagecarcnt')['garagetotalsqft'].describe()"
   ]
  },
  {
   "cell_type": "code",
   "execution_count": 40,
   "metadata": {},
   "outputs": [
    {
     "data": {
      "text/plain": [
       "'0022003007'"
      ]
     },
     "execution_count": 40,
     "metadata": {},
     "output_type": "execute_result"
    }
   ],
   "source": [
    "#df_merged['censustract']=np.nan\n",
    "#df_merged['censusbloc']=np.nan\n",
    "\n",
    "def block(a):\n",
    "    a = int(round(a*1000000))\n",
    "    b = str(a)\n",
    "    return b[10:]\n",
    "\n",
    "def tract(a):\n",
    "    b = str(a)\n",
    "    return b[4:11]\n",
    "\n",
    "a = 61110022.003006995\n",
    "tract(a)\n",
    "b = 60371371.031000003\n",
    "tract(b)\n",
    "\n",
    "def tractblock(a):\n",
    "    a = int(round(a*1000000))\n",
    "    b = str(a)\n",
    "    return b[4:]\n",
    "\n",
    "c = 61110022.003006995\n",
    "tractblock(c)"
   ]
  },
  {
   "cell_type": "code",
   "execution_count": 26,
   "metadata": {},
   "outputs": [
    {
     "data": {
      "text/plain": [
       "60371371.031000003"
      ]
     },
     "execution_count": 26,
     "metadata": {},
     "output_type": "execute_result"
    }
   ],
   "source": [
    "a = df_merged['rawcensustractandblock'].mode()\n",
    "a[0]"
   ]
  },
  {
   "cell_type": "code",
   "execution_count": 34,
   "metadata": {},
   "outputs": [
    {
     "data": {
      "text/plain": [
       "60371371031000.0"
      ]
     },
     "execution_count": 34,
     "metadata": {},
     "output_type": "execute_result"
    }
   ],
   "source": [
    "b = df_merged['censustractandblock'].mode()\n",
    "float(b)"
   ]
  },
  {
   "cell_type": "code",
   "execution_count": 27,
   "metadata": {},
   "outputs": [
    {
     "data": {
      "text/plain": [
       "60371371031000"
      ]
     },
     "execution_count": 27,
     "metadata": {},
     "output_type": "execute_result"
    }
   ],
   "source": [
    "int(round(a[0]*1000000))"
   ]
  },
  {
   "cell_type": "code",
   "execution_count": 29,
   "metadata": {},
   "outputs": [
    {
     "data": {
      "text/plain": [
       "60591103013004"
      ]
     },
     "execution_count": 29,
     "metadata": {},
     "output_type": "execute_result"
    }
   ],
   "source": [
    "int(round(df_merged['rawcensustractandblock'][1500]*1000000))"
   ]
  },
  {
   "cell_type": "code",
   "execution_count": 44,
   "metadata": {
    "collapsed": true
   },
   "outputs": [],
   "source": [
    "df_merged['tract'] = df_merged['rawcensustractandblock'].map(lambda a: tract(a))"
   ]
  },
  {
   "cell_type": "code",
   "execution_count": 48,
   "metadata": {},
   "outputs": [
    {
     "data": {
      "text/plain": [
       "count       77613\n",
       "unique       2993\n",
       "top       0524.20\n",
       "freq          207\n",
       "Name: tract, dtype: object"
      ]
     },
     "execution_count": 48,
     "metadata": {},
     "output_type": "execute_result"
    }
   ],
   "source": [
    "df_merged['tract'].describe()"
   ]
  },
  {
   "cell_type": "code",
   "execution_count": 51,
   "metadata": {
    "collapsed": true
   },
   "outputs": [],
   "source": [
    "df_merged['rawcensustractandblock'].fillna(0,inplace=True)\n",
    "df_merged['block'] = df_merged['rawcensustractandblock'].map(lambda a: block(a))"
   ]
  },
  {
   "cell_type": "code",
   "execution_count": 52,
   "metadata": {},
   "outputs": [
    {
     "data": {
      "text/plain": [
       "count     77613\n",
       "unique      657\n",
       "top        1000\n",
       "freq       2739\n",
       "Name: block, dtype: object"
      ]
     },
     "execution_count": 52,
     "metadata": {},
     "output_type": "execute_result"
    }
   ],
   "source": [
    "df_merged['block'].describe()"
   ]
  },
  {
   "cell_type": "code",
   "execution_count": 54,
   "metadata": {
    "collapsed": true
   },
   "outputs": [],
   "source": [
    "df_merged['tractblock'] = df_merged['rawcensustractandblock'].map(lambda a: tractblock(a))"
   ]
  },
  {
   "cell_type": "code",
   "execution_count": 55,
   "metadata": {
    "scrolled": true
   },
   "outputs": [
    {
     "data": {
      "text/plain": [
       "count          77613\n",
       "unique         39145\n",
       "top       1371031000\n",
       "freq              60\n",
       "Name: tractblock, dtype: object"
      ]
     },
     "execution_count": 55,
     "metadata": {},
     "output_type": "execute_result"
    }
   ],
   "source": [
    "df_merged['tractblock'].describe()"
   ]
  },
  {
   "cell_type": "code",
   "execution_count": 60,
   "metadata": {
    "collapsed": true
   },
   "outputs": [],
   "source": [
    "def full(a):\n",
    "    a = int(round(a * 1000000))\n",
    "    return str(a)\n",
    "\n",
    "df_merged['rawcensustractandblock'] = df_merged['rawcensustractandblock'].map(lambda a: full(a))"
   ]
  },
  {
   "cell_type": "code",
   "execution_count": 61,
   "metadata": {},
   "outputs": [
    {
     "data": {
      "text/plain": [
       "count                    77613\n",
       "unique                   39189\n",
       "top       60590626102134000000\n",
       "freq                        60\n",
       "Name: rawcensustractandblock, dtype: object"
      ]
     },
     "execution_count": 61,
     "metadata": {},
     "output_type": "execute_result"
    }
   ],
   "source": [
    "df_merged['rawcensustractandblock'].describe()"
   ]
  },
  {
   "cell_type": "code",
   "execution_count": 70,
   "metadata": {},
   "outputs": [
    {
     "data": {
      "text/html": [
       "<div>\n",
       "<style>\n",
       "    .dataframe thead tr:only-child th {\n",
       "        text-align: right;\n",
       "    }\n",
       "\n",
       "    .dataframe thead th {\n",
       "        text-align: left;\n",
       "    }\n",
       "\n",
       "    .dataframe tbody tr th {\n",
       "        vertical-align: top;\n",
       "    }\n",
       "</style>\n",
       "<table border=\"1\" class=\"dataframe\">\n",
       "  <thead>\n",
       "    <tr style=\"text-align: right;\">\n",
       "      <th></th>\n",
       "      <th>count</th>\n",
       "      <th>mean</th>\n",
       "      <th>std</th>\n",
       "      <th>min</th>\n",
       "      <th>25%</th>\n",
       "      <th>50%</th>\n",
       "      <th>75%</th>\n",
       "      <th>max</th>\n",
       "    </tr>\n",
       "    <tr>\n",
       "      <th>garagecarcnt</th>\n",
       "      <th></th>\n",
       "      <th></th>\n",
       "      <th></th>\n",
       "      <th></th>\n",
       "      <th></th>\n",
       "      <th></th>\n",
       "      <th></th>\n",
       "      <th></th>\n",
       "    </tr>\n",
       "  </thead>\n",
       "  <tbody>\n",
       "    <tr>\n",
       "      <th>0.0</th>\n",
       "      <td>230.0</td>\n",
       "      <td>0.000000</td>\n",
       "      <td>0.000000</td>\n",
       "      <td>0.0</td>\n",
       "      <td>0.00</td>\n",
       "      <td>0.0</td>\n",
       "      <td>0.00</td>\n",
       "      <td>0.0</td>\n",
       "    </tr>\n",
       "    <tr>\n",
       "      <th>1.0</th>\n",
       "      <td>5691.0</td>\n",
       "      <td>123.950097</td>\n",
       "      <td>166.372195</td>\n",
       "      <td>0.0</td>\n",
       "      <td>0.00</td>\n",
       "      <td>0.0</td>\n",
       "      <td>350.00</td>\n",
       "      <td>399.0</td>\n",
       "    </tr>\n",
       "    <tr>\n",
       "      <th>2.0</th>\n",
       "      <td>18638.0</td>\n",
       "      <td>396.108112</td>\n",
       "      <td>215.264847</td>\n",
       "      <td>0.0</td>\n",
       "      <td>402.00</td>\n",
       "      <td>454.0</td>\n",
       "      <td>506.00</td>\n",
       "      <td>719.0</td>\n",
       "    </tr>\n",
       "    <tr>\n",
       "      <th>3.0</th>\n",
       "      <td>632.0</td>\n",
       "      <td>756.787975</td>\n",
       "      <td>130.339552</td>\n",
       "      <td>0.0</td>\n",
       "      <td>734.00</td>\n",
       "      <td>762.0</td>\n",
       "      <td>814.00</td>\n",
       "      <td>878.0</td>\n",
       "    </tr>\n",
       "    <tr>\n",
       "      <th>4.0</th>\n",
       "      <td>256.0</td>\n",
       "      <td>976.546875</td>\n",
       "      <td>135.048248</td>\n",
       "      <td>0.0</td>\n",
       "      <td>912.00</td>\n",
       "      <td>968.0</td>\n",
       "      <td>1048.00</td>\n",
       "      <td>1196.0</td>\n",
       "    </tr>\n",
       "    <tr>\n",
       "      <th>5.0</th>\n",
       "      <td>45.0</td>\n",
       "      <td>1328.644444</td>\n",
       "      <td>98.059156</td>\n",
       "      <td>1200.0</td>\n",
       "      <td>1245.00</td>\n",
       "      <td>1291.0</td>\n",
       "      <td>1419.00</td>\n",
       "      <td>1514.0</td>\n",
       "    </tr>\n",
       "    <tr>\n",
       "      <th>6.0</th>\n",
       "      <td>14.0</td>\n",
       "      <td>1512.428571</td>\n",
       "      <td>442.265621</td>\n",
       "      <td>0.0</td>\n",
       "      <td>1548.75</td>\n",
       "      <td>1598.5</td>\n",
       "      <td>1671.75</td>\n",
       "      <td>1762.0</td>\n",
       "    </tr>\n",
       "    <tr>\n",
       "      <th>7.0</th>\n",
       "      <td>4.0</td>\n",
       "      <td>1466.500000</td>\n",
       "      <td>980.465366</td>\n",
       "      <td>0.0</td>\n",
       "      <td>1388.25</td>\n",
       "      <td>1925.5</td>\n",
       "      <td>2003.75</td>\n",
       "      <td>2015.0</td>\n",
       "    </tr>\n",
       "    <tr>\n",
       "      <th>8.0</th>\n",
       "      <td>2.0</td>\n",
       "      <td>2247.000000</td>\n",
       "      <td>69.296465</td>\n",
       "      <td>2198.0</td>\n",
       "      <td>2222.50</td>\n",
       "      <td>2247.0</td>\n",
       "      <td>2271.50</td>\n",
       "      <td>2296.0</td>\n",
       "    </tr>\n",
       "    <tr>\n",
       "      <th>9.0</th>\n",
       "      <td>2.0</td>\n",
       "      <td>2676.000000</td>\n",
       "      <td>62.225397</td>\n",
       "      <td>2632.0</td>\n",
       "      <td>2654.00</td>\n",
       "      <td>2676.0</td>\n",
       "      <td>2698.00</td>\n",
       "      <td>2720.0</td>\n",
       "    </tr>\n",
       "    <tr>\n",
       "      <th>10.0</th>\n",
       "      <td>3.0</td>\n",
       "      <td>2967.333333</td>\n",
       "      <td>128.102823</td>\n",
       "      <td>2886.0</td>\n",
       "      <td>2893.50</td>\n",
       "      <td>2901.0</td>\n",
       "      <td>3008.00</td>\n",
       "      <td>3115.0</td>\n",
       "    </tr>\n",
       "    <tr>\n",
       "      <th>11.0</th>\n",
       "      <td>1.0</td>\n",
       "      <td>3233.000000</td>\n",
       "      <td>NaN</td>\n",
       "      <td>3233.0</td>\n",
       "      <td>3233.00</td>\n",
       "      <td>3233.0</td>\n",
       "      <td>3233.00</td>\n",
       "      <td>3233.0</td>\n",
       "    </tr>\n",
       "    <tr>\n",
       "      <th>13.0</th>\n",
       "      <td>1.0</td>\n",
       "      <td>3791.000000</td>\n",
       "      <td>NaN</td>\n",
       "      <td>3791.0</td>\n",
       "      <td>3791.00</td>\n",
       "      <td>3791.0</td>\n",
       "      <td>3791.00</td>\n",
       "      <td>3791.0</td>\n",
       "    </tr>\n",
       "    <tr>\n",
       "      <th>14.0</th>\n",
       "      <td>1.0</td>\n",
       "      <td>4251.000000</td>\n",
       "      <td>NaN</td>\n",
       "      <td>4251.0</td>\n",
       "      <td>4251.00</td>\n",
       "      <td>4251.0</td>\n",
       "      <td>4251.00</td>\n",
       "      <td>4251.0</td>\n",
       "    </tr>\n",
       "  </tbody>\n",
       "</table>\n",
       "</div>"
      ],
      "text/plain": [
       "                count         mean         std     min      25%     50%  \\\n",
       "garagecarcnt                                                              \n",
       "0.0             230.0     0.000000    0.000000     0.0     0.00     0.0   \n",
       "1.0            5691.0   123.950097  166.372195     0.0     0.00     0.0   \n",
       "2.0           18638.0   396.108112  215.264847     0.0   402.00   454.0   \n",
       "3.0             632.0   756.787975  130.339552     0.0   734.00   762.0   \n",
       "4.0             256.0   976.546875  135.048248     0.0   912.00   968.0   \n",
       "5.0              45.0  1328.644444   98.059156  1200.0  1245.00  1291.0   \n",
       "6.0              14.0  1512.428571  442.265621     0.0  1548.75  1598.5   \n",
       "7.0               4.0  1466.500000  980.465366     0.0  1388.25  1925.5   \n",
       "8.0               2.0  2247.000000   69.296465  2198.0  2222.50  2247.0   \n",
       "9.0               2.0  2676.000000   62.225397  2632.0  2654.00  2676.0   \n",
       "10.0              3.0  2967.333333  128.102823  2886.0  2893.50  2901.0   \n",
       "11.0              1.0  3233.000000         NaN  3233.0  3233.00  3233.0   \n",
       "13.0              1.0  3791.000000         NaN  3791.0  3791.00  3791.0   \n",
       "14.0              1.0  4251.000000         NaN  4251.0  4251.00  4251.0   \n",
       "\n",
       "                  75%     max  \n",
       "garagecarcnt                   \n",
       "0.0              0.00     0.0  \n",
       "1.0            350.00   399.0  \n",
       "2.0            506.00   719.0  \n",
       "3.0            814.00   878.0  \n",
       "4.0           1048.00  1196.0  \n",
       "5.0           1419.00  1514.0  \n",
       "6.0           1671.75  1762.0  \n",
       "7.0           2003.75  2015.0  \n",
       "8.0           2271.50  2296.0  \n",
       "9.0           2698.00  2720.0  \n",
       "10.0          3008.00  3115.0  \n",
       "11.0          3233.00  3233.0  \n",
       "13.0          3791.00  3791.0  \n",
       "14.0          4251.00  4251.0  "
      ]
     },
     "execution_count": 70,
     "metadata": {},
     "output_type": "execute_result"
    }
   ],
   "source": [
    "df_merged['garagetotalsqft'].replace(0,np.nan, inplace=True)\n",
    "a = df_merged['garagetotalsqft'].median()\n",
    "df_merged.loc[df_merged['garagecarcnt']>0,'garagetotalsqft'].fillna(a, inplace=True)\n",
    "df_merged['garagetotalsqft'].fillna(0, inplace=True)\n",
    "\n",
    "\n",
    "df_merged.groupby('garagecarcnt')['garagetotalsqft'].describe()"
   ]
  },
  {
   "cell_type": "code",
   "execution_count": 73,
   "metadata": {},
   "outputs": [],
   "source": [
    "df_merged['poolcnt'].fillna(0, inplace=True)\n",
    "df_merged['hashottuborspa'].fillna(False, inplace=True)\n",
    "\n",
    "def pooltypes(a, b):\n",
    "    if a and b > 0:\n",
    "        return 2\n",
    "    elif not(a) and b > 0:\n",
    "        return 7\n",
    "    elif a and b == 0:\n",
    "        return 10\n",
    "    else:\n",
    "        return 0\n",
    "\n",
    "df_merged['pooltype2'] = df_merged.apply(lambda x: pooltypes(x['hashottuborspa'], x['poolcnt']), axis=1)"
   ]
  },
  {
   "cell_type": "code",
   "execution_count": 75,
   "metadata": {},
   "outputs": [
    {
     "data": {
      "text/plain": [
       "0     60974\n",
       "7     15100\n",
       "2      1074\n",
       "10      465\n",
       "Name: pooltype2, dtype: int64"
      ]
     },
     "execution_count": 75,
     "metadata": {},
     "output_type": "execute_result"
    }
   ],
   "source": [
    "df_merged['pooltype2'].value_counts()"
   ]
  },
  {
   "cell_type": "code",
   "execution_count": 77,
   "metadata": {},
   "outputs": [],
   "source": [
    "a = df_merged['propertyzoningdesc'].value_counts()"
   ]
  },
  {
   "cell_type": "code",
   "execution_count": 83,
   "metadata": {
    "collapsed": true
   },
   "outputs": [],
   "source": [
    "b = a[a < 2]"
   ]
  },
  {
   "cell_type": "code",
   "execution_count": 84,
   "metadata": {},
   "outputs": [
    {
     "data": {
      "text/plain": [
       "count    544.0\n",
       "mean       1.0\n",
       "std        0.0\n",
       "min        1.0\n",
       "25%        1.0\n",
       "50%        1.0\n",
       "75%        1.0\n",
       "max        1.0\n",
       "Name: propertyzoningdesc, dtype: float64"
      ]
     },
     "execution_count": 84,
     "metadata": {},
     "output_type": "execute_result"
    }
   ],
   "source": [
    "b.describe()"
   ]
  },
  {
   "cell_type": "code",
   "execution_count": 86,
   "metadata": {},
   "outputs": [
    {
     "data": {
      "text/plain": [
       "0100    26782\n",
       "122     13067\n",
       "010C     8838\n",
       "0101     6413\n",
       "34       4932\n",
       "1111     3362\n",
       "1        2399\n",
       "010E     2053\n",
       "010D     1946\n",
       "0200     1847\n",
       "1129     1380\n",
       "1110     1025\n",
       "0400      622\n",
       "0300      485\n",
       "012C      385\n",
       "0104      369\n",
       "1128      335\n",
       "01DC      212\n",
       "01HC      137\n",
       "38         94\n",
       "010G       94\n",
       "96         91\n",
       "0103       91\n",
       "010H       64\n",
       "0108       57\n",
       "1117       56\n",
       "010M       53\n",
       "0700       50\n",
       "010V       44\n",
       "1210       42\n",
       "        ...  \n",
       "012E        5\n",
       "0141        4\n",
       "0401        4\n",
       "1120        3\n",
       "1333        3\n",
       "0102        3\n",
       "0105        3\n",
       "0111        2\n",
       "1321        2\n",
       "0130        2\n",
       "0301        2\n",
       "1722        2\n",
       "1421        2\n",
       "040V        2\n",
       "1432        1\n",
       "0131        1\n",
       "0204        1\n",
       "020E        1\n",
       "020G        1\n",
       "040B        1\n",
       "012D        1\n",
       "030G        1\n",
       "040G        1\n",
       "010L        1\n",
       "0115        1\n",
       "0133        1\n",
       "0114        1\n",
       "105         1\n",
       "020M        1\n",
       "0203        1\n",
       "Name: propertycountylandusecode, Length: 75, dtype: int64"
      ]
     },
     "execution_count": 86,
     "metadata": {},
     "output_type": "execute_result"
    }
   ],
   "source": [
    "df_merged['propertycountylandusecode'].value_counts()"
   ]
  },
  {
   "cell_type": "code",
   "execution_count": 87,
   "metadata": {},
   "outputs": [
    {
     "data": {
      "text/plain": [
       "261.0    52441\n",
       "266.0    19342\n",
       "246.0     2021\n",
       "269.0     1947\n",
       "248.0      729\n",
       "247.0      539\n",
       "265.0      335\n",
       "263.0       74\n",
       "275.0       59\n",
       "260.0       42\n",
       "267.0       29\n",
       "31.0        15\n",
       "264.0        6\n",
       "Name: propertylandusetypeid, dtype: int64"
      ]
     },
     "execution_count": 87,
     "metadata": {},
     "output_type": "execute_result"
    }
   ],
   "source": [
    "df_merged['propertylandusetypeid'].value_counts()"
   ]
  },
  {
   "cell_type": "code",
   "execution_count": 106,
   "metadata": {
    "collapsed": true
   },
   "outputs": [],
   "source": [
    "\n",
    "df_merged = df_merged.dropna(subset=['latitude'])\n",
    "df_merged = df_merged.dropna(subset=['longitude'])\n",
    "\n",
    "df_merged['latitude'] = df_merged['latitude'] / 1000000\n",
    "df_merged['longitude'] = df_merged['longitude'] / 1000000"
   ]
  },
  {
   "cell_type": "code",
   "execution_count": 107,
   "metadata": {},
   "outputs": [],
   "source": [
    "from uszipcode import ZipcodeSearchEngine\n",
    "\n",
    "search = ZipcodeSearchEngine()\n",
    "def zip(a, b):\n",
    "    c = search.by_coordinate(a,b)\n",
    "    return c[0].Zipcode\n",
    "#    print(c)\n",
    "    #print(str(a) + \", \" + str(b))\n",
    "\n",
    "df_merged['zip2'] = df_merged.apply(lambda x: zip(x['latitude'], x['longitude']), axis=1)\n",
    "#df_merged.apply(lambda x: zip(x['latitude'], x['longitude']), axis=1)\n",
    "\n",
    "#a = df_merged.head()\n",
    "#a"
   ]
  },
  {
   "cell_type": "code",
   "execution_count": 108,
   "metadata": {},
   "outputs": [
    {
     "data": {
      "text/plain": [
       "93534    1424\n",
       "93552     876\n",
       "93551     794\n",
       "92688     754\n",
       "92677     722\n",
       "91350     718\n",
       "92694     631\n",
       "93063     587\n",
       "92637     551\n",
       "92630     531\n",
       "91767     515\n",
       "91362     507\n",
       "90732     488\n",
       "92620     484\n",
       "92646     475\n",
       "91340     468\n",
       "93012     468\n",
       "91360     459\n",
       "92807     452\n",
       "92692     450\n",
       "93065     443\n",
       "91351     442\n",
       "92629     437\n",
       "92870     436\n",
       "90069     436\n",
       "90631     431\n",
       "91354     422\n",
       "91367     409\n",
       "90278     406\n",
       "92656     405\n",
       "         ... \n",
       "93033      46\n",
       "92675      44\n",
       "91786      44\n",
       "90822      40\n",
       "90401      38\n",
       "90014      32\n",
       "91390      30\n",
       "91501      29\n",
       "91201      29\n",
       "93066      27\n",
       "91207      26\n",
       "90012      26\n",
       "92823      25\n",
       "90040      24\n",
       "91750      23\n",
       "91204      23\n",
       "90017      23\n",
       "91024      20\n",
       "93535      17\n",
       "90021      17\n",
       "92676      13\n",
       "91384      13\n",
       "93544       8\n",
       "93013       5\n",
       "93553       2\n",
       "92397       2\n",
       "93243       2\n",
       "93560       2\n",
       "91042       1\n",
       "93563       1\n",
       "Name: zip2, Length: 390, dtype: int64"
      ]
     },
     "execution_count": 108,
     "metadata": {},
     "output_type": "execute_result"
    }
   ],
   "source": [
    "df_merged['zip2'].value_counts()"
   ]
  },
  {
   "cell_type": "code",
   "execution_count": 105,
   "metadata": {},
   "outputs": [
    {
     "data": {
      "text/plain": [
       "34449407.0"
      ]
     },
     "execution_count": 105,
     "metadata": {},
     "output_type": "execute_result"
    }
   ],
   "source": [
    "b['latitude']"
   ]
  },
  {
   "cell_type": "code",
   "execution_count": 109,
   "metadata": {},
   "outputs": [
    {
     "data": {
      "text/html": [
       "<div>\n",
       "<style>\n",
       "    .dataframe thead tr:only-child th {\n",
       "        text-align: right;\n",
       "    }\n",
       "\n",
       "    .dataframe thead th {\n",
       "        text-align: left;\n",
       "    }\n",
       "\n",
       "    .dataframe tbody tr th {\n",
       "        vertical-align: top;\n",
       "    }\n",
       "</style>\n",
       "<table border=\"1\" class=\"dataframe\">\n",
       "  <thead>\n",
       "    <tr style=\"text-align: right;\">\n",
       "      <th></th>\n",
       "      <th>Unnamed: 0</th>\n",
       "      <th>parcelid</th>\n",
       "      <th>airconditioningtypeid</th>\n",
       "      <th>bedroomcnt</th>\n",
       "      <th>buildingqualitytypeid</th>\n",
       "      <th>calculatedbathnbr</th>\n",
       "      <th>calculatedfinishedsquarefeet</th>\n",
       "      <th>fips</th>\n",
       "      <th>fireplacecnt</th>\n",
       "      <th>fullbathcnt</th>\n",
       "      <th>...</th>\n",
       "      <th>assessmentyear</th>\n",
       "      <th>landtaxvaluedollarcnt</th>\n",
       "      <th>taxamount</th>\n",
       "      <th>taxdelinquencyflag</th>\n",
       "      <th>taxdelinquencyyear</th>\n",
       "      <th>logerror</th>\n",
       "      <th>transactiondate</th>\n",
       "      <th>setyear</th>\n",
       "      <th>pooltype</th>\n",
       "      <th>zipcode</th>\n",
       "    </tr>\n",
       "  </thead>\n",
       "  <tbody>\n",
       "    <tr>\n",
       "      <th>0</th>\n",
       "      <td>0</td>\n",
       "      <td>17073783</td>\n",
       "      <td>5.0</td>\n",
       "      <td>3.0</td>\n",
       "      <td>6.013597</td>\n",
       "      <td>2.5</td>\n",
       "      <td>1264.0</td>\n",
       "      <td>6111.0</td>\n",
       "      <td>0.0</td>\n",
       "      <td>2.0</td>\n",
       "      <td>...</td>\n",
       "      <td>2015.0</td>\n",
       "      <td>76724.0</td>\n",
       "      <td>2015.06</td>\n",
       "      <td>N</td>\n",
       "      <td>NaN</td>\n",
       "      <td>0.0953</td>\n",
       "      <td>2016-01-27</td>\n",
       "      <td>2016</td>\n",
       "      <td>0</td>\n",
       "      <td>93001</td>\n",
       "    </tr>\n",
       "    <tr>\n",
       "      <th>1</th>\n",
       "      <td>1</td>\n",
       "      <td>17088994</td>\n",
       "      <td>5.0</td>\n",
       "      <td>2.0</td>\n",
       "      <td>6.013597</td>\n",
       "      <td>1.0</td>\n",
       "      <td>777.0</td>\n",
       "      <td>6111.0</td>\n",
       "      <td>0.0</td>\n",
       "      <td>1.0</td>\n",
       "      <td>...</td>\n",
       "      <td>2015.0</td>\n",
       "      <td>95870.0</td>\n",
       "      <td>2581.30</td>\n",
       "      <td>N</td>\n",
       "      <td>NaN</td>\n",
       "      <td>0.0198</td>\n",
       "      <td>2016-03-30</td>\n",
       "      <td>2016</td>\n",
       "      <td>0</td>\n",
       "      <td>93004</td>\n",
       "    </tr>\n",
       "    <tr>\n",
       "      <th>2</th>\n",
       "      <td>2</td>\n",
       "      <td>17088994</td>\n",
       "      <td>5.0</td>\n",
       "      <td>2.0</td>\n",
       "      <td>6.013597</td>\n",
       "      <td>1.0</td>\n",
       "      <td>777.0</td>\n",
       "      <td>6111.0</td>\n",
       "      <td>0.0</td>\n",
       "      <td>1.0</td>\n",
       "      <td>...</td>\n",
       "      <td>2015.0</td>\n",
       "      <td>95870.0</td>\n",
       "      <td>2581.30</td>\n",
       "      <td>N</td>\n",
       "      <td>NaN</td>\n",
       "      <td>0.0198</td>\n",
       "      <td>2016-03-30</td>\n",
       "      <td>2016</td>\n",
       "      <td>0</td>\n",
       "      <td>93004</td>\n",
       "    </tr>\n",
       "    <tr>\n",
       "      <th>3</th>\n",
       "      <td>3</td>\n",
       "      <td>17088994</td>\n",
       "      <td>5.0</td>\n",
       "      <td>2.0</td>\n",
       "      <td>6.013597</td>\n",
       "      <td>1.0</td>\n",
       "      <td>777.0</td>\n",
       "      <td>6111.0</td>\n",
       "      <td>0.0</td>\n",
       "      <td>1.0</td>\n",
       "      <td>...</td>\n",
       "      <td>2015.0</td>\n",
       "      <td>95870.0</td>\n",
       "      <td>2581.30</td>\n",
       "      <td>N</td>\n",
       "      <td>NaN</td>\n",
       "      <td>0.0198</td>\n",
       "      <td>2016-03-30</td>\n",
       "      <td>2016</td>\n",
       "      <td>0</td>\n",
       "      <td>93004</td>\n",
       "    </tr>\n",
       "    <tr>\n",
       "      <th>4</th>\n",
       "      <td>4</td>\n",
       "      <td>17088994</td>\n",
       "      <td>5.0</td>\n",
       "      <td>2.0</td>\n",
       "      <td>6.013597</td>\n",
       "      <td>1.0</td>\n",
       "      <td>777.0</td>\n",
       "      <td>6111.0</td>\n",
       "      <td>0.0</td>\n",
       "      <td>1.0</td>\n",
       "      <td>...</td>\n",
       "      <td>2015.0</td>\n",
       "      <td>95870.0</td>\n",
       "      <td>2581.30</td>\n",
       "      <td>N</td>\n",
       "      <td>NaN</td>\n",
       "      <td>0.0198</td>\n",
       "      <td>2016-03-30</td>\n",
       "      <td>2016</td>\n",
       "      <td>0</td>\n",
       "      <td>93004</td>\n",
       "    </tr>\n",
       "  </tbody>\n",
       "</table>\n",
       "<p>5 rows × 46 columns</p>\n",
       "</div>"
      ],
      "text/plain": [
       "   Unnamed: 0  parcelid  airconditioningtypeid  bedroomcnt  \\\n",
       "0           0  17073783                    5.0         3.0   \n",
       "1           1  17088994                    5.0         2.0   \n",
       "2           2  17088994                    5.0         2.0   \n",
       "3           3  17088994                    5.0         2.0   \n",
       "4           4  17088994                    5.0         2.0   \n",
       "\n",
       "   buildingqualitytypeid  calculatedbathnbr  calculatedfinishedsquarefeet  \\\n",
       "0               6.013597                2.5                        1264.0   \n",
       "1               6.013597                1.0                         777.0   \n",
       "2               6.013597                1.0                         777.0   \n",
       "3               6.013597                1.0                         777.0   \n",
       "4               6.013597                1.0                         777.0   \n",
       "\n",
       "     fips  fireplacecnt  fullbathcnt   ...     assessmentyear  \\\n",
       "0  6111.0           0.0          2.0   ...             2015.0   \n",
       "1  6111.0           0.0          1.0   ...             2015.0   \n",
       "2  6111.0           0.0          1.0   ...             2015.0   \n",
       "3  6111.0           0.0          1.0   ...             2015.0   \n",
       "4  6111.0           0.0          1.0   ...             2015.0   \n",
       "\n",
       "   landtaxvaluedollarcnt  taxamount  taxdelinquencyflag  taxdelinquencyyear  \\\n",
       "0                76724.0    2015.06                   N                 NaN   \n",
       "1                95870.0    2581.30                   N                 NaN   \n",
       "2                95870.0    2581.30                   N                 NaN   \n",
       "3                95870.0    2581.30                   N                 NaN   \n",
       "4                95870.0    2581.30                   N                 NaN   \n",
       "\n",
       "   logerror  transactiondate  setyear  pooltype  zipcode  \n",
       "0    0.0953       2016-01-27     2016         0    93001  \n",
       "1    0.0198       2016-03-30     2016         0    93004  \n",
       "2    0.0198       2016-03-30     2016         0    93004  \n",
       "3    0.0198       2016-03-30     2016         0    93004  \n",
       "4    0.0198       2016-03-30     2016         0    93004  \n",
       "\n",
       "[5 rows x 46 columns]"
      ]
     },
     "execution_count": 109,
     "metadata": {},
     "output_type": "execute_result"
    }
   ],
   "source": [
    "clean = pd.read_csv('clean_data.csv', low_memory=False)\n",
    "clean.head()"
   ]
  },
  {
   "cell_type": "code",
   "execution_count": 110,
   "metadata": {
    "scrolled": true
   },
   "outputs": [
    {
     "data": {
      "text/plain": [
       "Unnamed: 0                      205782\n",
       "parcelid                        205782\n",
       "airconditioningtypeid           205782\n",
       "bedroomcnt                      205782\n",
       "buildingqualitytypeid           205782\n",
       "calculatedbathnbr               205782\n",
       "calculatedfinishedsquarefeet    205782\n",
       "fips                            205782\n",
       "fireplacecnt                    205782\n",
       "fullbathcnt                     205782\n",
       "garagecarcnt                    205782\n",
       "garagetotalsqft                 205782\n",
       "hashottuborspa                  205782\n",
       "heatingorsystemtypeid           130547\n",
       "latitude                        205782\n",
       "longitude                       205782\n",
       "lotsizesquarefeet               205782\n",
       "poolcnt                         205782\n",
       "pooltypeid10                      1815\n",
       "pooltypeid2                       2677\n",
       "pooltypeid7                      38105\n",
       "propertycountylandusecode       205781\n",
       "propertylandusetypeid           205782\n",
       "propertyzoningdesc              134841\n",
       "rawcensustractandblock          205782\n",
       "regionidcity                    201961\n",
       "regionidcounty                  205782\n",
       "regionidneighborhood             83348\n",
       "regionidzip                     205669\n",
       "roomcnt                         205782\n",
       "unitcnt                         135045\n",
       "yearbuilt                       205782\n",
       "numberofstories                 205782\n",
       "fireplaceflag                   205782\n",
       "structuretaxvaluedollarcnt      205782\n",
       "taxvaluedollarcnt               205782\n",
       "assessmentyear                  205782\n",
       "landtaxvaluedollarcnt           205782\n",
       "taxamount                       205782\n",
       "taxdelinquencyflag              205782\n",
       "taxdelinquencyyear                6839\n",
       "logerror                        205782\n",
       "transactiondate                 205782\n",
       "setyear                         205782\n",
       "pooltype                        205782\n",
       "zipcode                         205782\n",
       "dtype: int64"
      ]
     },
     "execution_count": 110,
     "metadata": {},
     "output_type": "execute_result"
    }
   ],
   "source": [
    "clean.count()"
   ]
  },
  {
   "cell_type": "code",
   "execution_count": 127,
   "metadata": {},
   "outputs": [],
   "source": [
    "import datetime\n",
    "\n",
    "#df_merged['taxdelinquencyyear'].fillna(df_merged.loc['setyear'],inplace=True)\n",
    "#df_merged['setyear']='2017'\n",
    "\n",
    "format = '%Y'\n",
    "df_merged['taxdelinquencyyear'] = pd.to_datetime(df_merged.loc[:,'taxdelinquencyyear'])\n",
    "df_merged['setyear'] = pd.to_datetime(df_merged.loc[:,'setyear'])\n",
    "\n",
    "\n",
    "\n",
    "\n",
    "\n"
   ]
  },
  {
   "cell_type": "code",
   "execution_count": 129,
   "metadata": {},
   "outputs": [
    {
     "data": {
      "text/plain": [
       "count                              2900\n",
       "unique                               13\n",
       "top       1970-01-01 00:00:00.000000015\n",
       "freq                               1560\n",
       "first     1970-01-01 00:00:00.000000003\n",
       "last      1970-01-01 00:00:00.000000099\n",
       "Name: taxdelinquencyyear, dtype: object"
      ]
     },
     "execution_count": 129,
     "metadata": {},
     "output_type": "execute_result"
    }
   ],
   "source": [
    "df_merged['taxdelinquencyyear'].describe()"
   ]
  },
  {
   "cell_type": "code",
   "execution_count": 133,
   "metadata": {
    "collapsed": true
   },
   "outputs": [],
   "source": [
    "df_merged['setyear']=2017"
   ]
  },
  {
   "cell_type": "code",
   "execution_count": 152,
   "metadata": {},
   "outputs": [],
   "source": [
    "def calcyr(t, s):\n",
    "    if np.isnan(t):\n",
    "        return 0\n",
    "    else:\n",
    "        return s - t\n",
    "\n",
    "df_merged['taxdelinquencyage'] = df_merged.apply(lambda x: calcyr(x['taxdelinquencyyear'], x['setyear']), axis=1)"
   ]
  },
  {
   "cell_type": "code",
   "execution_count": 153,
   "metadata": {},
   "outputs": [
    {
     "data": {
      "text/plain": [
       "0.0     74713\n",
       "2.0      1560\n",
       "3.0       801\n",
       "4.0       187\n",
       "5.0       113\n",
       "6.0        98\n",
       "7.0        66\n",
       "8.0        47\n",
       "9.0        14\n",
       "10.0       10\n",
       "13.0        1\n",
       "11.0        1\n",
       "14.0        1\n",
       "18.0        1\n",
       "Name: taxdelinquencyage, dtype: int64"
      ]
     },
     "execution_count": 153,
     "metadata": {},
     "output_type": "execute_result"
    }
   ],
   "source": [
    "df_merged['taxdelinquencyage'].value_counts()"
   ]
  },
  {
   "cell_type": "code",
   "execution_count": 151,
   "metadata": {},
   "outputs": [],
   "source": [
    "def convertyears(x):\n",
    "    if x > 9 and x < 20:\n",
    "        t = '20' + str(x)\n",
    "        return float(t)\n",
    "    elif x <= 9:\n",
    "        t = '200' + str(x)\n",
    "        return float(t)\n",
    "    elif x > 20:\n",
    "        t = '19' + str(x)\n",
    "        return float(t)\n",
    "    else:\n",
    "        return np.nan\n",
    "\n",
    "df_merged['taxdelinquencyyear'] = df_merged['taxdelinquencyyear'].map(lambda a: convertyears(a))\n",
    "\n"
   ]
  },
  {
   "cell_type": "code",
   "execution_count": 139,
   "metadata": {},
   "outputs": [
    {
     "data": {
      "text/plain": [
       "0"
      ]
     },
     "execution_count": 139,
     "metadata": {},
     "output_type": "execute_result"
    }
   ],
   "source": [
    "def calcyr(t, s):\n",
    "    if np.isnan(t):\n",
    "        return 0\n",
    "    else:\n",
    "        return s - t\n",
    "    \n",
    "calcyr(a['taxdelinquencyyear'],a['setyear'])"
   ]
  },
  {
   "cell_type": "code",
   "execution_count": 157,
   "metadata": {},
   "outputs": [
    {
     "data": {
      "text/html": [
       "<div>\n",
       "<style>\n",
       "    .dataframe thead tr:only-child th {\n",
       "        text-align: right;\n",
       "    }\n",
       "\n",
       "    .dataframe thead th {\n",
       "        text-align: left;\n",
       "    }\n",
       "\n",
       "    .dataframe tbody tr th {\n",
       "        vertical-align: top;\n",
       "    }\n",
       "</style>\n",
       "<table border=\"1\" class=\"dataframe\">\n",
       "  <thead>\n",
       "    <tr style=\"text-align: right;\">\n",
       "      <th></th>\n",
       "      <th>taxdelinquencyage</th>\n",
       "      <th>logerror</th>\n",
       "    </tr>\n",
       "  </thead>\n",
       "  <tbody>\n",
       "    <tr>\n",
       "      <th>taxdelinquencyage</th>\n",
       "      <td>1.000000</td>\n",
       "      <td>0.078384</td>\n",
       "    </tr>\n",
       "    <tr>\n",
       "      <th>logerror</th>\n",
       "      <td>0.078384</td>\n",
       "      <td>1.000000</td>\n",
       "    </tr>\n",
       "  </tbody>\n",
       "</table>\n",
       "</div>"
      ],
      "text/plain": [
       "                   taxdelinquencyage  logerror\n",
       "taxdelinquencyage           1.000000  0.078384\n",
       "logerror                    0.078384  1.000000"
      ]
     },
     "execution_count": 157,
     "metadata": {},
     "output_type": "execute_result"
    }
   ],
   "source": [
    "columns = ['taxdelinquencyage','logerror']\n",
    "df_merged[columns].corr()"
   ]
  },
  {
   "cell_type": "code",
   "execution_count": 155,
   "metadata": {},
   "outputs": [
    {
     "data": {
      "text/html": [
       "<div>\n",
       "<style>\n",
       "    .dataframe thead tr:only-child th {\n",
       "        text-align: right;\n",
       "    }\n",
       "\n",
       "    .dataframe thead th {\n",
       "        text-align: left;\n",
       "    }\n",
       "\n",
       "    .dataframe tbody tr th {\n",
       "        vertical-align: top;\n",
       "    }\n",
       "</style>\n",
       "<table border=\"1\" class=\"dataframe\">\n",
       "  <thead>\n",
       "    <tr style=\"text-align: right;\">\n",
       "      <th></th>\n",
       "      <th>taxdelinquencyyear</th>\n",
       "      <th>logerror</th>\n",
       "    </tr>\n",
       "  </thead>\n",
       "  <tbody>\n",
       "    <tr>\n",
       "      <th>taxdelinquencyyear</th>\n",
       "      <td>1.000000</td>\n",
       "      <td>-0.078384</td>\n",
       "    </tr>\n",
       "    <tr>\n",
       "      <th>logerror</th>\n",
       "      <td>-0.078384</td>\n",
       "      <td>1.000000</td>\n",
       "    </tr>\n",
       "  </tbody>\n",
       "</table>\n",
       "</div>"
      ],
      "text/plain": [
       "                    taxdelinquencyyear  logerror\n",
       "taxdelinquencyyear            1.000000 -0.078384\n",
       "logerror                     -0.078384  1.000000"
      ]
     },
     "execution_count": 155,
     "metadata": {},
     "output_type": "execute_result"
    }
   ],
   "source": [
    "columns = ['taxdelinquencyyear','logerror']\n",
    "df_merged[columns].corr()"
   ]
  },
  {
   "cell_type": "code",
   "execution_count": 156,
   "metadata": {
    "collapsed": true
   },
   "outputs": [],
   "source": [
    "df_merged['taxdelinquencyage'].replace(0, np.nan, inplace=True)"
   ]
  },
  {
   "cell_type": "code",
   "execution_count": 161,
   "metadata": {
    "scrolled": true
   },
   "outputs": [
    {
     "data": {
      "text/html": [
       "<div>\n",
       "<style>\n",
       "    .dataframe thead tr:only-child th {\n",
       "        text-align: right;\n",
       "    }\n",
       "\n",
       "    .dataframe thead th {\n",
       "        text-align: left;\n",
       "    }\n",
       "\n",
       "    .dataframe tbody tr th {\n",
       "        vertical-align: top;\n",
       "    }\n",
       "</style>\n",
       "<table border=\"1\" class=\"dataframe\">\n",
       "  <thead>\n",
       "    <tr style=\"text-align: right;\">\n",
       "      <th></th>\n",
       "      <th>count</th>\n",
       "      <th>mean</th>\n",
       "      <th>std</th>\n",
       "      <th>min</th>\n",
       "      <th>25%</th>\n",
       "      <th>50%</th>\n",
       "      <th>75%</th>\n",
       "      <th>max</th>\n",
       "    </tr>\n",
       "    <tr>\n",
       "      <th>taxdelinquencyflag</th>\n",
       "      <th></th>\n",
       "      <th></th>\n",
       "      <th></th>\n",
       "      <th></th>\n",
       "      <th></th>\n",
       "      <th></th>\n",
       "      <th></th>\n",
       "      <th></th>\n",
       "    </tr>\n",
       "  </thead>\n",
       "  <tbody>\n",
       "    <tr>\n",
       "      <th>N</th>\n",
       "      <td>74713.0</td>\n",
       "      <td>0.016216</td>\n",
       "      <td>0.168779</td>\n",
       "      <td>-4.655420</td>\n",
       "      <td>-0.024144</td>\n",
       "      <td>0.006516</td>\n",
       "      <td>0.038626</td>\n",
       "      <td>5.262999</td>\n",
       "    </tr>\n",
       "    <tr>\n",
       "      <th>Y</th>\n",
       "      <td>2900.0</td>\n",
       "      <td>0.030629</td>\n",
       "      <td>0.217870</td>\n",
       "      <td>-2.327432</td>\n",
       "      <td>-0.032788</td>\n",
       "      <td>0.012049</td>\n",
       "      <td>0.059816</td>\n",
       "      <td>3.041528</td>\n",
       "    </tr>\n",
       "  </tbody>\n",
       "</table>\n",
       "</div>"
      ],
      "text/plain": [
       "                      count      mean       std       min       25%       50%  \\\n",
       "taxdelinquencyflag                                                              \n",
       "N                   74713.0  0.016216  0.168779 -4.655420 -0.024144  0.006516   \n",
       "Y                    2900.0  0.030629  0.217870 -2.327432 -0.032788  0.012049   \n",
       "\n",
       "                         75%       max  \n",
       "taxdelinquencyflag                      \n",
       "N                   0.038626  5.262999  \n",
       "Y                   0.059816  3.041528  "
      ]
     },
     "execution_count": 161,
     "metadata": {},
     "output_type": "execute_result"
    }
   ],
   "source": [
    "#columns = ['taxdelinquencyflag','logerror']\n",
    "#df_merged[columns].corr()\n",
    "df_merged['taxdelinquencyflag'].fillna('N', inplace=True)\n",
    "df_merged.groupby('taxdelinquencyflag')['logerror'].describe()"
   ]
  },
  {
   "cell_type": "code",
   "execution_count": 162,
   "metadata": {},
   "outputs": [
    {
     "data": {
      "text/html": [
       "<div>\n",
       "<style>\n",
       "    .dataframe thead tr:only-child th {\n",
       "        text-align: right;\n",
       "    }\n",
       "\n",
       "    .dataframe thead th {\n",
       "        text-align: left;\n",
       "    }\n",
       "\n",
       "    .dataframe tbody tr th {\n",
       "        vertical-align: top;\n",
       "    }\n",
       "</style>\n",
       "<table border=\"1\" class=\"dataframe\">\n",
       "  <thead>\n",
       "    <tr style=\"text-align: right;\">\n",
       "      <th></th>\n",
       "      <th>Unnamed: 0</th>\n",
       "      <th>parcelid</th>\n",
       "      <th>airconditioningtypeid</th>\n",
       "      <th>bedroomcnt</th>\n",
       "      <th>buildingqualitytypeid</th>\n",
       "      <th>calculatedbathnbr</th>\n",
       "      <th>calculatedfinishedsquarefeet</th>\n",
       "      <th>fips</th>\n",
       "      <th>fireplacecnt</th>\n",
       "      <th>fullbathcnt</th>\n",
       "      <th>...</th>\n",
       "      <th>assessmentyear</th>\n",
       "      <th>landtaxvaluedollarcnt</th>\n",
       "      <th>taxamount</th>\n",
       "      <th>taxdelinquencyflag</th>\n",
       "      <th>taxdelinquencyyear</th>\n",
       "      <th>logerror</th>\n",
       "      <th>transactiondate</th>\n",
       "      <th>setyear</th>\n",
       "      <th>pooltype</th>\n",
       "      <th>zipcode</th>\n",
       "    </tr>\n",
       "  </thead>\n",
       "  <tbody>\n",
       "    <tr>\n",
       "      <th>0</th>\n",
       "      <td>0</td>\n",
       "      <td>17073783</td>\n",
       "      <td>5.0</td>\n",
       "      <td>3.0</td>\n",
       "      <td>6.013597</td>\n",
       "      <td>2.5</td>\n",
       "      <td>1264.0</td>\n",
       "      <td>6111.0</td>\n",
       "      <td>0.0</td>\n",
       "      <td>2.0</td>\n",
       "      <td>...</td>\n",
       "      <td>2015.0</td>\n",
       "      <td>76724.0</td>\n",
       "      <td>2015.06</td>\n",
       "      <td>N</td>\n",
       "      <td>NaN</td>\n",
       "      <td>0.0953</td>\n",
       "      <td>2016-01-27</td>\n",
       "      <td>2016</td>\n",
       "      <td>0</td>\n",
       "      <td>93001</td>\n",
       "    </tr>\n",
       "    <tr>\n",
       "      <th>1</th>\n",
       "      <td>1</td>\n",
       "      <td>17088994</td>\n",
       "      <td>5.0</td>\n",
       "      <td>2.0</td>\n",
       "      <td>6.013597</td>\n",
       "      <td>1.0</td>\n",
       "      <td>777.0</td>\n",
       "      <td>6111.0</td>\n",
       "      <td>0.0</td>\n",
       "      <td>1.0</td>\n",
       "      <td>...</td>\n",
       "      <td>2015.0</td>\n",
       "      <td>95870.0</td>\n",
       "      <td>2581.30</td>\n",
       "      <td>N</td>\n",
       "      <td>NaN</td>\n",
       "      <td>0.0198</td>\n",
       "      <td>2016-03-30</td>\n",
       "      <td>2016</td>\n",
       "      <td>0</td>\n",
       "      <td>93004</td>\n",
       "    </tr>\n",
       "    <tr>\n",
       "      <th>2</th>\n",
       "      <td>2</td>\n",
       "      <td>17088994</td>\n",
       "      <td>5.0</td>\n",
       "      <td>2.0</td>\n",
       "      <td>6.013597</td>\n",
       "      <td>1.0</td>\n",
       "      <td>777.0</td>\n",
       "      <td>6111.0</td>\n",
       "      <td>0.0</td>\n",
       "      <td>1.0</td>\n",
       "      <td>...</td>\n",
       "      <td>2015.0</td>\n",
       "      <td>95870.0</td>\n",
       "      <td>2581.30</td>\n",
       "      <td>N</td>\n",
       "      <td>NaN</td>\n",
       "      <td>0.0198</td>\n",
       "      <td>2016-03-30</td>\n",
       "      <td>2016</td>\n",
       "      <td>0</td>\n",
       "      <td>93004</td>\n",
       "    </tr>\n",
       "    <tr>\n",
       "      <th>3</th>\n",
       "      <td>3</td>\n",
       "      <td>17088994</td>\n",
       "      <td>5.0</td>\n",
       "      <td>2.0</td>\n",
       "      <td>6.013597</td>\n",
       "      <td>1.0</td>\n",
       "      <td>777.0</td>\n",
       "      <td>6111.0</td>\n",
       "      <td>0.0</td>\n",
       "      <td>1.0</td>\n",
       "      <td>...</td>\n",
       "      <td>2015.0</td>\n",
       "      <td>95870.0</td>\n",
       "      <td>2581.30</td>\n",
       "      <td>N</td>\n",
       "      <td>NaN</td>\n",
       "      <td>0.0198</td>\n",
       "      <td>2016-03-30</td>\n",
       "      <td>2016</td>\n",
       "      <td>0</td>\n",
       "      <td>93004</td>\n",
       "    </tr>\n",
       "    <tr>\n",
       "      <th>4</th>\n",
       "      <td>4</td>\n",
       "      <td>17088994</td>\n",
       "      <td>5.0</td>\n",
       "      <td>2.0</td>\n",
       "      <td>6.013597</td>\n",
       "      <td>1.0</td>\n",
       "      <td>777.0</td>\n",
       "      <td>6111.0</td>\n",
       "      <td>0.0</td>\n",
       "      <td>1.0</td>\n",
       "      <td>...</td>\n",
       "      <td>2015.0</td>\n",
       "      <td>95870.0</td>\n",
       "      <td>2581.30</td>\n",
       "      <td>N</td>\n",
       "      <td>NaN</td>\n",
       "      <td>0.0198</td>\n",
       "      <td>2016-03-30</td>\n",
       "      <td>2016</td>\n",
       "      <td>0</td>\n",
       "      <td>93004</td>\n",
       "    </tr>\n",
       "  </tbody>\n",
       "</table>\n",
       "<p>5 rows × 46 columns</p>\n",
       "</div>"
      ],
      "text/plain": [
       "   Unnamed: 0  parcelid  airconditioningtypeid  bedroomcnt  \\\n",
       "0           0  17073783                    5.0         3.0   \n",
       "1           1  17088994                    5.0         2.0   \n",
       "2           2  17088994                    5.0         2.0   \n",
       "3           3  17088994                    5.0         2.0   \n",
       "4           4  17088994                    5.0         2.0   \n",
       "\n",
       "   buildingqualitytypeid  calculatedbathnbr  calculatedfinishedsquarefeet  \\\n",
       "0               6.013597                2.5                        1264.0   \n",
       "1               6.013597                1.0                         777.0   \n",
       "2               6.013597                1.0                         777.0   \n",
       "3               6.013597                1.0                         777.0   \n",
       "4               6.013597                1.0                         777.0   \n",
       "\n",
       "     fips  fireplacecnt  fullbathcnt   ...     assessmentyear  \\\n",
       "0  6111.0           0.0          2.0   ...             2015.0   \n",
       "1  6111.0           0.0          1.0   ...             2015.0   \n",
       "2  6111.0           0.0          1.0   ...             2015.0   \n",
       "3  6111.0           0.0          1.0   ...             2015.0   \n",
       "4  6111.0           0.0          1.0   ...             2015.0   \n",
       "\n",
       "   landtaxvaluedollarcnt  taxamount  taxdelinquencyflag  taxdelinquencyyear  \\\n",
       "0                76724.0    2015.06                   N                 NaN   \n",
       "1                95870.0    2581.30                   N                 NaN   \n",
       "2                95870.0    2581.30                   N                 NaN   \n",
       "3                95870.0    2581.30                   N                 NaN   \n",
       "4                95870.0    2581.30                   N                 NaN   \n",
       "\n",
       "   logerror  transactiondate  setyear  pooltype  zipcode  \n",
       "0    0.0953       2016-01-27     2016         0    93001  \n",
       "1    0.0198       2016-03-30     2016         0    93004  \n",
       "2    0.0198       2016-03-30     2016         0    93004  \n",
       "3    0.0198       2016-03-30     2016         0    93004  \n",
       "4    0.0198       2016-03-30     2016         0    93004  \n",
       "\n",
       "[5 rows x 46 columns]"
      ]
     },
     "execution_count": 162,
     "metadata": {},
     "output_type": "execute_result"
    }
   ],
   "source": [
    "clean = pd.read_csv('clean_data.csv', low_memory=False)\n",
    "clean.head()"
   ]
  },
  {
   "cell_type": "code",
   "execution_count": 163,
   "metadata": {},
   "outputs": [
    {
     "data": {
      "text/plain": [
       "Unnamed: 0                      205782\n",
       "parcelid                        205782\n",
       "airconditioningtypeid           205782\n",
       "bedroomcnt                      205782\n",
       "buildingqualitytypeid           205782\n",
       "calculatedbathnbr               205782\n",
       "calculatedfinishedsquarefeet    205782\n",
       "fips                            205782\n",
       "fireplacecnt                    205782\n",
       "fullbathcnt                     205782\n",
       "garagecarcnt                    205782\n",
       "garagetotalsqft                 205782\n",
       "hashottuborspa                  205782\n",
       "heatingorsystemtypeid           130547\n",
       "latitude                        205782\n",
       "longitude                       205782\n",
       "lotsizesquarefeet               205782\n",
       "poolcnt                         205782\n",
       "pooltypeid10                      1815\n",
       "pooltypeid2                       2677\n",
       "pooltypeid7                      38105\n",
       "propertycountylandusecode       205781\n",
       "propertylandusetypeid           205782\n",
       "propertyzoningdesc              134841\n",
       "rawcensustractandblock          205782\n",
       "regionidcity                    201961\n",
       "regionidcounty                  205782\n",
       "regionidneighborhood             83348\n",
       "regionidzip                     205669\n",
       "roomcnt                         205782\n",
       "unitcnt                         135045\n",
       "yearbuilt                       205782\n",
       "numberofstories                 205782\n",
       "fireplaceflag                   205782\n",
       "structuretaxvaluedollarcnt      205782\n",
       "taxvaluedollarcnt               205782\n",
       "assessmentyear                  205782\n",
       "landtaxvaluedollarcnt           205782\n",
       "taxamount                       205782\n",
       "taxdelinquencyflag              205782\n",
       "taxdelinquencyyear                6839\n",
       "logerror                        205782\n",
       "transactiondate                 205782\n",
       "setyear                         205782\n",
       "pooltype                        205782\n",
       "zipcode                         205782\n",
       "dtype: int64"
      ]
     },
     "execution_count": 163,
     "metadata": {},
     "output_type": "execute_result"
    }
   ],
   "source": [
    "clean.count()"
   ]
  },
  {
   "cell_type": "code",
   "execution_count": 166,
   "metadata": {
    "collapsed": true
   },
   "outputs": [],
   "source": [
    "clean['heatingorsystemtypeid'].fillna(clean['heatingorsystemtypeid'].mode(), inplace=True)"
   ]
  },
  {
   "cell_type": "code",
   "execution_count": 167,
   "metadata": {},
   "outputs": [
    {
     "data": {
      "text/plain": [
       "Unnamed: 0                      205782\n",
       "parcelid                        205782\n",
       "airconditioningtypeid           205782\n",
       "bedroomcnt                      205782\n",
       "buildingqualitytypeid           205782\n",
       "calculatedbathnbr               205782\n",
       "calculatedfinishedsquarefeet    205782\n",
       "fips                            205782\n",
       "fireplacecnt                    205782\n",
       "fullbathcnt                     205782\n",
       "garagecarcnt                    205782\n",
       "garagetotalsqft                 205782\n",
       "hashottuborspa                  205782\n",
       "heatingorsystemtypeid           130547\n",
       "latitude                        205782\n",
       "longitude                       205782\n",
       "lotsizesquarefeet               205782\n",
       "poolcnt                         205782\n",
       "pooltypeid10                      1815\n",
       "pooltypeid2                       2677\n",
       "pooltypeid7                      38105\n",
       "propertycountylandusecode       205781\n",
       "propertylandusetypeid           205782\n",
       "propertyzoningdesc              134841\n",
       "rawcensustractandblock          205782\n",
       "regionidcity                    201961\n",
       "regionidcounty                  205782\n",
       "regionidneighborhood             83348\n",
       "regionidzip                     205669\n",
       "roomcnt                         205782\n",
       "unitcnt                         135045\n",
       "yearbuilt                       205782\n",
       "numberofstories                 205782\n",
       "fireplaceflag                   205782\n",
       "structuretaxvaluedollarcnt      205782\n",
       "taxvaluedollarcnt               205782\n",
       "assessmentyear                  205782\n",
       "landtaxvaluedollarcnt           205782\n",
       "taxamount                       205782\n",
       "taxdelinquencyflag              205782\n",
       "taxdelinquencyyear                6839\n",
       "logerror                        205782\n",
       "transactiondate                 205782\n",
       "setyear                         205782\n",
       "pooltype                        205782\n",
       "zipcode                         205782\n",
       "dtype: int64"
      ]
     },
     "execution_count": 167,
     "metadata": {},
     "output_type": "execute_result"
    }
   ],
   "source": [
    "clean.count()"
   ]
  },
  {
   "cell_type": "code",
   "execution_count": 172,
   "metadata": {},
   "outputs": [
    {
     "data": {
      "text/plain": [
       "0    1.0\n",
       "dtype: float64"
      ]
     },
     "execution_count": 172,
     "metadata": {},
     "output_type": "execute_result"
    }
   ],
   "source": [
    "clean['unitcnt'].mode()"
   ]
  },
  {
   "cell_type": "code",
   "execution_count": 176,
   "metadata": {},
   "outputs": [
    {
     "data": {
      "text/plain": [
       "regionidneighborhood  rawcensustractandblock\n",
       "6952.0                60379200452005            31\n",
       "                      60379200321019            21\n",
       "                      60379200203056            20\n",
       "                      60379200151025            18\n",
       "                      60379200201010            18\n",
       "                      60379200172005            17\n",
       "                      60379200161004            16\n",
       "                      60379200183005            16\n",
       "                      60379201122009            16\n",
       "                      60379200171000            14\n",
       "                      60379200172009            14\n",
       "                      60379200133000            13\n",
       "                      60379200442007            12\n",
       "                      60379200132002            11\n",
       "                      60379200201004            11\n",
       "                      60379200451007            11\n",
       "                      60379200131003            10\n",
       "                      60379200201007            10\n",
       "                      60379201121002            10\n",
       "                      60379200442006             9\n",
       "                      60379201111009             9\n",
       "                      60379201112004             9\n",
       "                      60379201121005             9\n",
       "                      60379201123009             9\n",
       "                      60379200161003             8\n",
       "                      60379200201005             8\n",
       "                      60379200452002             8\n",
       "                      60379201121000             8\n",
       "                      60379200151052             7\n",
       "                      60379200181002             7\n",
       "                                                ..\n",
       "764147.0              60374018003014             1\n",
       "764148.0              60374018003027             3\n",
       "                      60374018003023             2\n",
       "                      60374018002031             1\n",
       "                      60374018003029             1\n",
       "764149.0              60374019024002             1\n",
       "                      60374019024011             1\n",
       "                      60374019024016             1\n",
       "764152.0              60374020011006             1\n",
       "                      60374020011008             1\n",
       "764164.0              60378004083020             2\n",
       "                      60378004083026             2\n",
       "                      60378004084000             2\n",
       "                      60378004084020             2\n",
       "                      60378004083023             1\n",
       "                      60378004084008             1\n",
       "                      60378004084017             1\n",
       "764165.0              60378004081000             1\n",
       "764166.0              60378004083003             3\n",
       "                      60378004083000             2\n",
       "                      60378004083004             2\n",
       "                      60378004061050             1\n",
       "                      60378004061144             1\n",
       "                      60378004083002             1\n",
       "                      60378004083006             1\n",
       "                      60378004083035             1\n",
       "764167.0              60378004083000             3\n",
       "                      60378004081016             2\n",
       "                      60378004081013             1\n",
       "                      60378004081023             1\n",
       "Name: rawcensustractandblock, Length: 24131, dtype: int64"
      ]
     },
     "execution_count": 176,
     "metadata": {},
     "output_type": "execute_result"
    }
   ],
   "source": [
    "clean.groupby('regionidneighborhood')['rawcensustractandblock'].value_counts()"
   ]
  },
  {
   "cell_type": "code",
   "execution_count": 177,
   "metadata": {
    "collapsed": true
   },
   "outputs": [],
   "source": [
    "def lot(a):\n",
    "    if (a == 3589145 or a == 6971010):\n",
    "        return clean['lotsizesquarefeet'].median()\n",
    "    else:\n",
    "        return a\n",
    "clean['lotsizesquarefeet'] = clean['lotsizesquarefeet'].map(lambda a: lot(a))"
   ]
  },
  {
   "cell_type": "code",
   "execution_count": 178,
   "metadata": {},
   "outputs": [
    {
     "data": {
      "text/plain": [
       "2831752.0"
      ]
     },
     "execution_count": 178,
     "metadata": {},
     "output_type": "execute_result"
    }
   ],
   "source": [
    "clean['lotsizesquarefeet'].max()"
   ]
  },
  {
   "cell_type": "code",
   "execution_count": 183,
   "metadata": {},
   "outputs": [],
   "source": [
    "a = clean[clean['calculatedfinishedsquarefeet'] < 100]\n",
    "b = a[a['fullbathcnt']==20]"
   ]
  },
  {
   "cell_type": "code",
   "execution_count": 186,
   "metadata": {},
   "outputs": [
    {
     "data": {
      "text/html": [
       "<div>\n",
       "<style>\n",
       "    .dataframe thead tr:only-child th {\n",
       "        text-align: right;\n",
       "    }\n",
       "\n",
       "    .dataframe thead th {\n",
       "        text-align: left;\n",
       "    }\n",
       "\n",
       "    .dataframe tbody tr th {\n",
       "        vertical-align: top;\n",
       "    }\n",
       "</style>\n",
       "<table border=\"1\" class=\"dataframe\">\n",
       "  <thead>\n",
       "    <tr style=\"text-align: right;\">\n",
       "      <th></th>\n",
       "      <th>Unnamed: 0</th>\n",
       "      <th>parcelid</th>\n",
       "      <th>airconditioningtypeid</th>\n",
       "      <th>bedroomcnt</th>\n",
       "      <th>buildingqualitytypeid</th>\n",
       "      <th>calculatedbathnbr</th>\n",
       "      <th>calculatedfinishedsquarefeet</th>\n",
       "      <th>fips</th>\n",
       "      <th>fireplacecnt</th>\n",
       "      <th>fullbathcnt</th>\n",
       "      <th>...</th>\n",
       "      <th>structuretaxvaluedollarcnt</th>\n",
       "      <th>taxvaluedollarcnt</th>\n",
       "      <th>assessmentyear</th>\n",
       "      <th>landtaxvaluedollarcnt</th>\n",
       "      <th>taxamount</th>\n",
       "      <th>taxdelinquencyyear</th>\n",
       "      <th>logerror</th>\n",
       "      <th>setyear</th>\n",
       "      <th>pooltype</th>\n",
       "      <th>zipcode</th>\n",
       "    </tr>\n",
       "  </thead>\n",
       "  <tbody>\n",
       "    <tr>\n",
       "      <th>count</th>\n",
       "      <td>3.00000</td>\n",
       "      <td>3.000000e+00</td>\n",
       "      <td>3.000000</td>\n",
       "      <td>3.000000</td>\n",
       "      <td>3.000000</td>\n",
       "      <td>3.000000</td>\n",
       "      <td>3.000000</td>\n",
       "      <td>3.0</td>\n",
       "      <td>3.0</td>\n",
       "      <td>3.000000</td>\n",
       "      <td>...</td>\n",
       "      <td>3.000000</td>\n",
       "      <td>3.000000</td>\n",
       "      <td>3.0</td>\n",
       "      <td>3.000000</td>\n",
       "      <td>3.000000</td>\n",
       "      <td>0.0</td>\n",
       "      <td>3.000000</td>\n",
       "      <td>3.0</td>\n",
       "      <td>3.0</td>\n",
       "      <td>3.000000</td>\n",
       "    </tr>\n",
       "    <tr>\n",
       "      <th>mean</th>\n",
       "      <td>88253.00000</td>\n",
       "      <td>1.167036e+07</td>\n",
       "      <td>3.666667</td>\n",
       "      <td>1.000000</td>\n",
       "      <td>5.671199</td>\n",
       "      <td>8.333333</td>\n",
       "      <td>36.000000</td>\n",
       "      <td>6037.0</td>\n",
       "      <td>0.0</td>\n",
       "      <td>8.333333</td>\n",
       "      <td>...</td>\n",
       "      <td>114618.000000</td>\n",
       "      <td>190803.666667</td>\n",
       "      <td>2015.0</td>\n",
       "      <td>76185.666667</td>\n",
       "      <td>2353.126667</td>\n",
       "      <td>NaN</td>\n",
       "      <td>0.851833</td>\n",
       "      <td>2016.0</td>\n",
       "      <td>0.0</td>\n",
       "      <td>90584.333333</td>\n",
       "    </tr>\n",
       "    <tr>\n",
       "      <th>std</th>\n",
       "      <td>25502.26933</td>\n",
       "      <td>9.261639e+05</td>\n",
       "      <td>2.309401</td>\n",
       "      <td>1.732051</td>\n",
       "      <td>1.529028</td>\n",
       "      <td>10.115994</td>\n",
       "      <td>32.186954</td>\n",
       "      <td>0.0</td>\n",
       "      <td>0.0</td>\n",
       "      <td>10.115994</td>\n",
       "      <td>...</td>\n",
       "      <td>99405.300578</td>\n",
       "      <td>172424.138323</td>\n",
       "      <td>0.0</td>\n",
       "      <td>79409.780924</td>\n",
       "      <td>2091.300657</td>\n",
       "      <td>NaN</td>\n",
       "      <td>1.465958</td>\n",
       "      <td>0.0</td>\n",
       "      <td>0.0</td>\n",
       "      <td>715.206497</td>\n",
       "    </tr>\n",
       "    <tr>\n",
       "      <th>min</th>\n",
       "      <td>59324.00000</td>\n",
       "      <td>1.082595e+07</td>\n",
       "      <td>1.000000</td>\n",
       "      <td>0.000000</td>\n",
       "      <td>4.000000</td>\n",
       "      <td>2.000000</td>\n",
       "      <td>2.000000</td>\n",
       "      <td>6037.0</td>\n",
       "      <td>0.0</td>\n",
       "      <td>2.000000</td>\n",
       "      <td>...</td>\n",
       "      <td>104.000000</td>\n",
       "      <td>1044.000000</td>\n",
       "      <td>2015.0</td>\n",
       "      <td>940.000000</td>\n",
       "      <td>64.000000</td>\n",
       "      <td>NaN</td>\n",
       "      <td>-0.032500</td>\n",
       "      <td>2016.0</td>\n",
       "      <td>0.0</td>\n",
       "      <td>90094.000000</td>\n",
       "    </tr>\n",
       "    <tr>\n",
       "      <th>25%</th>\n",
       "      <td>78638.50000</td>\n",
       "      <td>1.117509e+07</td>\n",
       "      <td>3.000000</td>\n",
       "      <td>0.000000</td>\n",
       "      <td>5.006798</td>\n",
       "      <td>2.500000</td>\n",
       "      <td>21.000000</td>\n",
       "      <td>6037.0</td>\n",
       "      <td>0.0</td>\n",
       "      <td>2.500000</td>\n",
       "      <td>...</td>\n",
       "      <td>82586.500000</td>\n",
       "      <td>117270.000000</td>\n",
       "      <td>2015.0</td>\n",
       "      <td>34683.500000</td>\n",
       "      <td>1447.880000</td>\n",
       "      <td>NaN</td>\n",
       "      <td>0.005750</td>\n",
       "      <td>2016.0</td>\n",
       "      <td>0.0</td>\n",
       "      <td>90174.000000</td>\n",
       "    </tr>\n",
       "    <tr>\n",
       "      <th>50%</th>\n",
       "      <td>97953.00000</td>\n",
       "      <td>1.152424e+07</td>\n",
       "      <td>5.000000</td>\n",
       "      <td>0.000000</td>\n",
       "      <td>6.013597</td>\n",
       "      <td>3.000000</td>\n",
       "      <td>40.000000</td>\n",
       "      <td>6037.0</td>\n",
       "      <td>0.0</td>\n",
       "      <td>3.000000</td>\n",
       "      <td>...</td>\n",
       "      <td>165069.000000</td>\n",
       "      <td>233496.000000</td>\n",
       "      <td>2015.0</td>\n",
       "      <td>68427.000000</td>\n",
       "      <td>2831.760000</td>\n",
       "      <td>NaN</td>\n",
       "      <td>0.044000</td>\n",
       "      <td>2016.0</td>\n",
       "      <td>0.0</td>\n",
       "      <td>90254.000000</td>\n",
       "    </tr>\n",
       "    <tr>\n",
       "      <th>75%</th>\n",
       "      <td>102717.50000</td>\n",
       "      <td>1.209257e+07</td>\n",
       "      <td>5.000000</td>\n",
       "      <td>1.500000</td>\n",
       "      <td>6.506798</td>\n",
       "      <td>11.500000</td>\n",
       "      <td>53.000000</td>\n",
       "      <td>6037.0</td>\n",
       "      <td>0.0</td>\n",
       "      <td>11.500000</td>\n",
       "      <td>...</td>\n",
       "      <td>171875.000000</td>\n",
       "      <td>285683.500000</td>\n",
       "      <td>2015.0</td>\n",
       "      <td>113808.500000</td>\n",
       "      <td>3497.690000</td>\n",
       "      <td>NaN</td>\n",
       "      <td>1.294000</td>\n",
       "      <td>2016.0</td>\n",
       "      <td>0.0</td>\n",
       "      <td>90829.500000</td>\n",
       "    </tr>\n",
       "    <tr>\n",
       "      <th>max</th>\n",
       "      <td>107482.00000</td>\n",
       "      <td>1.266091e+07</td>\n",
       "      <td>5.000000</td>\n",
       "      <td>3.000000</td>\n",
       "      <td>7.000000</td>\n",
       "      <td>20.000000</td>\n",
       "      <td>66.000000</td>\n",
       "      <td>6037.0</td>\n",
       "      <td>0.0</td>\n",
       "      <td>20.000000</td>\n",
       "      <td>...</td>\n",
       "      <td>178681.000000</td>\n",
       "      <td>337871.000000</td>\n",
       "      <td>2015.0</td>\n",
       "      <td>159190.000000</td>\n",
       "      <td>4163.620000</td>\n",
       "      <td>NaN</td>\n",
       "      <td>2.544000</td>\n",
       "      <td>2016.0</td>\n",
       "      <td>0.0</td>\n",
       "      <td>91405.000000</td>\n",
       "    </tr>\n",
       "  </tbody>\n",
       "</table>\n",
       "<p>8 rows × 40 columns</p>\n",
       "</div>"
      ],
      "text/plain": [
       "         Unnamed: 0      parcelid  airconditioningtypeid  bedroomcnt  \\\n",
       "count       3.00000  3.000000e+00               3.000000    3.000000   \n",
       "mean    88253.00000  1.167036e+07               3.666667    1.000000   \n",
       "std     25502.26933  9.261639e+05               2.309401    1.732051   \n",
       "min     59324.00000  1.082595e+07               1.000000    0.000000   \n",
       "25%     78638.50000  1.117509e+07               3.000000    0.000000   \n",
       "50%     97953.00000  1.152424e+07               5.000000    0.000000   \n",
       "75%    102717.50000  1.209257e+07               5.000000    1.500000   \n",
       "max    107482.00000  1.266091e+07               5.000000    3.000000   \n",
       "\n",
       "       buildingqualitytypeid  calculatedbathnbr  calculatedfinishedsquarefeet  \\\n",
       "count               3.000000           3.000000                      3.000000   \n",
       "mean                5.671199           8.333333                     36.000000   \n",
       "std                 1.529028          10.115994                     32.186954   \n",
       "min                 4.000000           2.000000                      2.000000   \n",
       "25%                 5.006798           2.500000                     21.000000   \n",
       "50%                 6.013597           3.000000                     40.000000   \n",
       "75%                 6.506798          11.500000                     53.000000   \n",
       "max                 7.000000          20.000000                     66.000000   \n",
       "\n",
       "         fips  fireplacecnt  fullbathcnt      ...       \\\n",
       "count     3.0           3.0     3.000000      ...        \n",
       "mean   6037.0           0.0     8.333333      ...        \n",
       "std       0.0           0.0    10.115994      ...        \n",
       "min    6037.0           0.0     2.000000      ...        \n",
       "25%    6037.0           0.0     2.500000      ...        \n",
       "50%    6037.0           0.0     3.000000      ...        \n",
       "75%    6037.0           0.0    11.500000      ...        \n",
       "max    6037.0           0.0    20.000000      ...        \n",
       "\n",
       "       structuretaxvaluedollarcnt  taxvaluedollarcnt  assessmentyear  \\\n",
       "count                    3.000000           3.000000             3.0   \n",
       "mean                114618.000000      190803.666667          2015.0   \n",
       "std                  99405.300578      172424.138323             0.0   \n",
       "min                    104.000000        1044.000000          2015.0   \n",
       "25%                  82586.500000      117270.000000          2015.0   \n",
       "50%                 165069.000000      233496.000000          2015.0   \n",
       "75%                 171875.000000      285683.500000          2015.0   \n",
       "max                 178681.000000      337871.000000          2015.0   \n",
       "\n",
       "       landtaxvaluedollarcnt    taxamount  taxdelinquencyyear  logerror  \\\n",
       "count               3.000000     3.000000                 0.0  3.000000   \n",
       "mean            76185.666667  2353.126667                 NaN  0.851833   \n",
       "std             79409.780924  2091.300657                 NaN  1.465958   \n",
       "min               940.000000    64.000000                 NaN -0.032500   \n",
       "25%             34683.500000  1447.880000                 NaN  0.005750   \n",
       "50%             68427.000000  2831.760000                 NaN  0.044000   \n",
       "75%            113808.500000  3497.690000                 NaN  1.294000   \n",
       "max            159190.000000  4163.620000                 NaN  2.544000   \n",
       "\n",
       "       setyear  pooltype       zipcode  \n",
       "count      3.0       3.0      3.000000  \n",
       "mean    2016.0       0.0  90584.333333  \n",
       "std        0.0       0.0    715.206497  \n",
       "min     2016.0       0.0  90094.000000  \n",
       "25%     2016.0       0.0  90174.000000  \n",
       "50%     2016.0       0.0  90254.000000  \n",
       "75%     2016.0       0.0  90829.500000  \n",
       "max     2016.0       0.0  91405.000000  \n",
       "\n",
       "[8 rows x 40 columns]"
      ]
     },
     "execution_count": 186,
     "metadata": {},
     "output_type": "execute_result"
    }
   ],
   "source": [
    "a.describe()"
   ]
  },
  {
   "cell_type": "code",
   "execution_count": null,
   "metadata": {
    "collapsed": true
   },
   "outputs": [],
   "source": []
  }
 ],
 "metadata": {
  "kernelspec": {
   "display_name": "Python 3",
   "language": "python",
   "name": "python3"
  },
  "language_info": {
   "codemirror_mode": {
    "name": "ipython",
    "version": 3
   },
   "file_extension": ".py",
   "mimetype": "text/x-python",
   "name": "python",
   "nbconvert_exporter": "python",
   "pygments_lexer": "ipython3",
   "version": "3.6.2"
  }
 },
 "nbformat": 4,
 "nbformat_minor": 2
}
