{
 "cells": [
  {
   "cell_type": "markdown",
   "metadata": {},
   "source": [
    "# Multiple Linear Regression"
   ]
  },
  {
   "cell_type": "code",
   "execution_count": 24,
   "metadata": {},
   "outputs": [
    {
     "name": "stderr",
     "output_type": "stream",
     "text": [
      "/Users/emily-air13/anaconda3/lib/python3.6/site-packages/sklearn/cross_validation.py:41: DeprecationWarning: This module was deprecated in version 0.18 in favor of the model_selection module into which all the refactored classes and functions are moved. Also note that the interface of the new CV iterators are different from that of this module. This module will be removed in 0.20.\n",
      "  \"This module will be removed in 0.20.\", DeprecationWarning)\n",
      "/Users/emily-air13/anaconda3/lib/python3.6/site-packages/sklearn/grid_search.py:42: DeprecationWarning: This module was deprecated in version 0.18 in favor of the model_selection module into which all the refactored classes and functions are moved. This module will be removed in 0.20.\n",
      "  DeprecationWarning)\n",
      "/Users/emily-air13/anaconda3/lib/python3.6/site-packages/sklearn/learning_curve.py:22: DeprecationWarning: This module was deprecated in version 0.18 in favor of the model_selection module into which all the functions are moved. This module will be removed in 0.20\n",
      "  DeprecationWarning)\n"
     ]
    }
   ],
   "source": [
    "import csv\n",
    "import pandas as pd\n",
    "import numpy as np\n",
    "import sklearn\n",
    "from sklearn import *\n",
    "from sklearn.metrics import mean_squared_error,mean_absolute_error\n",
    "from math import sqrt\n",
    "from sklearn.model_selection import train_test_split\n",
    "from sklearn.linear_model import LinearRegression\n",
    "from sklearn.feature_selection import RFE"
   ]
  },
  {
   "cell_type": "code",
   "execution_count": 61,
   "metadata": {},
   "outputs": [],
   "source": [
    "pd.set_option('display.max_columns',65)"
   ]
  },
  {
   "cell_type": "code",
   "execution_count": 62,
   "metadata": {},
   "outputs": [],
   "source": [
    "df=pd.read_csv(\"../../clean_data.csv\")"
   ]
  },
  {
   "cell_type": "code",
   "execution_count": 63,
   "metadata": {},
   "outputs": [
    {
     "data": {
      "text/html": [
       "<div>\n",
       "<style>\n",
       "    .dataframe thead tr:only-child th {\n",
       "        text-align: right;\n",
       "    }\n",
       "\n",
       "    .dataframe thead th {\n",
       "        text-align: left;\n",
       "    }\n",
       "\n",
       "    .dataframe tbody tr th {\n",
       "        vertical-align: top;\n",
       "    }\n",
       "</style>\n",
       "<table border=\"1\" class=\"dataframe\">\n",
       "  <thead>\n",
       "    <tr style=\"text-align: right;\">\n",
       "      <th></th>\n",
       "      <th>parcelid</th>\n",
       "      <th>airconditioningtypeid</th>\n",
       "      <th>bedroomcnt</th>\n",
       "      <th>buildingqualitytypeid</th>\n",
       "      <th>calculatedbathnbr</th>\n",
       "      <th>calculatedfinishedsquarefeet</th>\n",
       "      <th>fips</th>\n",
       "      <th>fireplacecnt</th>\n",
       "      <th>fullbathcnt</th>\n",
       "      <th>garagecarcnt</th>\n",
       "      <th>garagetotalsqft</th>\n",
       "      <th>hashottuborspa</th>\n",
       "      <th>heatingorsystemtypeid</th>\n",
       "      <th>latitude</th>\n",
       "      <th>longitude</th>\n",
       "      <th>lotsizesquarefeet</th>\n",
       "      <th>poolcnt</th>\n",
       "      <th>propertycountylandusecode</th>\n",
       "      <th>propertylandusetypeid</th>\n",
       "      <th>rawcensustractandblock</th>\n",
       "      <th>regionidcity</th>\n",
       "      <th>roomcnt</th>\n",
       "      <th>unitcnt</th>\n",
       "      <th>yearbuilt</th>\n",
       "      <th>numberofstories</th>\n",
       "      <th>fireplaceflag</th>\n",
       "      <th>structuretaxvaluedollarcnt</th>\n",
       "      <th>taxvaluedollarcnt</th>\n",
       "      <th>assessmentyear</th>\n",
       "      <th>landtaxvaluedollarcnt</th>\n",
       "      <th>taxamount</th>\n",
       "      <th>taxdelinquencyflag</th>\n",
       "      <th>taxdelinquencyyear</th>\n",
       "      <th>logerror</th>\n",
       "      <th>transactiondate</th>\n",
       "      <th>setyear</th>\n",
       "      <th>pooltype</th>\n",
       "      <th>zipcode</th>\n",
       "    </tr>\n",
       "  </thead>\n",
       "  <tbody>\n",
       "    <tr>\n",
       "      <th>0</th>\n",
       "      <td>17073783</td>\n",
       "      <td>5.0</td>\n",
       "      <td>3.0</td>\n",
       "      <td>6.015461</td>\n",
       "      <td>2.5</td>\n",
       "      <td>1264.0</td>\n",
       "      <td>6111.0</td>\n",
       "      <td>0.0</td>\n",
       "      <td>2.0</td>\n",
       "      <td>2.0</td>\n",
       "      <td>434.0</td>\n",
       "      <td>False</td>\n",
       "      <td>2.0</td>\n",
       "      <td>34.303597</td>\n",
       "      <td>-119.287236</td>\n",
       "      <td>1735.0</td>\n",
       "      <td>0.0</td>\n",
       "      <td>1128</td>\n",
       "      <td>265.0</td>\n",
       "      <td>61110022003007</td>\n",
       "      <td>34543.0</td>\n",
       "      <td>5.0</td>\n",
       "      <td>1.0</td>\n",
       "      <td>1986.0</td>\n",
       "      <td>2.0</td>\n",
       "      <td>False</td>\n",
       "      <td>115087.0</td>\n",
       "      <td>191811.0</td>\n",
       "      <td>2015.0</td>\n",
       "      <td>76724.0</td>\n",
       "      <td>2015.06</td>\n",
       "      <td>N</td>\n",
       "      <td>NaN</td>\n",
       "      <td>0.0953</td>\n",
       "      <td>2016-01-27</td>\n",
       "      <td>2016</td>\n",
       "      <td>0</td>\n",
       "      <td>93001</td>\n",
       "    </tr>\n",
       "    <tr>\n",
       "      <th>1</th>\n",
       "      <td>17088994</td>\n",
       "      <td>5.0</td>\n",
       "      <td>2.0</td>\n",
       "      <td>6.015461</td>\n",
       "      <td>1.0</td>\n",
       "      <td>777.0</td>\n",
       "      <td>6111.0</td>\n",
       "      <td>0.0</td>\n",
       "      <td>1.0</td>\n",
       "      <td>1.0</td>\n",
       "      <td>434.0</td>\n",
       "      <td>False</td>\n",
       "      <td>2.0</td>\n",
       "      <td>34.272866</td>\n",
       "      <td>-119.198911</td>\n",
       "      <td>7200.0</td>\n",
       "      <td>0.0</td>\n",
       "      <td>1129</td>\n",
       "      <td>266.0</td>\n",
       "      <td>61110015031002</td>\n",
       "      <td>34543.0</td>\n",
       "      <td>4.0</td>\n",
       "      <td>1.0</td>\n",
       "      <td>1990.0</td>\n",
       "      <td>1.0</td>\n",
       "      <td>False</td>\n",
       "      <td>143809.0</td>\n",
       "      <td>239679.0</td>\n",
       "      <td>2015.0</td>\n",
       "      <td>95870.0</td>\n",
       "      <td>2581.30</td>\n",
       "      <td>N</td>\n",
       "      <td>NaN</td>\n",
       "      <td>0.0198</td>\n",
       "      <td>2016-03-30</td>\n",
       "      <td>2016</td>\n",
       "      <td>0</td>\n",
       "      <td>93004</td>\n",
       "    </tr>\n",
       "    <tr>\n",
       "      <th>2</th>\n",
       "      <td>17100444</td>\n",
       "      <td>5.0</td>\n",
       "      <td>3.0</td>\n",
       "      <td>6.015461</td>\n",
       "      <td>2.0</td>\n",
       "      <td>1101.0</td>\n",
       "      <td>6111.0</td>\n",
       "      <td>0.0</td>\n",
       "      <td>2.0</td>\n",
       "      <td>2.0</td>\n",
       "      <td>441.0</td>\n",
       "      <td>False</td>\n",
       "      <td>2.0</td>\n",
       "      <td>34.340801</td>\n",
       "      <td>-119.079610</td>\n",
       "      <td>6569.0</td>\n",
       "      <td>0.0</td>\n",
       "      <td>1111</td>\n",
       "      <td>261.0</td>\n",
       "      <td>61110007011007</td>\n",
       "      <td>26965.0</td>\n",
       "      <td>5.0</td>\n",
       "      <td>1.0</td>\n",
       "      <td>1956.0</td>\n",
       "      <td>1.0</td>\n",
       "      <td>False</td>\n",
       "      <td>33619.0</td>\n",
       "      <td>47853.0</td>\n",
       "      <td>2015.0</td>\n",
       "      <td>14234.0</td>\n",
       "      <td>591.64</td>\n",
       "      <td>N</td>\n",
       "      <td>NaN</td>\n",
       "      <td>0.0060</td>\n",
       "      <td>2016-05-27</td>\n",
       "      <td>2016</td>\n",
       "      <td>0</td>\n",
       "      <td>93066</td>\n",
       "    </tr>\n",
       "    <tr>\n",
       "      <th>3</th>\n",
       "      <td>17102429</td>\n",
       "      <td>5.0</td>\n",
       "      <td>2.0</td>\n",
       "      <td>6.015461</td>\n",
       "      <td>1.5</td>\n",
       "      <td>1554.0</td>\n",
       "      <td>6111.0</td>\n",
       "      <td>1.0</td>\n",
       "      <td>1.0</td>\n",
       "      <td>2.0</td>\n",
       "      <td>460.0</td>\n",
       "      <td>False</td>\n",
       "      <td>2.0</td>\n",
       "      <td>34.354313</td>\n",
       "      <td>-119.076405</td>\n",
       "      <td>7400.0</td>\n",
       "      <td>0.0</td>\n",
       "      <td>1110</td>\n",
       "      <td>261.0</td>\n",
       "      <td>61110008002013</td>\n",
       "      <td>26965.0</td>\n",
       "      <td>5.0</td>\n",
       "      <td>1.0</td>\n",
       "      <td>1965.0</td>\n",
       "      <td>1.0</td>\n",
       "      <td>True</td>\n",
       "      <td>45609.0</td>\n",
       "      <td>62914.0</td>\n",
       "      <td>2015.0</td>\n",
       "      <td>17305.0</td>\n",
       "      <td>682.78</td>\n",
       "      <td>N</td>\n",
       "      <td>NaN</td>\n",
       "      <td>-0.0566</td>\n",
       "      <td>2016-06-07</td>\n",
       "      <td>2016</td>\n",
       "      <td>0</td>\n",
       "      <td>93060</td>\n",
       "    </tr>\n",
       "    <tr>\n",
       "      <th>4</th>\n",
       "      <td>17109604</td>\n",
       "      <td>5.0</td>\n",
       "      <td>4.0</td>\n",
       "      <td>6.015461</td>\n",
       "      <td>2.5</td>\n",
       "      <td>2415.0</td>\n",
       "      <td>6111.0</td>\n",
       "      <td>1.0</td>\n",
       "      <td>2.0</td>\n",
       "      <td>2.0</td>\n",
       "      <td>665.0</td>\n",
       "      <td>False</td>\n",
       "      <td>2.0</td>\n",
       "      <td>34.266578</td>\n",
       "      <td>-119.165392</td>\n",
       "      <td>6326.0</td>\n",
       "      <td>0.0</td>\n",
       "      <td>1111</td>\n",
       "      <td>261.0</td>\n",
       "      <td>61110014021007</td>\n",
       "      <td>34543.0</td>\n",
       "      <td>8.0</td>\n",
       "      <td>1.0</td>\n",
       "      <td>1984.0</td>\n",
       "      <td>2.0</td>\n",
       "      <td>True</td>\n",
       "      <td>277000.0</td>\n",
       "      <td>554000.0</td>\n",
       "      <td>2015.0</td>\n",
       "      <td>277000.0</td>\n",
       "      <td>5886.92</td>\n",
       "      <td>N</td>\n",
       "      <td>NaN</td>\n",
       "      <td>0.0573</td>\n",
       "      <td>2016-08-08</td>\n",
       "      <td>2016</td>\n",
       "      <td>0</td>\n",
       "      <td>93004</td>\n",
       "    </tr>\n",
       "  </tbody>\n",
       "</table>\n",
       "</div>"
      ],
      "text/plain": [
       "   parcelid  airconditioningtypeid  bedroomcnt  buildingqualitytypeid  \\\n",
       "0  17073783                    5.0         3.0               6.015461   \n",
       "1  17088994                    5.0         2.0               6.015461   \n",
       "2  17100444                    5.0         3.0               6.015461   \n",
       "3  17102429                    5.0         2.0               6.015461   \n",
       "4  17109604                    5.0         4.0               6.015461   \n",
       "\n",
       "   calculatedbathnbr  calculatedfinishedsquarefeet    fips  fireplacecnt  \\\n",
       "0                2.5                        1264.0  6111.0           0.0   \n",
       "1                1.0                         777.0  6111.0           0.0   \n",
       "2                2.0                        1101.0  6111.0           0.0   \n",
       "3                1.5                        1554.0  6111.0           1.0   \n",
       "4                2.5                        2415.0  6111.0           1.0   \n",
       "\n",
       "   fullbathcnt  garagecarcnt  garagetotalsqft  hashottuborspa  \\\n",
       "0          2.0           2.0            434.0           False   \n",
       "1          1.0           1.0            434.0           False   \n",
       "2          2.0           2.0            441.0           False   \n",
       "3          1.0           2.0            460.0           False   \n",
       "4          2.0           2.0            665.0           False   \n",
       "\n",
       "   heatingorsystemtypeid   latitude   longitude  lotsizesquarefeet  poolcnt  \\\n",
       "0                    2.0  34.303597 -119.287236             1735.0      0.0   \n",
       "1                    2.0  34.272866 -119.198911             7200.0      0.0   \n",
       "2                    2.0  34.340801 -119.079610             6569.0      0.0   \n",
       "3                    2.0  34.354313 -119.076405             7400.0      0.0   \n",
       "4                    2.0  34.266578 -119.165392             6326.0      0.0   \n",
       "\n",
       "  propertycountylandusecode  propertylandusetypeid  rawcensustractandblock  \\\n",
       "0                      1128                  265.0          61110022003007   \n",
       "1                      1129                  266.0          61110015031002   \n",
       "2                      1111                  261.0          61110007011007   \n",
       "3                      1110                  261.0          61110008002013   \n",
       "4                      1111                  261.0          61110014021007   \n",
       "\n",
       "   regionidcity  roomcnt  unitcnt  yearbuilt  numberofstories  fireplaceflag  \\\n",
       "0       34543.0      5.0      1.0     1986.0              2.0          False   \n",
       "1       34543.0      4.0      1.0     1990.0              1.0          False   \n",
       "2       26965.0      5.0      1.0     1956.0              1.0          False   \n",
       "3       26965.0      5.0      1.0     1965.0              1.0           True   \n",
       "4       34543.0      8.0      1.0     1984.0              2.0           True   \n",
       "\n",
       "   structuretaxvaluedollarcnt  taxvaluedollarcnt  assessmentyear  \\\n",
       "0                    115087.0           191811.0          2015.0   \n",
       "1                    143809.0           239679.0          2015.0   \n",
       "2                     33619.0            47853.0          2015.0   \n",
       "3                     45609.0            62914.0          2015.0   \n",
       "4                    277000.0           554000.0          2015.0   \n",
       "\n",
       "   landtaxvaluedollarcnt  taxamount taxdelinquencyflag  taxdelinquencyyear  \\\n",
       "0                76724.0    2015.06                  N                 NaN   \n",
       "1                95870.0    2581.30                  N                 NaN   \n",
       "2                14234.0     591.64                  N                 NaN   \n",
       "3                17305.0     682.78                  N                 NaN   \n",
       "4               277000.0    5886.92                  N                 NaN   \n",
       "\n",
       "   logerror transactiondate  setyear  pooltype  zipcode  \n",
       "0    0.0953      2016-01-27     2016         0    93001  \n",
       "1    0.0198      2016-03-30     2016         0    93004  \n",
       "2    0.0060      2016-05-27     2016         0    93066  \n",
       "3   -0.0566      2016-06-07     2016         0    93060  \n",
       "4    0.0573      2016-08-08     2016         0    93004  "
      ]
     },
     "execution_count": 63,
     "metadata": {},
     "output_type": "execute_result"
    }
   ],
   "source": [
    "df.head()"
   ]
  },
  {
   "cell_type": "code",
   "execution_count": 64,
   "metadata": {},
   "outputs": [
    {
     "data": {
      "text/html": [
       "<div>\n",
       "<style>\n",
       "    .dataframe thead tr:only-child th {\n",
       "        text-align: right;\n",
       "    }\n",
       "\n",
       "    .dataframe thead th {\n",
       "        text-align: left;\n",
       "    }\n",
       "\n",
       "    .dataframe tbody tr th {\n",
       "        vertical-align: top;\n",
       "    }\n",
       "</style>\n",
       "<table border=\"1\" class=\"dataframe\">\n",
       "  <thead>\n",
       "    <tr style=\"text-align: right;\">\n",
       "      <th></th>\n",
       "      <th>parcelid</th>\n",
       "      <th>airconditioningtypeid</th>\n",
       "      <th>bedroomcnt</th>\n",
       "      <th>buildingqualitytypeid</th>\n",
       "      <th>calculatedbathnbr</th>\n",
       "      <th>calculatedfinishedsquarefeet</th>\n",
       "      <th>fips</th>\n",
       "      <th>fireplacecnt</th>\n",
       "      <th>fullbathcnt</th>\n",
       "      <th>garagecarcnt</th>\n",
       "      <th>garagetotalsqft</th>\n",
       "      <th>hashottuborspa</th>\n",
       "      <th>heatingorsystemtypeid</th>\n",
       "      <th>latitude</th>\n",
       "      <th>longitude</th>\n",
       "      <th>lotsizesquarefeet</th>\n",
       "      <th>poolcnt</th>\n",
       "      <th>propertycountylandusecode</th>\n",
       "      <th>propertylandusetypeid</th>\n",
       "      <th>rawcensustractandblock</th>\n",
       "      <th>regionidcity</th>\n",
       "      <th>roomcnt</th>\n",
       "      <th>unitcnt</th>\n",
       "      <th>yearbuilt</th>\n",
       "      <th>numberofstories</th>\n",
       "      <th>fireplaceflag</th>\n",
       "      <th>structuretaxvaluedollarcnt</th>\n",
       "      <th>taxvaluedollarcnt</th>\n",
       "      <th>assessmentyear</th>\n",
       "      <th>landtaxvaluedollarcnt</th>\n",
       "      <th>taxamount</th>\n",
       "      <th>taxdelinquencyflag</th>\n",
       "      <th>taxdelinquencyyear</th>\n",
       "      <th>logerror</th>\n",
       "      <th>transactiondate</th>\n",
       "      <th>setyear</th>\n",
       "      <th>pooltype</th>\n",
       "      <th>zipcode</th>\n",
       "      <th>6037.0</th>\n",
       "      <th>6059.0</th>\n",
       "      <th>6111.0</th>\n",
       "      <th>2016</th>\n",
       "      <th>2017</th>\n",
       "      <th>ac_1.0</th>\n",
       "      <th>ac_3.0</th>\n",
       "      <th>ac_5.0</th>\n",
       "      <th>ac_9.0</th>\n",
       "      <th>ac_11.0</th>\n",
       "      <th>ac_13.0</th>\n",
       "      <th>heat_1.0</th>\n",
       "      <th>heat_2.0</th>\n",
       "      <th>heat_6.0</th>\n",
       "      <th>heat_7.0</th>\n",
       "      <th>heat_10.0</th>\n",
       "      <th>heat_11.0</th>\n",
       "      <th>heat_12.0</th>\n",
       "      <th>heat_13.0</th>\n",
       "      <th>heat_14.0</th>\n",
       "      <th>heat_18.0</th>\n",
       "      <th>heat_20.0</th>\n",
       "      <th>heat_24.0</th>\n",
       "      <th>pooltype_0</th>\n",
       "      <th>pooltype_2</th>\n",
       "      <th>pooltype_7</th>\n",
       "      <th>pooltype_10</th>\n",
       "    </tr>\n",
       "  </thead>\n",
       "  <tbody>\n",
       "    <tr>\n",
       "      <th>0</th>\n",
       "      <td>17073783</td>\n",
       "      <td>5.0</td>\n",
       "      <td>3.0</td>\n",
       "      <td>6.015461</td>\n",
       "      <td>2.5</td>\n",
       "      <td>1264.0</td>\n",
       "      <td>6111.0</td>\n",
       "      <td>0.0</td>\n",
       "      <td>2.0</td>\n",
       "      <td>2.0</td>\n",
       "      <td>434.0</td>\n",
       "      <td>0</td>\n",
       "      <td>2.0</td>\n",
       "      <td>34.303597</td>\n",
       "      <td>-119.287236</td>\n",
       "      <td>1735.0</td>\n",
       "      <td>0.0</td>\n",
       "      <td>1128</td>\n",
       "      <td>265.0</td>\n",
       "      <td>61110022003007</td>\n",
       "      <td>34543.0</td>\n",
       "      <td>5.0</td>\n",
       "      <td>1.0</td>\n",
       "      <td>1986.0</td>\n",
       "      <td>2.0</td>\n",
       "      <td>0</td>\n",
       "      <td>115087.0</td>\n",
       "      <td>191811.0</td>\n",
       "      <td>2015.0</td>\n",
       "      <td>76724.0</td>\n",
       "      <td>2015.06</td>\n",
       "      <td>0</td>\n",
       "      <td>NaN</td>\n",
       "      <td>0.0953</td>\n",
       "      <td>2016-01-27</td>\n",
       "      <td>2016</td>\n",
       "      <td>0</td>\n",
       "      <td>93001</td>\n",
       "      <td>0</td>\n",
       "      <td>0</td>\n",
       "      <td>1</td>\n",
       "      <td>1</td>\n",
       "      <td>0</td>\n",
       "      <td>0</td>\n",
       "      <td>0</td>\n",
       "      <td>1</td>\n",
       "      <td>0</td>\n",
       "      <td>0</td>\n",
       "      <td>0</td>\n",
       "      <td>0</td>\n",
       "      <td>1</td>\n",
       "      <td>0</td>\n",
       "      <td>0</td>\n",
       "      <td>0</td>\n",
       "      <td>0</td>\n",
       "      <td>0</td>\n",
       "      <td>0</td>\n",
       "      <td>0</td>\n",
       "      <td>0</td>\n",
       "      <td>0</td>\n",
       "      <td>0</td>\n",
       "      <td>1</td>\n",
       "      <td>0</td>\n",
       "      <td>0</td>\n",
       "      <td>0</td>\n",
       "    </tr>\n",
       "    <tr>\n",
       "      <th>1</th>\n",
       "      <td>17088994</td>\n",
       "      <td>5.0</td>\n",
       "      <td>2.0</td>\n",
       "      <td>6.015461</td>\n",
       "      <td>1.0</td>\n",
       "      <td>777.0</td>\n",
       "      <td>6111.0</td>\n",
       "      <td>0.0</td>\n",
       "      <td>1.0</td>\n",
       "      <td>1.0</td>\n",
       "      <td>434.0</td>\n",
       "      <td>0</td>\n",
       "      <td>2.0</td>\n",
       "      <td>34.272866</td>\n",
       "      <td>-119.198911</td>\n",
       "      <td>7200.0</td>\n",
       "      <td>0.0</td>\n",
       "      <td>1129</td>\n",
       "      <td>266.0</td>\n",
       "      <td>61110015031002</td>\n",
       "      <td>34543.0</td>\n",
       "      <td>4.0</td>\n",
       "      <td>1.0</td>\n",
       "      <td>1990.0</td>\n",
       "      <td>1.0</td>\n",
       "      <td>0</td>\n",
       "      <td>143809.0</td>\n",
       "      <td>239679.0</td>\n",
       "      <td>2015.0</td>\n",
       "      <td>95870.0</td>\n",
       "      <td>2581.30</td>\n",
       "      <td>0</td>\n",
       "      <td>NaN</td>\n",
       "      <td>0.0198</td>\n",
       "      <td>2016-03-30</td>\n",
       "      <td>2016</td>\n",
       "      <td>0</td>\n",
       "      <td>93004</td>\n",
       "      <td>0</td>\n",
       "      <td>0</td>\n",
       "      <td>1</td>\n",
       "      <td>1</td>\n",
       "      <td>0</td>\n",
       "      <td>0</td>\n",
       "      <td>0</td>\n",
       "      <td>1</td>\n",
       "      <td>0</td>\n",
       "      <td>0</td>\n",
       "      <td>0</td>\n",
       "      <td>0</td>\n",
       "      <td>1</td>\n",
       "      <td>0</td>\n",
       "      <td>0</td>\n",
       "      <td>0</td>\n",
       "      <td>0</td>\n",
       "      <td>0</td>\n",
       "      <td>0</td>\n",
       "      <td>0</td>\n",
       "      <td>0</td>\n",
       "      <td>0</td>\n",
       "      <td>0</td>\n",
       "      <td>1</td>\n",
       "      <td>0</td>\n",
       "      <td>0</td>\n",
       "      <td>0</td>\n",
       "    </tr>\n",
       "    <tr>\n",
       "      <th>2</th>\n",
       "      <td>17100444</td>\n",
       "      <td>5.0</td>\n",
       "      <td>3.0</td>\n",
       "      <td>6.015461</td>\n",
       "      <td>2.0</td>\n",
       "      <td>1101.0</td>\n",
       "      <td>6111.0</td>\n",
       "      <td>0.0</td>\n",
       "      <td>2.0</td>\n",
       "      <td>2.0</td>\n",
       "      <td>441.0</td>\n",
       "      <td>0</td>\n",
       "      <td>2.0</td>\n",
       "      <td>34.340801</td>\n",
       "      <td>-119.079610</td>\n",
       "      <td>6569.0</td>\n",
       "      <td>0.0</td>\n",
       "      <td>1111</td>\n",
       "      <td>261.0</td>\n",
       "      <td>61110007011007</td>\n",
       "      <td>26965.0</td>\n",
       "      <td>5.0</td>\n",
       "      <td>1.0</td>\n",
       "      <td>1956.0</td>\n",
       "      <td>1.0</td>\n",
       "      <td>0</td>\n",
       "      <td>33619.0</td>\n",
       "      <td>47853.0</td>\n",
       "      <td>2015.0</td>\n",
       "      <td>14234.0</td>\n",
       "      <td>591.64</td>\n",
       "      <td>0</td>\n",
       "      <td>NaN</td>\n",
       "      <td>0.0060</td>\n",
       "      <td>2016-05-27</td>\n",
       "      <td>2016</td>\n",
       "      <td>0</td>\n",
       "      <td>93066</td>\n",
       "      <td>0</td>\n",
       "      <td>0</td>\n",
       "      <td>1</td>\n",
       "      <td>1</td>\n",
       "      <td>0</td>\n",
       "      <td>0</td>\n",
       "      <td>0</td>\n",
       "      <td>1</td>\n",
       "      <td>0</td>\n",
       "      <td>0</td>\n",
       "      <td>0</td>\n",
       "      <td>0</td>\n",
       "      <td>1</td>\n",
       "      <td>0</td>\n",
       "      <td>0</td>\n",
       "      <td>0</td>\n",
       "      <td>0</td>\n",
       "      <td>0</td>\n",
       "      <td>0</td>\n",
       "      <td>0</td>\n",
       "      <td>0</td>\n",
       "      <td>0</td>\n",
       "      <td>0</td>\n",
       "      <td>1</td>\n",
       "      <td>0</td>\n",
       "      <td>0</td>\n",
       "      <td>0</td>\n",
       "    </tr>\n",
       "    <tr>\n",
       "      <th>3</th>\n",
       "      <td>17102429</td>\n",
       "      <td>5.0</td>\n",
       "      <td>2.0</td>\n",
       "      <td>6.015461</td>\n",
       "      <td>1.5</td>\n",
       "      <td>1554.0</td>\n",
       "      <td>6111.0</td>\n",
       "      <td>1.0</td>\n",
       "      <td>1.0</td>\n",
       "      <td>2.0</td>\n",
       "      <td>460.0</td>\n",
       "      <td>0</td>\n",
       "      <td>2.0</td>\n",
       "      <td>34.354313</td>\n",
       "      <td>-119.076405</td>\n",
       "      <td>7400.0</td>\n",
       "      <td>0.0</td>\n",
       "      <td>1110</td>\n",
       "      <td>261.0</td>\n",
       "      <td>61110008002013</td>\n",
       "      <td>26965.0</td>\n",
       "      <td>5.0</td>\n",
       "      <td>1.0</td>\n",
       "      <td>1965.0</td>\n",
       "      <td>1.0</td>\n",
       "      <td>1</td>\n",
       "      <td>45609.0</td>\n",
       "      <td>62914.0</td>\n",
       "      <td>2015.0</td>\n",
       "      <td>17305.0</td>\n",
       "      <td>682.78</td>\n",
       "      <td>0</td>\n",
       "      <td>NaN</td>\n",
       "      <td>-0.0566</td>\n",
       "      <td>2016-06-07</td>\n",
       "      <td>2016</td>\n",
       "      <td>0</td>\n",
       "      <td>93060</td>\n",
       "      <td>0</td>\n",
       "      <td>0</td>\n",
       "      <td>1</td>\n",
       "      <td>1</td>\n",
       "      <td>0</td>\n",
       "      <td>0</td>\n",
       "      <td>0</td>\n",
       "      <td>1</td>\n",
       "      <td>0</td>\n",
       "      <td>0</td>\n",
       "      <td>0</td>\n",
       "      <td>0</td>\n",
       "      <td>1</td>\n",
       "      <td>0</td>\n",
       "      <td>0</td>\n",
       "      <td>0</td>\n",
       "      <td>0</td>\n",
       "      <td>0</td>\n",
       "      <td>0</td>\n",
       "      <td>0</td>\n",
       "      <td>0</td>\n",
       "      <td>0</td>\n",
       "      <td>0</td>\n",
       "      <td>1</td>\n",
       "      <td>0</td>\n",
       "      <td>0</td>\n",
       "      <td>0</td>\n",
       "    </tr>\n",
       "    <tr>\n",
       "      <th>4</th>\n",
       "      <td>17109604</td>\n",
       "      <td>5.0</td>\n",
       "      <td>4.0</td>\n",
       "      <td>6.015461</td>\n",
       "      <td>2.5</td>\n",
       "      <td>2415.0</td>\n",
       "      <td>6111.0</td>\n",
       "      <td>1.0</td>\n",
       "      <td>2.0</td>\n",
       "      <td>2.0</td>\n",
       "      <td>665.0</td>\n",
       "      <td>0</td>\n",
       "      <td>2.0</td>\n",
       "      <td>34.266578</td>\n",
       "      <td>-119.165392</td>\n",
       "      <td>6326.0</td>\n",
       "      <td>0.0</td>\n",
       "      <td>1111</td>\n",
       "      <td>261.0</td>\n",
       "      <td>61110014021007</td>\n",
       "      <td>34543.0</td>\n",
       "      <td>8.0</td>\n",
       "      <td>1.0</td>\n",
       "      <td>1984.0</td>\n",
       "      <td>2.0</td>\n",
       "      <td>1</td>\n",
       "      <td>277000.0</td>\n",
       "      <td>554000.0</td>\n",
       "      <td>2015.0</td>\n",
       "      <td>277000.0</td>\n",
       "      <td>5886.92</td>\n",
       "      <td>0</td>\n",
       "      <td>NaN</td>\n",
       "      <td>0.0573</td>\n",
       "      <td>2016-08-08</td>\n",
       "      <td>2016</td>\n",
       "      <td>0</td>\n",
       "      <td>93004</td>\n",
       "      <td>0</td>\n",
       "      <td>0</td>\n",
       "      <td>1</td>\n",
       "      <td>1</td>\n",
       "      <td>0</td>\n",
       "      <td>0</td>\n",
       "      <td>0</td>\n",
       "      <td>1</td>\n",
       "      <td>0</td>\n",
       "      <td>0</td>\n",
       "      <td>0</td>\n",
       "      <td>0</td>\n",
       "      <td>1</td>\n",
       "      <td>0</td>\n",
       "      <td>0</td>\n",
       "      <td>0</td>\n",
       "      <td>0</td>\n",
       "      <td>0</td>\n",
       "      <td>0</td>\n",
       "      <td>0</td>\n",
       "      <td>0</td>\n",
       "      <td>0</td>\n",
       "      <td>0</td>\n",
       "      <td>1</td>\n",
       "      <td>0</td>\n",
       "      <td>0</td>\n",
       "      <td>0</td>\n",
       "    </tr>\n",
       "  </tbody>\n",
       "</table>\n",
       "</div>"
      ],
      "text/plain": [
       "   parcelid  airconditioningtypeid  bedroomcnt  buildingqualitytypeid  \\\n",
       "0  17073783                    5.0         3.0               6.015461   \n",
       "1  17088994                    5.0         2.0               6.015461   \n",
       "2  17100444                    5.0         3.0               6.015461   \n",
       "3  17102429                    5.0         2.0               6.015461   \n",
       "4  17109604                    5.0         4.0               6.015461   \n",
       "\n",
       "   calculatedbathnbr  calculatedfinishedsquarefeet    fips  fireplacecnt  \\\n",
       "0                2.5                        1264.0  6111.0           0.0   \n",
       "1                1.0                         777.0  6111.0           0.0   \n",
       "2                2.0                        1101.0  6111.0           0.0   \n",
       "3                1.5                        1554.0  6111.0           1.0   \n",
       "4                2.5                        2415.0  6111.0           1.0   \n",
       "\n",
       "   fullbathcnt  garagecarcnt  garagetotalsqft  hashottuborspa  \\\n",
       "0          2.0           2.0            434.0               0   \n",
       "1          1.0           1.0            434.0               0   \n",
       "2          2.0           2.0            441.0               0   \n",
       "3          1.0           2.0            460.0               0   \n",
       "4          2.0           2.0            665.0               0   \n",
       "\n",
       "   heatingorsystemtypeid   latitude   longitude  lotsizesquarefeet  poolcnt  \\\n",
       "0                    2.0  34.303597 -119.287236             1735.0      0.0   \n",
       "1                    2.0  34.272866 -119.198911             7200.0      0.0   \n",
       "2                    2.0  34.340801 -119.079610             6569.0      0.0   \n",
       "3                    2.0  34.354313 -119.076405             7400.0      0.0   \n",
       "4                    2.0  34.266578 -119.165392             6326.0      0.0   \n",
       "\n",
       "  propertycountylandusecode  propertylandusetypeid  rawcensustractandblock  \\\n",
       "0                      1128                  265.0          61110022003007   \n",
       "1                      1129                  266.0          61110015031002   \n",
       "2                      1111                  261.0          61110007011007   \n",
       "3                      1110                  261.0          61110008002013   \n",
       "4                      1111                  261.0          61110014021007   \n",
       "\n",
       "   regionidcity  roomcnt  unitcnt  yearbuilt  numberofstories  fireplaceflag  \\\n",
       "0       34543.0      5.0      1.0     1986.0              2.0              0   \n",
       "1       34543.0      4.0      1.0     1990.0              1.0              0   \n",
       "2       26965.0      5.0      1.0     1956.0              1.0              0   \n",
       "3       26965.0      5.0      1.0     1965.0              1.0              1   \n",
       "4       34543.0      8.0      1.0     1984.0              2.0              1   \n",
       "\n",
       "   structuretaxvaluedollarcnt  taxvaluedollarcnt  assessmentyear  \\\n",
       "0                    115087.0           191811.0          2015.0   \n",
       "1                    143809.0           239679.0          2015.0   \n",
       "2                     33619.0            47853.0          2015.0   \n",
       "3                     45609.0            62914.0          2015.0   \n",
       "4                    277000.0           554000.0          2015.0   \n",
       "\n",
       "   landtaxvaluedollarcnt  taxamount  taxdelinquencyflag  taxdelinquencyyear  \\\n",
       "0                76724.0    2015.06                   0                 NaN   \n",
       "1                95870.0    2581.30                   0                 NaN   \n",
       "2                14234.0     591.64                   0                 NaN   \n",
       "3                17305.0     682.78                   0                 NaN   \n",
       "4               277000.0    5886.92                   0                 NaN   \n",
       "\n",
       "   logerror transactiondate  setyear  pooltype  zipcode  6037.0  6059.0  \\\n",
       "0    0.0953      2016-01-27     2016         0    93001       0       0   \n",
       "1    0.0198      2016-03-30     2016         0    93004       0       0   \n",
       "2    0.0060      2016-05-27     2016         0    93066       0       0   \n",
       "3   -0.0566      2016-06-07     2016         0    93060       0       0   \n",
       "4    0.0573      2016-08-08     2016         0    93004       0       0   \n",
       "\n",
       "   6111.0  2016  2017  ac_1.0  ac_3.0  ac_5.0  ac_9.0  ac_11.0  ac_13.0  \\\n",
       "0       1     1     0       0       0       1       0        0        0   \n",
       "1       1     1     0       0       0       1       0        0        0   \n",
       "2       1     1     0       0       0       1       0        0        0   \n",
       "3       1     1     0       0       0       1       0        0        0   \n",
       "4       1     1     0       0       0       1       0        0        0   \n",
       "\n",
       "   heat_1.0  heat_2.0  heat_6.0  heat_7.0  heat_10.0  heat_11.0  heat_12.0  \\\n",
       "0         0         1         0         0          0          0          0   \n",
       "1         0         1         0         0          0          0          0   \n",
       "2         0         1         0         0          0          0          0   \n",
       "3         0         1         0         0          0          0          0   \n",
       "4         0         1         0         0          0          0          0   \n",
       "\n",
       "   heat_13.0  heat_14.0  heat_18.0  heat_20.0  heat_24.0  pooltype_0  \\\n",
       "0          0          0          0          0          0           1   \n",
       "1          0          0          0          0          0           1   \n",
       "2          0          0          0          0          0           1   \n",
       "3          0          0          0          0          0           1   \n",
       "4          0          0          0          0          0           1   \n",
       "\n",
       "   pooltype_2  pooltype_7  pooltype_10  \n",
       "0           0           0            0  \n",
       "1           0           0            0  \n",
       "2           0           0            0  \n",
       "3           0           0            0  \n",
       "4           0           0            0  "
      ]
     },
     "execution_count": 64,
     "metadata": {},
     "output_type": "execute_result"
    }
   ],
   "source": [
    "def hottub(a):\n",
    "    if a:\n",
    "        return 1\n",
    "    else:\n",
    "        return 0\n",
    "    \n",
    "df['hashottuborspa'] = df['hashottuborspa'].map(lambda a: hottub(a))\n",
    "\n",
    "def fire(a):\n",
    "    if a:\n",
    "        return 1\n",
    "    else:\n",
    "        return 0\n",
    "\n",
    "df['fireplaceflag'] = df['fireplaceflag'].map(lambda a: fire(a))\n",
    "\n",
    "def tax(a):\n",
    "    if a=='Y':\n",
    "        return 1\n",
    "    else:\n",
    "        return 0\n",
    "\n",
    "df['taxdelinquencyflag'] = df['taxdelinquencyflag'].map(lambda a: tax(a))\n",
    "\n",
    "\n",
    "\n",
    "fips = pd.get_dummies(df['fips'])\n",
    "df = df.join(fips)\n",
    "\n",
    "yr = pd.get_dummies(df['setyear'])\n",
    "df = df.join(yr)\n",
    "\n",
    "ac = pd.get_dummies(df['airconditioningtypeid'], prefix='ac')\n",
    "df = df.join(ac)\n",
    "\n",
    "heat = pd.get_dummies(df['heatingorsystemtypeid'], prefix='heat')\n",
    "df=df.join(heat)\n",
    "\n",
    "pool = pd.get_dummies(df['pooltype'], prefix='pooltype')\n",
    "df = df.join(pool)\n",
    "\n",
    "df.head()\n"
   ]
  },
  {
   "cell_type": "markdown",
   "metadata": {
    "collapsed": true
   },
   "source": [
    "Variables in the Cleaned Data:\n",
    "\n",
    "Location & Zoning Data (Potential Categorical X):\n",
    "<div style=\"-webkit-column-count: 2; -moz-column-count: 2; column-count: 2; -webkit-column-rule: 1px dotted #e0e0e0; -moz-column-rule: 1px dotted #e0e0e0; column-rule: 1px dotted #e0e0e0;\">\n",
    "    <div style=\"display: inline-block;\">\n",
    "        <ul>\n",
    "         <li>fips</li>\n",
    "          <li>latitude</li>\n",
    "        <li>longitude</li>\n",
    "         <li>propertycountylandusecode</li>\n",
    "         \n",
    "         \n",
    "         </ul>\n",
    "    </div>\n",
    "    <div style=\"display: inline-block;\">\n",
    "        <ul>\n",
    "        <li>propertylandusetypeid</li>\n",
    "         <li>rawcensustractandblock</li>\n",
    "         <li>regionidcity</li>\n",
    "         <li>zipcode</li>\n",
    "        </ul>\n",
    "    </div>\n",
    "</div>\n",
    "\n",
    "Categorical X:\n",
    "\n",
    "<div style=\"-webkit-column-count: 2; -moz-column-count: 2; column-count: 2; -webkit-column-rule: 1px dotted #e0e0e0; -moz-column-rule: 1px dotted #e0e0e0; column-rule: 1px dotted #e0e0e0;\">\n",
    "    <div style=\"display: inline-block;\">\n",
    "        <ul>\n",
    "         <li>airconditioningtypeid</li>\n",
    "         <li>hashottuborspa</li>\n",
    "         <li>heatingorsystemtypeid</li>\n",
    "        <li>fireplaceflag</li>\n",
    "        <li>assessmentyear</li>\n",
    "        </ul>\n",
    "    </div>\n",
    "    <div style=\"display: inline-block;\">\n",
    "        <ul>\n",
    "        <li>taxdelinquencyflag</li>\n",
    "        <li>setyear</li>\n",
    "        <li>pooltype</li> \n",
    "        <li>transactiondate</li>\n",
    "        </ul>\n",
    "    </div>\n",
    "</div>\n",
    "\n",
    "\n",
    "Numerical X:\n",
    "<div style=\"-webkit-column-count: 2; -moz-column-count: 2; column-count: 2; -webkit-column-rule: 1px dotted #e0e0e0; -moz-column-rule: 1px dotted #e0e0e0; column-rule: 1px dotted #e0e0e0;\">\n",
    "    <div style=\"display: inline-block;\">\n",
    "        <ul>\n",
    "        <li>bedroomcnt</li>\n",
    "        <li>buildingqualitytypeid</li>\n",
    "        <li>calculatedbathnbr</li>\n",
    "        <li>calculatedfinishedsquarefeet</li>\n",
    "        <li>fireplacecnt</li>\n",
    "        <li>fullbathcnt</li>\n",
    "        <li>garagecarcnt</li>\n",
    "        <li>garagetotalsqft</li>\n",
    "        <li>lotsizesquarefeet</li>\n",
    "        <li>poolcnt</li>\n",
    "        </ul>\n",
    "    </div>\n",
    "    <div style=\"display: inline-block;\">\n",
    "        <ul>\n",
    "        <li>roomcnt</li>\n",
    "        <li>unitcnt</li>\n",
    "        <li>yearbuilt</li>\n",
    "        <li>numberofstories</li>\n",
    "        <li>structuretaxvaluedollarcnt</li>\n",
    "        <li>taxvaluedollarcnt</li>\n",
    "        <li>landtaxvaluedollarcnt</li>\n",
    "        <li>taxamount</li>\n",
    "        <li>taxdelinquencyyear TO REMOVE</li> \n",
    "        </ul>\n",
    "    </div>\n",
    "</div>\n",
    "           \n",
    "                        \n",
    "Y:\n",
    "* logerror"
   ]
  },
  {
   "cell_type": "markdown",
   "metadata": {},
   "source": [
    "## Separate the Data Into Train and Test"
   ]
  },
  {
   "cell_type": "code",
   "execution_count": 65,
   "metadata": {
    "collapsed": true
   },
   "outputs": [],
   "source": [
    "array=df.values"
   ]
  },
  {
   "cell_type": "code",
   "execution_count": 67,
   "metadata": {},
   "outputs": [
    {
     "data": {
      "text/plain": [
       "array([0.0953, 0.0198, 0.006, ..., 0.725458273984, 0.043652112878300016,\n",
       "       -0.0141783454295], dtype=object)"
      ]
     },
     "execution_count": 67,
     "metadata": {},
     "output_type": "execute_result"
    }
   ],
   "source": [
    "Y=array[:,33]\n",
    "Y"
   ]
  },
  {
   "cell_type": "code",
   "execution_count": 68,
   "metadata": {},
   "outputs": [
    {
     "data": {
      "text/plain": [
       "array([2.0, 6.015460983643267, 1.0, 777.0, 0.0, 1.0, 1.0, 434.0, 0,\n",
       "       34.272866, -119.19891100000001, 7200.0, 0.0, 4.0, 1.0, 1990.0, 1.0,\n",
       "       0, 143809.0, 239679.0, 2015.0, 95870.0, 2581.3, 0, 0, 0, 1, 1, 0, 0,\n",
       "       0, 1, 0, 0, 0, 0, 1, 0, 0, 0, 0, 0, 0, 0, 0, 0, 0, 1, 0, 0, 0], dtype=object)"
      ]
     },
     "execution_count": 68,
     "metadata": {},
     "output_type": "execute_result"
    }
   ],
   "source": [
    "x1=array[:,2:6]\n",
    "x2=array[:,7:12]\n",
    "x3=array[:,13:17]\n",
    "x4=array[:,21:32]  \n",
    "x5=array[:,38:65]\n",
    "\n",
    "X=np.hstack((x1,x2))\n",
    "X=np.hstack((X,x3))\n",
    "X=np.hstack((X,x4))\n",
    "X=np.hstack((X,x5))\n",
    "\n",
    "X[1]"
   ]
  },
  {
   "cell_type": "code",
   "execution_count": 69,
   "metadata": {
    "collapsed": true
   },
   "outputs": [],
   "source": [
    "X_train,X_test,Y_train,Y_test=train_test_split(X,Y,test_size=0.2)"
   ]
  },
  {
   "cell_type": "markdown",
   "metadata": {
    "collapsed": true
   },
   "source": [
    "## Basic Linear Regression"
   ]
  },
  {
   "cell_type": "code",
   "execution_count": 70,
   "metadata": {},
   "outputs": [
    {
     "data": {
      "text/plain": [
       "LinearRegression(copy_X=True, fit_intercept=True, n_jobs=1, normalize=False)"
      ]
     },
     "execution_count": 70,
     "metadata": {},
     "output_type": "execute_result"
    }
   ],
   "source": [
    "lm=linear_model.LinearRegression()\n",
    "\n",
    "lm.fit(X_train, Y_train)"
   ]
  },
  {
   "cell_type": "code",
   "execution_count": 71,
   "metadata": {},
   "outputs": [
    {
     "data": {
      "text/plain": [
       "-2.3384939707186572"
      ]
     },
     "execution_count": 71,
     "metadata": {},
     "output_type": "execute_result"
    }
   ],
   "source": [
    "lm.intercept_"
   ]
  },
  {
   "cell_type": "code",
   "execution_count": 72,
   "metadata": {},
   "outputs": [
    {
     "data": {
      "text/plain": [
       "array([ -2.41332331e-04,  -1.35045619e-03,  -3.69931192e-03,\n",
       "         1.22467474e-05,   1.76503013e-03,   2.96589010e-03,\n",
       "         3.46983932e-03,  -2.61940652e-05,  -6.11428797e-03,\n",
       "        -2.64628922e-03,   5.27066168e-03,   2.91923735e-08,\n",
       "        -5.52544828e-03,   8.09439073e-04,  -7.96492310e-03,\n",
       "         9.16023661e-06,   8.43116785e-04,  -9.74039214e-03,\n",
       "        -3.46891866e-07,   3.72460788e-07,   1.51481440e-03,\n",
       "        -3.42786852e-07,  -3.00022461e-06,   2.00730658e-02,\n",
       "        -6.38978948e-03,  -1.75036008e-03,   8.14014956e-03,\n",
       "        -1.51481440e-03,   1.51481440e-03,  -1.88904563e-02,\n",
       "         9.30682014e-02,  -1.70701216e-02,  -3.79752669e-02,\n",
       "         2.84725119e-04,  -1.94170817e-02,   3.66716747e-02,\n",
       "         1.22073172e-02,   1.26626083e-02,   1.36346766e-02,\n",
       "        -3.03877815e-02,  -5.54299899e-02,  -4.88886208e-04,\n",
       "        -2.94865456e-03,   3.57775182e-03,   2.33339585e-02,\n",
       "        -4.20599369e-03,  -8.62668115e-03,   4.37934226e-03,\n",
       "        -7.26039409e-03,   1.73494569e-03,   1.14610614e-03])"
      ]
     },
     "execution_count": 72,
     "metadata": {},
     "output_type": "execute_result"
    }
   ],
   "source": [
    "lm.coef_"
   ]
  },
  {
   "cell_type": "code",
   "execution_count": 73,
   "metadata": {
    "collapsed": true
   },
   "outputs": [],
   "source": [
    "ptrain = lm.predict(X_train)\n",
    "ptest = lm.predict(X_test)"
   ]
  },
  {
   "cell_type": "markdown",
   "metadata": {},
   "source": [
    "Compare the goodness of fit of the model for the train set versus the test set"
   ]
  },
  {
   "cell_type": "code",
   "execution_count": 75,
   "metadata": {},
   "outputs": [
    {
     "data": {
      "text/plain": [
       "0.16360940222540835"
      ]
     },
     "execution_count": 75,
     "metadata": {},
     "output_type": "execute_result"
    }
   ],
   "source": [
    "sqrt(mean_squared_error(Y_train, ptrain))"
   ]
  },
  {
   "cell_type": "code",
   "execution_count": 31,
   "metadata": {},
   "outputs": [
    {
     "data": {
      "text/plain": [
       "0.17031177521389948"
      ]
     },
     "execution_count": 31,
     "metadata": {},
     "output_type": "execute_result"
    }
   ],
   "source": [
    "sqrt(mean_squared_error(Y_test, ptest))"
   ]
  },
  {
   "cell_type": "code",
   "execution_count": 76,
   "metadata": {},
   "outputs": [
    {
     "data": {
      "text/plain": [
       "0.069055566822086981"
      ]
     },
     "execution_count": 76,
     "metadata": {},
     "output_type": "execute_result"
    }
   ],
   "source": [
    "mean_absolute_error(Y_train, ptrain)"
   ]
  },
  {
   "cell_type": "code",
   "execution_count": 77,
   "metadata": {},
   "outputs": [
    {
     "data": {
      "text/plain": [
       "0.070423539971245716"
      ]
     },
     "execution_count": 77,
     "metadata": {},
     "output_type": "execute_result"
    }
   ],
   "source": [
    "mean_absolute_error(Y_test, ptest)"
   ]
  },
  {
   "cell_type": "markdown",
   "metadata": {},
   "source": [
    "## Lasso Feature Selection"
   ]
  },
  {
   "cell_type": "code",
   "execution_count": 78,
   "metadata": {},
   "outputs": [
    {
     "data": {
      "text/plain": [
       "Lasso(alpha=1.0, copy_X=True, fit_intercept=True, max_iter=1000,\n",
       "   normalize=False, positive=False, precompute=False, random_state=None,\n",
       "   selection='cyclic', tol=1, warm_start=False)"
      ]
     },
     "execution_count": 78,
     "metadata": {},
     "output_type": "execute_result"
    }
   ],
   "source": [
    "clf = linear_model.Lasso(tol=1) #alpha=0.1\n",
    "clf.fit(X_train, Y_train)"
   ]
  },
  {
   "cell_type": "code",
   "execution_count": 79,
   "metadata": {},
   "outputs": [
    {
     "data": {
      "text/plain": [
       "0.0032004941593023126"
      ]
     },
     "execution_count": 79,
     "metadata": {},
     "output_type": "execute_result"
    }
   ],
   "source": [
    "clf.intercept_"
   ]
  },
  {
   "cell_type": "code",
   "execution_count": 80,
   "metadata": {},
   "outputs": [
    {
     "data": {
      "text/plain": [
       "array([  0.00000000e+00,  -0.00000000e+00,   0.00000000e+00,\n",
       "         7.57157516e-06,  -0.00000000e+00,   0.00000000e+00,\n",
       "         0.00000000e+00,   0.00000000e+00,  -0.00000000e+00,\n",
       "        -0.00000000e+00,   0.00000000e+00,   1.71259738e-08,\n",
       "        -0.00000000e+00,   0.00000000e+00,  -0.00000000e+00,\n",
       "         0.00000000e+00,   0.00000000e+00,  -0.00000000e+00,\n",
       "        -3.61807239e-09,  -1.49698166e-09,   0.00000000e+00,\n",
       "        -1.00452889e-09,  -2.29103881e-07,   0.00000000e+00,\n",
       "        -0.00000000e+00,   0.00000000e+00,   0.00000000e+00,\n",
       "        -0.00000000e+00,   0.00000000e+00,  -0.00000000e+00,\n",
       "         0.00000000e+00,   0.00000000e+00,  -0.00000000e+00,\n",
       "         0.00000000e+00,   0.00000000e+00,   0.00000000e+00,\n",
       "         0.00000000e+00,  -0.00000000e+00,   0.00000000e+00,\n",
       "        -0.00000000e+00,  -0.00000000e+00,  -0.00000000e+00,\n",
       "        -0.00000000e+00,  -0.00000000e+00,   0.00000000e+00,\n",
       "        -0.00000000e+00,  -0.00000000e+00,   0.00000000e+00,\n",
       "        -0.00000000e+00,  -0.00000000e+00,  -0.00000000e+00])"
      ]
     },
     "execution_count": 80,
     "metadata": {},
     "output_type": "execute_result"
    }
   ],
   "source": [
    "clf.coef_"
   ]
  },
  {
   "cell_type": "code",
   "execution_count": 81,
   "metadata": {
    "collapsed": true
   },
   "outputs": [],
   "source": [
    "ptrain = clf.predict(X_train)\n",
    "ptest = clf.predict(X_test)"
   ]
  },
  {
   "cell_type": "markdown",
   "metadata": {},
   "source": [
    "Compare the goodness of fit of the model for the train set versus the test set"
   ]
  },
  {
   "cell_type": "code",
   "execution_count": 82,
   "metadata": {},
   "outputs": [
    {
     "data": {
      "text/plain": [
       "0.1638646429667453"
      ]
     },
     "execution_count": 82,
     "metadata": {},
     "output_type": "execute_result"
    }
   ],
   "source": [
    "sqrt(mean_squared_error(Y_train, ptrain))"
   ]
  },
  {
   "cell_type": "code",
   "execution_count": 83,
   "metadata": {},
   "outputs": [
    {
     "data": {
      "text/plain": [
       "0.17111287742993772"
      ]
     },
     "execution_count": 83,
     "metadata": {},
     "output_type": "execute_result"
    }
   ],
   "source": [
    "sqrt(mean_squared_error(Y_test, ptest))"
   ]
  },
  {
   "cell_type": "code",
   "execution_count": 84,
   "metadata": {},
   "outputs": [
    {
     "data": {
      "text/plain": [
       "0.06895492080469999"
      ]
     },
     "execution_count": 84,
     "metadata": {},
     "output_type": "execute_result"
    }
   ],
   "source": [
    "mean_absolute_error(Y_train, ptrain)"
   ]
  },
  {
   "cell_type": "code",
   "execution_count": 85,
   "metadata": {},
   "outputs": [
    {
     "data": {
      "text/plain": [
       "0.070343658681989857"
      ]
     },
     "execution_count": 85,
     "metadata": {},
     "output_type": "execute_result"
    }
   ],
   "source": [
    "mean_absolute_error(Y_test, ptest)"
   ]
  },
  {
   "cell_type": "markdown",
   "metadata": {},
   "source": [
    "##  Recursive Feature Elimination"
   ]
  },
  {
   "cell_type": "code",
   "execution_count": 86,
   "metadata": {},
   "outputs": [
    {
     "data": {
      "text/plain": [
       "RFE(estimator=LinearRegression(copy_X=True, fit_intercept=True, n_jobs=1, normalize=False),\n",
       "  n_features_to_select=25, step=1, verbose=0)"
      ]
     },
     "execution_count": 86,
     "metadata": {},
     "output_type": "execute_result"
    }
   ],
   "source": [
    "#http://blog.datadive.net/selecting-good-features-part-iv-stability-selection-rfe-and-everything-side-by-side/\n",
    "model=LinearRegression()\n",
    "rfe = RFE(model, n_features_to_select=25)\n",
    "rfe.fit(X_train,Y_train)"
   ]
  },
  {
   "cell_type": "code",
   "execution_count": 87,
   "metadata": {},
   "outputs": [
    {
     "data": {
      "text/plain": [
       "array([17, 16, 18, 22,  9, 14, 19, 20,  1, 11, 10, 27,  5, 13, 12, 21, 15,\n",
       "        8, 25, 24,  6, 26, 23,  7,  1,  1,  1,  1,  1,  2,  1,  3,  4,  1,\n",
       "        1,  1,  1,  1,  1,  1,  1,  1,  1,  1,  1,  1,  1,  1,  1,  1,  1])"
      ]
     },
     "execution_count": 87,
     "metadata": {},
     "output_type": "execute_result"
    }
   ],
   "source": [
    "rfe.ranking_ "
   ]
  },
  {
   "cell_type": "code",
   "execution_count": 88,
   "metadata": {
    "collapsed": true
   },
   "outputs": [],
   "source": [
    "ptrain=rfe.predict(X_train)\n",
    "ptest=rfe.predict(X_test)"
   ]
  },
  {
   "cell_type": "markdown",
   "metadata": {},
   "source": [
    "Compare the goodness of fit of the model for the train set versus the test set"
   ]
  },
  {
   "cell_type": "code",
   "execution_count": 89,
   "metadata": {
    "scrolled": true
   },
   "outputs": [
    {
     "data": {
      "text/plain": [
       "0.16396855571413285"
      ]
     },
     "execution_count": 89,
     "metadata": {},
     "output_type": "execute_result"
    }
   ],
   "source": [
    "sqrt(mean_squared_error(Y_train, ptrain))"
   ]
  },
  {
   "cell_type": "code",
   "execution_count": 90,
   "metadata": {},
   "outputs": [
    {
     "data": {
      "text/plain": [
       "0.17132238396104527"
      ]
     },
     "execution_count": 90,
     "metadata": {},
     "output_type": "execute_result"
    }
   ],
   "source": [
    "sqrt(mean_squared_error(Y_test, ptest))"
   ]
  },
  {
   "cell_type": "code",
   "execution_count": 91,
   "metadata": {},
   "outputs": [
    {
     "data": {
      "text/plain": [
       "0.069239180763875433"
      ]
     },
     "execution_count": 91,
     "metadata": {},
     "output_type": "execute_result"
    }
   ],
   "source": [
    "mean_absolute_error(Y_train, ptrain)"
   ]
  },
  {
   "cell_type": "code",
   "execution_count": 92,
   "metadata": {},
   "outputs": [
    {
     "data": {
      "text/plain": [
       "0.070646706395024725"
      ]
     },
     "execution_count": 92,
     "metadata": {},
     "output_type": "execute_result"
    }
   ],
   "source": [
    "mean_absolute_error(Y_test, ptest)"
   ]
  },
  {
   "cell_type": "markdown",
   "metadata": {
    "collapsed": true
   },
   "source": [
    "## Backward Selection\n",
    "\n",
    "We are backward selecting features using the MAE for the test data"
   ]
  },
  {
   "cell_type": "code",
   "execution_count": 94,
   "metadata": {
    "collapsed": true
   },
   "outputs": [],
   "source": [
    "train,test=train_test_split(array,test_size=0.2)"
   ]
  },
  {
   "cell_type": "code",
   "execution_count": 153,
   "metadata": {},
   "outputs": [
    {
     "data": {
      "text/plain": [
       "0.069596211914267986"
      ]
     },
     "execution_count": 153,
     "metadata": {},
     "output_type": "execute_result"
    }
   ],
   "source": [
    "blm=linear_model.LinearRegression()\n",
    "blm.fit(train[:,[5,7,13,21,25,26,29,31,38,39,40,43,45,47,53,57,61,62,63,64]], train[:,33])\n",
    "ptest=blm.predict(test[:,[5,7,13,21,25,26,29,31,38,39,40,43,45,47,53,57,61,62,63,64]])\n",
    "mean_absolute_error(test[:,33], ptest)"
   ]
  },
  {
   "attachments": {},
   "cell_type": "markdown",
   "metadata": {
    "collapsed": true
   },
   "source": [
    "For the sake of readablility we aren't showing each individual delete and add, but here are the final results:\n",
    "\n",
    "Keep: 64,63,62,61,57,53,47,45,43,40,39,38,31,29,26,25,21,13,7,5\n",
    "\n",
    "Delete: 60,59,58,56,55,54,52,51,50,49,48,46,44,42,41,30,27,24,22,16,15,14,11,10,9,8,4,3,2\n",
    "\n",
    "The \"keep\" columns translate to:\n",
    "* calculatedfinishedsquarefeet\n",
    "* fireplacecnt\n",
    "* latitude\n",
    "* roomcnt\n",
    "* fireplaceflag\n",
    "* structuretaxvaluedollarcnt\n",
    "* landtaxvaluedollarcnt\n",
    "* taxdelinquencyflag\n",
    "* fips codes\n",
    "* A/C types 1, 5, 11\n",
    "* heat types 10, 14\n",
    "* pooltypes\n",
    "\n",
    "Let's look at the statistics for this regression model:"
   ]
  },
  {
   "cell_type": "code",
   "execution_count": 156,
   "metadata": {},
   "outputs": [
    {
     "data": {
      "text/plain": [
       "0.16575785143478808"
      ]
     },
     "execution_count": 156,
     "metadata": {},
     "output_type": "execute_result"
    }
   ],
   "source": [
    "ptrain= blm.predict(train[:,[5,7,13,21,25,26,29,31,38,39,40,43,45,47,53,57,61,62,63,64]])\n",
    "sqrt(mean_squared_error(train[:,33], ptrain))"
   ]
  },
  {
   "cell_type": "code",
   "execution_count": 157,
   "metadata": {},
   "outputs": [
    {
     "data": {
      "text/plain": [
       "0.16336582534409633"
      ]
     },
     "execution_count": 157,
     "metadata": {},
     "output_type": "execute_result"
    }
   ],
   "source": [
    "sqrt(mean_squared_error(test[:,33], ptest))"
   ]
  },
  {
   "cell_type": "code",
   "execution_count": 158,
   "metadata": {},
   "outputs": [
    {
     "data": {
      "text/plain": [
       "0.06911780840679195"
      ]
     },
     "execution_count": 158,
     "metadata": {},
     "output_type": "execute_result"
    }
   ],
   "source": [
    "mean_absolute_error(train[:,33],ptrain)"
   ]
  },
  {
   "cell_type": "code",
   "execution_count": 159,
   "metadata": {},
   "outputs": [
    {
     "data": {
      "text/plain": [
       "0.069596211914267986"
      ]
     },
     "execution_count": 159,
     "metadata": {},
     "output_type": "execute_result"
    }
   ],
   "source": [
    "mean_absolute_error(test[:,33],ptest)"
   ]
  },
  {
   "cell_type": "markdown",
   "metadata": {
    "collapsed": true
   },
   "source": [
    "## Forward Selection\n",
    "\n",
    "Some of the improvements in MAE were very small, and the order in which columns were removed could have affected the results. Let's see if we can further improve the scores by forward selecting from the columns chosen by backward selection, adding them in the opposite order"
   ]
  },
  {
   "cell_type": "code",
   "execution_count": 184,
   "metadata": {},
   "outputs": [
    {
     "data": {
      "text/plain": [
       "0.069504850047729591"
      ]
     },
     "execution_count": 184,
     "metadata": {},
     "output_type": "execute_result"
    }
   ],
   "source": [
    "flm=linear_model.LinearRegression()\n",
    "flm.fit(train[:,[5,7,13,25,31,40,45,57,61,62]], train[:,33])\n",
    "ptest=flm.predict(test[:,[5,7,13,25,31,40,45,57,61,62]])\n",
    "mean_absolute_error(test[:,33], ptest)"
   ]
  },
  {
   "attachments": {},
   "cell_type": "markdown",
   "metadata": {},
   "source": [
    "Remove: 21,26,29,38,39,43,47,53,63,64\n",
    "\n",
    "The columns we are keeping are:\n",
    "* calculatedfinishedsquarefeet\n",
    "* fireplacecnt\n",
    "* latitude\n",
    "* fireplaceflag\n",
    "* taxdelinquencyflag\n",
    "* FIPS code 6111 (Ventura County)\n",
    "* A/C type 5 (None)\n",
    "* Heat type 14 (\"Other\")\n",
    "* No pool or pool type 2 (pool with hot tub/spa)\n",
    "\n",
    "Let's look at the statistics:"
   ]
  },
  {
   "cell_type": "code",
   "execution_count": 186,
   "metadata": {},
   "outputs": [
    {
     "data": {
      "text/plain": [
       "0.16580236306254062"
      ]
     },
     "execution_count": 186,
     "metadata": {},
     "output_type": "execute_result"
    }
   ],
   "source": [
    "ptrain= flm.predict(train[:,[5,7,13,25,31,40,45,57,61,62]])\n",
    "sqrt(mean_squared_error(train[:,33], ptrain))"
   ]
  },
  {
   "cell_type": "code",
   "execution_count": 187,
   "metadata": {},
   "outputs": [
    {
     "data": {
      "text/plain": [
       "0.16339726635224958"
      ]
     },
     "execution_count": 187,
     "metadata": {},
     "output_type": "execute_result"
    }
   ],
   "source": [
    "sqrt(mean_squared_error(test[:,33], ptest))"
   ]
  },
  {
   "cell_type": "code",
   "execution_count": 188,
   "metadata": {},
   "outputs": [
    {
     "data": {
      "text/plain": [
       "0.069027045083357205"
      ]
     },
     "execution_count": 188,
     "metadata": {},
     "output_type": "execute_result"
    }
   ],
   "source": [
    "mean_absolute_error(train[:,33], ptrain)"
   ]
  },
  {
   "cell_type": "code",
   "execution_count": 189,
   "metadata": {},
   "outputs": [
    {
     "data": {
      "text/plain": [
       "0.069504850047729591"
      ]
     },
     "execution_count": 189,
     "metadata": {},
     "output_type": "execute_result"
    }
   ],
   "source": [
    "mean_absolute_error(test[:,33], ptest)"
   ]
  },
  {
   "cell_type": "code",
   "execution_count": null,
   "metadata": {
    "collapsed": true
   },
   "outputs": [],
   "source": []
  }
 ],
 "metadata": {
  "kernelspec": {
   "display_name": "Python 3",
   "language": "python",
   "name": "python3"
  },
  "language_info": {
   "codemirror_mode": {
    "name": "ipython",
    "version": 3
   },
   "file_extension": ".py",
   "mimetype": "text/x-python",
   "name": "python",
   "nbconvert_exporter": "python",
   "pygments_lexer": "ipython3",
   "version": "3.6.2"
  }
 },
 "nbformat": 4,
 "nbformat_minor": 2
}
