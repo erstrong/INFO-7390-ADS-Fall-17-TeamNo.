{
 "cells": [
  {
   "cell_type": "code",
   "execution_count": 314,
   "metadata": {
    "collapsed": true
   },
   "outputs": [],
   "source": [
    "import pandas as pd\n",
    "import numpy as np"
   ]
  },
  {
   "cell_type": "code",
   "execution_count": 315,
   "metadata": {
    "collapsed": true
   },
   "outputs": [],
   "source": [
    "pd.set_option('display.max_columns',65)"
   ]
  },
  {
   "cell_type": "code",
   "execution_count": 316,
   "metadata": {
    "collapsed": true
   },
   "outputs": [],
   "source": [
    "df=pd.read_csv(\"clean_data.csv\")"
   ]
  },
  {
   "cell_type": "code",
   "execution_count": 317,
   "metadata": {},
   "outputs": [
    {
     "data": {
      "text/html": [
       "<div>\n",
       "<style>\n",
       "    .dataframe thead tr:only-child th {\n",
       "        text-align: right;\n",
       "    }\n",
       "\n",
       "    .dataframe thead th {\n",
       "        text-align: left;\n",
       "    }\n",
       "\n",
       "    .dataframe tbody tr th {\n",
       "        vertical-align: top;\n",
       "    }\n",
       "</style>\n",
       "<table border=\"1\" class=\"dataframe\">\n",
       "  <thead>\n",
       "    <tr style=\"text-align: right;\">\n",
       "      <th></th>\n",
       "      <th>parcelid</th>\n",
       "      <th>airconditioningtypeid</th>\n",
       "      <th>bedroomcnt</th>\n",
       "      <th>buildingqualitytypeid</th>\n",
       "      <th>calculatedbathnbr</th>\n",
       "      <th>calculatedfinishedsquarefeet</th>\n",
       "      <th>fips</th>\n",
       "      <th>fireplacecnt</th>\n",
       "      <th>fullbathcnt</th>\n",
       "      <th>garagecarcnt</th>\n",
       "      <th>garagetotalsqft</th>\n",
       "      <th>hashottuborspa</th>\n",
       "      <th>heatingorsystemtypeid</th>\n",
       "      <th>latitude</th>\n",
       "      <th>longitude</th>\n",
       "      <th>lotsizesquarefeet</th>\n",
       "      <th>poolcnt</th>\n",
       "      <th>propertycountylandusecode</th>\n",
       "      <th>propertylandusetypeid</th>\n",
       "      <th>rawcensustractandblock</th>\n",
       "      <th>regionidcity</th>\n",
       "      <th>roomcnt</th>\n",
       "      <th>unitcnt</th>\n",
       "      <th>yearbuilt</th>\n",
       "      <th>numberofstories</th>\n",
       "      <th>fireplaceflag</th>\n",
       "      <th>structuretaxvaluedollarcnt</th>\n",
       "      <th>taxvaluedollarcnt</th>\n",
       "      <th>assessmentyear</th>\n",
       "      <th>landtaxvaluedollarcnt</th>\n",
       "      <th>taxamount</th>\n",
       "      <th>taxdelinquencyflag</th>\n",
       "      <th>taxdelinquencyyear</th>\n",
       "      <th>logerror</th>\n",
       "      <th>transactiondate</th>\n",
       "      <th>setyear</th>\n",
       "      <th>pooltype</th>\n",
       "      <th>zipcode</th>\n",
       "    </tr>\n",
       "  </thead>\n",
       "  <tbody>\n",
       "    <tr>\n",
       "      <th>0</th>\n",
       "      <td>17073783</td>\n",
       "      <td>5.0</td>\n",
       "      <td>3.0</td>\n",
       "      <td>6.015461</td>\n",
       "      <td>2.5</td>\n",
       "      <td>1264.0</td>\n",
       "      <td>6111.0</td>\n",
       "      <td>0.0</td>\n",
       "      <td>2.0</td>\n",
       "      <td>2.0</td>\n",
       "      <td>434.0</td>\n",
       "      <td>False</td>\n",
       "      <td>2.0</td>\n",
       "      <td>34.303597</td>\n",
       "      <td>-119.287236</td>\n",
       "      <td>1735.0</td>\n",
       "      <td>0.0</td>\n",
       "      <td>1128</td>\n",
       "      <td>265.0</td>\n",
       "      <td>61110022003007</td>\n",
       "      <td>34543.0</td>\n",
       "      <td>5.0</td>\n",
       "      <td>1.0</td>\n",
       "      <td>1986.0</td>\n",
       "      <td>2.0</td>\n",
       "      <td>False</td>\n",
       "      <td>115087.0</td>\n",
       "      <td>191811.0</td>\n",
       "      <td>2015.0</td>\n",
       "      <td>76724.0</td>\n",
       "      <td>2015.06</td>\n",
       "      <td>N</td>\n",
       "      <td>NaN</td>\n",
       "      <td>0.0953</td>\n",
       "      <td>2016-01-27</td>\n",
       "      <td>2016</td>\n",
       "      <td>0</td>\n",
       "      <td>93001</td>\n",
       "    </tr>\n",
       "    <tr>\n",
       "      <th>1</th>\n",
       "      <td>17088994</td>\n",
       "      <td>5.0</td>\n",
       "      <td>2.0</td>\n",
       "      <td>6.015461</td>\n",
       "      <td>1.0</td>\n",
       "      <td>777.0</td>\n",
       "      <td>6111.0</td>\n",
       "      <td>0.0</td>\n",
       "      <td>1.0</td>\n",
       "      <td>1.0</td>\n",
       "      <td>434.0</td>\n",
       "      <td>False</td>\n",
       "      <td>2.0</td>\n",
       "      <td>34.272866</td>\n",
       "      <td>-119.198911</td>\n",
       "      <td>7200.0</td>\n",
       "      <td>0.0</td>\n",
       "      <td>1129</td>\n",
       "      <td>266.0</td>\n",
       "      <td>61110015031002</td>\n",
       "      <td>34543.0</td>\n",
       "      <td>4.0</td>\n",
       "      <td>1.0</td>\n",
       "      <td>1990.0</td>\n",
       "      <td>1.0</td>\n",
       "      <td>False</td>\n",
       "      <td>143809.0</td>\n",
       "      <td>239679.0</td>\n",
       "      <td>2015.0</td>\n",
       "      <td>95870.0</td>\n",
       "      <td>2581.30</td>\n",
       "      <td>N</td>\n",
       "      <td>NaN</td>\n",
       "      <td>0.0198</td>\n",
       "      <td>2016-03-30</td>\n",
       "      <td>2016</td>\n",
       "      <td>0</td>\n",
       "      <td>93004</td>\n",
       "    </tr>\n",
       "    <tr>\n",
       "      <th>2</th>\n",
       "      <td>17100444</td>\n",
       "      <td>5.0</td>\n",
       "      <td>3.0</td>\n",
       "      <td>6.015461</td>\n",
       "      <td>2.0</td>\n",
       "      <td>1101.0</td>\n",
       "      <td>6111.0</td>\n",
       "      <td>0.0</td>\n",
       "      <td>2.0</td>\n",
       "      <td>2.0</td>\n",
       "      <td>441.0</td>\n",
       "      <td>False</td>\n",
       "      <td>2.0</td>\n",
       "      <td>34.340801</td>\n",
       "      <td>-119.079610</td>\n",
       "      <td>6569.0</td>\n",
       "      <td>0.0</td>\n",
       "      <td>1111</td>\n",
       "      <td>261.0</td>\n",
       "      <td>61110007011007</td>\n",
       "      <td>26965.0</td>\n",
       "      <td>5.0</td>\n",
       "      <td>1.0</td>\n",
       "      <td>1956.0</td>\n",
       "      <td>1.0</td>\n",
       "      <td>False</td>\n",
       "      <td>33619.0</td>\n",
       "      <td>47853.0</td>\n",
       "      <td>2015.0</td>\n",
       "      <td>14234.0</td>\n",
       "      <td>591.64</td>\n",
       "      <td>N</td>\n",
       "      <td>NaN</td>\n",
       "      <td>0.0060</td>\n",
       "      <td>2016-05-27</td>\n",
       "      <td>2016</td>\n",
       "      <td>0</td>\n",
       "      <td>93066</td>\n",
       "    </tr>\n",
       "    <tr>\n",
       "      <th>3</th>\n",
       "      <td>17102429</td>\n",
       "      <td>5.0</td>\n",
       "      <td>2.0</td>\n",
       "      <td>6.015461</td>\n",
       "      <td>1.5</td>\n",
       "      <td>1554.0</td>\n",
       "      <td>6111.0</td>\n",
       "      <td>1.0</td>\n",
       "      <td>1.0</td>\n",
       "      <td>2.0</td>\n",
       "      <td>460.0</td>\n",
       "      <td>False</td>\n",
       "      <td>2.0</td>\n",
       "      <td>34.354313</td>\n",
       "      <td>-119.076405</td>\n",
       "      <td>7400.0</td>\n",
       "      <td>0.0</td>\n",
       "      <td>1110</td>\n",
       "      <td>261.0</td>\n",
       "      <td>61110008002013</td>\n",
       "      <td>26965.0</td>\n",
       "      <td>5.0</td>\n",
       "      <td>1.0</td>\n",
       "      <td>1965.0</td>\n",
       "      <td>1.0</td>\n",
       "      <td>True</td>\n",
       "      <td>45609.0</td>\n",
       "      <td>62914.0</td>\n",
       "      <td>2015.0</td>\n",
       "      <td>17305.0</td>\n",
       "      <td>682.78</td>\n",
       "      <td>N</td>\n",
       "      <td>NaN</td>\n",
       "      <td>-0.0566</td>\n",
       "      <td>2016-06-07</td>\n",
       "      <td>2016</td>\n",
       "      <td>0</td>\n",
       "      <td>93060</td>\n",
       "    </tr>\n",
       "    <tr>\n",
       "      <th>4</th>\n",
       "      <td>17109604</td>\n",
       "      <td>5.0</td>\n",
       "      <td>4.0</td>\n",
       "      <td>6.015461</td>\n",
       "      <td>2.5</td>\n",
       "      <td>2415.0</td>\n",
       "      <td>6111.0</td>\n",
       "      <td>1.0</td>\n",
       "      <td>2.0</td>\n",
       "      <td>2.0</td>\n",
       "      <td>665.0</td>\n",
       "      <td>False</td>\n",
       "      <td>2.0</td>\n",
       "      <td>34.266578</td>\n",
       "      <td>-119.165392</td>\n",
       "      <td>6326.0</td>\n",
       "      <td>0.0</td>\n",
       "      <td>1111</td>\n",
       "      <td>261.0</td>\n",
       "      <td>61110014021007</td>\n",
       "      <td>34543.0</td>\n",
       "      <td>8.0</td>\n",
       "      <td>1.0</td>\n",
       "      <td>1984.0</td>\n",
       "      <td>2.0</td>\n",
       "      <td>True</td>\n",
       "      <td>277000.0</td>\n",
       "      <td>554000.0</td>\n",
       "      <td>2015.0</td>\n",
       "      <td>277000.0</td>\n",
       "      <td>5886.92</td>\n",
       "      <td>N</td>\n",
       "      <td>NaN</td>\n",
       "      <td>0.0573</td>\n",
       "      <td>2016-08-08</td>\n",
       "      <td>2016</td>\n",
       "      <td>0</td>\n",
       "      <td>93004</td>\n",
       "    </tr>\n",
       "  </tbody>\n",
       "</table>\n",
       "</div>"
      ],
      "text/plain": [
       "   parcelid  airconditioningtypeid  bedroomcnt  buildingqualitytypeid  \\\n",
       "0  17073783                    5.0         3.0               6.015461   \n",
       "1  17088994                    5.0         2.0               6.015461   \n",
       "2  17100444                    5.0         3.0               6.015461   \n",
       "3  17102429                    5.0         2.0               6.015461   \n",
       "4  17109604                    5.0         4.0               6.015461   \n",
       "\n",
       "   calculatedbathnbr  calculatedfinishedsquarefeet    fips  fireplacecnt  \\\n",
       "0                2.5                        1264.0  6111.0           0.0   \n",
       "1                1.0                         777.0  6111.0           0.0   \n",
       "2                2.0                        1101.0  6111.0           0.0   \n",
       "3                1.5                        1554.0  6111.0           1.0   \n",
       "4                2.5                        2415.0  6111.0           1.0   \n",
       "\n",
       "   fullbathcnt  garagecarcnt  garagetotalsqft  hashottuborspa  \\\n",
       "0          2.0           2.0            434.0           False   \n",
       "1          1.0           1.0            434.0           False   \n",
       "2          2.0           2.0            441.0           False   \n",
       "3          1.0           2.0            460.0           False   \n",
       "4          2.0           2.0            665.0           False   \n",
       "\n",
       "   heatingorsystemtypeid   latitude   longitude  lotsizesquarefeet  poolcnt  \\\n",
       "0                    2.0  34.303597 -119.287236             1735.0      0.0   \n",
       "1                    2.0  34.272866 -119.198911             7200.0      0.0   \n",
       "2                    2.0  34.340801 -119.079610             6569.0      0.0   \n",
       "3                    2.0  34.354313 -119.076405             7400.0      0.0   \n",
       "4                    2.0  34.266578 -119.165392             6326.0      0.0   \n",
       "\n",
       "  propertycountylandusecode  propertylandusetypeid  rawcensustractandblock  \\\n",
       "0                      1128                  265.0          61110022003007   \n",
       "1                      1129                  266.0          61110015031002   \n",
       "2                      1111                  261.0          61110007011007   \n",
       "3                      1110                  261.0          61110008002013   \n",
       "4                      1111                  261.0          61110014021007   \n",
       "\n",
       "   regionidcity  roomcnt  unitcnt  yearbuilt  numberofstories  fireplaceflag  \\\n",
       "0       34543.0      5.0      1.0     1986.0              2.0          False   \n",
       "1       34543.0      4.0      1.0     1990.0              1.0          False   \n",
       "2       26965.0      5.0      1.0     1956.0              1.0          False   \n",
       "3       26965.0      5.0      1.0     1965.0              1.0           True   \n",
       "4       34543.0      8.0      1.0     1984.0              2.0           True   \n",
       "\n",
       "   structuretaxvaluedollarcnt  taxvaluedollarcnt  assessmentyear  \\\n",
       "0                    115087.0           191811.0          2015.0   \n",
       "1                    143809.0           239679.0          2015.0   \n",
       "2                     33619.0            47853.0          2015.0   \n",
       "3                     45609.0            62914.0          2015.0   \n",
       "4                    277000.0           554000.0          2015.0   \n",
       "\n",
       "   landtaxvaluedollarcnt  taxamount taxdelinquencyflag  taxdelinquencyyear  \\\n",
       "0                76724.0    2015.06                  N                 NaN   \n",
       "1                95870.0    2581.30                  N                 NaN   \n",
       "2                14234.0     591.64                  N                 NaN   \n",
       "3                17305.0     682.78                  N                 NaN   \n",
       "4               277000.0    5886.92                  N                 NaN   \n",
       "\n",
       "   logerror transactiondate  setyear  pooltype  zipcode  \n",
       "0    0.0953      2016-01-27     2016         0    93001  \n",
       "1    0.0198      2016-03-30     2016         0    93004  \n",
       "2    0.0060      2016-05-27     2016         0    93066  \n",
       "3   -0.0566      2016-06-07     2016         0    93060  \n",
       "4    0.0573      2016-08-08     2016         0    93004  "
      ]
     },
     "execution_count": 317,
     "metadata": {},
     "output_type": "execute_result"
    }
   ],
   "source": [
    "df.head()"
   ]
  },
  {
   "cell_type": "code",
   "execution_count": 318,
   "metadata": {
    "collapsed": true
   },
   "outputs": [],
   "source": [
    "df=df.drop('transactiondate',axis=1)\n",
    "df=df.drop('taxdelinquencyyear',axis=1)\n",
    "def hottub(a):\n",
    "    if a:\n",
    "        return 1\n",
    "    else:\n",
    "        return 0\n",
    "df['hashottuborspa']=df['hashottuborspa'].map(lambda a:hottub(a))\n",
    "\n",
    "def fire(a):\n",
    "    if a:\n",
    "        return 1\n",
    "    else:\n",
    "        return 0\n",
    "df['fireplaceflag']=df['fireplaceflag'].map(lambda a:fire(a))\n",
    "\n",
    "def tax(a):\n",
    "    if a=='Y':\n",
    "        return 1\n",
    "    else:\n",
    "        return 0\n",
    "df['taxdelinquencyflag']=df['taxdelinquencyflag'].map(lambda a:tax(a))\n",
    "\n",
    "fips = pd.get_dummies(df['fips'])\n",
    "df = df.join(fips)\n",
    "\n",
    "yr = pd.get_dummies(df['setyear'])\n",
    "df = df.join(yr)\n",
    "\n",
    "ac = pd.get_dummies(df['airconditioningtypeid'], prefix='ac')\n",
    "df = df.join(ac)\n",
    "\n",
    "heat = pd.get_dummies(df['heatingorsystemtypeid'], prefix='heat')\n",
    "df=df.join(heat)"
   ]
  },
  {
   "cell_type": "code",
   "execution_count": 319,
   "metadata": {
    "collapsed": true
   },
   "outputs": [],
   "source": [
    "from sklearn.model_selection import train_test_split"
   ]
  },
  {
   "cell_type": "code",
   "execution_count": 320,
   "metadata": {
    "collapsed": true
   },
   "outputs": [],
   "source": [
    "array=df.values"
   ]
  },
  {
   "cell_type": "code",
   "execution_count": 321,
   "metadata": {
    "collapsed": true
   },
   "outputs": [],
   "source": [
    "Y=array[:,32]"
   ]
  },
  {
   "cell_type": "code",
   "execution_count": 322,
   "metadata": {
    "collapsed": true
   },
   "outputs": [],
   "source": [
    "x1=array[:,2:6]\n",
    "x2=array[:,7:12]\n",
    "x3=array[:,13:17]\n",
    "x4=array[:,19:20]\n",
    "x5=array[:,21:32]  \n",
    "x6=array[:,34:59]"
   ]
  },
  {
   "cell_type": "code",
   "execution_count": 323,
   "metadata": {
    "collapsed": true
   },
   "outputs": [],
   "source": [
    "X=np.hstack((x1,x2))\n",
    "X=np.hstack((X,x3))\n",
    "X=np.hstack((X,x4))\n",
    "X=np.hstack((X,x5))\n",
    "X=np.hstack((X,x6))"
   ]
  },
  {
   "cell_type": "code",
   "execution_count": 324,
   "metadata": {},
   "outputs": [
    {
     "data": {
      "text/plain": [
       "array([2.0, 6.015460983643267, 1.0, 777.0, 0.0, 1.0, 1.0, 434.0, 0,\n",
       "       34.272866, -119.19891100000001, 7200.0, 0.0, 61110015031002, 4.0,\n",
       "       1.0, 1990.0, 1.0, 0, 143809.0, 239679.0, 2015.0, 95870.0, 2581.3, 0,\n",
       "       0, 93004, 0, 0, 1, 1, 0, 0, 0, 1, 0, 0, 0, 0, 1, 0, 0, 0, 0, 0, 0,\n",
       "       0, 0, 0, 0], dtype=object)"
      ]
     },
     "execution_count": 324,
     "metadata": {},
     "output_type": "execute_result"
    }
   ],
   "source": [
    "X[1]"
   ]
  },
  {
   "cell_type": "code",
   "execution_count": 325,
   "metadata": {
    "collapsed": true
   },
   "outputs": [],
   "source": [
    "X_train,X_test,Y_train,Y_test=train_test_split(X,Y,test_size=0.2)"
   ]
  },
  {
   "cell_type": "code",
   "execution_count": 326,
   "metadata": {
    "collapsed": true
   },
   "outputs": [],
   "source": [
    "#https://www.kdnuggets.com/2016/10/beginners-guide-neural-networks-python-scikit-learn.html/2"
   ]
  },
  {
   "cell_type": "code",
   "execution_count": 327,
   "metadata": {},
   "outputs": [
    {
     "name": "stderr",
     "output_type": "stream",
     "text": [
      "C:\\ProgramData\\Anaconda3\\lib\\site-packages\\sklearn\\utils\\validation.py:444: DataConversionWarning: Data with input dtype object was converted to float64 by StandardScaler.\n",
      "  warnings.warn(msg, DataConversionWarning)\n"
     ]
    },
    {
     "data": {
      "text/plain": [
       "StandardScaler(copy=True, with_mean=True, with_std=True)"
      ]
     },
     "execution_count": 327,
     "metadata": {},
     "output_type": "execute_result"
    }
   ],
   "source": [
    "from sklearn.preprocessing import StandardScaler\n",
    "scaler = StandardScaler()\n",
    "# Fit only to the training data\n",
    "scaler.fit(X_train)"
   ]
  },
  {
   "cell_type": "code",
   "execution_count": 328,
   "metadata": {},
   "outputs": [
    {
     "name": "stderr",
     "output_type": "stream",
     "text": [
      "C:\\ProgramData\\Anaconda3\\lib\\site-packages\\sklearn\\utils\\validation.py:444: DataConversionWarning: Data with input dtype object was converted to float64 by StandardScaler.\n",
      "  warnings.warn(msg, DataConversionWarning)\n"
     ]
    }
   ],
   "source": [
    "# Now apply the transformations to the data:\n",
    "X_train = scaler.transform(X_train)\n",
    "X_test = scaler.transform(X_test)"
   ]
  },
  {
   "cell_type": "code",
   "execution_count": 329,
   "metadata": {
    "collapsed": true
   },
   "outputs": [],
   "source": [
    "from sklearn.neural_network import MLPRegressor"
   ]
  },
  {
   "cell_type": "code",
   "execution_count": 330,
   "metadata": {
    "collapsed": true
   },
   "outputs": [],
   "source": [
    "mlp = MLPRegressor(hidden_layer_sizes=(5000,2000,1000),activation='relu',solver='adam',learning_rate='adaptive',verbose=False)"
   ]
  },
  {
   "cell_type": "code",
   "execution_count": 331,
   "metadata": {},
   "outputs": [
    {
     "data": {
      "text/plain": [
       "MLPRegressor(activation='relu', alpha=0.0001, batch_size='auto', beta_1=0.9,\n",
       "       beta_2=0.999, early_stopping=False, epsilon=1e-08,\n",
       "       hidden_layer_sizes=(5000, 2000, 1000), learning_rate='adaptive',\n",
       "       learning_rate_init=0.001, max_iter=200, momentum=0.9,\n",
       "       nesterovs_momentum=True, power_t=0.5, random_state=None,\n",
       "       shuffle=True, solver='adam', tol=0.0001, validation_fraction=0.1,\n",
       "       verbose=False, warm_start=False)"
      ]
     },
     "execution_count": 331,
     "metadata": {},
     "output_type": "execute_result"
    }
   ],
   "source": [
    "mlp.fit(X_train,Y_train)"
   ]
  },
  {
   "cell_type": "markdown",
   "metadata": {},
   "source": [
    "### Hidden Layer (500,250,100)"
   ]
  },
  {
   "cell_type": "code",
   "execution_count": 282,
   "metadata": {
    "collapsed": true
   },
   "outputs": [],
   "source": [
    "predictions500=mlp.predict(X_train)"
   ]
  },
  {
   "cell_type": "code",
   "execution_count": 283,
   "metadata": {
    "collapsed": true
   },
   "outputs": [],
   "source": [
    "predictions = mlp.predict(X_test)"
   ]
  },
  {
   "cell_type": "code",
   "execution_count": 284,
   "metadata": {},
   "outputs": [
    {
     "name": "stdout",
     "output_type": "stream",
     "text": [
      "0.1738280216056256\n"
     ]
    }
   ],
   "source": [
    "from sklearn.metrics import mean_squared_error\n",
    "from math import sqrt\n",
    "\n",
    "print(sqrt(mean_squared_error(Y_train, predictions500)))"
   ]
  },
  {
   "cell_type": "code",
   "execution_count": 285,
   "metadata": {},
   "outputs": [
    {
     "name": "stdout",
     "output_type": "stream",
     "text": [
      "0.17589399164926103\n"
     ]
    }
   ],
   "source": [
    "from sklearn.metrics import mean_squared_error\n",
    "from math import sqrt\n",
    "\n",
    "print(sqrt(mean_squared_error(Y_test, predictions)))"
   ]
  },
  {
   "cell_type": "code",
   "execution_count": 286,
   "metadata": {},
   "outputs": [
    {
     "name": "stdout",
     "output_type": "stream",
     "text": [
      "0.0710263205695\n"
     ]
    }
   ],
   "source": [
    "from sklearn.metrics import mean_absolute_error\n",
    "\n",
    "print(mean_absolute_error(Y_train,predictions500))"
   ]
  },
  {
   "cell_type": "code",
   "execution_count": 287,
   "metadata": {},
   "outputs": [
    {
     "name": "stdout",
     "output_type": "stream",
     "text": [
      "0.0719059421754\n"
     ]
    }
   ],
   "source": [
    "from sklearn.metrics import mean_absolute_error\n",
    "\n",
    "print(mean_absolute_error(Y_test,predictions))"
   ]
  },
  {
   "cell_type": "markdown",
   "metadata": {},
   "source": [
    "### Hidden layer: 10000,5000,2000"
   ]
  },
  {
   "cell_type": "code",
   "execution_count": 234,
   "metadata": {
    "collapsed": true
   },
   "outputs": [],
   "source": [
    "predictions = mlp.predict(X_test)"
   ]
  },
  {
   "cell_type": "code",
   "execution_count": 235,
   "metadata": {},
   "outputs": [
    {
     "name": "stdout",
     "output_type": "stream",
     "text": [
      "0.16631902589554823\n"
     ]
    }
   ],
   "source": [
    "from sklearn.metrics import mean_squared_error\n",
    "from math import sqrt\n",
    "\n",
    "print(sqrt(mean_squared_error(Y_test, predictions)))"
   ]
  },
  {
   "cell_type": "code",
   "execution_count": 237,
   "metadata": {},
   "outputs": [
    {
     "name": "stdout",
     "output_type": "stream",
     "text": [
      "0.0699808846082\n"
     ]
    }
   ],
   "source": [
    "from sklearn.metrics import mean_absolute_error\n",
    "\n",
    "print(mean_absolute_error(Y_test,predictions))"
   ]
  },
  {
   "cell_type": "markdown",
   "metadata": {},
   "source": [
    "### Hidden layer-100, 50, 30"
   ]
  },
  {
   "cell_type": "code",
   "execution_count": 257,
   "metadata": {
    "collapsed": true
   },
   "outputs": [],
   "source": [
    "predictions = mlp.predict(X_test)"
   ]
  },
  {
   "cell_type": "code",
   "execution_count": 258,
   "metadata": {},
   "outputs": [
    {
     "name": "stdout",
     "output_type": "stream",
     "text": [
      "0.17180407016233065\n"
     ]
    }
   ],
   "source": [
    "from sklearn.metrics import mean_squared_error\n",
    "from math import sqrt\n",
    "\n",
    "print(sqrt(mean_squared_error(Y_test, predictions)))"
   ]
  },
  {
   "cell_type": "code",
   "execution_count": 259,
   "metadata": {},
   "outputs": [
    {
     "name": "stdout",
     "output_type": "stream",
     "text": [
      "0.072642437057\n"
     ]
    }
   ],
   "source": [
    "from sklearn.metrics import mean_absolute_error\n",
    "\n",
    "print(mean_absolute_error(Y_test,predictions))"
   ]
  },
  {
   "cell_type": "code",
   "execution_count": 260,
   "metadata": {
    "collapsed": true
   },
   "outputs": [],
   "source": [
    "predictionsTrain = mlp.predict(X_train)"
   ]
  },
  {
   "cell_type": "code",
   "execution_count": 261,
   "metadata": {},
   "outputs": [
    {
     "name": "stdout",
     "output_type": "stream",
     "text": [
      "0.16631469692789658\n"
     ]
    }
   ],
   "source": [
    "from sklearn.metrics import mean_squared_error\n",
    "from math import sqrt\n",
    "\n",
    "print(sqrt(mean_squared_error(Y_train, predictionsTrain)))"
   ]
  },
  {
   "cell_type": "code",
   "execution_count": 263,
   "metadata": {},
   "outputs": [
    {
     "name": "stdout",
     "output_type": "stream",
     "text": [
      "0.0720487971513\n"
     ]
    }
   ],
   "source": [
    "from sklearn.metrics import mean_absolute_error\n",
    "\n",
    "print(mean_absolute_error(Y_train,predictionsTrain))"
   ]
  },
  {
   "cell_type": "code",
   "execution_count": null,
   "metadata": {
    "collapsed": true
   },
   "outputs": [],
   "source": []
  }
 ],
 "metadata": {
  "kernelspec": {
   "display_name": "Python 3",
   "language": "python",
   "name": "python3"
  },
  "language_info": {
   "codemirror_mode": {
    "name": "ipython",
    "version": 3
   },
   "file_extension": ".py",
   "mimetype": "text/x-python",
   "name": "python",
   "nbconvert_exporter": "python",
   "pygments_lexer": "ipython3",
   "version": "3.6.2"
  }
 },
 "nbformat": 4,
 "nbformat_minor": 2
}
