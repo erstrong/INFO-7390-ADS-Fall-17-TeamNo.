{
 "cells": [
  {
   "cell_type": "code",
   "execution_count": 1,
   "metadata": {
    "collapsed": true
   },
   "outputs": [],
   "source": [
    "import pandas as pd"
   ]
  },
  {
   "cell_type": "code",
   "execution_count": 3,
   "metadata": {},
   "outputs": [
    {
     "name": "stderr",
     "output_type": "stream",
     "text": [
      "/Users/emily-air13/anaconda3/lib/python3.6/site-packages/IPython/core/interactiveshell.py:2698: DtypeWarning: Columns (0,19,47,55,112,123,124,125,128,129,130,133,139,140,141) have mixed types. Specify dtype option on import or set low_memory=False.\n",
      "  interactivity=interactivity, compiler=compiler, result=result)\n"
     ]
    }
   ],
   "source": [
    "loans = pd.read_csv('airflow_home/loanstats.csv')"
   ]
  },
  {
   "cell_type": "code",
   "execution_count": null,
   "metadata": {},
   "outputs": [],
   "source": [
    "loans.head()"
   ]
  },
  {
   "cell_type": "code",
   "execution_count": 4,
   "metadata": {},
   "outputs": [],
   "source": [
    "import matplotlib.pyplot as plt\n",
    "from matplotlib.pyplot import cm\n",
    "\n",
    "missing_percents = (len(loans.index) - loans.count())/len(loans.index)\n",
    "#missing_percents.sort_values(inplace=True)\n",
    "#missing_percents.plot.barh(figsize=(20,40))\n",
    "#plt.yticks(size=20)\n",
    "#plt.show()\n",
    "\n"
   ]
  },
  {
   "cell_type": "code",
   "execution_count": 5,
   "metadata": {
    "collapsed": true
   },
   "outputs": [],
   "source": [
    "drops = missing_percents[missing_percents > .7]"
   ]
  },
  {
   "cell_type": "code",
   "execution_count": 6,
   "metadata": {},
   "outputs": [
    {
     "data": {
      "text/plain": [
       "id                                            0.999986\n",
       "member_id                                     1.000000\n",
       "url                                           1.000000\n",
       "desc                                          0.923447\n",
       "mths_since_last_record                        0.831040\n",
       "mths_since_last_major_derog                   0.734741\n",
       "annual_inc_joint                              0.979042\n",
       "dti_joint                                     0.979044\n",
       "verification_status_joint                     0.979042\n",
       "mths_since_recent_bc_dlq                      0.758860\n",
       "revol_bal_joint                               0.986747\n",
       "sec_app_earliest_cr_line                      0.986747\n",
       "sec_app_inq_last_6mths                        0.986747\n",
       "sec_app_mort_acc                              0.986747\n",
       "sec_app_open_acc                              0.986747\n",
       "sec_app_revol_util                            0.986922\n",
       "sec_app_open_act_il                           0.986747\n",
       "sec_app_num_rev_accts                         0.986747\n",
       "sec_app_chargeoff_within_12_mths              0.986747\n",
       "sec_app_collections_12_mths_ex_med            0.986747\n",
       "sec_app_mths_since_last_major_derog           0.995421\n",
       "hardship_type                                 0.996974\n",
       "hardship_reason                               0.996974\n",
       "hardship_status                               0.996974\n",
       "deferral_term                                 0.996974\n",
       "hardship_amount                               0.996974\n",
       "hardship_start_date                           0.996974\n",
       "hardship_end_date                             0.996974\n",
       "payment_plan_start_date                       0.996974\n",
       "hardship_length                               0.996974\n",
       "hardship_dpd                                  0.996974\n",
       "hardship_loan_status                          0.996974\n",
       "orig_projected_additional_accrued_interest    0.997326\n",
       "hardship_payoff_balance_amount                0.996974\n",
       "hardship_last_payment_amount                  0.996974\n",
       "debt_settlement_flag_date                     0.993269\n",
       "settlement_status                             0.993269\n",
       "settlement_date                               0.993269\n",
       "settlement_amount                             0.993269\n",
       "settlement_percentage                         0.993269\n",
       "settlement_term                               0.993269\n",
       "dtype: float64"
      ]
     },
     "execution_count": 6,
     "metadata": {},
     "output_type": "execute_result"
    }
   ],
   "source": [
    "drops"
   ]
  },
  {
   "cell_type": "code",
   "execution_count": 7,
   "metadata": {
    "collapsed": true
   },
   "outputs": [],
   "source": [
    "columns = drops.index"
   ]
  },
  {
   "cell_type": "code",
   "execution_count": 8,
   "metadata": {
    "collapsed": true
   },
   "outputs": [],
   "source": [
    "for c in columns:\n",
    "    loans.drop(c, axis=1, inplace=True)"
   ]
  },
  {
   "cell_type": "code",
   "execution_count": null,
   "metadata": {},
   "outputs": [],
   "source": [
    "loans.dtypes"
   ]
  },
  {
   "cell_type": "code",
   "execution_count": null,
   "metadata": {},
   "outputs": [],
   "source": [
    "loans.count()"
   ]
  },
  {
   "cell_type": "code",
   "execution_count": 9,
   "metadata": {
    "collapsed": true
   },
   "outputs": [],
   "source": [
    "pd.set_option('display.max_columns', 110)"
   ]
  },
  {
   "cell_type": "code",
   "execution_count": null,
   "metadata": {},
   "outputs": [],
   "source": [
    "loans.describe()"
   ]
  },
  {
   "cell_type": "code",
   "execution_count": 10,
   "metadata": {},
   "outputs": [
    {
     "data": {
      "text/plain": [
       "set          False\n",
       "timestamp    False\n",
       "dtype: bool"
      ]
     },
     "execution_count": 10,
     "metadata": {},
     "output_type": "execute_result"
    }
   ],
   "source": [
    "t = loans.isnull().any()\n",
    "t[t==False]"
   ]
  },
  {
   "cell_type": "code",
   "execution_count": 11,
   "metadata": {
    "collapsed": true
   },
   "outputs": [],
   "source": [
    "loans_temp = loans.drop(['set', 'timestamp'], axis=1)"
   ]
  },
  {
   "cell_type": "code",
   "execution_count": 12,
   "metadata": {
    "collapsed": true
   },
   "outputs": [],
   "source": [
    "t2 = loans_temp.isnull().all(1)\n",
    "b = t2[t2==True].index\n"
   ]
  },
  {
   "cell_type": "code",
   "execution_count": 13,
   "metadata": {
    "collapsed": true
   },
   "outputs": [],
   "source": [
    "loans.drop(loans.index[b], inplace=True)"
   ]
  },
  {
   "cell_type": "code",
   "execution_count": null,
   "metadata": {
    "collapsed": true
   },
   "outputs": [],
   "source": [
    "declined = pd.read_csv('airflow_home/declinestats.csv')"
   ]
  },
  {
   "cell_type": "code",
   "execution_count": null,
   "metadata": {},
   "outputs": [],
   "source": [
    "declined.head()"
   ]
  },
  {
   "cell_type": "code",
   "execution_count": null,
   "metadata": {},
   "outputs": [],
   "source": [
    "missing_percentsd = (len(declined.index) - declined.count())/len(declined.index)\n",
    "missing_percentsd.sort_values(inplace=True)\n",
    "missing_percentsd"
   ]
  },
  {
   "cell_type": "code",
   "execution_count": null,
   "metadata": {},
   "outputs": [],
   "source": [
    "declined['Risk_Score'].describe()"
   ]
  },
  {
   "cell_type": "code",
   "execution_count": null,
   "metadata": {},
   "outputs": [],
   "source": [
    "l = list(loans)\n",
    "d = list(declined)\n",
    "l\n",
    "#res = list(set(l)^set(d))\n",
    "#res"
   ]
  },
  {
   "cell_type": "code",
   "execution_count": null,
   "metadata": {},
   "outputs": [],
   "source": [
    "d\n"
   ]
  },
  {
   "cell_type": "markdown",
   "metadata": {},
   "source": [
    "\n",
    "'Amount Requested',\n",
    " 'Application Date',\n",
    " 'Loan Title',\n",
    " 'Risk_Score',\n",
    " 'Debt-To-Income Ratio',\n",
    " 'Zip Code',\n",
    " 'State',\n",
    " 'Employment Length',\n",
    " 'Policy Code',\n",
    " 'set',\n",
    " 'timestamp'\n"
   ]
  },
  {
   "cell_type": "code",
   "execution_count": null,
   "metadata": {
    "collapsed": true
   },
   "outputs": [],
   "source": [
    "t = loans['funded_amnt'] - loans['loan_amnt']"
   ]
  },
  {
   "cell_type": "code",
   "execution_count": null,
   "metadata": {},
   "outputs": [],
   "source": [
    "t.describe()"
   ]
  },
  {
   "cell_type": "code",
   "execution_count": null,
   "metadata": {
    "collapsed": true
   },
   "outputs": [],
   "source": [
    "t = loans[loans['funded_amnt'] != loans['loan_amnt']]"
   ]
  },
  {
   "cell_type": "code",
   "execution_count": null,
   "metadata": {},
   "outputs": [],
   "source": [
    "t.count()"
   ]
  },
  {
   "cell_type": "code",
   "execution_count": null,
   "metadata": {},
   "outputs": [],
   "source": [
    "t['loan_amnt'].describe()"
   ]
  },
  {
   "cell_type": "code",
   "execution_count": null,
   "metadata": {
    "scrolled": true
   },
   "outputs": [],
   "source": [
    "t['funded_amnt'].describe()"
   ]
  },
  {
   "cell_type": "code",
   "execution_count": null,
   "metadata": {},
   "outputs": [],
   "source": [
    "types = loans.dtypes\n",
    "types = types[types!=object]\n",
    "types"
   ]
  },
  {
   "cell_type": "code",
   "execution_count": null,
   "metadata": {},
   "outputs": [],
   "source": [
    "numerical = loans[types.index]\n",
    "\n",
    "\n",
    "import seaborn as sns\n",
    "\n",
    "\n",
    "plt.close('all')\n",
    "plt.figure(figsize=(20,20))\n",
    "sns.heatmap(numerical.corr(), vmax=.8, square=True, cmap=cm.coolwarm)\n",
    "plt.show()"
   ]
  },
  {
   "cell_type": "code",
   "execution_count": null,
   "metadata": {},
   "outputs": [],
   "source": [
    "loans['grade'].value_counts()"
   ]
  },
  {
   "cell_type": "code",
   "execution_count": null,
   "metadata": {},
   "outputs": [],
   "source": [
    "declined['Risk_Score'].max()"
   ]
  },
  {
   "cell_type": "code",
   "execution_count": null,
   "metadata": {},
   "outputs": [],
   "source": [
    "t = declined[declined['Risk_Score'] > 850]\n",
    "t"
   ]
  },
  {
   "cell_type": "code",
   "execution_count": null,
   "metadata": {},
   "outputs": [],
   "source": [
    "declined.count()"
   ]
  },
  {
   "cell_type": "code",
   "execution_count": null,
   "metadata": {},
   "outputs": [],
   "source": [
    "declined['Risk_Score'].mean()"
   ]
  },
  {
   "cell_type": "code",
   "execution_count": null,
   "metadata": {
    "collapsed": true
   },
   "outputs": [],
   "source": []
  },
  {
   "cell_type": "code",
   "execution_count": null,
   "metadata": {
    "collapsed": true
   },
   "outputs": [],
   "source": [
    "import datetime\n",
    "format = '%Y-%m-%d'\n",
    "declined['Application Date'] = declined['Application Date'].map(lambda a: datetime.datetime.strptime(a, format))\n"
   ]
  },
  {
   "cell_type": "code",
   "execution_count": null,
   "metadata": {
    "collapsed": true
   },
   "outputs": [],
   "source": [
    "m1=(declined['Application Date'] >='2013-11-06')\n",
    "#m2=(declined['Application Date'] <'2013-11-06')\n",
    "\n",
    "declined.loc[m1,'Risk_Score']=declined.loc[m1,'Risk_Score'] * (85/99)\n",
    "#declined.loc[m2,'Risk_Score']=declined.loc[m2,'Risk_Score']"
   ]
  },
  {
   "cell_type": "code",
   "execution_count": null,
   "metadata": {},
   "outputs": [],
   "source": [
    "declined['Risk_Score'].count()"
   ]
  },
  {
   "cell_type": "code",
   "execution_count": null,
   "metadata": {
    "collapsed": true
   },
   "outputs": [],
   "source": [
    "declined['Risk_Score'].fillna(declined['Risk_Score'].mean(), inplace=True)"
   ]
  },
  {
   "cell_type": "markdown",
   "metadata": {},
   "source": [
    "Option 1: Drop Rows without a Credit Score\n",
    "Option 2: Fill NaNs"
   ]
  },
  {
   "cell_type": "code",
   "execution_count": null,
   "metadata": {
    "collapsed": true
   },
   "outputs": [],
   "source": [
    "#declined['Debt-To-Income Ratio'].fillna(declined['Debt-To-Income Ratio'].mean(), inplace=True)\n",
    "declined['Debt-To-Income Ratio'].mean()"
   ]
  },
  {
   "cell_type": "markdown",
   "metadata": {},
   "source": [
    "### FICO for Loan Stats"
   ]
  },
  {
   "cell_type": "code",
   "execution_count": 15,
   "metadata": {},
   "outputs": [
    {
     "data": {
      "text/plain": [
       "1646778"
      ]
     },
     "execution_count": 15,
     "metadata": {},
     "output_type": "execute_result"
    }
   ],
   "source": [
    "len = loans['set'].count()\n",
    "len"
   ]
  },
  {
   "cell_type": "code",
   "execution_count": 21,
   "metadata": {},
   "outputs": [
    {
     "data": {
      "text/plain": [
       "714.0741361646991"
      ]
     },
     "execution_count": 21,
     "metadata": {},
     "output_type": "execute_result"
    }
   ],
   "source": [
    "SIGMA=100.0 # stddev for FICO obtained from here: http://www.fico.com/en/blogs/risk-compliance/us-credit-quality-continues-climb-will-level/ in the comments section\n",
    "import scipy.stats as stats\n",
    "\n",
    "a, b = 600, 850\n",
    "mu, sigma = 699, 100\n",
    "dist = stats.truncnorm((a - mu) / sigma, (b - mu) / sigma, loc=mu, scale=sigma)\n",
    "\n",
    "values = dist.rvs(1646778)\n",
    "values.mean()\n"
   ]
  },
  {
   "cell_type": "code",
   "execution_count": 25,
   "metadata": {
    "collapsed": true
   },
   "outputs": [],
   "source": [
    "SIGMA=100.0 # stddev for FICO obtained from here: http://www.fico.com/en/blogs/risk-compliance/us-credit-quality-continues-climb-will-level/ in the comments section\n",
    "import random\n",
    "\n",
    "def generate_number(average):\n",
    "    x = random.normalvariate(average, SIGMA)\n",
    "    while x > 599 or x < 851:\n",
    "        x = random.normalvariate(average, SIGMA)\n",
    "    return x\n",
    "\n"
   ]
  },
  {
   "cell_type": "code",
   "execution_count": null,
   "metadata": {},
   "outputs": [],
   "source": [
    "v = []\n",
    "for i in range(1646778):\n",
    "    v.append(generate_number(699))"
   ]
  },
  {
   "cell_type": "code",
   "execution_count": null,
   "metadata": {
    "collapsed": true
   },
   "outputs": [],
   "source": [
    "v2 = []\n",
    "for i in range(1646778):\n",
    "    v2.append(random.triangular(600, 850, 699))"
   ]
  }
 ],
 "metadata": {
  "kernelspec": {
   "display_name": "Python 3",
   "language": "python",
   "name": "python3"
  },
  "language_info": {
   "codemirror_mode": {
    "name": "ipython",
    "version": 3
   },
   "file_extension": ".py",
   "mimetype": "text/x-python",
   "name": "python",
   "nbconvert_exporter": "python",
   "pygments_lexer": "ipython3",
   "version": "3.6.2"
  }
 },
 "nbformat": 4,
 "nbformat_minor": 2
}
