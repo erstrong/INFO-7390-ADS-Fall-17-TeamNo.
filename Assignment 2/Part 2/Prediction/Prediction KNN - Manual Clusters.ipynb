{
 "cells": [
  {
   "cell_type": "code",
   "execution_count": 1,
   "metadata": {},
   "outputs": [
    {
     "name": "stderr",
     "output_type": "stream",
     "text": [
      "/Users/emily-air13/anaconda3/lib/python3.6/site-packages/sklearn/cross_validation.py:41: DeprecationWarning: This module was deprecated in version 0.18 in favor of the model_selection module into which all the refactored classes and functions are moved. Also note that the interface of the new CV iterators are different from that of this module. This module will be removed in 0.20.\n",
      "  \"This module will be removed in 0.20.\", DeprecationWarning)\n",
      "/Users/emily-air13/anaconda3/lib/python3.6/site-packages/sklearn/grid_search.py:42: DeprecationWarning: This module was deprecated in version 0.18 in favor of the model_selection module into which all the refactored classes and functions are moved. This module will be removed in 0.20.\n",
      "  DeprecationWarning)\n",
      "/Users/emily-air13/anaconda3/lib/python3.6/site-packages/sklearn/learning_curve.py:22: DeprecationWarning: This module was deprecated in version 0.18 in favor of the model_selection module into which all the functions are moved. This module will be removed in 0.20\n",
      "  DeprecationWarning)\n"
     ]
    }
   ],
   "source": [
    "import pandas as pd\n",
    "import pickle\n",
    "import numpy as np\n",
    "from sklearn.externals import joblib\n",
    "from sklearn import *\n",
    "from sklearn import cluster\n",
    "from sklearn.metrics import mean_squared_error,mean_absolute_error\n",
    "from math import sqrt\n",
    "from sklearn.model_selection import train_test_split"
   ]
  },
  {
   "cell_type": "code",
   "execution_count": 2,
   "metadata": {
    "collapsed": true
   },
   "outputs": [],
   "source": [
    "loans = pd.read_csv('../loanstats.csv')"
   ]
  },
  {
   "cell_type": "code",
   "execution_count": 3,
   "metadata": {
    "collapsed": true
   },
   "outputs": [],
   "source": [
    "def manual_clusters(fico):\n",
    "    if fico > 720:\n",
    "        return 'Group1'\n",
    "    elif fico > 700:\n",
    "        return 'Group2'\n",
    "    elif fico > 690: \n",
    "        return 'Group3'\n",
    "    elif fico > 680: # amnt < 25000 \n",
    "        return 'Group4'\n",
    "    elif fico > 670:\n",
    "        return 'Group5'\n",
    "    else:\n",
    "        return 'Group6'\n",
    "\n",
    "loans['manual_cat'] = loans.apply(lambda x: manual_clusters(x['fico_range_low']), axis=1)\n",
    "\n",
    "\n",
    "loans.drop('grade', axis=1, inplace=True)\n",
    "loans.drop('sub_grade', axis=1, inplace=True)\n",
    "loans.drop('set', axis=1, inplace=True)\n",
    "loans.drop('timestamp', axis=1, inplace=True)\n"
   ]
  },
  {
   "cell_type": "markdown",
   "metadata": {},
   "source": [
    "# All Data"
   ]
  },
  {
   "cell_type": "code",
   "execution_count": 4,
   "metadata": {},
   "outputs": [
    {
     "name": "stderr",
     "output_type": "stream",
     "text": [
      "/Users/emily-air13/anaconda3/lib/python3.6/site-packages/ipykernel_launcher.py:8: SettingWithCopyWarning: \n",
      "A value is trying to be set on a copy of a slice from a DataFrame\n",
      "\n",
      "See the caveats in the documentation: http://pandas.pydata.org/pandas-docs/stable/indexing.html#indexing-view-versus-copy\n",
      "  \n",
      "/Users/emily-air13/anaconda3/lib/python3.6/site-packages/ipykernel_launcher.py:9: SettingWithCopyWarning: \n",
      "A value is trying to be set on a copy of a slice from a DataFrame\n",
      "\n",
      "See the caveats in the documentation: http://pandas.pydata.org/pandas-docs/stable/indexing.html#indexing-view-versus-copy\n",
      "  if __name__ == '__main__':\n",
      "/Users/emily-air13/anaconda3/lib/python3.6/site-packages/ipykernel_launcher.py:10: SettingWithCopyWarning: \n",
      "A value is trying to be set on a copy of a slice from a DataFrame\n",
      "\n",
      "See the caveats in the documentation: http://pandas.pydata.org/pandas-docs/stable/indexing.html#indexing-view-versus-copy\n",
      "  # Remove the CWD from sys.path while we load stuff.\n",
      "/Users/emily-air13/anaconda3/lib/python3.6/site-packages/ipykernel_launcher.py:11: SettingWithCopyWarning: \n",
      "A value is trying to be set on a copy of a slice from a DataFrame\n",
      "\n",
      "See the caveats in the documentation: http://pandas.pydata.org/pandas-docs/stable/indexing.html#indexing-view-versus-copy\n",
      "  # This is added back by InteractiveShellApp.init_path()\n",
      "/Users/emily-air13/anaconda3/lib/python3.6/site-packages/ipykernel_launcher.py:12: SettingWithCopyWarning: \n",
      "A value is trying to be set on a copy of a slice from a DataFrame\n",
      "\n",
      "See the caveats in the documentation: http://pandas.pydata.org/pandas-docs/stable/indexing.html#indexing-view-versus-copy\n",
      "  if sys.path[0] == '':\n",
      "/Users/emily-air13/anaconda3/lib/python3.6/site-packages/ipykernel_launcher.py:13: SettingWithCopyWarning: \n",
      "A value is trying to be set on a copy of a slice from a DataFrame\n",
      "\n",
      "See the caveats in the documentation: http://pandas.pydata.org/pandas-docs/stable/indexing.html#indexing-view-versus-copy\n",
      "  del sys.path[0]\n"
     ]
    }
   ],
   "source": [
    "man1 = loans[loans['manual_cat']=='Group1']\n",
    "man2 = loans[loans['manual_cat']=='Group2']\n",
    "man3 = loans[loans['manual_cat']=='Group3']\n",
    "man4 = loans[loans['manual_cat']=='Group4']\n",
    "man5 = loans[loans['manual_cat']=='Group5']\n",
    "man6 = loans[loans['manual_cat']=='Group6']\n",
    "\n",
    "man1.drop('manual_cat',axis=1,inplace=True)\n",
    "man2.drop('manual_cat',axis=1,inplace=True)\n",
    "man3.drop('manual_cat',axis=1,inplace=True)\n",
    "man4.drop('manual_cat',axis=1,inplace=True)\n",
    "man5.drop('manual_cat',axis=1,inplace=True)\n",
    "man6.drop('manual_cat',axis=1,inplace=True)"
   ]
  },
  {
   "cell_type": "code",
   "execution_count": 5,
   "metadata": {
    "collapsed": true
   },
   "outputs": [],
   "source": [
    "from sklearn.neighbors import KNeighborsRegressor"
   ]
  },
  {
   "cell_type": "code",
   "execution_count": 6,
   "metadata": {},
   "outputs": [
    {
     "name": "stdout",
     "output_type": "stream",
     "text": [
      "|metric |train            |test             | \n",
      "|rms    |9.192129657301775|11.293987350572564|\n",
      "|mae    |7.1505307045    |9.00466707392    |\n",
      "|mape   |15.8954304264    |20.0129233693    |\n"
     ]
    }
   ],
   "source": [
    "array=man1.values\n",
    "\n",
    "Y1=array[:,2]\n",
    "x1=array[:,0:2]\n",
    "x2=array[:,3:]\n",
    "X1=np.hstack((x1,x2))\n",
    "\n",
    "X_train1,X_test1,Y_train1,Y_test1=train_test_split(X1,Y1,test_size=0.2)\n",
    "\n",
    "kn_1 = KNeighborsRegressor(n_neighbors=5)\n",
    "\n",
    "kn_1.fit(X_train1, Y_train1)\n",
    "\n",
    "ptrain1 = kn_1.predict(X_train1)\n",
    "ptest1 = kn_1.predict(X_test1)\n",
    "rms_train = sqrt(mean_squared_error(Y_train1, ptrain1))\n",
    "rms_test = sqrt(mean_squared_error(Y_test1, ptest1))\n",
    "mae_train = mean_absolute_error(Y_train1, ptrain1)\n",
    "mae_test = mean_absolute_error(Y_test1, ptest1)\n",
    "mape_train = np.mean(np.abs((Y_train1 - ptrain1) / Y_train1)) * 100\n",
    "mape_test = np.mean(np.abs((Y_test1 - ptest1) / Y_test1)) * 100\n",
    "\n",
    "print('|metric |train            |test             | \\n|rms    |'+str(rms_train)+'|'+str(rms_test)+'|\\n|mae    |'\n",
    "      +str(mae_train)+'    |'+str(mae_test)+'    |\\n|mape   |'+str(mape_train)+'    |'+str(mape_test)+'    |')"
   ]
  },
  {
   "cell_type": "code",
   "execution_count": 7,
   "metadata": {},
   "outputs": [
    {
     "name": "stdout",
     "output_type": "stream",
     "text": [
      "|metric |train            |test             | \n",
      "|rms    |9.534062933433027|11.674191089079422|\n",
      "|mae    |7.70534570009    |9.66535772901    |\n",
      "|mape   |17.1849120194    |21.6116007808      |\n"
     ]
    }
   ],
   "source": [
    "array=man2.values\n",
    "\n",
    "Y2=array[:,2]\n",
    "x1=array[:,0:2]\n",
    "x2=array[:,3:]\n",
    "X2=np.hstack((x1,x2))\n",
    "\n",
    "X_train2,X_test2,Y_train2,Y_test2=train_test_split(X2,Y2,test_size=0.2)\n",
    "\n",
    "kn_2 = KNeighborsRegressor(n_neighbors=5)\n",
    "\n",
    "kn_2.fit(X_train2, Y_train2)\n",
    "\n",
    "ptrain2 = kn_2.predict(X_train2)\n",
    "ptest2 = kn_2.predict(X_test2)\n",
    "\n",
    "rms_train = sqrt(mean_squared_error(Y_train2, ptrain2))\n",
    "rms_test = sqrt(mean_squared_error(Y_test2, ptest2))\n",
    "mae_train = mean_absolute_error(Y_train2, ptrain2)\n",
    "mae_test = mean_absolute_error(Y_test2, ptest2)\n",
    "mape_train = np.mean(np.abs((Y_train2 - ptrain2) / Y_train2)) * 100\n",
    "mape_test = np.mean(np.abs((Y_test2 - ptest2) / Y_test2)) * 100\n",
    "\n",
    "print('|metric |train            |test             | \\n|rms    |'+str(rms_train)+'|'+str(rms_test)+'|\\n|mae    |'\n",
    "      +str(mae_train)+'    |'+str(mae_test)+'    |\\n|mape   |'+str(mape_train)+'    |'+str(mape_test)+'      |')"
   ]
  },
  {
   "cell_type": "code",
   "execution_count": 8,
   "metadata": {},
   "outputs": [
    {
     "name": "stdout",
     "output_type": "stream",
     "text": [
      "|metric |train            |test             | \n",
      "|rms    |9.51056216885905|11.635468023683183|\n",
      "|mae    |7.67340055633    |9.55438240663    |\n",
      "|mape   |17.1204798331    |21.2883647708      |\n"
     ]
    }
   ],
   "source": [
    "array=man3.values\n",
    "\n",
    "Y3=array[:,2]\n",
    "x1=array[:,0:2]\n",
    "x2=array[:,3:]\n",
    "X3=np.hstack((x1,x2))\n",
    "\n",
    "X_train3,X_test3,Y_train3,Y_test3=train_test_split(X3,Y3,test_size=0.2)\n",
    "\n",
    "kn_3 = KNeighborsRegressor(n_neighbors=5)\n",
    "\n",
    "kn_3.fit(X_train3, Y_train3)\n",
    "\n",
    "ptrain3 = kn_3.predict(X_train3)\n",
    "ptest3 = kn_3.predict(X_test3)\n",
    "\n",
    "rms_train = sqrt(mean_squared_error(Y_train3, ptrain3))\n",
    "rms_test = sqrt(mean_squared_error(Y_test3, ptest3))\n",
    "mae_train = mean_absolute_error(Y_train3, ptrain3)\n",
    "mae_test = mean_absolute_error(Y_test3, ptest3)\n",
    "mape_train = np.mean(np.abs((Y_train3 - ptrain3) / Y_train3)) * 100\n",
    "mape_test = np.mean(np.abs((Y_test3 - ptest3) / Y_test3)) * 100\n",
    "\n",
    "print('|metric |train            |test             | \\n|rms    |'+str(rms_train)+'|'+str(rms_test)+'|\\n|mae    |'\n",
    "      +str(mae_train)+'    |'+str(mae_test)+'    |\\n|mape   |'+str(mape_train)+'    |'+str(mape_test)+'      |')"
   ]
  },
  {
   "cell_type": "code",
   "execution_count": 9,
   "metadata": {},
   "outputs": [
    {
     "name": "stdout",
     "output_type": "stream",
     "text": [
      "|metric |train            |test             | \n",
      "|rms    |9.38622898925566|11.49261273332832|\n",
      "|mae    |7.46528729136    |9.36032436417    |\n",
      "|mape   |16.6281727577    |20.8710980055      |\n"
     ]
    }
   ],
   "source": [
    "array=man4.values\n",
    "\n",
    "Y4=array[:,2]\n",
    "x1=array[:,0:2]\n",
    "x2=array[:,3:]\n",
    "X4=np.hstack((x1,x2))\n",
    "\n",
    "X_train4,X_test4,Y_train4,Y_test4=train_test_split(X4,Y4,test_size=0.2)\n",
    "\n",
    "kn_4 = KNeighborsRegressor(n_neighbors=5)\n",
    "\n",
    "kn_4.fit(X_train4, Y_train4)\n",
    "\n",
    "ptrain4 = kn_4.predict(X_train4)\n",
    "ptest4 = kn_4.predict(X_test4)\n",
    "\n",
    "rms_train = sqrt(mean_squared_error(Y_train4, ptrain4))\n",
    "rms_test = sqrt(mean_squared_error(Y_test4, ptest4))\n",
    "mae_train = mean_absolute_error(Y_train4, ptrain4)\n",
    "mae_test = mean_absolute_error(Y_test4, ptest4)\n",
    "mape_train = np.mean(np.abs((Y_train4 - ptrain4) / Y_train4)) * 100\n",
    "mape_test = np.mean(np.abs((Y_test4 - ptest4) / Y_test4)) * 100\n",
    "\n",
    "print('|metric |train            |test             | \\n|rms    |'+str(rms_train)+'|'+str(rms_test)+'|\\n|mae    |'\n",
    "      +str(mae_train)+'    |'+str(mae_test)+'    |\\n|mape   |'+str(mape_train)+'    |'+str(mape_test)+'      |')"
   ]
  },
  {
   "cell_type": "code",
   "execution_count": 10,
   "metadata": {},
   "outputs": [
    {
     "name": "stdout",
     "output_type": "stream",
     "text": [
      "|metric |train            |test             | \n",
      "|rms    |9.209110254408378|11.290087434860734|\n",
      "|mae    |7.18873655815    |9.05094495006    |\n",
      "|mape   |15.9889068964    |20.138606753      |\n"
     ]
    }
   ],
   "source": [
    "array=man5.values\n",
    "\n",
    "Y5=array[:,2]\n",
    "x1=array[:,0:2]\n",
    "x2=array[:,3:]\n",
    "X5=np.hstack((x1,x2))\n",
    "\n",
    "X_train5,X_test5,Y_train5,Y_test5=train_test_split(X5,Y5,test_size=0.2)\n",
    "\n",
    "kn_5 = KNeighborsRegressor(n_neighbors=5)\n",
    "\n",
    "kn_5.fit(X_train5, Y_train5)\n",
    "\n",
    "ptrain5 = kn_5.predict(X_train5)\n",
    "ptest5 = kn_5.predict(X_test5)\n",
    "\n",
    "rms_train = sqrt(mean_squared_error(Y_train5, ptrain5))\n",
    "rms_test = sqrt(mean_squared_error(Y_test5, ptest5))\n",
    "mae_train = mean_absolute_error(Y_train5, ptrain5)\n",
    "mae_test = mean_absolute_error(Y_test5, ptest5)\n",
    "mape_train = np.mean(np.abs((Y_train5 - ptrain5) / Y_train5)) * 100\n",
    "mape_test = np.mean(np.abs((Y_test5 - ptest5) / Y_test5)) * 100\n",
    "\n",
    "print('|metric |train            |test             | \\n|rms    |'+str(rms_train)+'|'+str(rms_test)+'|\\n|mae    |'\n",
    "      +str(mae_train)+'    |'+str(mae_test)+'    |\\n|mape   |'+str(mape_train)+'    |'+str(mape_test)+'      |')"
   ]
  },
  {
   "cell_type": "code",
   "execution_count": 12,
   "metadata": {},
   "outputs": [
    {
     "name": "stdout",
     "output_type": "stream",
     "text": [
      "|metric |train            |test             | \n",
      "|rms    |8.880603107708552|10.899653461748112|\n",
      "|mae    |6.69959350341    |8.42388198796    |\n",
      "|mape   |14.8806445086    |18.7297437595      |\n"
     ]
    }
   ],
   "source": [
    "array=man6.values\n",
    "\n",
    "Y6=array[:,2]\n",
    "x1=array[:,0:2]\n",
    "x2=array[:,3:]\n",
    "X6=np.hstack((x1,x2))\n",
    "\n",
    "X_train6,X_test6,Y_train6,Y_test6=train_test_split(X6,Y6,test_size=0.2)\n",
    "\n",
    "kn_6 = KNeighborsRegressor(n_neighbors=5)\n",
    "\n",
    "kn_6.fit(X_train6, Y_train6)\n",
    "\n",
    "ptrain6 = kn_6.predict(X_train6)\n",
    "ptest6 = kn_6.predict(X_test6)\n",
    "\n",
    "rms_train = sqrt(mean_squared_error(Y_train6, ptrain6))\n",
    "rms_test = sqrt(mean_squared_error(Y_test6, ptest6))\n",
    "mae_train = mean_absolute_error(Y_train6, ptrain6)\n",
    "mae_test = mean_absolute_error(Y_test6, ptest6)\n",
    "mape_train = np.mean(np.abs((Y_train6 - ptrain6) / Y_train6)) * 100\n",
    "mape_test = np.mean(np.abs((Y_test6 - ptest6) / Y_test6)) * 100\n",
    "\n",
    "print('|metric |train            |test             | \\n|rms    |'+str(rms_train)+'|'+str(rms_test)+'|\\n|mae    |'\n",
    "      +str(mae_train)+'    |'+str(mae_test)+'    |\\n|mape   |'+str(mape_train)+'    |'+str(mape_test)+'      |')"
   ]
  },
  {
   "cell_type": "markdown",
   "metadata": {},
   "source": [
    "# Tuning Attempt\n",
    "We are going to look at the last cluster to see if we can improve the performance\n",
    "#### Attempt 1 - increase neighbors"
   ]
  },
  {
   "cell_type": "code",
   "execution_count": 13,
   "metadata": {},
   "outputs": [
    {
     "name": "stdout",
     "output_type": "stream",
     "text": [
      "|metric |train            |test             | \n",
      "|rms    |9.49763140468132|10.50943971557076|\n",
      "|mae    |7.68738389096    |8.55869823791    |\n",
      "|mape   |17.0764945238    |19.0316734313      |\n"
     ]
    }
   ],
   "source": [
    "kn_62 = KNeighborsRegressor(n_neighbors=10, algorithm='ball_tree')\n",
    "\n",
    "kn_62.fit(X_train6, Y_train6)\n",
    "\n",
    "ptrain6 = kn_62.predict(X_train6)\n",
    "ptest6 = kn_62.predict(X_test6)\n",
    "\n",
    "rms_train = sqrt(mean_squared_error(Y_train6, ptrain6))\n",
    "rms_test = sqrt(mean_squared_error(Y_test6, ptest6))\n",
    "mae_train = mean_absolute_error(Y_train6, ptrain6)\n",
    "mae_test = mean_absolute_error(Y_test6, ptest6)\n",
    "mape_train = np.mean(np.abs((Y_train6 - ptrain6) / Y_train6)) * 100\n",
    "mape_test = np.mean(np.abs((Y_test6 - ptest6) / Y_test6)) * 100\n",
    "\n",
    "print('|metric |train            |test             | \\n|rms    |'+str(rms_train)+'|'+str(rms_test)+'|\\n|mae    |'\n",
    "      +str(mae_train)+'    |'+str(mae_test)+'    |\\n|mape   |'+str(mape_train)+'    |'+str(mape_test)+'      |')"
   ]
  },
  {
   "cell_type": "markdown",
   "metadata": {},
   "source": [
    "#### Attempt 2 - remove states\n",
    "This does give a marginal improvement in error "
   ]
  },
  {
   "cell_type": "code",
   "execution_count": 19,
   "metadata": {},
   "outputs": [
    {
     "data": {
      "text/html": [
       "<div>\n",
       "<style>\n",
       "    .dataframe thead tr:only-child th {\n",
       "        text-align: right;\n",
       "    }\n",
       "\n",
       "    .dataframe thead th {\n",
       "        text-align: left;\n",
       "    }\n",
       "\n",
       "    .dataframe tbody tr th {\n",
       "        vertical-align: top;\n",
       "    }\n",
       "</style>\n",
       "<table border=\"1\" class=\"dataframe\">\n",
       "  <thead>\n",
       "    <tr style=\"text-align: right;\">\n",
       "      <th></th>\n",
       "      <th>id</th>\n",
       "      <th>loan_amnt</th>\n",
       "      <th>term</th>\n",
       "      <th>int_rate</th>\n",
       "      <th>emp_length</th>\n",
       "      <th>annual_inc</th>\n",
       "      <th>dti</th>\n",
       "      <th>delinq_2yrs</th>\n",
       "      <th>fico_range_low</th>\n",
       "      <th>mths_since_last_delinq</th>\n",
       "      <th>...</th>\n",
       "      <th>pub_rec_bankruptcies</th>\n",
       "      <th>tax_liens</th>\n",
       "      <th>total_bc_limit</th>\n",
       "      <th>manual_cat</th>\n",
       "      <th>home_ANY</th>\n",
       "      <th>home_MORTGAGE</th>\n",
       "      <th>home_NONE</th>\n",
       "      <th>home_OTHER</th>\n",
       "      <th>home_OWN</th>\n",
       "      <th>home_RENT</th>\n",
       "    </tr>\n",
       "  </thead>\n",
       "  <tbody>\n",
       "    <tr>\n",
       "      <th>0</th>\n",
       "      <td>10149342</td>\n",
       "      <td>27050.0</td>\n",
       "      <td>36</td>\n",
       "      <td>10.99</td>\n",
       "      <td>10.0</td>\n",
       "      <td>55000.0</td>\n",
       "      <td>22.87</td>\n",
       "      <td>0.0</td>\n",
       "      <td>730.0</td>\n",
       "      <td>195.0</td>\n",
       "      <td>...</td>\n",
       "      <td>0.0</td>\n",
       "      <td>0.0</td>\n",
       "      <td>35700.0</td>\n",
       "      <td>Group1</td>\n",
       "      <td>0</td>\n",
       "      <td>0</td>\n",
       "      <td>0</td>\n",
       "      <td>0</td>\n",
       "      <td>1</td>\n",
       "      <td>0</td>\n",
       "    </tr>\n",
       "    <tr>\n",
       "      <th>1</th>\n",
       "      <td>10149488</td>\n",
       "      <td>4800.0</td>\n",
       "      <td>36</td>\n",
       "      <td>10.99</td>\n",
       "      <td>2.0</td>\n",
       "      <td>39600.0</td>\n",
       "      <td>2.49</td>\n",
       "      <td>0.0</td>\n",
       "      <td>755.0</td>\n",
       "      <td>195.0</td>\n",
       "      <td>...</td>\n",
       "      <td>0.0</td>\n",
       "      <td>0.0</td>\n",
       "      <td>25700.0</td>\n",
       "      <td>Group1</td>\n",
       "      <td>0</td>\n",
       "      <td>1</td>\n",
       "      <td>0</td>\n",
       "      <td>0</td>\n",
       "      <td>0</td>\n",
       "      <td>0</td>\n",
       "    </tr>\n",
       "    <tr>\n",
       "      <th>2</th>\n",
       "      <td>10119623</td>\n",
       "      <td>12000.0</td>\n",
       "      <td>36</td>\n",
       "      <td>11.99</td>\n",
       "      <td>10.0</td>\n",
       "      <td>130000.0</td>\n",
       "      <td>13.03</td>\n",
       "      <td>0.0</td>\n",
       "      <td>715.0</td>\n",
       "      <td>195.0</td>\n",
       "      <td>...</td>\n",
       "      <td>0.0</td>\n",
       "      <td>0.0</td>\n",
       "      <td>10700.0</td>\n",
       "      <td>Group2</td>\n",
       "      <td>0</td>\n",
       "      <td>1</td>\n",
       "      <td>0</td>\n",
       "      <td>0</td>\n",
       "      <td>0</td>\n",
       "      <td>0</td>\n",
       "    </tr>\n",
       "    <tr>\n",
       "      <th>3</th>\n",
       "      <td>10129506</td>\n",
       "      <td>20800.0</td>\n",
       "      <td>36</td>\n",
       "      <td>13.53</td>\n",
       "      <td>10.0</td>\n",
       "      <td>81500.0</td>\n",
       "      <td>16.73</td>\n",
       "      <td>0.0</td>\n",
       "      <td>685.0</td>\n",
       "      <td>64.0</td>\n",
       "      <td>...</td>\n",
       "      <td>0.0</td>\n",
       "      <td>0.0</td>\n",
       "      <td>15000.0</td>\n",
       "      <td>Group4</td>\n",
       "      <td>0</td>\n",
       "      <td>0</td>\n",
       "      <td>0</td>\n",
       "      <td>0</td>\n",
       "      <td>0</td>\n",
       "      <td>1</td>\n",
       "    </tr>\n",
       "    <tr>\n",
       "      <th>4</th>\n",
       "      <td>10159611</td>\n",
       "      <td>10000.0</td>\n",
       "      <td>36</td>\n",
       "      <td>9.67</td>\n",
       "      <td>7.0</td>\n",
       "      <td>102000.0</td>\n",
       "      <td>15.55</td>\n",
       "      <td>2.0</td>\n",
       "      <td>670.0</td>\n",
       "      <td>11.0</td>\n",
       "      <td>...</td>\n",
       "      <td>0.0</td>\n",
       "      <td>0.0</td>\n",
       "      <td>9200.0</td>\n",
       "      <td>Group6</td>\n",
       "      <td>0</td>\n",
       "      <td>1</td>\n",
       "      <td>0</td>\n",
       "      <td>0</td>\n",
       "      <td>0</td>\n",
       "      <td>0</td>\n",
       "    </tr>\n",
       "  </tbody>\n",
       "</table>\n",
       "<p>5 rows × 47 columns</p>\n",
       "</div>"
      ],
      "text/plain": [
       "         id  loan_amnt  term  int_rate  emp_length  annual_inc    dti  \\\n",
       "0  10149342    27050.0    36     10.99        10.0     55000.0  22.87   \n",
       "1  10149488     4800.0    36     10.99         2.0     39600.0   2.49   \n",
       "2  10119623    12000.0    36     11.99        10.0    130000.0  13.03   \n",
       "3  10129506    20800.0    36     13.53        10.0     81500.0  16.73   \n",
       "4  10159611    10000.0    36      9.67         7.0    102000.0  15.55   \n",
       "\n",
       "   delinq_2yrs  fico_range_low  mths_since_last_delinq    ...      \\\n",
       "0          0.0           730.0                   195.0    ...       \n",
       "1          0.0           755.0                   195.0    ...       \n",
       "2          0.0           715.0                   195.0    ...       \n",
       "3          0.0           685.0                    64.0    ...       \n",
       "4          2.0           670.0                    11.0    ...       \n",
       "\n",
       "   pub_rec_bankruptcies  tax_liens  total_bc_limit  manual_cat  home_ANY  \\\n",
       "0                   0.0        0.0         35700.0      Group1         0   \n",
       "1                   0.0        0.0         25700.0      Group1         0   \n",
       "2                   0.0        0.0         10700.0      Group2         0   \n",
       "3                   0.0        0.0         15000.0      Group4         0   \n",
       "4                   0.0        0.0          9200.0      Group6         0   \n",
       "\n",
       "   home_MORTGAGE  home_NONE  home_OTHER  home_OWN  home_RENT  \n",
       "0              0          0           0         1          0  \n",
       "1              1          0           0         0          0  \n",
       "2              1          0           0         0          0  \n",
       "3              0          0           0         0          1  \n",
       "4              1          0           0         0          0  \n",
       "\n",
       "[5 rows x 47 columns]"
      ]
     },
     "execution_count": 19,
     "metadata": {},
     "output_type": "execute_result"
    }
   ],
   "source": [
    "keep = ['id','loan_amnt','term','int_rate','emp_length','annual_inc','dti','delinq_2yrs','fico_range_low',\n",
    "        'mths_since_last_delinq','open_acc','revol_bal','revol_util','total_acc','collections_12_mths_ex_med',\n",
    "        'policy_code','application_type','tot_cur_bal','bc_util','chargeoff_within_12_mths','mo_sin_old_il_acct',\n",
    "        'mo_sin_rcnt_tl','mort_acc','mths_since_recent_bc','mths_since_recent_inq','num_accts_ever_120_pd',\n",
    "        'num_actv_bc_tl','num_actv_rev_tl','num_bc_tl','num_il_tl','num_rev_accts','num_rev_tl_bal_gt_0',\n",
    "        'num_sats','num_tl_30dpd','num_tl_90g_dpd_24m','num_tl_op_past_12m','percent_bc_gt_75',\n",
    "        'pub_rec_bankruptcies','tax_liens','total_bc_limit','manual_cat','home_ANY','home_MORTGAGE','home_NONE',\n",
    "        'home_OTHER','home_OWN','home_RENT']\n",
    "\n",
    "loans_ns = loans[keep]\n",
    "loans_ns.head()"
   ]
  },
  {
   "cell_type": "code",
   "execution_count": 20,
   "metadata": {},
   "outputs": [
    {
     "name": "stderr",
     "output_type": "stream",
     "text": [
      "/Users/emily-air13/anaconda3/lib/python3.6/site-packages/ipykernel_launcher.py:2: SettingWithCopyWarning: \n",
      "A value is trying to be set on a copy of a slice from a DataFrame\n",
      "\n",
      "See the caveats in the documentation: http://pandas.pydata.org/pandas-docs/stable/indexing.html#indexing-view-versus-copy\n",
      "  \n"
     ]
    }
   ],
   "source": [
    "man6_2 = loans_ns[loans_ns['manual_cat']=='Group6']\n",
    "man6_2.drop('manual_cat', axis=1, inplace=True)"
   ]
  },
  {
   "cell_type": "code",
   "execution_count": 21,
   "metadata": {},
   "outputs": [
    {
     "name": "stdout",
     "output_type": "stream",
     "text": [
      "|metric |train            |test             | \n",
      "|rms    |8.884944608577024|10.908747702951093|\n",
      "|mae    |6.70368422021    |8.43153364152    |\n",
      "|mape   |14.8889338508    |18.6979599678      |\n"
     ]
    }
   ],
   "source": [
    "array=man6_2.values\n",
    "\n",
    "\n",
    "Y6=array[:,2]\n",
    "x1=array[:,0:2]\n",
    "x2=array[:,3:]\n",
    "X6=np.hstack((x1,x2))\n",
    "\n",
    "X_train6,X_test6,Y_train6,Y_test6=train_test_split(X6,Y6,test_size=0.2)\n",
    "\n",
    "kn_ns = KNeighborsRegressor(n_neighbors=5)\n",
    "\n",
    "kn_ns.fit(X_train6, Y_train6)\n",
    "\n",
    "ptrain6 = kn_ns.predict(X_train6)\n",
    "ptest6 = kn_ns.predict(X_test6)\n",
    "\n",
    "rms_train = sqrt(mean_squared_error(Y_train6, ptrain6))\n",
    "rms_test = sqrt(mean_squared_error(Y_test6, ptest6))\n",
    "mae_train = mean_absolute_error(Y_train6, ptrain6)\n",
    "mae_test = mean_absolute_error(Y_test6, ptest6)\n",
    "mape_train = np.mean(np.abs((Y_train6 - ptrain6) / Y_train6)) * 100\n",
    "mape_test = np.mean(np.abs((Y_test6 - ptest6) / Y_test6)) * 100\n",
    "\n",
    "print('|metric |train            |test             | \\n|rms    |'+str(rms_train)+'|'+str(rms_test)+'|\\n|mae    |'\n",
    "      +str(mae_train)+'    |'+str(mae_test)+'    |\\n|mape   |'+str(mape_train)+'    |'+str(mape_test)+'      |')"
   ]
  },
  {
   "cell_type": "code",
   "execution_count": null,
   "metadata": {
    "collapsed": true
   },
   "outputs": [],
   "source": []
  }
 ],
 "metadata": {
  "kernelspec": {
   "display_name": "Python 3",
   "language": "python",
   "name": "python3"
  },
  "language_info": {
   "codemirror_mode": {
    "name": "ipython",
    "version": 3
   },
   "file_extension": ".py",
   "mimetype": "text/x-python",
   "name": "python",
   "nbconvert_exporter": "python",
   "pygments_lexer": "ipython3",
   "version": "3.6.2"
  }
 },
 "nbformat": 4,
 "nbformat_minor": 2
}
