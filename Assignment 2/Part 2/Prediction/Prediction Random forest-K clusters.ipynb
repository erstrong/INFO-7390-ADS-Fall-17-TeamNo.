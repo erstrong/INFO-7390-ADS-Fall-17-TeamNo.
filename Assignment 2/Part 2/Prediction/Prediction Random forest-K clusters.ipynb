{
 "cells": [
  {
   "cell_type": "code",
   "execution_count": 1,
   "metadata": {},
   "outputs": [
    {
     "name": "stderr",
     "output_type": "stream",
     "text": [
      "C:\\ProgramData\\Anaconda3\\lib\\site-packages\\sklearn\\cross_validation.py:41: DeprecationWarning: This module was deprecated in version 0.18 in favor of the model_selection module into which all the refactored classes and functions are moved. Also note that the interface of the new CV iterators are different from that of this module. This module will be removed in 0.20.\n",
      "  \"This module will be removed in 0.20.\", DeprecationWarning)\n",
      "C:\\ProgramData\\Anaconda3\\lib\\site-packages\\sklearn\\grid_search.py:42: DeprecationWarning: This module was deprecated in version 0.18 in favor of the model_selection module into which all the refactored classes and functions are moved. This module will be removed in 0.20.\n",
      "  DeprecationWarning)\n",
      "C:\\ProgramData\\Anaconda3\\lib\\site-packages\\sklearn\\learning_curve.py:22: DeprecationWarning: This module was deprecated in version 0.18 in favor of the model_selection module into which all the functions are moved. This module will be removed in 0.20\n",
      "  DeprecationWarning)\n"
     ]
    }
   ],
   "source": [
    "import pandas as pd\n",
    "import pickle\n",
    "import numpy as np\n",
    "from sklearn.externals import joblib\n",
    "from sklearn import *\n",
    "from sklearn import cluster\n",
    "from sklearn.metrics import mean_squared_error,mean_absolute_error\n",
    "from math import sqrt\n",
    "from sklearn.model_selection import train_test_split"
   ]
  },
  {
   "cell_type": "code",
   "execution_count": 3,
   "metadata": {
    "collapsed": true
   },
   "outputs": [],
   "source": [
    "k_means = joblib.load(open('kmeans.pkl', 'rb'))\n",
    "loans = pd.read_csv('loanstats.csv')\n",
    "loans['kcluster'] = k_means.labels_"
   ]
  },
  {
   "cell_type": "code",
   "execution_count": 4,
   "metadata": {
    "collapsed": true
   },
   "outputs": [],
   "source": [
    "loans.drop('grade', axis=1, inplace=True)\n",
    "loans.drop('sub_grade', axis=1, inplace=True)\n",
    "loans.drop('set', axis=1, inplace=True)\n",
    "loans.drop('timestamp', axis=1, inplace=True)\n"
   ]
  },
  {
   "cell_type": "code",
   "execution_count": 5,
   "metadata": {},
   "outputs": [
    {
     "name": "stderr",
     "output_type": "stream",
     "text": [
      "C:\\ProgramData\\Anaconda3\\lib\\site-packages\\ipykernel_launcher.py:9: SettingWithCopyWarning: \n",
      "A value is trying to be set on a copy of a slice from a DataFrame\n",
      "\n",
      "See the caveats in the documentation: http://pandas.pydata.org/pandas-docs/stable/indexing.html#indexing-view-versus-copy\n",
      "  if __name__ == '__main__':\n",
      "C:\\ProgramData\\Anaconda3\\lib\\site-packages\\ipykernel_launcher.py:10: SettingWithCopyWarning: \n",
      "A value is trying to be set on a copy of a slice from a DataFrame\n",
      "\n",
      "See the caveats in the documentation: http://pandas.pydata.org/pandas-docs/stable/indexing.html#indexing-view-versus-copy\n",
      "  # Remove the CWD from sys.path while we load stuff.\n",
      "C:\\ProgramData\\Anaconda3\\lib\\site-packages\\ipykernel_launcher.py:11: SettingWithCopyWarning: \n",
      "A value is trying to be set on a copy of a slice from a DataFrame\n",
      "\n",
      "See the caveats in the documentation: http://pandas.pydata.org/pandas-docs/stable/indexing.html#indexing-view-versus-copy\n",
      "  # This is added back by InteractiveShellApp.init_path()\n",
      "C:\\ProgramData\\Anaconda3\\lib\\site-packages\\ipykernel_launcher.py:12: SettingWithCopyWarning: \n",
      "A value is trying to be set on a copy of a slice from a DataFrame\n",
      "\n",
      "See the caveats in the documentation: http://pandas.pydata.org/pandas-docs/stable/indexing.html#indexing-view-versus-copy\n",
      "  if sys.path[0] == '':\n",
      "C:\\ProgramData\\Anaconda3\\lib\\site-packages\\ipykernel_launcher.py:13: SettingWithCopyWarning: \n",
      "A value is trying to be set on a copy of a slice from a DataFrame\n",
      "\n",
      "See the caveats in the documentation: http://pandas.pydata.org/pandas-docs/stable/indexing.html#indexing-view-versus-copy\n",
      "  del sys.path[0]\n",
      "C:\\ProgramData\\Anaconda3\\lib\\site-packages\\ipykernel_launcher.py:14: SettingWithCopyWarning: \n",
      "A value is trying to be set on a copy of a slice from a DataFrame\n",
      "\n",
      "See the caveats in the documentation: http://pandas.pydata.org/pandas-docs/stable/indexing.html#indexing-view-versus-copy\n",
      "  \n",
      "C:\\ProgramData\\Anaconda3\\lib\\site-packages\\ipykernel_launcher.py:15: SettingWithCopyWarning: \n",
      "A value is trying to be set on a copy of a slice from a DataFrame\n",
      "\n",
      "See the caveats in the documentation: http://pandas.pydata.org/pandas-docs/stable/indexing.html#indexing-view-versus-copy\n",
      "  from ipykernel import kernelapp as app\n"
     ]
    }
   ],
   "source": [
    "kc0 = loans[loans['kcluster']==0]\n",
    "kc1 = loans[loans['kcluster']==1]\n",
    "kc2 = loans[loans['kcluster']==2]\n",
    "kc3 = loans[loans['kcluster']==3]\n",
    "kc4 = loans[loans['kcluster']==4]\n",
    "kc5 = loans[loans['kcluster']==5]\n",
    "kc6 = loans[loans['kcluster']==6]\n",
    "\n",
    "kc0.drop('kcluster', axis=1, inplace=True)\n",
    "kc1.drop('kcluster', axis=1, inplace=True)\n",
    "kc2.drop('kcluster', axis=1, inplace=True)\n",
    "kc3.drop('kcluster', axis=1, inplace=True)\n",
    "kc4.drop('kcluster', axis=1, inplace=True)\n",
    "kc5.drop('kcluster', axis=1, inplace=True)\n",
    "kc6.drop('kcluster', axis=1, inplace=True)"
   ]
  },
  {
   "cell_type": "code",
   "execution_count": 6,
   "metadata": {
    "collapsed": true
   },
   "outputs": [],
   "source": [
    "array=kc0.values\n",
    "Y=array[:,3]\n",
    "x1=array[:,1:3]\n",
    "x2=array[:,4:]\n",
    "X=np.hstack((x1,x2))\n",
    "X_train,X_test,Y_train,Y_test=train_test_split(X,Y,test_size=0.2)"
   ]
  },
  {
   "cell_type": "code",
   "execution_count": 7,
   "metadata": {
    "collapsed": true
   },
   "outputs": [],
   "source": [
    "from sklearn.ensemble import RandomForestRegressor\n",
    "model=RandomForestRegressor(n_estimators=60)"
   ]
  },
  {
   "cell_type": "code",
   "execution_count": 8,
   "metadata": {},
   "outputs": [
    {
     "data": {
      "text/plain": [
       "RandomForestRegressor(bootstrap=True, criterion='mse', max_depth=None,\n",
       "           max_features='auto', max_leaf_nodes=None,\n",
       "           min_impurity_decrease=0.0, min_impurity_split=None,\n",
       "           min_samples_leaf=1, min_samples_split=2,\n",
       "           min_weight_fraction_leaf=0.0, n_estimators=60, n_jobs=1,\n",
       "           oob_score=False, random_state=None, verbose=0, warm_start=False)"
      ]
     },
     "execution_count": 8,
     "metadata": {},
     "output_type": "execute_result"
    }
   ],
   "source": [
    "model.fit(X_train,Y_train)"
   ]
  },
  {
   "cell_type": "code",
   "execution_count": 9,
   "metadata": {},
   "outputs": [
    {
     "name": "stdout",
     "output_type": "stream",
     "text": [
      "|metric |train            |test             | \n",
      "|rms    |1.2265049278042714|3.227398893161213|\n",
      "|mae    |0.929488967588    |2.48103914677    |\n",
      "|mape   |7.99007501283    |21.3707348681    |\n"
     ]
    }
   ],
   "source": [
    "ptrain = model.predict(X_train)\n",
    "ptest = model.predict(X_test)\n",
    "rms_train = sqrt(mean_squared_error(Y_train, ptrain))\n",
    "rms_test = sqrt(mean_squared_error(Y_test, ptest))\n",
    "mae_train = mean_absolute_error(Y_train, ptrain)\n",
    "mae_test = mean_absolute_error(Y_test, ptest)\n",
    "mape_train = np.mean(np.abs((Y_train - ptrain) / Y_train)) * 100\n",
    "mape_test = np.mean(np.abs((Y_test - ptest) / Y_test)) * 100\n",
    "\n",
    "print('|metric |train            |test             | \\n|rms    |'+str(rms_train)+'|'+str(rms_test)+'|\\n|mae    |'\n",
    "      +str(mae_train)+'    |'+str(mae_test)+'    |\\n|mape   |'+str(mape_train)+'    |'+str(mape_test)+'    |')"
   ]
  },
  {
   "cell_type": "code",
   "execution_count": 10,
   "metadata": {},
   "outputs": [
    {
     "name": "stdout",
     "output_type": "stream",
     "text": [
      "|metric |train            |test             | \n",
      "|rms    |1.098735164409008|2.870434618549859|\n",
      "|mae    |0.829785224946    |2.2033366267    |\n",
      "|mape   |6.56357804092    |17.5358253232    |\n"
     ]
    }
   ],
   "source": [
    "array=kc1.values\n",
    "Y=array[:,3]\n",
    "x1=array[:,1:3]\n",
    "x2=array[:,4:]\n",
    "X=np.hstack((x1,x2))\n",
    "X_train,X_test,Y_train,Y_test=train_test_split(X,Y,test_size=0.2)\n",
    "model=RandomForestRegressor(n_estimators=60)\n",
    "model.fit(X_train,Y_train)\n",
    "ptrain = model.predict(X_train)\n",
    "ptest = model.predict(X_test)\n",
    "rms_train = sqrt(mean_squared_error(Y_train, ptrain))\n",
    "rms_test = sqrt(mean_squared_error(Y_test, ptest))\n",
    "mae_train = mean_absolute_error(Y_train, ptrain)\n",
    "mae_test = mean_absolute_error(Y_test, ptest)\n",
    "mape_train = np.mean(np.abs((Y_train - ptrain) / Y_train)) * 100\n",
    "mape_test = np.mean(np.abs((Y_test - ptest) / Y_test)) * 100\n",
    "\n",
    "print('|metric |train            |test             | \\n|rms    |'+str(rms_train)+'|'+str(rms_test)+'|\\n|mae    |'\n",
    "      +str(mae_train)+'    |'+str(mae_test)+'    |\\n|mape   |'+str(mape_train)+'    |'+str(mape_test)+'    |')"
   ]
  },
  {
   "cell_type": "code",
   "execution_count": 11,
   "metadata": {},
   "outputs": [
    {
     "name": "stdout",
     "output_type": "stream",
     "text": [
      "|metric |train            |test             | \n",
      "|rms    |1.4532990923721343|3.859318903463252|\n",
      "|mae    |1.04864733723    |2.8108368665    |\n",
      "|mape   |8.05069438597    |21.5275405977    |\n"
     ]
    }
   ],
   "source": [
    "array=kc2.values\n",
    "Y=array[:,3]\n",
    "x1=array[:,1:3]\n",
    "x2=array[:,4:]\n",
    "X=np.hstack((x1,x2))\n",
    "X_train,X_test,Y_train,Y_test=train_test_split(X,Y,test_size=0.2)\n",
    "model=RandomForestRegressor(n_estimators=60)\n",
    "model.fit(X_train,Y_train)\n",
    "ptrain = model.predict(X_train)\n",
    "ptest = model.predict(X_test)\n",
    "rms_train = sqrt(mean_squared_error(Y_train, ptrain))\n",
    "rms_test = sqrt(mean_squared_error(Y_test, ptest))\n",
    "mae_train = mean_absolute_error(Y_train, ptrain)\n",
    "mae_test = mean_absolute_error(Y_test, ptest)\n",
    "mape_train = np.mean(np.abs((Y_train - ptrain) / Y_train)) * 100\n",
    "mape_test = np.mean(np.abs((Y_test - ptest) / Y_test)) * 100\n",
    "\n",
    "print('|metric |train            |test             | \\n|rms    |'+str(rms_train)+'|'+str(rms_test)+'|\\n|mae    |'\n",
    "      +str(mae_train)+'    |'+str(mae_test)+'    |\\n|mape   |'+str(mape_train)+'    |'+str(mape_test)+'    |')"
   ]
  },
  {
   "cell_type": "code",
   "execution_count": 12,
   "metadata": {},
   "outputs": [
    {
     "name": "stdout",
     "output_type": "stream",
     "text": [
      "|metric |train            |test             | \n",
      "|rms    |1.3555334598868676|3.587584077506418|\n",
      "|mae    |1.01428110123    |2.71532531548    |\n",
      "|mape   |7.84371016391    |20.9132853287    |\n"
     ]
    }
   ],
   "source": [
    "array=kc3.values\n",
    "Y=array[:,3]\n",
    "x1=array[:,1:3]\n",
    "x2=array[:,4:]\n",
    "X=np.hstack((x1,x2))\n",
    "X_train,X_test,Y_train,Y_test=train_test_split(X,Y,test_size=0.2)\n",
    "model=RandomForestRegressor(n_estimators=60)\n",
    "model.fit(X_train,Y_train)\n",
    "ptrain = model.predict(X_train)\n",
    "ptest = model.predict(X_test)\n",
    "rms_train = sqrt(mean_squared_error(Y_train, ptrain))\n",
    "rms_test = sqrt(mean_squared_error(Y_test, ptest))\n",
    "mae_train = mean_absolute_error(Y_train, ptrain)\n",
    "mae_test = mean_absolute_error(Y_test, ptest)\n",
    "mape_train = np.mean(np.abs((Y_train - ptrain) / Y_train)) * 100\n",
    "mape_test = np.mean(np.abs((Y_test - ptest) / Y_test)) * 100\n",
    "\n",
    "print('|metric |train            |test             | \\n|rms    |'+str(rms_train)+'|'+str(rms_test)+'|\\n|mae    |'\n",
    "      +str(mae_train)+'    |'+str(mae_test)+'    |\\n|mape   |'+str(mape_train)+'    |'+str(mape_test)+'    |')"
   ]
  },
  {
   "cell_type": "code",
   "execution_count": 13,
   "metadata": {},
   "outputs": [
    {
     "name": "stdout",
     "output_type": "stream",
     "text": [
      "|metric |train            |test             | \n",
      "|rms    |1.0904147897045096|2.8761298174471768|\n",
      "|mae    |0.839221233026    |2.24338256785    |\n",
      "|mape   |7.05020352271    |18.8398046218    |\n"
     ]
    }
   ],
   "source": [
    "array=kc4.values\n",
    "Y=array[:,3]\n",
    "x1=array[:,1:3]\n",
    "x2=array[:,4:]\n",
    "X=np.hstack((x1,x2))\n",
    "X_train,X_test,Y_train,Y_test=train_test_split(X,Y,test_size=0.2)\n",
    "model=RandomForestRegressor(n_estimators=60)\n",
    "model.fit(X_train,Y_train)\n",
    "ptrain = model.predict(X_train)\n",
    "ptest = model.predict(X_test)\n",
    "rms_train = sqrt(mean_squared_error(Y_train, ptrain))\n",
    "rms_test = sqrt(mean_squared_error(Y_test, ptest))\n",
    "mae_train = mean_absolute_error(Y_train, ptrain)\n",
    "mae_test = mean_absolute_error(Y_test, ptest)\n",
    "mape_train = np.mean(np.abs((Y_train - ptrain) / Y_train)) * 100\n",
    "mape_test = np.mean(np.abs((Y_test - ptest) / Y_test)) * 100\n",
    "\n",
    "print('|metric |train            |test             | \\n|rms    |'+str(rms_train)+'|'+str(rms_test)+'|\\n|mae    |'\n",
    "      +str(mae_train)+'    |'+str(mae_test)+'    |\\n|mape   |'+str(mape_train)+'    |'+str(mape_test)+'    |')"
   ]
  },
  {
   "cell_type": "code",
   "execution_count": 14,
   "metadata": {},
   "outputs": [
    {
     "name": "stdout",
     "output_type": "stream",
     "text": [
      "|metric |train            |test             | \n",
      "|rms    |0.974318764524912|2.5696793380418694|\n",
      "|mae    |0.7448082852    |1.98767352409    |\n",
      "|mape   |5.57655520998    |14.7640815372    |\n"
     ]
    }
   ],
   "source": [
    "array=kc5.values\n",
    "Y=array[:,3]\n",
    "x1=array[:,1:3]\n",
    "x2=array[:,4:]\n",
    "X=np.hstack((x1,x2))\n",
    "X_train,X_test,Y_train,Y_test=train_test_split(X,Y,test_size=0.2)\n",
    "model=RandomForestRegressor(n_estimators=60)\n",
    "model.fit(X_train,Y_train)\n",
    "ptrain = model.predict(X_train)\n",
    "ptest = model.predict(X_test)\n",
    "rms_train = sqrt(mean_squared_error(Y_train, ptrain))\n",
    "rms_test = sqrt(mean_squared_error(Y_test, ptest))\n",
    "mae_train = mean_absolute_error(Y_train, ptrain)\n",
    "mae_test = mean_absolute_error(Y_test, ptest)\n",
    "mape_train = np.mean(np.abs((Y_train - ptrain) / Y_train)) * 100\n",
    "mape_test = np.mean(np.abs((Y_test - ptest) / Y_test)) * 100\n",
    "\n",
    "print('|metric |train            |test             | \\n|rms    |'+str(rms_train)+'|'+str(rms_test)+'|\\n|mae    |'\n",
    "      +str(mae_train)+'    |'+str(mae_test)+'    |\\n|mape   |'+str(mape_train)+'    |'+str(mape_test)+'    |')"
   ]
  },
  {
   "cell_type": "code",
   "execution_count": 15,
   "metadata": {},
   "outputs": [
    {
     "name": "stdout",
     "output_type": "stream",
     "text": [
      "|metric |train            |test             | \n",
      "|rms    |1.0410992460593824|2.747417651871015|\n",
      "|mae    |0.799946061347    |2.13815960009    |\n",
      "|mape   |6.87591838909    |18.452372631    |\n"
     ]
    }
   ],
   "source": [
    "array=kc6.values\n",
    "Y=array[:,3]\n",
    "x1=array[:,1:3]\n",
    "x2=array[:,4:]\n",
    "X=np.hstack((x1,x2))\n",
    "X_train,X_test,Y_train,Y_test=train_test_split(X,Y,test_size=0.2)\n",
    "model=RandomForestRegressor(n_estimators=60)\n",
    "model.fit(X_train,Y_train)\n",
    "ptrain = model.predict(X_train)\n",
    "ptest = model.predict(X_test)\n",
    "rms_train = sqrt(mean_squared_error(Y_train, ptrain))\n",
    "rms_test = sqrt(mean_squared_error(Y_test, ptest))\n",
    "mae_train = mean_absolute_error(Y_train, ptrain)\n",
    "mae_test = mean_absolute_error(Y_test, ptest)\n",
    "mape_train = np.mean(np.abs((Y_train - ptrain) / Y_train)) * 100\n",
    "mape_test = np.mean(np.abs((Y_test - ptest) / Y_test)) * 100\n",
    "\n",
    "print('|metric |train            |test             | \\n|rms    |'+str(rms_train)+'|'+str(rms_test)+'|\\n|mae    |'\n",
    "      +str(mae_train)+'    |'+str(mae_test)+'    |\\n|mape   |'+str(mape_train)+'    |'+str(mape_test)+'    |')"
   ]
  },
  {
   "cell_type": "code",
   "execution_count": null,
   "metadata": {
    "collapsed": true
   },
   "outputs": [],
   "source": []
  },
  {
   "cell_type": "code",
   "execution_count": null,
   "metadata": {
    "collapsed": true
   },
   "outputs": [],
   "source": []
  },
  {
   "cell_type": "code",
   "execution_count": null,
   "metadata": {
    "collapsed": true
   },
   "outputs": [],
   "source": []
  },
  {
   "cell_type": "code",
   "execution_count": null,
   "metadata": {
    "collapsed": true
   },
   "outputs": [],
   "source": []
  },
  {
   "cell_type": "code",
   "execution_count": null,
   "metadata": {
    "collapsed": true
   },
   "outputs": [],
   "source": []
  }
 ],
 "metadata": {
  "kernelspec": {
   "display_name": "Python 3",
   "language": "python",
   "name": "python3"
  },
  "language_info": {
   "codemirror_mode": {
    "name": "ipython",
    "version": 3
   },
   "file_extension": ".py",
   "mimetype": "text/x-python",
   "name": "python",
   "nbconvert_exporter": "python",
   "pygments_lexer": "ipython3",
   "version": "3.6.2"
  }
 },
 "nbformat": 4,
 "nbformat_minor": 2
}
