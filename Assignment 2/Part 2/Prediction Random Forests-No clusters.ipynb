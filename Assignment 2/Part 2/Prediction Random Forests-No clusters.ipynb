{
 "cells": [
  {
   "cell_type": "code",
   "execution_count": 3,
   "metadata": {},
   "outputs": [],
   "source": [
    "import pandas as pd\n",
    "import pickle\n",
    "import numpy as np\n",
    "from sklearn.externals import joblib\n",
    "from sklearn import *\n",
    "from sklearn import cluster\n",
    "from sklearn.metrics import mean_squared_error,mean_absolute_error\n",
    "from math import sqrt\n",
    "from sklearn.model_selection import train_test_split"
   ]
  },
  {
   "cell_type": "code",
   "execution_count": 18,
   "metadata": {},
   "outputs": [],
   "source": [
    "k_means = joblib.load(open('kmeans.pkl', 'rb'))\n",
    "loans = pd.read_csv('loanstats.csv')\n",
    "loans['kcluster'] = k_means.labels_\n",
    "\n",
    "def manual_clusters(fico):\n",
    "    if fico > 720:\n",
    "        return 'Group1'\n",
    "    elif fico > 700:\n",
    "        return 'Group2'\n",
    "    elif fico > 690: \n",
    "        return 'Group3'\n",
    "    elif fico > 680: # amnt < 25000 \n",
    "        return 'Group4'\n",
    "    elif fico > 670:\n",
    "        return 'Group5'\n",
    "    else:\n",
    "        return 'Group6'\n",
    "\n",
    "loans['manual_cat'] = loans.apply(lambda x: manual_clusters(x['fico_range_low']), axis=1)\n",
    "\n",
    "loans['term'] = loans['term'].map(lambda a: int(a.strip(' months')))\n",
    "loans['application_type'] = loans['application_type'].map(lambda a: 1 if a=='Joint App' else 0)\n",
    "\n",
    "def elength(a):\n",
    "    if (a=='n/a'):\n",
    "        return 0\n",
    "    elif (a=='10+ years'):\n",
    "        return 10\n",
    "    elif (a=='1 year'):\n",
    "        return 1\n",
    "    elif (a=='< 1 year'):\n",
    "        return 0.5\n",
    "    else:\n",
    "        return float(a.strip(' years'))\n",
    "    \n",
    "loans['emp_length'] = loans['emp_length'].map(lambda a: elength(a))\n",
    "\n",
    "loans['revol_util'] = loans['revol_util'].map(lambda a: float(a.strip('%')))\n",
    "\n",
    "homes = pd.get_dummies(loans['home_ownership'], prefix='home')\n",
    "loans = loans.join(homes)\n",
    "loans.drop('home_ownership', axis=1, inplace=True)\n",
    "\n",
    "states = pd.get_dummies(loans['addr_state'], prefix='st')\n",
    "loans = loans.join(states)\n",
    "loans.drop('addr_state', axis=1, inplace=True)\n",
    "\n",
    "loans.drop('grade', axis=1, inplace=True)\n",
    "loans.drop('sub_grade', axis=1, inplace=True)\n",
    "loans.drop('set', axis=1, inplace=True)\n",
    "loans.drop('emp_title', axis=1, inplace=True)\n",
    "loans.drop('timestamp', axis=1, inplace=True)\n",
    "loans.drop('issue_d', axis=1, inplace=True)\n",
    "loans.drop('last_credit_pull_d', axis=1, inplace=True)\n",
    "loans.drop('title', axis=1, inplace=True)\n",
    "loans.drop('purpose', axis=1, inplace=True)\n",
    "loans.drop('next_pymnt_d', axis=1, inplace=True)\n",
    "loans.drop('zip_code', axis=1, inplace=True)\n",
    "loans.drop('last_fico_range_high', axis=1, inplace=True)\n",
    "loans.drop('fico_range_high', axis=1, inplace=True)\n",
    "loans.drop('last_fico_range_low', axis=1, inplace=True)\n",
    "loans.drop('installment', axis=1, inplace=True)"
   ]
  },
  {
   "cell_type": "code",
   "execution_count": 19,
   "metadata": {
    "collapsed": true
   },
   "outputs": [],
   "source": [
    "loans_tot = loans.drop('manual_cat', axis=1)\n",
    "loans_tot.drop('kcluster', axis=1, inplace=True)"
   ]
  },
  {
   "cell_type": "code",
   "execution_count": 20,
   "metadata": {},
   "outputs": [
    {
     "data": {
      "text/plain": [
       "array([ 10.99,  10.99,  11.99, ...,  30.89,  30.65,  30.94])"
      ]
     },
     "execution_count": 20,
     "metadata": {},
     "output_type": "execute_result"
    }
   ],
   "source": [
    "array=loans_tot.values\n",
    "\n",
    "Y=array[:,3]\n",
    "Y"
   ]
  },
  {
   "cell_type": "code",
   "execution_count": 21,
   "metadata": {},
   "outputs": [
    {
     "data": {
      "text/plain": [
       "array([  4.80000000e+03,   3.60000000e+01,   2.00000000e+00,\n",
       "         3.96000000e+04,   2.49000000e+00,   0.00000000e+00,\n",
       "         7.55000000e+02,   1.95000000e+02,   3.00000000e+00,\n",
       "         4.13600000e+03,   1.61000000e+01,   8.00000000e+00,\n",
       "         0.00000000e+00,   1.00000000e+00,   0.00000000e+00,\n",
       "         4.13600000e+03,   1.61000000e+01,   0.00000000e+00,\n",
       "         1.04000000e+02,   2.50000000e+01,   0.00000000e+00,\n",
       "         2.50000000e+01,   3.00000000e+00,   0.00000000e+00,\n",
       "         2.00000000e+00,   2.00000000e+00,   4.00000000e+00,\n",
       "         1.00000000e+00,   7.00000000e+00,   2.00000000e+00,\n",
       "         3.00000000e+00,   0.00000000e+00,   0.00000000e+00,\n",
       "         0.00000000e+00,   0.00000000e+00,   0.00000000e+00,\n",
       "         0.00000000e+00,   2.57000000e+04,   0.00000000e+00,\n",
       "         1.00000000e+00,   0.00000000e+00,   0.00000000e+00,\n",
       "         0.00000000e+00,   0.00000000e+00,   0.00000000e+00,\n",
       "         0.00000000e+00,   0.00000000e+00,   0.00000000e+00,\n",
       "         0.00000000e+00,   0.00000000e+00,   0.00000000e+00,\n",
       "         0.00000000e+00,   0.00000000e+00,   0.00000000e+00,\n",
       "         0.00000000e+00,   0.00000000e+00,   0.00000000e+00,\n",
       "         0.00000000e+00,   0.00000000e+00,   0.00000000e+00,\n",
       "         0.00000000e+00,   0.00000000e+00,   0.00000000e+00,\n",
       "         0.00000000e+00,   0.00000000e+00,   0.00000000e+00,\n",
       "         0.00000000e+00,   0.00000000e+00,   0.00000000e+00,\n",
       "         0.00000000e+00,   0.00000000e+00,   0.00000000e+00,\n",
       "         0.00000000e+00,   0.00000000e+00,   0.00000000e+00,\n",
       "         0.00000000e+00,   0.00000000e+00,   0.00000000e+00,\n",
       "         0.00000000e+00,   0.00000000e+00,   0.00000000e+00,\n",
       "         0.00000000e+00,   0.00000000e+00,   0.00000000e+00,\n",
       "         0.00000000e+00,   0.00000000e+00,   0.00000000e+00,\n",
       "         1.00000000e+00,   0.00000000e+00,   0.00000000e+00,\n",
       "         0.00000000e+00,   0.00000000e+00,   0.00000000e+00,\n",
       "         0.00000000e+00,   0.00000000e+00])"
      ]
     },
     "execution_count": 21,
     "metadata": {},
     "output_type": "execute_result"
    }
   ],
   "source": [
    "x1=array[:,1:3]\n",
    "x2=array[:,4:]\n",
    "X=np.hstack((x1,x2))\n",
    "\n",
    "X[1]"
   ]
  },
  {
   "cell_type": "code",
   "execution_count": 22,
   "metadata": {
    "collapsed": true
   },
   "outputs": [],
   "source": [
    "X_train,X_test,Y_train,Y_test=train_test_split(X,Y,test_size=0.2)"
   ]
  },
  {
   "cell_type": "code",
   "execution_count": 23,
   "metadata": {
    "collapsed": true
   },
   "outputs": [],
   "source": [
    "from sklearn.ensemble import RandomForestRegressor\n",
    "model=RandomForestRegressor(n_estimators=60)"
   ]
  },
  {
   "cell_type": "code",
   "execution_count": 24,
   "metadata": {},
   "outputs": [
    {
     "data": {
      "text/plain": [
       "RandomForestRegressor(bootstrap=True, criterion='mse', max_depth=None,\n",
       "           max_features='auto', max_leaf_nodes=None,\n",
       "           min_impurity_decrease=0.0, min_impurity_split=None,\n",
       "           min_samples_leaf=1, min_samples_split=2,\n",
       "           min_weight_fraction_leaf=0.0, n_estimators=60, n_jobs=1,\n",
       "           oob_score=False, random_state=None, verbose=0, warm_start=False)"
      ]
     },
     "execution_count": 24,
     "metadata": {},
     "output_type": "execute_result"
    }
   ],
   "source": [
    "model.fit(X_train,Y_train)"
   ]
  },
  {
   "cell_type": "code",
   "execution_count": 25,
   "metadata": {},
   "outputs": [
    {
     "name": "stdout",
     "output_type": "stream",
     "text": [
      "|metric |train            |test             | \n",
      "|rms    |1.2676872868328954|3.347687908122074|\n",
      "|mae    |0.951497831678    |2.54143403883    |\n",
      "|mape   |7.70522311849    |20.6002297966    |\n"
     ]
    }
   ],
   "source": [
    "ptrain = model.predict(X_train)\n",
    "ptest = model.predict(X_test)\n",
    "rms_train = sqrt(mean_squared_error(Y_train, ptrain))\n",
    "rms_test = sqrt(mean_squared_error(Y_test, ptest))\n",
    "mae_train = mean_absolute_error(Y_train, ptrain)\n",
    "mae_test = mean_absolute_error(Y_test, ptest)\n",
    "mape_train = np.mean(np.abs((Y_train - ptrain) / Y_train)) * 100\n",
    "mape_test = np.mean(np.abs((Y_test - ptest) / Y_test)) * 100\n",
    "\n",
    "print('|metric |train            |test             | \\n|rms    |'+str(rms_train)+'|'+str(rms_test)+'|\\n|mae    |'\n",
    "      +str(mae_train)+'    |'+str(mae_test)+'    |\\n|mape   |'+str(mape_train)+'    |'+str(mape_test)+'    |')"
   ]
  },
  {
   "cell_type": "code",
   "execution_count": null,
   "metadata": {
    "collapsed": true
   },
   "outputs": [],
   "source": []
  },
  {
   "cell_type": "code",
   "execution_count": null,
   "metadata": {
    "collapsed": true
   },
   "outputs": [],
   "source": []
  },
  {
   "cell_type": "code",
   "execution_count": null,
   "metadata": {
    "collapsed": true
   },
   "outputs": [],
   "source": []
  },
  {
   "cell_type": "code",
   "execution_count": null,
   "metadata": {
    "collapsed": true
   },
   "outputs": [],
   "source": []
  }
 ],
 "metadata": {
  "kernelspec": {
   "display_name": "Python 3",
   "language": "python",
   "name": "python3"
  },
  "language_info": {
   "codemirror_mode": {
    "name": "ipython",
    "version": 3
   },
   "file_extension": ".py",
   "mimetype": "text/x-python",
   "name": "python",
   "nbconvert_exporter": "python",
   "pygments_lexer": "ipython3",
   "version": "3.6.2"
  }
 },
 "nbformat": 4,
 "nbformat_minor": 2
}
