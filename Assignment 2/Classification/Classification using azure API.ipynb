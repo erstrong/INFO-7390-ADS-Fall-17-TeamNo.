{
 "cells": [
  {
   "cell_type": "code",
   "execution_count": 1,
   "metadata": {},
   "outputs": [
    {
     "name": "stdout",
     "output_type": "stream",
     "text": [
      "b'{\"Results\":{\"output1\":[{\"loan_amnt\":\"2000\",\"fico_range_low\":\"760\",\"dti\":\"2.5\",\"emp_length\":\"5\",\"policy_code\":\"1\",\"Scored Labels\":\"accepted\",\"Scored Probabilities\":\"0\"}]}}'\n"
     ]
    }
   ],
   "source": [
    "import urllib.request\n",
    "import json\n",
    "\n",
    "data = {\n",
    "        \"Inputs\": {\n",
    "                \"input1\":\n",
    "                [\n",
    "                    {\n",
    "                            'loan_amnt': \"2000\",   \n",
    "                            'fico_range_low': \"760\",   \n",
    "                            'dti': \"2.5\",   \n",
    "                            'emp_length': \"5\",   \n",
    "                            'policy_code': \"1\",   \n",
    "                    }\n",
    "                ],\n",
    "        },\n",
    "    \"GlobalParameters\":  {\n",
    "    }\n",
    "}\n",
    "\n",
    "body = str.encode(json.dumps(data))\n",
    "\n",
    "url = 'https://ussouthcentral.services.azureml.net/workspaces/d020a5f18cd24fd6b8f4635f6a20d6da/services/5fc070c986374a79961dc2c8fe163cd5/execute?api-version=2.0&format=swagger'\n",
    "api_key = '0RG7ObF1lj/M+NGTPSk+O6p2O4rux+s9IpKePXCal0TbkgynqKUxOdIE3nHp/mTmTdKti1H/G6t0ADQoTvRsOA==' # Replace this with the API key for the web service\n",
    "headers = {'Content-Type':'application/json', 'Authorization':('Bearer '+ api_key)}\n",
    "\n",
    "req = urllib.request.Request(url, body, headers)\n",
    "\n",
    "try:\n",
    "    response = urllib.request.urlopen(req)\n",
    "\n",
    "    result = response.read()\n",
    "    print(result)\n",
    "except urllib.error.HTTPError as error:\n",
    "    print(\"The request failed with status code: \" + str(error.code))\n",
    "\n",
    "    # Print the headers - they include the requert ID and the timestamp, which are useful for debugging the failure\n",
    "    print(error.info())\n",
    "    print(json.loads(error.read().decode(\"utf8\", 'ignore')))"
   ]
  },
  {
   "cell_type": "code",
   "execution_count": 2,
   "metadata": {},
   "outputs": [
    {
     "name": "stdout",
     "output_type": "stream",
     "text": [
      "b'{\"Results\":{\"output1\":[{\"loan_amnt\":\"10000\",\"fico_range_low\":\"645\",\"dti\":\"35\",\"emp_length\":\"6\",\"policy_code\":\"0\",\"Scored Labels\":\"declined\",\"Scored Probabilities\":\"1\"}]}}'\n"
     ]
    }
   ],
   "source": [
    "import urllib.request\n",
    "import json\n",
    "\n",
    "data = {\n",
    "        \"Inputs\": {\n",
    "                \"input1\":\n",
    "                [\n",
    "                    {\n",
    "                            'loan_amnt': \"10000\",   \n",
    "                            'fico_range_low': \"645\",   \n",
    "                            'dti': \"35\",   \n",
    "                            'emp_length': \"6\",   \n",
    "                            'policy_code': \"0\",   \n",
    "                    }\n",
    "                ],\n",
    "        },\n",
    "    \"GlobalParameters\":  {\n",
    "    }\n",
    "}\n",
    "\n",
    "body = str.encode(json.dumps(data))\n",
    "\n",
    "url = 'https://ussouthcentral.services.azureml.net/workspaces/d020a5f18cd24fd6b8f4635f6a20d6da/services/5fc070c986374a79961dc2c8fe163cd5/execute?api-version=2.0&format=swagger'\n",
    "api_key = '0RG7ObF1lj/M+NGTPSk+O6p2O4rux+s9IpKePXCal0TbkgynqKUxOdIE3nHp/mTmTdKti1H/G6t0ADQoTvRsOA==' # Replace this with the API key for the web service\n",
    "headers = {'Content-Type':'application/json', 'Authorization':('Bearer '+ api_key)}\n",
    "\n",
    "req = urllib.request.Request(url, body, headers)\n",
    "\n",
    "try:\n",
    "    response = urllib.request.urlopen(req)\n",
    "\n",
    "    result = response.read()\n",
    "    print(result)\n",
    "except urllib.error.HTTPError as error:\n",
    "    print(\"The request failed with status code: \" + str(error.code))\n",
    "\n",
    "    # Print the headers - they include the requert ID and the timestamp, which are useful for debugging the failure\n",
    "    print(error.info())\n",
    "    print(json.loads(error.read().decode(\"utf8\", 'ignore')))"
   ]
  }
 ],
 "metadata": {
  "kernelspec": {
   "display_name": "Python 3",
   "language": "python",
   "name": "python3"
  },
  "language_info": {
   "codemirror_mode": {
    "name": "ipython",
    "version": 3
   },
   "file_extension": ".py",
   "mimetype": "text/x-python",
   "name": "python",
   "nbconvert_exporter": "python",
   "pygments_lexer": "ipython3",
   "version": "3.6.2"
  }
 },
 "nbformat": 4,
 "nbformat_minor": 2
}
