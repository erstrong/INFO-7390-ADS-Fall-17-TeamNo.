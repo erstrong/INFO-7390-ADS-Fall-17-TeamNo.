{
 "cells": [
  {
   "cell_type": "markdown",
   "metadata": {},
   "source": [
    "# Processing the EDGAR Data Set"
   ]
  },
  {
   "cell_type": "markdown",
   "metadata": {},
   "source": [
    "Given a year, get data for the first day of the month for every month in the year. Example URL: http://www.sec.gov/dera/data/Public-EDGAR-log-file-data/2003/Qtr1/log20030101.zip"
   ]
  },
  {
   "cell_type": "code",
   "execution_count": 4,
   "metadata": {
    "collapsed": true
   },
   "outputs": [],
   "source": [
    "year = 2005"
   ]
  },
  {
   "cell_type": "code",
   "execution_count": 5,
   "metadata": {
    "collapsed": true
   },
   "outputs": [],
   "source": [
    "url_base = 'http://www.sec.gov/dera/data/Public-EDGAR-log-file-data/'"
   ]
  },
  {
   "cell_type": "code",
   "execution_count": 6,
   "metadata": {
    "collapsed": false
   },
   "outputs": [],
   "source": [
    "url_mid = '/log' + str(year)"
   ]
  },
  {
   "cell_type": "code",
   "execution_count": 7,
   "metadata": {
    "collapsed": true
   },
   "outputs": [],
   "source": [
    "url_final = '01.zip'"
   ]
  },
  {
   "cell_type": "code",
   "execution_count": 16,
   "metadata": {
    "collapsed": false
   },
   "outputs": [
    {
     "name": "stdout",
     "output_type": "stream",
     "text": [
      "['http://www.sec.gov/dera/data/Public-EDGAR-log-file-data/2005/Qtr1/log20050101.zip', 'http://www.sec.gov/dera/data/Public-EDGAR-log-file-data/2005/Qtr1/log20050201.zip', 'http://www.sec.gov/dera/data/Public-EDGAR-log-file-data/2005/Qtr1/log20050301.zip', 'http://www.sec.gov/dera/data/Public-EDGAR-log-file-data/2005/Qtr2/log20050401.zip', 'http://www.sec.gov/dera/data/Public-EDGAR-log-file-data/2005/Qtr2/log20050501.zip', 'http://www.sec.gov/dera/data/Public-EDGAR-log-file-data/2005/Qtr2/log20050601.zip', 'http://www.sec.gov/dera/data/Public-EDGAR-log-file-data/2005/Qtr3/log20050701.zip', 'http://www.sec.gov/dera/data/Public-EDGAR-log-file-data/2005/Qtr3/log20050801.zip', 'http://www.sec.gov/dera/data/Public-EDGAR-log-file-data/2005/Qtr3/log20050901.zip', 'http://www.sec.gov/dera/data/Public-EDGAR-log-file-data/2005/Qtr4/log20051001.zip', 'http://www.sec.gov/dera/data/Public-EDGAR-log-file-data/2005/Qtr4/log20051101.zip', 'http://www.sec.gov/dera/data/Public-EDGAR-log-file-data/2005/Qtr4/log20051201.zip']\n"
     ]
    }
   ],
   "source": [
    "urls = []\n",
    "# use range to get all 12 months\n",
    "for x in range(1,13):\n",
    "    if (x < 4):\n",
    "        urls.append(url_base + str(year) + '/Qtr1' + url_mid + '0' + str(x) + url_final)\n",
    "    elif (x >=4 and x < 7):\n",
    "        urls.append(url_base + str(year) + '/Qtr2' + url_mid + '0' + str(x) + url_final)\n",
    "    elif (x >= 7 and x < 10):\n",
    "        urls.append(url_base + str(year) + '/Qtr3' + url_mid + '0' + str(x) + url_final)\n",
    "    else:\n",
    "        urls.append(url_base + str(year) + '/Qtr4' + url_mid + str(x) + url_final)\n",
    "        \n",
    "print urls"
   ]
  },
  {
   "cell_type": "markdown",
   "metadata": {},
   "source": [
    "The log files are large, so we will read them from the zip files instead of extracting them"
   ]
  },
  {
   "cell_type": "code",
   "execution_count": 14,
   "metadata": {
    "collapsed": false
   },
   "outputs": [],
   "source": [
    "import zipfile\n",
    "import requests\n",
    "from StringIO import StringIO\n",
    "import pandas as pd\n",
    "from pandas import *\n",
    "import re"
   ]
  },
  {
   "cell_type": "code",
   "execution_count": 19,
   "metadata": {
    "collapsed": false
   },
   "outputs": [
    {
     "name": "stdout",
     "output_type": "stream",
     "text": [
      "              ip        date      time   zone       cik             accession  \\\n",
      "0  68.70.131.gjc  2005-01-01  00:00:00  500.0  933239.0  0000879123-04-000076   \n",
      "1  68.70.131.gjc  2005-01-01  00:00:00  500.0  932696.0  0001209191-04-059913   \n",
      "2  68.70.131.gjc  2005-01-01  00:00:00  500.0  928022.0  0000928022-04-000071   \n",
      "3  68.70.131.gjc  2005-01-01  00:00:00  500.0  924901.0  0001179110-04-024293   \n",
      "4  68.70.131.gjc  2005-01-01  00:00:00  500.0  929351.0  0001276466-04-000005   \n",
      "\n",
      "         extention   code     size  idx  norefer  noagent  find  crawler  \\\n",
      "0       -index.htm  200.0   2963.0  1.0      1.0      0.0   0.0      0.0   \n",
      "1       -index.htm  200.0   2579.0  1.0      1.0      0.0   0.0      0.0   \n",
      "2       may327.xml  200.0  12615.0  0.0      1.0      0.0   0.0      0.0   \n",
      "3        edgar.xml  200.0  10032.0  0.0      1.0      0.0   0.0      0.0   \n",
      "4  primary_doc.xml  200.0   8307.0  0.0      1.0      0.0   0.0      0.0   \n",
      "\n",
      "  browser  \n",
      "0     mie  \n",
      "1     mie  \n",
      "2     mie  \n",
      "3     mie  \n",
      "4     mie  \n",
      "                ip        date      time   zone        cik  \\\n",
      "0  207.162.228.jde  2005-02-01  00:00:00  500.0  1236038.0   \n",
      "1    64.62.140.djf  2005-02-01  00:00:00  500.0  1035443.0   \n",
      "2      69.3.26.hbh  2005-02-01  00:00:00  500.0  1008079.0   \n",
      "3      69.3.26.hbh  2005-02-01  00:00:00  500.0  1008328.0   \n",
      "4  203.194.233.jhf  2005-02-01  00:00:01  500.0  1108329.0   \n",
      "\n",
      "              accession             extention   code     size  idx  norefer  \\\n",
      "0  0000891618-03-003020  f89225orexv10w29.txt  200.0  41004.0  0.0      0.0   \n",
      "1  0001214271-04-000001                  .txt  200.0  10784.0  0.0      1.0   \n",
      "2  0001140361-04-007176                  .txt  200.0  22250.0  0.0      1.0   \n",
      "3  0001179110-04-024282                  .txt  200.0   4359.0  0.0      1.0   \n",
      "4  0001145549-03-001093            -index.htm  200.0   2154.0  1.0      0.0   \n",
      "\n",
      "   noagent  find  crawler browser  \n",
      "0      0.0   9.0      0.0     win  \n",
      "1      1.0   0.0      0.0     NaN  \n",
      "2      1.0   0.0      0.0     NaN  \n",
      "3      1.0   0.0      0.0     NaN  \n",
      "4      0.0   1.0      0.0     win  \n",
      "                ip        date      time   zone        cik  \\\n",
      "0    64.62.140.djf  2005-03-01  00:00:00  500.0  1231845.0   \n",
      "1    64.62.140.djf  2005-03-01  00:00:00  500.0  1231845.0   \n",
      "2     69.17.41.hbh  2005-03-01  00:00:00  500.0  1127005.0   \n",
      "3  204.227.225.ggf  2005-03-01  00:00:01  500.0  1289001.0   \n",
      "4     24.6.212.afh  2005-03-01  00:00:01  500.0    77476.0   \n",
      "\n",
      "              accession             extention   code     size  idx  norefer  \\\n",
      "0  0001231845-04-000009                  .txt  200.0  10378.0  0.0      1.0   \n",
      "1  0001231845-04-000007                  .txt  200.0  23979.0  0.0      1.0   \n",
      "2  0001078782-04-000041  amhrs822004ex232.htm  200.0   3215.0  0.0      1.0   \n",
      "3  0000950129-04-007583            -index.htm  304.0      NaN  1.0      0.0   \n",
      "4  0001193125-05-037811            -index.htm  200.0   5948.0  1.0      1.0   \n",
      "\n",
      "   noagent  find  crawler browser  \n",
      "0      1.0   0.0      0.0     NaN  \n",
      "1      1.0   0.0      0.0     NaN  \n",
      "2      0.0   0.0      0.0     NaN  \n",
      "3      0.0   4.0      0.0     win  \n",
      "4      0.0   0.0      0.0     win  \n",
      "             ip        date      time   zone        cik             accession  \\\n",
      "0  4.21.181.gae  2005-04-01  00:52:23  500.0  1206264.0  0001193125-04-183700   \n",
      "1  4.21.181.gae  2005-04-01  00:54:25  500.0  1206264.0  0001193125-04-168905   \n",
      "2  4.21.181.gae  2005-04-01  00:55:37  500.0  1206264.0  0001193125-04-153491   \n",
      "3  4.21.181.gae  2005-04-01  00:55:44  500.0   902844.0  0000950123-04-011959   \n",
      "4  4.21.181.gae  2005-04-01  00:56:05  500.0  1206264.0  0001193125-04-150055   \n",
      "\n",
      "        extention   code  size  idx  norefer  noagent  find  crawler browser  \n",
      "0      -index.htm  304.0   NaN  1.0      1.0      0.0   0.0      0.0     NaN  \n",
      "1      -index.htm  304.0   NaN  1.0      1.0      0.0   0.0      0.0     NaN  \n",
      "2      -index.htm  304.0   NaN  1.0      1.0      0.0   0.0      0.0     NaN  \n",
      "3  y03315e497.txt  304.0   NaN  0.0      1.0      0.0   0.0      0.0     NaN  \n",
      "4      -index.htm  304.0   NaN  1.0      1.0      0.0   0.0      0.0     NaN  \n",
      "               ip        date      time   zone        cik  \\\n",
      "0  163.28.112.aah  2005-05-01  00:00:01  400.0   907471.0   \n",
      "1  143.58.245.gae  2005-05-01  00:00:04  400.0   905895.0   \n",
      "2  163.28.112.aah  2005-05-01  00:00:08  400.0   907471.0   \n",
      "3  213.88.128.bah  2005-05-01  00:00:11  400.0    85462.0   \n",
      "4   68.121.16.bbi  2005-05-01  00:00:16  400.0  1324570.0   \n",
      "\n",
      "              accession                   extention   code     size  idx  \\\n",
      "0  0000914317-01-500525                  -index.htm  200.0   2084.0  1.0   \n",
      "1  0001193125-05-054186                  -index.htm  304.0      NaN  1.0   \n",
      "2  0000914317-01-500525  formdef14a41435-121201.txt  200.0  71982.0  0.0   \n",
      "3  0000917579-02-000013                  -index.htm  200.0   2794.0  1.0   \n",
      "4  0000892569-05-000316         a07646orexv10w2.txt  200.0  86957.0  0.0   \n",
      "\n",
      "   norefer  noagent  find  crawler browser  \n",
      "0      0.0      0.0   1.0      0.0     win  \n",
      "1      0.0      0.0   1.0      0.0     win  \n",
      "2      0.0      0.0   9.0      0.0     win  \n",
      "3      1.0      0.0   0.0      0.0     win  \n",
      "4      0.0      0.0   9.0      0.0     mac  \n",
      "               ip        date      time   zone        cik  \\\n",
      "0    67.86.77.gcd  2005-06-01  00:00:01  400.0     6292.0   \n",
      "1   171.64.15.cci  2005-06-01  00:00:02  400.0  1109448.0   \n",
      "2    67.86.77.gcd  2005-06-01  00:00:03  400.0     6292.0   \n",
      "3  24.147.177.bch  2005-06-01  00:00:04  400.0  1251362.0   \n",
      "4    67.86.77.gcd  2005-06-01  00:00:05  400.0     6292.0   \n",
      "\n",
      "              accession extention   code       size  idx  norefer  noagent  \\\n",
      "0  0001104659-03-017506      .txt  200.0   606129.0  0.0      1.0      0.0   \n",
      "1  0001104659-04-034322      .txt  200.0  2142052.0  0.0      1.0      0.0   \n",
      "2  0001104659-03-009153      .txt  200.0   450584.0  0.0      1.0      0.0   \n",
      "3  0001104659-05-026231      .txt  200.0     6299.0  0.0      1.0      0.0   \n",
      "4  0001104659-02-006347      .txt  200.0   426275.0  0.0      1.0      0.0   \n",
      "\n",
      "   find  crawler browser  \n",
      "0   0.0      0.0     NaN  \n",
      "1   0.0      0.0     NaN  \n",
      "2   0.0      0.0     NaN  \n",
      "3   0.0      1.0     NaN  \n",
      "4   0.0      0.0     NaN  \n",
      "                ip        date      time   zone        cik  \\\n",
      "0  203.101.111.bid  2005-07-01  00:00:04  400.0   861050.0   \n",
      "1   68.159.216.fab  2005-07-01  00:00:06  400.0    96223.0   \n",
      "2   70.112.219.dce  2005-07-01  00:00:06  400.0  1067294.0   \n",
      "3  216.178.119.bij  2005-07-01  00:00:09  400.0  1075247.0   \n",
      "4   67.182.208.efi  2005-07-01  00:00:10  400.0    52428.0   \n",
      "\n",
      "              accession     extention   code      size  idx  norefer  noagent  \\\n",
      "0  0000950134-05-006542    -index.htm  200.0    5704.0  1.0      0.0      0.0   \n",
      "1  0000909518-05-000427  no-pr_8k.txt  200.0    8612.0  0.0      1.0      0.0   \n",
      "2  0001067294-04-000031          .txt  200.0  227728.0  0.0      1.0      0.0   \n",
      "3  0001044764-05-000160     .hdr.sgml  200.0    1370.0  0.0      1.0      1.0   \n",
      "4  0001068800-05-000337    -index.htm  200.0    3266.0  1.0      0.0      0.0   \n",
      "\n",
      "   find  crawler browser  \n",
      "0  10.0      0.0     win  \n",
      "1   0.0      0.0     win  \n",
      "2   0.0      1.0     NaN  \n",
      "3   0.0      0.0     NaN  \n",
      "4   1.0      0.0     win  \n",
      "                ip        date      time   zone        cik  \\\n",
      "0    66.237.94.fjf  2005-08-01  00:00:00  400.0   809012.0   \n",
      "1    69.234.61.eij  2005-08-01  00:00:02  400.0   311657.0   \n",
      "2    71.29.125.abb  2005-08-01  00:00:03  400.0  1043382.0   \n",
      "3  168.103.223.efb  2005-08-01  00:00:05  400.0  1210697.0   \n",
      "4     210.18.9.fjf  2005-08-01  00:00:07  400.0   874396.0   \n",
      "\n",
      "              accession            extention   code      size  idx  norefer  \\\n",
      "0  0001017951-05-000349   f8k_071905i801.htm  200.0   11401.0  0.0      0.0   \n",
      "1  0000311657-05-000031           -index.htm  200.0    2585.0  1.0      0.0   \n",
      "2  0001068800-04-000205                 .txt  200.0  695227.0  0.0      1.0   \n",
      "3  0000950129-04-006764  h18104a1e10vkza.txt  200.0    7955.0  0.0      0.0   \n",
      "4  0000874396-05-000005           -index.htm  200.0    2549.0  1.0      0.0   \n",
      "\n",
      "   noagent  find  crawler browser  \n",
      "0      0.0   9.0      0.0     win  \n",
      "1      0.0   1.0      0.0     win  \n",
      "2      0.0   0.0      0.0     mie  \n",
      "3      0.0   9.0      0.0     win  \n",
      "4      0.0   1.0      0.0     win  \n",
      "                ip        date      time   zone        cik  \\\n",
      "0  129.250.150.jdd  2005-09-01  00:00:38  400.0  1133688.0   \n",
      "1  129.250.150.jdd  2005-09-01  00:01:16  400.0  1271927.0   \n",
      "2  129.250.150.jdd  2005-09-01  00:01:41  400.0  1241317.0   \n",
      "3   164.164.89.bhj  2005-09-01  00:02:02  400.0  1107194.0   \n",
      "4  129.250.150.jdd  2005-09-01  00:02:24  400.0   938862.0   \n",
      "\n",
      "              accession                      extention   code     size  idx  \\\n",
      "0  0000047217-05-000044  xslF345X02/form3-a_0205ex.xml  200.0  14367.0  0.0   \n",
      "1  0000743367-04-000031     xslF345X02/primary_doc.xml  200.0  15001.0  0.0   \n",
      "2  0000925328-03-000081     xslF345X02/primary_doc.xml  200.0  15389.0  0.0   \n",
      "3  0001209191-05-045263            xslF345X02/doc4.xml  200.0  23573.0  0.0   \n",
      "4  0000938862-03-000014           xslF345X02/edgar.xml  200.0  15360.0  0.0   \n",
      "\n",
      "   norefer  noagent  find  crawler browser  \n",
      "0      1.0      0.0   0.0      1.0     NaN  \n",
      "1      1.0      0.0   0.0      1.0     NaN  \n",
      "2      1.0      0.0   0.0      1.0     NaN  \n",
      "3      0.0      0.0  10.0      0.0     win  \n",
      "4      1.0      0.0   0.0      1.0     NaN  \n",
      "                ip        date      time   zone        cik  \\\n",
      "0  129.250.150.jdd  2005-10-01  00:01:42  400.0  1223384.0   \n",
      "1  129.250.150.jdd  2005-10-01  00:05:37  400.0  1183128.0   \n",
      "2  129.250.150.jdd  2005-10-01  00:06:11  400.0  1261979.0   \n",
      "3  129.250.150.jdd  2005-10-01  00:07:02  400.0   789019.0   \n",
      "4  129.250.150.jdd  2005-10-01  00:08:51  400.0  1181613.0   \n",
      "\n",
      "              accession                   extention   code     size  idx  \\\n",
      "0  0000924515-05-000008  xslF345X02/primary_doc.xml  200.0  16818.0  0.0   \n",
      "1  0001140361-05-001502         xslF345X02/doc1.xml  200.0  16344.0  0.0   \n",
      "2  0001209191-03-022746         xslF345X02/doc3.xml  200.0  14703.0  0.0   \n",
      "3  0001193117-03-000029        xslF345X02/edgar.xml  200.0  12810.0  0.0   \n",
      "4  0000025191-04-000023       xslF345X02/sam527.xml  200.0  25383.0  0.0   \n",
      "\n",
      "   norefer  noagent  find  crawler browser  \n",
      "0      1.0      0.0   0.0      0.0     oth  \n",
      "1      1.0      0.0   0.0      1.0     NaN  \n",
      "2      1.0      0.0   0.0      1.0     NaN  \n",
      "3      1.0      0.0   0.0      1.0     NaN  \n",
      "4      1.0      0.0   0.0      0.0     win  \n",
      "                ip        date      time   zone        cik  \\\n",
      "0  129.250.150.jdd  2005-11-01  00:09:47  500.0  1216073.0   \n",
      "1  129.250.150.jdd  2005-11-01  00:11:57  500.0  1295032.0   \n",
      "2  129.250.150.jdd  2005-11-01  00:12:36  500.0   945736.0   \n",
      "3  129.250.150.jdd  2005-11-01  00:13:41  500.0  1295032.0   \n",
      "4  129.250.150.jdd  2005-11-01  00:13:58  500.0  1295032.0   \n",
      "\n",
      "              accession                   extention   code     size  idx  \\\n",
      "0  0000097745-03-000134       xslF345X02/how149.xml  200.0  58724.0  0.0   \n",
      "1  0001181431-05-056037     xslF345X02/rrd94370.xml  200.0  21487.0  0.0   \n",
      "2  0000945736-04-000002  xslF345X02/primary_doc.xml  200.0  12136.0  0.0   \n",
      "3  0001181431-05-056036     xslF345X02/rrd94349.xml  200.0  36189.0  0.0   \n",
      "4  0001181431-05-044830     xslF345X02/rrd88264.xml  200.0  39862.0  0.0   \n",
      "\n",
      "   norefer  noagent  find  crawler browser  \n",
      "0      1.0      0.0   0.0      1.0     NaN  \n",
      "1      1.0      0.0   0.0      0.0     win  \n",
      "2      1.0      0.0   0.0      0.0     mac  \n",
      "3      1.0      0.0   0.0      0.0     win  \n",
      "4      1.0      0.0   0.0      0.0     win  \n",
      "               ip        date      time   zone       cik  \\\n",
      "0    210.18.9.fjf  2005-12-01  00:00:00  500.0  752642.0   \n",
      "1  24.153.226.ahg  2005-12-01  00:00:02  500.0   88121.0   \n",
      "2   65.202.14.gjj  2005-12-01  00:00:02  500.0    6284.0   \n",
      "3   65.202.14.gjj  2005-12-01  00:00:02  500.0    6284.0   \n",
      "4   65.202.14.gjj  2005-12-01  00:00:02  500.0    6284.0   \n",
      "\n",
      "              accession                extention   code      size  idx  \\\n",
      "0  0000752642-05-000016  umh2004edgarversion.htm  200.0  639316.0  0.0   \n",
      "1  0000088121-99-000004                     .txt  200.0   45121.0  0.0   \n",
      "2  0000006284-05-000028             edgardoc.xml  200.0    3708.0  0.0   \n",
      "3  0000006284-05-000027             edgardoc.xml  200.0    2923.0  0.0   \n",
      "4  0000006284-05-000025             edgardoc.xml  200.0    3710.0  0.0   \n",
      "\n",
      "   norefer  noagent  find  crawler browser  \n",
      "0      0.0      0.0   9.0      0.0     win  \n",
      "1      0.0      0.0   9.0      0.0     win  \n",
      "2      1.0      1.0   0.0      0.0     NaN  \n",
      "3      1.0      1.0   0.0      0.0     NaN  \n",
      "4      1.0      1.0   0.0      0.0     NaN  \n"
     ]
    }
   ],
   "source": [
    "for url in urls:\n",
    "    #print url\n",
    "    r = requests.get(url, stream=True)\n",
    "    z = zipfile.ZipFile(StringIO(r.content))\n",
    "    st = pd.read_csv(z.open(url[-15:-3]+'csv'))\n",
    "    #print st.head()"
   ]
  },
  {
   "cell_type": "markdown",
   "metadata": {
    "collapsed": false
   },
   "source": [
    "For each log file:\n",
    "* Handle missing data\n",
    "* Compute summary metrics (Decide which ones)\n",
    "* Check for any observable anomalies\n",
    "* Your program should log all the operations (with time stamps) into a log file.\n",
    "* Compile all the data and summaries of the 12 files into one file"
   ]
  },
  {
   "cell_type": "code",
   "execution_count": null,
   "metadata": {
    "collapsed": true
   },
   "outputs": [],
   "source": []
  }
 ],
 "metadata": {
  "kernelspec": {
   "display_name": "Python 2",
   "language": "python",
   "name": "python2"
  },
  "language_info": {
   "codemirror_mode": {
    "name": "ipython",
    "version": 2
   },
   "file_extension": ".py",
   "mimetype": "text/x-python",
   "name": "python",
   "nbconvert_exporter": "python",
   "pygments_lexer": "ipython2",
   "version": "2.7.13"
  }
 },
 "nbformat": 4,
 "nbformat_minor": 2
}
