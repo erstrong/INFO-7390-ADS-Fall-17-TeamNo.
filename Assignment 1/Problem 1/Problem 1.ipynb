{
 "cells": [
  {
   "cell_type": "markdown",
   "metadata": {},
   "source": [
    "# Working with Edgar datasets: Wrangling, Pre-processing and exploratory data analysis"
   ]
  },
  {
   "cell_type": "code",
   "execution_count": 1,
   "metadata": {
    "collapsed": true
   },
   "outputs": [],
   "source": [
    "#!pip install requests"
   ]
  },
  {
   "cell_type": "code",
   "execution_count": 2,
   "metadata": {
    "collapsed": true
   },
   "outputs": [],
   "source": [
    "#!pip install pandas"
   ]
  },
  {
   "cell_type": "code",
   "execution_count": 3,
   "metadata": {
    "collapsed": true
   },
   "outputs": [],
   "source": [
    "#!pip install lxml"
   ]
  },
  {
   "cell_type": "code",
   "execution_count": 14,
   "metadata": {},
   "outputs": [
    {
     "name": "stdout",
     "output_type": "stream",
     "text": [
      "Requirement already satisfied: beautifulsoup4 in /Users/emily-air13/anaconda3/lib/python3.6/site-packages\r\n"
     ]
    }
   ],
   "source": [
    "#!pip install beautifulsoup4"
   ]
  },
  {
   "cell_type": "code",
   "execution_count": 27,
   "metadata": {
    "collapsed": true
   },
   "outputs": [],
   "source": [
    "from lxml import html\n",
    "from lxml.html import parse\n",
    "import requests\n",
    "import html5lib\n",
    "import pandas as pd\n",
    "from pandas.io.parsers import TextParser\n",
    "from urllib.request import urlopen\n",
    "from bs4 import BeautifulSoup\n",
    "import csv\n",
    "import sys"
   ]
  },
  {
   "cell_type": "markdown",
   "metadata": {},
   "source": [
    "Input variables (need to set as environmental variables for Docker pipline)"
   ]
  },
  {
   "cell_type": "code",
   "execution_count": 1,
   "metadata": {},
   "outputs": [
    {
     "name": "stdout",
     "output_type": "stream",
     "text": [
      "000005114313000007\n"
     ]
    }
   ],
   "source": [
    "cik = '51143'\n",
    "acc_no = '0000051143-13-000007'\n",
    "acc_short = acc_no[0:10] + acc_no[11:13] + acc_no[14:]\n",
    "print(acc_short)   "
   ]
  },
  {
   "cell_type": "markdown",
   "metadata": {},
   "source": [
    "Generate full URL and get the page"
   ]
  },
  {
   "cell_type": "code",
   "execution_count": 19,
   "metadata": {
    "collapsed": true
   },
   "outputs": [],
   "source": [
    "page = requests.get('https://www.sec.gov/Archives/edgar/data/' + cik + '/' + acc_short + '/' + acc_no +'-index.htm')\n",
    "source = page.content\n",
    "#print(source)"
   ]
  },
  {
   "cell_type": "markdown",
   "metadata": {},
   "source": [
    "Scrape page content for links, find 10Q"
   ]
  },
  {
   "cell_type": "code",
   "execution_count": 20,
   "metadata": {
    "collapsed": true
   },
   "outputs": [],
   "source": [
    "htmlcontent = html.document_fromstring(source)\n",
    "#print(htmlcontent)"
   ]
  },
  {
   "cell_type": "code",
   "execution_count": 21,
   "metadata": {
    "collapsed": true
   },
   "outputs": [],
   "source": [
    "href = ''\n",
    "for elem in htmlcontent.iterlinks():\n",
    "    #print(elem[2])\n",
    "    if \"10q.htm\" in elem[2]:\n",
    "        href+= elem[2]"
   ]
  },
  {
   "cell_type": "code",
   "execution_count": 22,
   "metadata": {},
   "outputs": [
    {
     "name": "stdout",
     "output_type": "stream",
     "text": [
      "https://www.sec.gov/Archives/edgar/data/51143/000005114313000007/ibm13q3_10q.htm\n"
     ]
    }
   ],
   "source": [
    "url10q = 'https://www.sec.gov' + href\n",
    "print(url10q)"
   ]
  },
  {
   "cell_type": "markdown",
   "metadata": {},
   "source": [
    "### Scrape Tables with BeautifulSoup"
   ]
  },
  {
   "cell_type": "code",
   "execution_count": 28,
   "metadata": {
    "collapsed": true
   },
   "outputs": [],
   "source": [
    "soup = BeautifulSoup(requests.get(url10q).text, 'lxml')\n",
    "csvout  = csv.writer(sys.stdout)"
   ]
  },
  {
   "cell_type": "code",
   "execution_count": 54,
   "metadata": {
    "collapsed": true
   },
   "outputs": [],
   "source": [
    "tables=soup.findAll('table')\n",
    "#print(tables[1])\n",
    "table_count=0"
   ]
  },
  {
   "cell_type": "code",
   "execution_count": 57,
   "metadata": {
    "collapsed": true
   },
   "outputs": [],
   "source": [
    "for table in tables:\n",
    "    rows = table.findAll('tr')\n",
    "    clean_table = [] \n",
    "    \n",
    "    for row in rows:\n",
    "        clean_row = []\n",
    "        columns = row.find_all('td')\n",
    "        for column in columns:\n",
    "            clean_row.append(column.get_text().replace(\"\\n\",\"\").replace(\"\\xa0\",\"\"))\n",
    "        clean_table.append(clean_row)\n",
    "        #print(clean_row)\n",
    "    frame = pd.DataFrame(clean_table)\n",
    "    #print(frame)\n",
    "    csv_name = acc_no + \"_\" + str(table_count) + \".csv\"\n",
    "    frame.to_csv(csv_name)\n",
    "    table_count +=1"
   ]
  },
  {
   "cell_type": "code",
   "execution_count": null,
   "metadata": {
    "collapsed": true
   },
   "outputs": [],
   "source": []
  }
 ],
 "metadata": {
  "kernelspec": {
   "display_name": "Python 3",
   "language": "python",
   "name": "python3"
  },
  "language_info": {
   "codemirror_mode": {
    "name": "ipython",
    "version": 3
   },
   "file_extension": ".py",
   "mimetype": "text/x-python",
   "name": "python",
   "nbconvert_exporter": "python",
   "pygments_lexer": "ipython3",
   "version": "3.6.2"
  }
 },
 "nbformat": 4,
 "nbformat_minor": 2
}
