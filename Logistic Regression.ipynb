{
 "cells": [
  {
   "cell_type": "code",
   "execution_count": 1,
   "metadata": {},
   "outputs": [
    {
     "name": "stdout",
     "output_type": "stream",
     "text": [
      "          affairs         age  yearsmarried  religiousness   education  \\\n",
      "count  601.000000  601.000000    601.000000     601.000000  601.000000   \n",
      "mean     1.455907   32.487521      8.177696       3.116473   16.166389   \n",
      "std      3.298758    9.288762      5.571303       1.167509    2.402555   \n",
      "min      0.000000   17.500000      0.125000       1.000000    9.000000   \n",
      "25%      0.000000   27.000000      4.000000       2.000000   14.000000   \n",
      "50%      0.000000   32.000000      7.000000       3.000000   16.000000   \n",
      "75%      0.000000   37.000000     15.000000       4.000000   18.000000   \n",
      "max     12.000000   57.000000     15.000000       5.000000   20.000000   \n",
      "\n",
      "       occupation      rating  \n",
      "count  601.000000  601.000000  \n",
      "mean     4.194676    3.931780  \n",
      "std      1.819443    1.103179  \n",
      "min      1.000000    1.000000  \n",
      "25%      3.000000    3.000000  \n",
      "50%      5.000000    4.000000  \n",
      "75%      6.000000    5.000000  \n",
      "max      7.000000    5.000000  \n"
     ]
    }
   ],
   "source": [
    "import pandas as pd\n",
    "import numpy as np\n",
    "Affairs = pd.read_csv(\"Affairs.csv\", header=0)\n",
    "del Affairs['Unnamed: 0']\n",
    "print(Affairs.describe())"
   ]
  },
  {
   "cell_type": "code",
   "execution_count": 2,
   "metadata": {},
   "outputs": [
    {
     "name": "stdout",
     "output_type": "stream",
     "text": [
      "   affairs  gender   age  yearsmarried children  religiousness  education  \\\n",
      "0        0    male  37.0         10.00       no              3         18   \n",
      "1        0  female  27.0          4.00       no              4         14   \n",
      "2        0  female  32.0         15.00      yes              1         12   \n",
      "3        0    male  57.0         15.00      yes              5         18   \n",
      "4        0    male  22.0          0.75       no              2         17   \n",
      "5        0  female  32.0          1.50       no              2         17   \n",
      "6        0  female  22.0          0.75       no              2         12   \n",
      "7        0    male  57.0         15.00      yes              2         14   \n",
      "8        0  female  32.0         15.00      yes              4         16   \n",
      "9        0    male  22.0          1.50       no              4         14   \n",
      "\n",
      "   occupation  rating  ynaffair  \n",
      "0           7       4         0  \n",
      "1           6       4         0  \n",
      "2           1       4         0  \n",
      "3           6       5         0  \n",
      "4           6       3         0  \n",
      "5           5       5         0  \n",
      "6           1       3         0  \n",
      "7           4       4         0  \n",
      "8           1       2         0  \n",
      "9           4       5         0  \n"
     ]
    }
   ],
   "source": [
    "#Transform affairs into a binominal factor called ynaffair\n",
    "Affairs['ynaffair'] = (Affairs.affairs > 0).astype(int)\n",
    "print(Affairs.head(10))"
   ]
  },
  {
   "cell_type": "code",
   "execution_count": 3,
   "metadata": {},
   "outputs": [
    {
     "data": {
      "text/html": [
       "<div>\n",
       "<style>\n",
       "    .dataframe thead tr:only-child th {\n",
       "        text-align: right;\n",
       "    }\n",
       "\n",
       "    .dataframe thead th {\n",
       "        text-align: left;\n",
       "    }\n",
       "\n",
       "    .dataframe tbody tr th {\n",
       "        vertical-align: top;\n",
       "    }\n",
       "</style>\n",
       "<table border=\"1\" class=\"dataframe\">\n",
       "  <thead>\n",
       "    <tr style=\"text-align: right;\">\n",
       "      <th></th>\n",
       "      <th>affairs</th>\n",
       "      <th>age</th>\n",
       "      <th>yearsmarried</th>\n",
       "      <th>religiousness</th>\n",
       "      <th>education</th>\n",
       "      <th>occupation</th>\n",
       "      <th>rating</th>\n",
       "    </tr>\n",
       "    <tr>\n",
       "      <th>ynaffair</th>\n",
       "      <th></th>\n",
       "      <th></th>\n",
       "      <th></th>\n",
       "      <th></th>\n",
       "      <th></th>\n",
       "      <th></th>\n",
       "      <th></th>\n",
       "    </tr>\n",
       "  </thead>\n",
       "  <tbody>\n",
       "    <tr>\n",
       "      <th>0</th>\n",
       "      <td>0.000000</td>\n",
       "      <td>32.18071</td>\n",
       "      <td>7.727279</td>\n",
       "      <td>3.203991</td>\n",
       "      <td>16.139690</td>\n",
       "      <td>4.155211</td>\n",
       "      <td>4.093126</td>\n",
       "    </tr>\n",
       "    <tr>\n",
       "      <th>1</th>\n",
       "      <td>5.833333</td>\n",
       "      <td>33.41000</td>\n",
       "      <td>9.531947</td>\n",
       "      <td>2.853333</td>\n",
       "      <td>16.246667</td>\n",
       "      <td>4.313333</td>\n",
       "      <td>3.446667</td>\n",
       "    </tr>\n",
       "  </tbody>\n",
       "</table>\n",
       "</div>"
      ],
      "text/plain": [
       "           affairs       age  yearsmarried  religiousness  education  \\\n",
       "ynaffair                                                               \n",
       "0         0.000000  32.18071      7.727279       3.203991  16.139690   \n",
       "1         5.833333  33.41000      9.531947       2.853333  16.246667   \n",
       "\n",
       "          occupation    rating  \n",
       "ynaffair                        \n",
       "0           4.155211  4.093126  \n",
       "1           4.313333  3.446667  "
      ]
     },
     "execution_count": 3,
     "metadata": {},
     "output_type": "execute_result"
    }
   ],
   "source": [
    "Affairs.groupby('ynaffair').mean()"
   ]
  },
  {
   "cell_type": "code",
   "execution_count": 4,
   "metadata": {},
   "outputs": [
    {
     "name": "stdout",
     "output_type": "stream",
     "text": [
      "rating    1   2   3    4    5\n",
      "ynaffair                     \n",
      "0         8  33  66  146  198\n",
      "1         8  33  27   48   34\n"
     ]
    }
   ],
   "source": [
    "print(pd.crosstab(Affairs['ynaffair'], Affairs['rating'], rownames=['ynaffair']))"
   ]
  },
  {
   "cell_type": "code",
   "execution_count": 5,
   "metadata": {},
   "outputs": [
    {
     "data": {
      "text/plain": [
       "<matplotlib.text.Text at 0x225b7ecc0b8>"
      ]
     },
     "execution_count": 5,
     "metadata": {},
     "output_type": "execute_result"
    },
    {
     "data": {
      "image/png": "[encoded data removed]",
      "text/plain": [
       "<matplotlib.figure.Figure at 0x225b8067e10>"
      ]
     },
     "metadata": {},
     "output_type": "display_data"
    }
   ],
   "source": [
    "import matplotlib.pyplot as plt\n",
    "%matplotlib inline\n",
    "#Barplot of rating grouped by ynaffair\n",
    "pd.crosstab(Affairs.rating, Affairs.ynaffair.astype(bool)).plot(kind='bar')\n",
    "plt.title('Rating Distribution by Affair Status')\n",
    "plt.xlabel('Rating')\n",
    "plt.ylabel('Frequency')"
   ]
  },
  {
   "cell_type": "code",
   "execution_count": 6,
   "metadata": {},
   "outputs": [
    {
     "data": {
      "text/plain": [
       "<matplotlib.text.Text at 0x225b7889ba8>"
      ]
     },
     "execution_count": 6,
     "metadata": {},
     "output_type": "execute_result"
    },
    {
     "data": {
      "image/png": "[encoded data removed]",
      "text/plain": [
       "<matplotlib.figure.Figure at 0x225b7963908>"
      ]
     },
     "metadata": {},
     "output_type": "display_data"
    }
   ],
   "source": [
    "#Barplot of years of marriage grouped by ynaffair\n",
    "pd.crosstab(Affairs.yearsmarried, Affairs.ynaffair.astype(bool)).plot(kind='bar')\n",
    "plt.title('Years of marriage Distribution by Affair Status')\n",
    "plt.xlabel('Years of marriage')\n",
    "plt.ylabel('Frequency')"
   ]
  },
  {
   "cell_type": "code",
   "execution_count": 7,
   "metadata": {},
   "outputs": [
    {
     "name": "stdout",
     "output_type": "stream",
     "text": [
      "   affairs  gender   age  yearsmarried children  religiousness  education  \\\n",
      "0        0    male  37.0         10.00       no              3         18   \n",
      "1        0  female  27.0          4.00       no              4         14   \n",
      "2        0  female  32.0         15.00      yes              1         12   \n",
      "3        0    male  57.0         15.00      yes              5         18   \n",
      "4        0    male  22.0          0.75       no              2         17   \n",
      "\n",
      "   occupation  rating  ynaffair  gender_1  ynchildren  \n",
      "0           7       4         0         1           0  \n",
      "1           6       4         0         0           0  \n",
      "2           1       4         0         0           1  \n",
      "3           6       5         0         1           1  \n",
      "4           6       3         0         1           0  \n"
     ]
    }
   ],
   "source": [
    "#Transform gender variable, 1 represents male, 0 represents female\n",
    "#Transform children variable, 1 represents yes, 0 represents no\n",
    "Affairs['gender_1'] = (Affairs.gender == 'male').astype(int)\n",
    "Affairs['ynchildren'] = (Affairs.children == 'yes').astype(int)\n",
    "print(Affairs.head())"
   ]
  },
  {
   "cell_type": "code",
   "execution_count": 8,
   "metadata": {
    "collapsed": true
   },
   "outputs": [],
   "source": [
    "#Select response y and predictors X\n",
    "y = Affairs['ynaffair']\n",
    "cols_to_keep = ['age', 'yearsmarried', 'religiousness', 'education', 'occupation', 'rating', \n",
    "                'gender_1', 'ynchildren']\n",
    "X = Affairs[cols_to_keep]"
   ]
  },
  {
   "cell_type": "code",
   "execution_count": 9,
   "metadata": {
    "collapsed": true
   },
   "outputs": [],
   "source": [
    "#Select response y and predictors X\n",
    "y = Affairs['ynaffair']\n",
    "cols_to_keep = ['age', 'yearsmarried', 'religiousness', 'education', 'occupation', 'rating', \n",
    "                'gender_1', 'ynchildren']\n",
    "X = Affairs[cols_to_keep]"
   ]
  },
  {
   "cell_type": "code",
   "execution_count": 10,
   "metadata": {
    "collapsed": true
   },
   "outputs": [],
   "source": [
    "#Instantiate a logistic regression model\n",
    "#Fit with X and y\n",
    "from sklearn.linear_model import LogisticRegression\n",
    "model = LogisticRegression()\n",
    "model = model.fit(X, y)"
   ]
  },
  {
   "cell_type": "code",
   "execution_count": 12,
   "metadata": {},
   "outputs": [
    {
     "data": {
      "text/plain": [
       "0.76039933444259566"
      ]
     },
     "execution_count": 12,
     "metadata": {},
     "output_type": "execute_result"
    }
   ],
   "source": [
    "#Check the accuracy of the model\n",
    "model.score(X, y)"
   ]
  },
  {
   "cell_type": "code",
   "execution_count": 13,
   "metadata": {},
   "outputs": [
    {
     "data": {
      "text/plain": [
       "array([[-0.03914177,  0.09024679, -0.30524393,  0.0443777 ,  0.02602644,\n",
       "        -0.44633786,  0.23180506,  0.40033067]])"
      ]
     },
     "execution_count": 13,
     "metadata": {},
     "output_type": "execute_result"
    }
   ],
   "source": [
    "model.coef_"
   ]
  },
  {
   "cell_type": "code",
   "execution_count": 14,
   "metadata": {},
   "outputs": [
    {
     "name": "stderr",
     "output_type": "stream",
     "text": [
      "C:\\ProgramData\\Anaconda3\\lib\\site-packages\\statsmodels\\compat\\pandas.py:56: FutureWarning: The pandas.core.datetools module is deprecated and will be removed in a future version. Please use the pandas.tseries module instead.\n",
      "  from pandas.core import datetools\n"
     ]
    },
    {
     "name": "stdout",
     "output_type": "stream",
     "text": [
      "Optimization terminated successfully.\n",
      "         Current function value: 0.509098\n",
      "         Iterations 6\n",
      "                           Logit Regression Results                           \n",
      "==============================================================================\n",
      "Dep. Variable:               ynaffair   No. Observations:                  601\n",
      "Model:                          Logit   Df Residuals:                      593\n",
      "Method:                           MLE   Df Model:                            7\n",
      "Date:                Thu, 12 Oct 2017   Pseudo R-squ.:                 0.09393\n",
      "Time:                        15:10:14   Log-Likelihood:                -305.97\n",
      "converged:                       True   LL-Null:                       -337.69\n",
      "                                        LLR p-value:                 3.092e-11\n",
      "=================================================================================\n",
      "                    coef    std err          z      P>|z|      [0.025      0.975]\n",
      "---------------------------------------------------------------------------------\n",
      "age              -0.0333      0.017     -2.012      0.044      -0.066      -0.001\n",
      "yearsmarried      0.0827      0.031      2.666      0.008       0.022       0.143\n",
      "religiousness    -0.2873      0.086     -3.338      0.001      -0.456      -0.119\n",
      "education         0.0742      0.037      1.981      0.048       0.001       0.148\n",
      "occupation        0.0193      0.071      0.271      0.786      -0.120       0.159\n",
      "rating           -0.4257      0.086     -4.921      0.000      -0.595      -0.256\n",
      "gender_1          0.1917      0.233      0.824      0.410      -0.264       0.648\n",
      "ynchildren        0.4789      0.290      1.654      0.098      -0.089       1.046\n",
      "=================================================================================\n"
     ]
    }
   ],
   "source": [
    "import statsmodels.api as sm\n",
    "from statsmodels.formula.api import logit, probit, poisson, ols\n",
    "logit = sm.Logit(Affairs['ynaffair'], Affairs[cols_to_keep])\n",
    "affair_mod = logit.fit()\n",
    "print(affair_mod.summary())"
   ]
  },
  {
   "cell_type": "code",
   "execution_count": 15,
   "metadata": {
    "collapsed": true
   },
   "outputs": [],
   "source": [
    "#Flatten y into a 1-D array\n",
    "y = np.ravel(y)"
   ]
  },
  {
   "cell_type": "code",
   "execution_count": 18,
   "metadata": {},
   "outputs": [],
   "source": [
    "#Split the data into training and testing\n",
    "from sklearn.cross_validation import train_test_split\n",
    "X_train, X_test, y_train, y_test = train_test_split(X, y, random_state=0)"
   ]
  },
  {
   "cell_type": "code",
   "execution_count": 19,
   "metadata": {
    "collapsed": true
   },
   "outputs": [],
   "source": [
    "#Build logistic regression model on training data\n",
    "from sklearn.linear_model import LogisticRegression\n",
    "model = LogisticRegression()\n",
    "model = model.fit(X_train, y_train)"
   ]
  },
  {
   "cell_type": "code",
   "execution_count": 20,
   "metadata": {
    "collapsed": true
   },
   "outputs": [],
   "source": [
    "#Run the model on the test set\n",
    "y_pred = model.predict(X_test)"
   ]
  },
  {
   "cell_type": "code",
   "execution_count": 21,
   "metadata": {},
   "outputs": [
    {
     "name": "stdout",
     "output_type": "stream",
     "text": [
      "[[110   8]\n",
      " [ 27   6]]\n"
     ]
    }
   ],
   "source": [
    "#Compute confusion matrix\n",
    "from sklearn.metrics import confusion_matrix\n",
    "cm = confusion_matrix(y_test, y_pred)\n",
    "print(cm)"
   ]
  },
  {
   "cell_type": "code",
   "execution_count": 22,
   "metadata": {
    "collapsed": true
   },
   "outputs": [],
   "source": [
    "#Compute FPR and TPR\n",
    "from sklearn.metrics import roc_curve\n",
    "preds = model.predict_proba(X_test)[:,1]\n",
    "fpr, tpr, _ = roc_curve(y_test, preds)"
   ]
  },
  {
   "cell_type": "code",
   "execution_count": 23,
   "metadata": {},
   "outputs": [
    {
     "data": {
      "image/png": "[encoded data removed]",
      "text/plain": [
       "<matplotlib.figure.Figure at 0x225babbc6d8>"
      ]
     },
     "metadata": {},
     "output_type": "display_data"
    }
   ],
   "source": [
    "#Plot ROC curve\n",
    "plt.figure()\n",
    "plt.plot(fpr, tpr, label='ROC curve')\n",
    "plt.plot([0, 1], [0, 1], 'k--')\n",
    "plt.xlim([0.0, 1.0])\n",
    "plt.ylim([0.0, 1.05])\n",
    "plt.xlabel('1-Specificity')\n",
    "plt.ylabel('Sensitivity')\n",
    "plt.title('ROC curve')\n",
    "plt.legend(loc=\"lower right\")\n",
    "plt.show()"
   ]
  }
 ],
 "metadata": {
  "kernelspec": {
   "display_name": "Python 3",
   "language": "python",
   "name": "python3"
  },
  "language_info": {
   "codemirror_mode": {
    "name": "ipython",
    "version": 3
   },
   "file_extension": ".py",
   "mimetype": "text/x-python",
   "name": "python",
   "nbconvert_exporter": "python",
   "pygments_lexer": "ipython3",
   "version": "3.6.2"
  }
 },
 "nbformat": 4,
 "nbformat_minor": 2
}
